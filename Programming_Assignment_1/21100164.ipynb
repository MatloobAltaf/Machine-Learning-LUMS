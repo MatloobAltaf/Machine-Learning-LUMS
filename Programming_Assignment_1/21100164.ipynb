{
  "nbformat": 4,
  "nbformat_minor": 0,
  "metadata": {
    "colab": {
      "name": "21100164.ipynb",
      "provenance": [],
      "collapsed_sections": [
        "ON_wrT2ZPGlo",
        "zmEuR9MU9zpy",
        "NlOg3EvKN1F1",
        "X3t3qbvCFJkT",
        "OYW9SnUIyn3u",
        "f5bJcgnQG_G4",
        "2u-7NzxXHKGe",
        "ur13LXv4ZrSG"
      ],
      "authorship_tag": "ABX9TyOrZ45Ub73803fNf1v3FQAt",
      "include_colab_link": true
    },
    "kernelspec": {
      "name": "python3",
      "display_name": "Python 3"
    }
  },
  "cells": [
    {
      "cell_type": "markdown",
      "metadata": {
        "id": "view-in-github",
        "colab_type": "text"
      },
      "source": [
        "<a href=\"https://colab.research.google.com/github/matloob-altaf/Machine-Learning-LUMS/blob/main/Programming_Assignment_1/21100164.ipynb\" target=\"_parent\"><img src=\"https://colab.research.google.com/assets/colab-badge.svg\" alt=\"Open In Colab\"/></a>"
      ]
    },
    {
      "cell_type": "markdown",
      "metadata": {
        "id": "ON_wrT2ZPGlo"
      },
      "source": [
        "## Load Datasets"
      ]
    },
    {
      "cell_type": "code",
      "metadata": {
        "id": "qOrQGlKrZiAc",
        "outputId": "5ff3a8c3-cbbb-4ae1-dfe2-9d1e07f96fc3",
        "colab": {
          "base_uri": "https://localhost:8080/",
          "height": 0
        }
      },
      "source": [
        "# mount google drive\n",
        "from google.colab import drive\n",
        "drive.mount('/content/drive')"
      ],
      "execution_count": 3,
      "outputs": [
        {
          "output_type": "stream",
          "text": [
            "Drive already mounted at /content/drive; to attempt to forcibly remount, call drive.mount(\"/content/drive\", force_remount=True).\n"
          ],
          "name": "stdout"
        }
      ]
    },
    {
      "cell_type": "code",
      "metadata": {
        "id": "z0dmtc24EUJ9"
      },
      "source": [
        "import numpy as np\n",
        "import pandas as pd\n",
        "import matplotlib.pyplot as plt \n",
        "from scipy.spatial.distance import cdist\n",
        "import string\n",
        "import re"
      ],
      "execution_count": 4,
      "outputs": []
    },
    {
      "cell_type": "code",
      "metadata": {
        "id": "OC81xfGHE9p_",
        "outputId": "78acfaed-3944-4fd1-f83e-de25cbecc958",
        "colab": {
          "base_uri": "https://localhost:8080/",
          "height": 0
        }
      },
      "source": [
        "#Load datasets\n",
        "df_train = pd.read_csv(\"/content/drive/My Drive/Colab Notebooks/ML-PA1/train.csv\")\n",
        "df_test = pd.read_csv(\"/content/drive/My Drive/Colab Notebooks/ML-PA1/test.csv\")\n",
        "\n",
        "df_train.head(10)"
      ],
      "execution_count": 5,
      "outputs": [
        {
          "output_type": "execute_result",
          "data": {
            "text/html": [
              "<div>\n",
              "<style scoped>\n",
              "    .dataframe tbody tr th:only-of-type {\n",
              "        vertical-align: middle;\n",
              "    }\n",
              "\n",
              "    .dataframe tbody tr th {\n",
              "        vertical-align: top;\n",
              "    }\n",
              "\n",
              "    .dataframe thead th {\n",
              "        text-align: right;\n",
              "    }\n",
              "</style>\n",
              "<table border=\"1\" class=\"dataframe\">\n",
              "  <thead>\n",
              "    <tr style=\"text-align: right;\">\n",
              "      <th></th>\n",
              "      <th>Sentiment</th>\n",
              "      <th>Tweet</th>\n",
              "    </tr>\n",
              "  </thead>\n",
              "  <tbody>\n",
              "    <tr>\n",
              "      <th>0</th>\n",
              "      <td>neutral</td>\n",
              "      <td>@united 877 from amsterdam to ewr, 02.27.2015,...</td>\n",
              "    </tr>\n",
              "    <tr>\n",
              "      <th>1</th>\n",
              "      <td>negative</td>\n",
              "      <td>@united IT-problems with the link? #3thparty</td>\n",
              "    </tr>\n",
              "    <tr>\n",
              "      <th>2</th>\n",
              "      <td>positive</td>\n",
              "      <td>@united -today the staff @ MSP took customer s...</td>\n",
              "    </tr>\n",
              "    <tr>\n",
              "      <th>3</th>\n",
              "      <td>negative</td>\n",
              "      <td>@AmericanAir but have been yet to receive assi...</td>\n",
              "    </tr>\n",
              "    <tr>\n",
              "      <th>4</th>\n",
              "      <td>negative</td>\n",
              "      <td>@SouthwestAir  you won't let me change my rese...</td>\n",
              "    </tr>\n",
              "    <tr>\n",
              "      <th>5</th>\n",
              "      <td>neutral</td>\n",
              "      <td>@AmericanAir where do I look for cabin crew va...</td>\n",
              "    </tr>\n",
              "    <tr>\n",
              "      <th>6</th>\n",
              "      <td>neutral</td>\n",
              "      <td>@united please update what is going to happen ...</td>\n",
              "    </tr>\n",
              "    <tr>\n",
              "      <th>7</th>\n",
              "      <td>negative</td>\n",
              "      <td>@AmericanAir how do I redeem a travel voucher ...</td>\n",
              "    </tr>\n",
              "    <tr>\n",
              "      <th>8</th>\n",
              "      <td>neutral</td>\n",
              "      <td>@AmericanAir originating at SFO and going to LAX.</td>\n",
              "    </tr>\n",
              "    <tr>\n",
              "      <th>9</th>\n",
              "      <td>negative</td>\n",
              "      <td>@JetBlue Good perspective. If only this safety...</td>\n",
              "    </tr>\n",
              "  </tbody>\n",
              "</table>\n",
              "</div>"
            ],
            "text/plain": [
              "  Sentiment                                              Tweet\n",
              "0   neutral  @united 877 from amsterdam to ewr, 02.27.2015,...\n",
              "1  negative       @united IT-problems with the link? #3thparty\n",
              "2  positive  @united -today the staff @ MSP took customer s...\n",
              "3  negative  @AmericanAir but have been yet to receive assi...\n",
              "4  negative  @SouthwestAir  you won't let me change my rese...\n",
              "5   neutral  @AmericanAir where do I look for cabin crew va...\n",
              "6   neutral  @united please update what is going to happen ...\n",
              "7  negative  @AmericanAir how do I redeem a travel voucher ...\n",
              "8   neutral  @AmericanAir originating at SFO and going to LAX.\n",
              "9  negative  @JetBlue Good perspective. If only this safety..."
            ]
          },
          "metadata": {
            "tags": []
          },
          "execution_count": 5
        }
      ]
    },
    {
      "cell_type": "code",
      "metadata": {
        "id": "gp6e8WQ8v5Qh",
        "outputId": "83ff13ed-815a-40dc-a1b7-1f7ce2a34076",
        "colab": {
          "base_uri": "https://localhost:8080/",
          "height": 0
        }
      },
      "source": [
        "print(\"Train data dimentions\", df_train.shape)\n",
        "print(\"Test data dimentions\", df_test.shape)\n"
      ],
      "execution_count": 6,
      "outputs": [
        {
          "output_type": "stream",
          "text": [
            "Train data dimentions (11680, 2)\n",
            "Test data dimentions (2921, 2)\n"
          ],
          "name": "stdout"
        }
      ]
    },
    {
      "cell_type": "markdown",
      "metadata": {
        "id": "zmEuR9MU9zpy"
      },
      "source": [
        "## Preprocessing\n",
        "*removing the stop words, punctuation marks and other unwanted characters from the tweets and converting them to lower case*"
      ]
    },
    {
      "cell_type": "code",
      "metadata": {
        "id": "AkZWi9fKEW9j",
        "outputId": "f56cd19f-f612-4b2d-c044-8810b56eb522",
        "colab": {
          "base_uri": "https://localhost:8080/",
          "height": 0
        }
      },
      "source": [
        "# Load stop words\n",
        "stopWords = []\n",
        "with open('/content/drive/My Drive/Colab Notebooks/ML-PA1/stop_words.txt', 'r') as fi:\n",
        "    for line in fi:\n",
        "        line = line.rstrip()\n",
        "        stopWords.append(line)\n",
        "stopWords += [\"can't\", 'cannot', 'could', \"he'd\", \"he'll\", \"he's\", \"here's\", \"how's\", \"i'd\", \"i'll\", \"i've\", \"let's\", 'ought', \"she'd\", \"she'll\", \"that's\", \"there's\", \"they'd\", \"they'll\", \"they're\", \"they've\", \"we'd\", \"we'll\", \"we're\", \"we've\", \"what's\", \"when's\", \"where's\", \"who's\", \"why's\", 'would', 'hey', 'hi']\n",
        "\n",
        "print(stopWords)\n",
        "print(len(stopWords))"
      ],
      "execution_count": 7,
      "outputs": [
        {
          "output_type": "stream",
          "text": [
            "['i', \"i'm\", 'me', 'my', 'myself', 'we', 'our', 'ours', 'ourselves', 'you', \"you're\", \"you've\", \"you'll\", \"you'd\", 'your', 'yours', 'yourself', 'yourselves', 'he', 'him', 'his', 'himself', 'she', \"she's\", 'her', 'hers', 'herself', 'it', \"it's\", 'its', 'itself', 'they', 'them', 'their', 'theirs', 'themselves', 'what', 'which', 'who', 'whom', 'this', 'that', \"that'll\", 'these', 'those', 'am', 'is', 'are', 'was', 'were', 'be', 'been', 'being', 'have', 'has', 'had', 'having', 'do', 'does', 'did', 'doing', 'a', 'an', 'the', 'and', 'but', 'if', 'or', 'because', 'as', 'until', 'while', 'of', 'at', 'by', 'for', 'with', 'about', 'against', 'between', 'into', 'through', 'during', 'before', 'after', 'above', 'below', 'to', 'from', 'up', 'down', 'in', 'out', 'on', 'off', 'over', 'under', 'again', 'further', 'then', 'once', 'here', 'there', 'when', 'where', 'why', 'how', 'all', 'any', 'both', 'each', 'few', 'more', 'most', 'other', 'some', 'such', 'no', 'nor', 'not', 'only', 'own', 'same', 'so', 'than', 'too', 'very', 's', 't', 'can', 'will', 'just', 'don', \"don't\", 'should', \"should've\", 'now', 'd', 'll', 'm', 'o', 're', 've', 'y', 'ain', 'aren', \"aren't\", 'couldn', \"couldn't\", 'didn', \"didn't\", 'doesn', \"doesn't\", 'hadn', \"hadn't\", 'hasn', \"hasn't\", 'haven', \"haven't\", 'isn', \"isn't\", 'ma', 'mightn', \"mightn't\", 'mustn', \"mustn't\", 'needn', \"needn't\", 'shan', \"shan't\", 'shouldn', \"shouldn't\", 'wasn', \"wasn't\", 'weren', \"weren't\", 'won', \"won't\", 'wouldn', \"wouldn't\", \"can't\", 'cannot', 'could', \"he'd\", \"he'll\", \"he's\", \"here's\", \"how's\", \"i'd\", \"i'll\", \"i've\", \"let's\", 'ought', \"she'd\", \"she'll\", \"that's\", \"there's\", \"they'd\", \"they'll\", \"they're\", \"they've\", \"we'd\", \"we'll\", \"we're\", \"we've\", \"what's\", \"when's\", \"where's\", \"who's\", \"why's\", 'would', 'hey', 'hi']\n",
            "213\n"
          ],
          "name": "stdout"
        }
      ]
    },
    {
      "cell_type": "code",
      "metadata": {
        "id": "C56pSov8-MbJ"
      },
      "source": [
        "\n",
        "def removeUnwantedChars(tweet):\n",
        "  # Removes urls\n",
        "  result = re.sub(r'http\\S+', '', tweet)\n",
        "  # Removes the tweeter handle\n",
        "  result = re.sub('(@)\\w+', '', result)\n",
        "  #  Converts to lower\n",
        "  result = result.lower()\n",
        "  # Removes stop words\n",
        "  result = ' '.join(filter(lambda x: x not in stopWords,  result.split()))\n",
        "  # Removes numbers\n",
        "  result = re.sub(r'\\d+', '', result)\n",
        "  # Removes punctuactions\n",
        "  result = re.sub(r'[^\\w\\s]','', result)\n",
        "  # Removes leading and trailing white spaces\n",
        "  result = result.strip()\n",
        "\n",
        "  return result"
      ],
      "execution_count": 8,
      "outputs": []
    },
    {
      "cell_type": "code",
      "metadata": {
        "id": "ru2tXyEIBNPE",
        "outputId": "7c79a904-d8c4-4fb4-b6a8-615250404a89",
        "colab": {
          "base_uri": "https://localhost:8080/",
          "height": 0
        }
      },
      "source": [
        "df_train['preprocessedTweets'] = df_train['Tweet'].apply(removeUnwantedChars)\n",
        "df_train.head()"
      ],
      "execution_count": 9,
      "outputs": [
        {
          "output_type": "execute_result",
          "data": {
            "text/html": [
              "<div>\n",
              "<style scoped>\n",
              "    .dataframe tbody tr th:only-of-type {\n",
              "        vertical-align: middle;\n",
              "    }\n",
              "\n",
              "    .dataframe tbody tr th {\n",
              "        vertical-align: top;\n",
              "    }\n",
              "\n",
              "    .dataframe thead th {\n",
              "        text-align: right;\n",
              "    }\n",
              "</style>\n",
              "<table border=\"1\" class=\"dataframe\">\n",
              "  <thead>\n",
              "    <tr style=\"text-align: right;\">\n",
              "      <th></th>\n",
              "      <th>Sentiment</th>\n",
              "      <th>Tweet</th>\n",
              "      <th>preprocessedTweets</th>\n",
              "    </tr>\n",
              "  </thead>\n",
              "  <tbody>\n",
              "    <tr>\n",
              "      <th>0</th>\n",
              "      <td>neutral</td>\n",
              "      <td>@united 877 from amsterdam to ewr, 02.27.2015,...</td>\n",
              "      <td>amsterdam ewr</td>\n",
              "    </tr>\n",
              "    <tr>\n",
              "      <th>1</th>\n",
              "      <td>negative</td>\n",
              "      <td>@united IT-problems with the link? #3thparty</td>\n",
              "      <td>itproblems link thparty</td>\n",
              "    </tr>\n",
              "    <tr>\n",
              "      <th>2</th>\n",
              "      <td>positive</td>\n",
              "      <td>@united -today the staff @ MSP took customer s...</td>\n",
              "      <td>today staff  msp took customer service new lev...</td>\n",
              "    </tr>\n",
              "    <tr>\n",
              "      <th>3</th>\n",
              "      <td>negative</td>\n",
              "      <td>@AmericanAir but have been yet to receive assi...</td>\n",
              "      <td>yet receive assistance one agents securing new...</td>\n",
              "    </tr>\n",
              "    <tr>\n",
              "      <th>4</th>\n",
              "      <td>negative</td>\n",
              "      <td>@SouthwestAir  you won't let me change my rese...</td>\n",
              "      <td>let change reservation online wasting time</td>\n",
              "    </tr>\n",
              "  </tbody>\n",
              "</table>\n",
              "</div>"
            ],
            "text/plain": [
              "  Sentiment  ...                                 preprocessedTweets\n",
              "0   neutral  ...                                      amsterdam ewr\n",
              "1  negative  ...                            itproblems link thparty\n",
              "2  positive  ...  today staff  msp took customer service new lev...\n",
              "3  negative  ...  yet receive assistance one agents securing new...\n",
              "4  negative  ...         let change reservation online wasting time\n",
              "\n",
              "[5 rows x 3 columns]"
            ]
          },
          "metadata": {
            "tags": []
          },
          "execution_count": 9
        }
      ]
    },
    {
      "cell_type": "code",
      "metadata": {
        "id": "H1wz9PZmBhe7",
        "outputId": "2fa0741e-740f-48a9-b6dc-5b796686dae1",
        "colab": {
          "base_uri": "https://localhost:8080/",
          "height": 0
        }
      },
      "source": [
        "df_test['preprocessedTweets'] = df_test['Tweet'].apply(removeUnwantedChars)\n",
        "df_test.head()"
      ],
      "execution_count": 10,
      "outputs": [
        {
          "output_type": "execute_result",
          "data": {
            "text/html": [
              "<div>\n",
              "<style scoped>\n",
              "    .dataframe tbody tr th:only-of-type {\n",
              "        vertical-align: middle;\n",
              "    }\n",
              "\n",
              "    .dataframe tbody tr th {\n",
              "        vertical-align: top;\n",
              "    }\n",
              "\n",
              "    .dataframe thead th {\n",
              "        text-align: right;\n",
              "    }\n",
              "</style>\n",
              "<table border=\"1\" class=\"dataframe\">\n",
              "  <thead>\n",
              "    <tr style=\"text-align: right;\">\n",
              "      <th></th>\n",
              "      <th>Sentiment</th>\n",
              "      <th>Tweet</th>\n",
              "      <th>preprocessedTweets</th>\n",
              "    </tr>\n",
              "  </thead>\n",
              "  <tbody>\n",
              "    <tr>\n",
              "      <th>0</th>\n",
              "      <td>neutral</td>\n",
              "      <td>@VirginAmerica to jump into the Dallas-Austin ...</td>\n",
              "      <td>jump dallasaustin market</td>\n",
              "    </tr>\n",
              "    <tr>\n",
              "      <th>1</th>\n",
              "      <td>positive</td>\n",
              "      <td>@AmericanAir Chicago seen from seat 6A, AA 162...</td>\n",
              "      <td>chicago seen seat a aa  far great ride pdx</td>\n",
              "    </tr>\n",
              "    <tr>\n",
              "      <th>2</th>\n",
              "      <td>negative</td>\n",
              "      <td>@united you need a bag bouncer. Get it together</td>\n",
              "      <td>need bag bouncer get together</td>\n",
              "    </tr>\n",
              "    <tr>\n",
              "      <th>3</th>\n",
              "      <td>negative</td>\n",
              "      <td>@JetBlue Hey Jetblue, you stranded an entire p...</td>\n",
              "      <td>jetblue stranded entire plane supposed go jfk ...</td>\n",
              "    </tr>\n",
              "    <tr>\n",
              "      <th>4</th>\n",
              "      <td>negative</td>\n",
              "      <td>@USAirways Big fail on not having curbside bag...</td>\n",
              "      <td>big fail curbside baggage pittsburgh charge  d...</td>\n",
              "    </tr>\n",
              "  </tbody>\n",
              "</table>\n",
              "</div>"
            ],
            "text/plain": [
              "  Sentiment  ...                                 preprocessedTweets\n",
              "0   neutral  ...                           jump dallasaustin market\n",
              "1  positive  ...         chicago seen seat a aa  far great ride pdx\n",
              "2  negative  ...                      need bag bouncer get together\n",
              "3  negative  ...  jetblue stranded entire plane supposed go jfk ...\n",
              "4  negative  ...  big fail curbside baggage pittsburgh charge  d...\n",
              "\n",
              "[5 rows x 3 columns]"
            ]
          },
          "metadata": {
            "tags": []
          },
          "execution_count": 10
        }
      ]
    },
    {
      "cell_type": "markdown",
      "metadata": {
        "id": "NlOg3EvKN1F1"
      },
      "source": [
        "## Feature Extraction\n",
        "*representing each tweet as a bag-of-words (BoW), that is, an unordered set of words with their position ignored, keeping only their frequency in the tweet.*"
      ]
    },
    {
      "cell_type": "code",
      "metadata": {
        "id": "r-d7Ss-TC3OH"
      },
      "source": [
        "def vectorize(tweet):\n",
        "    vector=[]\n",
        "    tokens = tweet.split()\n",
        "    for w in vocabulary:\n",
        "        vector.append(tokens.count(w))\n",
        "    return np.asarray(vector)\n",
        "def unique(tweet):\n",
        "    tokens = tweet.split()\n",
        "    for x in tokens:\n",
        "      if not (x in vocabulary):\n",
        "        vocabulary.append(x)"
      ],
      "execution_count": 11,
      "outputs": []
    },
    {
      "cell_type": "code",
      "metadata": {
        "id": "vZuoXogWO-Nf",
        "outputId": "075a7241-63f9-4373-c6fb-6534652be54e",
        "colab": {
          "base_uri": "https://localhost:8080/",
          "height": 0
        }
      },
      "source": [
        "vocabulary = []\n",
        "df_train['preprocessedTweets'].apply(unique)\n",
        "print(vocabulary)"
      ],
      "execution_count": 12,
      "outputs": [
        {
          "output_type": "stream",
          "text": [
            "['amsterdam', 'ewr', 'itproblems', 'link', 'thparty', 'today', 'staff', 'msp', 'took', 'customer', 'service', 'new', 'level', 'father', 'passed', 'away', 'last', 'night', 'amp', 'helped', 'get', 'home', 'thanks', 'yet', 'receive', 'assistance', 'one', 'agents', 'securing', 'connection', 'many', 'miss', 'work', 'tomorrow', 'let', 'change', 'reservation', 'online', 'wasting', 'time', 'look', 'cabin', 'crew', 'vacancies', 'please', 'update', 'going', 'happen', 'passengers', 'flt', 'ua', 'cancelled', 'flightled', 'redeem', 'travel', 'voucher', 'flight', 'reach', 'agent', 'phone', 'hold', 'expires', 'hours', 'originating', 'sfo', 'lax', 'good', 'perspective', 'safety', 'concern', 'expressed', 'point', 'arrived', 'airport', 'communicationiskey', 'welllllll', 'rt', 'fleets', 'fleek', 'upgrades', 'paid', 'wifi', 'load', 'website', 'functionally', 'except', 'live', 'streaming', 'unacceptable', 'absolutely', 'worries', 'never', 'flying', 'again', 'ever', 'even', 'hitch', 'hike', 'cross', 'country', 'passengersarepeople', 'concerned', 'fly', 'plane', 'needs', 'delayed', 'due', 'tech', 'stop', 'sitting', 'seat', 'd', 'back', 'vegas', 'chicago', 'someone', 'left', 'folder', 'looks', 'important', 'pocket', 'make', 'changes', 'still', 'charged', 'dollars', 'using', 'wall', 'separating', 'row', 'safetyconcerns', 'people', 'counter', 'helpful', 'see', 'nobody', 'there', 'austin', 'here', 'stahp', 'cruel', 'unusual', 'wo', 'notice', 'stay', 'min', 'listen', 'ad', 'loop', 'rules', 'keep', 'friend', 'alright', 'hope', 'jetblue', 'app', 'showing', 'seats', 'shows', 'a', 'want', 'surprises', 'first', 'base', 'already', 'like', 'style', 'amazing', 'best', 'follow', 'otis', 'baggage', 'claim', 'bay', 'happy', 'nearly', 'pissed', 'contact', 'stuff', 'bag', 'legally', 'blind', 'messed', 'up', 'trying', 'partner', 'pnr', 'spent', 'hour', 'know', 'snowing', 'somewhere', 'awful', 'sale', 'delighted', 'making', 'big', 'snow', 'montana', 'cool', 'planned', 'boston', 'traffic', 'recent', 'weather', 'insane', 'expedited', 'made', 'it', 'sure', 'remember', 'bags', 'onto', 'forget', 'im', 'resending', 'confirmation', 'code', 'dm', 'guy', 'follows', 'threat', 'sue', 'couldnt', 'carry', 'defend', 'free', 'in', 'this', 'reply', 'note', 'pilot', 'nailed', 'landing', 'seriously', 'kudos', 'cmh', 'ord', 'gate', 'next', 'segment', 'yvr', 'boarding', 'give', 'recognition', 'deserves', 'looking', 'forward', 'friends', 'family', 'arizona', 'checkin', 'system', 'poor', 'holding', 'now', 'that', 'great', 'return', 'calls', 'day', 'after', 'ask', 'more', 'myvxexperience', 'needknow', 'ill', 'able', 'ind', 'todayrather', 'maf', 'dfw', 'find', 'additional', 'charge', 'golf', 'clubs', 'shoes', 'balls', 'piece', 'luggage', 'check', 'platinum', 'usair', 'stranded', 'clt', 'answering', 'phones', 'rebook', 'me', 'help', 'second', 'put', 'explanation', 'missed', 'meetingoutraged', 'oh', 'got', 'right', 'kept', 'putting', 'fix', 'problem', 'including', 'us', 'tour', 'pack', 'winter', 'coatunfortunately', 'yes', 'werenotincalianymore', 'blazer', 'kooples', 'jacket', 'rd', 't', 'disgusting', 'chicken', 'entree', 'seen', 'standards', 'nosedived', 'newamerican', 'beautiful', 'seattle', 'flightling', 'flights', 'sending', 'tickets', 'telling', 'buyer', 'allowed', 'headed', 'nyc', 'funny', 'hear', 'ring', 'entire', 'groan', 'has', 'happened', 'twice', 'interns', 'sorry', 'add', 'vacation', 'wife', 'cant', 'fails', 'possible', 'set', 'schedule', 'try', 'aaalwayslate', 'legal', 'guys', 'advertise', 'honor', 'waiting', 'door', 'broke', 'global', 'services', 'status', 'airline', 'unsafe', 'stunning', 'hrs', 'counting', 'alone', 'things', 'accomplish', 'thousand', 'fans', 'asking', 'utmost', 'effort', 'safe', 'soon', 'chances', 'leaving', 'bna', 'to', 'lga', 'dallas', 'morning', 'cle', 'need', 'booked', 'out', 'address', 'issue', 'speak', 'class', 'curbside', 'delivery', 'teamusa', 'hi', 'bought', 'united', 'ebokeers', 'paris', 'miami', 'chance', 'everything', 'ok', 'mess', 'somebody', 'elses', 'plans', 'u', 'flow', 'team', 'pls', 'talking', 'about', 'nonstop', 'sna', 'hotel', 'food', 'least', 'suggestion', 'options', 'metro', 'city', 'ticket', 'exact', 'specific', 'page', 'site', 'share', 'thx', 'found', 'via', 'minutes', 'refunded', 'room', 'sleep', 'dia', 'chariot', 'tonight', 'angle', 'no', 'since', 'fed', 'wknd', 'pass', 'admirals', 'club', 'meal', 'coupon', 'coke', 'blank', 'stare', 'whats', 'deal', 'provide', 'overnight', 'cozy', 'floor', 'ohare', 'gross', 'helpmeplease', 'anyonethere', 'fabulous', 'thank', 'much', 'taking', 'skies', 'you', 'tell', 'then', 'boarded', 'group', 'end', 'queue', 'gold', 'member', 'nothing', 'progress', 'luck', 'patrick', 'rebooked', 'fingers', 'crossed', 'and', 'empty', 'desks', 'according', 'jfk', 'plenty', 'planes', 'kp', 'traveling', 'cheer', 'ms', 'bila', 'updates', 'take', 'love', 'meet', 'imagine', 'dragons', 'destinationdragons', 'dishonoring', 'upgrade', 'notifying', 'k', 'philadelphia', 'icing', 'cake', 'miserable', 'experience', 'nicer', 'sold', 'connetion', 'fantastic', 'tweet', 'photo', 'view', 'guarantee', 'fight', 'duh', 'international', 'am', 'hoping', 'thing', 'deodorant', 'shampoo', 'toothpaste', 'seems', 'limited', 'oz', 'correct', 'reschedule', 'batteries', 'airlines', 'st', 'disgrace', 'listened', 'horrible', 'working', 'tight', 'cx', 'delaying', 'secs', 'tuesday', 'sooner', 'attend', 'ailing', 'parent', 'fl', 'custserv', 'always', 'brag', 'ur', 'disappointed', 'apparently', 'sleeping', 'sev', 'ppl', 'office', 'received', 'apology', 'ff', 'miles', 'delay', 'apologize', 'select', 'booze', 'bach', 'party', 'better', 'ordgtmsy', 'enjoy', 'either', 'way', 'really', 'appreciate', 'alls', 'bhm', 'commercial', 'aired', 's', 'bookofnegroes', 'hr', 'willing', 'hang', 'long', 'answered', 'cold', 'air', 'vents', 'vx', 'noair', 'worstflightever', 'roasted', 'sfotobos', 'runways', 'late', 'flightr', 'nd', 'wdelays', 'reasons', 'unrelate', 'flightd', 'go', 'requesting', 'splitting', 'quadruples', 'price', 'todays', 'little', 'disappointing', 'unnecessary', 'delays', 'desk', 'queuing', 'control', 'treat', 'customersshafted', 'hanging', 'understand', 'crazy', 'n', 'sometimes', 'enough', 'happening', 'worstairlineever', 'also', 'marie', 'burroughs', 'worst', 'rep', 'yourairlinesucks', 'nope', 'wampb', 'raise', 'hands', 'move', 'fast', 'incapable', 'seating', 'yo', 'mom', 'together', 'toddler', 'fail', 'nice', 'company', 'asked', 'attendant', 'typical', 'compensation', 'says', 'might', 'tv', 'minor', 'freaking', 'bc', 'connecting', 'hawaii', 'frustrated', 'average', 'wait', 'maybe', 'understaffed', 'sick', 'companys', 'lousy', 'excuse', 'checking', 'months', 'attention', 'upset', 'told', 'utterly', 'call', 'disconnected', 'amend', 'booking', 'problems', 'ow', 'emerald', 'suck', 'loving', 'keepitmovin', 'days', 'said', 'anything', 'memories', 'neveragain', 'feel', 'criminal', 'sit', 'near', 'year', 'old', 'compensates', 'caused', 'fact', 'attendants', 'start', 'life', 'maintenece', 'appear', 'incompetence', 'pm', 'newark', 'la', 'folks', 'incredible', 'letsgohome', 'everyones', 'deserve', 'down', 'charging', 'lol', 'them', 'simple', 'google', 'search', 'number', 'tells', 'difficult', 'leave', 'tarmac', 'uniteds', 'agree', 'head', 'count', 'max', 'epicfailunited', 'past', 'couple', 'at', 'jason', 'san', 'afternoon', 'southwestairlines', 'stellarservice', 'lemme', 'come', 'university', 'student', 'use', 'break', 'books', 'allow', 'dialogue', 'solve', 'faster', 'emailing', 'lindsey', 'idea', 'stuck', 'denver', 'intercom', 'send', 'house', 'win', 'son', 'provo', 'saturday', 'called', 'weeks', 'ago', 'adding', 'elevatethey', 'shown', 'uphelp', 'allowing', 'simply', 'hangs', 'quick', 'response', 'yep', 'tried', 'input', 'pretty', 'drove', 'philly', 'mhtt', 'info', 'wether', 'charlotte', 'ice', 'storm', 'mad', 'customers', 'bossf', 'waivers', 'business', 'flighted', 'beforeafter', 'flexibilitycompassion', 'extreme', 'circumstances', 'ridiculous', 'routing', 'match', 'yall', 'say', 'officially', 'lost', 'waste', 'points', 'too', 'noooo', 'previously', 'direct', 'fllgtsfo', 'diverted', 'las', 'arriving', 'almost', 'flightations', 'driven', 'airports', 'different', 'states', 'gas', 'threatening', 'companion', 'luv', 'premier', 'groups', 'indication', 'broken', 'process', 'glad', 'retweeted', 'otherwise', 'ignore', 'numerous', 'tweets', 'sent', 'fucking', 'ceo', 'battles', 'appease', 'street', 'waterbury', 'republican', 'american', 'loyal', 'lack', 'communication', 'bad', 'dont', 'taken', 'kc', 'available', 'till', 'supposed', 'nights', 'stand', 'tix', 'based', 'confirmed', 'anyway', 'tremendous', 'recommend', 'done', 'sadly', 'gotten', 'tampa', 'tmrw', 'atlanta', 'show', 'dealt', 'nicely', 'captain', 'post', 'alerts', 'bdl', 'sunday', 'fuck', 'caring', 'thru', 'cxl', 'flew', 'helps', 'lot', 'switch', 'spend', 'passes', 'lindsay', 'darn', 'terrible', 'memory', 'part', 'iad', 'pit', 'everyone', 'legs', 'damaged', 'expensive', 'case', 'offered', 'anythingjust', 'wks', 'news', 'media', 'unnoticed', 'held', 'mdw', 'oakland', 'coming', 'deplane', 'newborns', 'board', 'meeting', 'finally', 'lined', 'cattle', 'sw', 'original', 'departure', 'badcustomerservice', 'far', 'getting', 'unknown', 'open', 'dca', 'shameful', 'forelock', 'fare', 'expect', 'something', 'release', 'february', 'pick', 'sits', 'throne', 'lies', 'wanted', 'along', 'esp', 'flies', 'times', 'month', 'beat', 'town', 'policy', 'nws', 'issued', 'warning', 'guess', 'rough', 'sort', 'missing', 'airmiles', 'suggestions', 'friday', 'worried', 'may', 'continuing', 'record', 'cost', 'book', 'award', 'etihad', 'dividend', 'doors', 'catering', 'stocking', 'will', 'through', 'followed', 'dmd', 'ruined', 'wrong', 'deliver', 'insult', 'injury', 'worry', 'backup', 'every', 'sufficiently', 'actually', 'do', 'systems', 'presumably', 'beyond', 'reproach', 'reform', 'definitely', 'so', 'headphone', 'jack', 'wasted', 'two', 'waitinginphilly', 'hate', 'thursday', 'imma', 'hook', 'tho', 'r', 'serious', 'place', 'land', 'without', 'accommodations', 'lots', 'reports', 'failures', 'week', 'currently', 'ogg', 'appreciated', 'hashtag', 'lucycat', 'melissa', 'awesome', 'smiling', 'b', 'welcome', 'joke', 'push', 'job', 'aa', 'heard', 'whisper', 'shes', 'probably', 'think', 'trust', 'ap', 'destination', 'santa', 'fe', 'ashley', 'face', 'angry', 'traveler', 'twelve', 'unlikely', 'movement', 'minwow', 'keeps', 'worse', 'resource', 'delayscancelled', 'flightlations', 'field', 'stressed', 'believe', 'impossible', 'yesterday', 'mind', 'cheaper', 'bkk', 'nrt', 'though', 'extra', 'print', 'paper', 'well', 'smile', 'customerservice', 'meelan', 'afford', 'supervisor', 'included', 'conversation', 'rec', 'dale', 'wonderful', 'foreverrrrrr', 'julie', 'andrews', 'running', 'parked', 'yea', 'fault', 'sucks', 'comes', 'emails', 'whole', 'worth', 'suree', 'care', 'requiring', 'fill', 'information', 'designed', 'prevent', 'limit', 'interaction', 'random', 'false', 'alarm', 'screw', 'tucson', 'landed', 'some', 'exp', 'membership', 'card', 'physical', 'access', 'lounges', 'spotify', 'stat', 'guiltypleasures', 'chat', 'feature', 'uk', 'alot', 'extremely', 'w', 'trip', 'mileageplus', 'explorer', 'holder', 'provides', 'wiggle', 'fee', 'accommodating', 'provider', 'connections', 'usairwaysfail', 'off', 'hopefully', 'suffering', 'immensely', 'merge', 'needed', 'hot', 'beverages', 'nyers', 'super', 'smooth', 'happytweet', 'useless', 'functioning', 'wheelchair', 'form', 'entertainment', 'ridiculousness', 'learncustomerservice', 'explained', 'reopens', 'scheduled', 'divert', 'closer', 'acy', 'truly', 'goes', 'matter', 'small', 'was', 'switched', 'inform', 'chathes', 'ugh', 'palm', 'springs', 'promised', 'jan', 'l', 'phoenix', 'younger', 'daughter', 'seated', 'airways', 'reveals', 'bluemanity', 'livery', 'travelpulse', 'fine', 'full', 'plus', 'on', 'phxphl', 'hilarious', 'greetings', 'pointy', 'airplane', 'haha', 'urgent', 'november', 'runway', 'wednesday', 'mistake', 'multibillion', 'dollar', 'professional', 'calling', 'rescheduled', 'solution', 'course', 'companies', 'failed', 'talk', 'choose', 'with', 'from', 'thought', 'lt', 'dani', 'conf', 'newest', 'standby', 'hitting', 'iowa', 'both', 'luckily', 'bso', 'midway', 'attentive', 'punta', 'cana', 'email', 'rr', 'pts', 'gain', 'clear', 'mine', 'gone', 'refused', 'despite', 'atl', 'departed', 'awaiting', 'inbound', 'three', 'another', 'surprised', 'mostly', 'dad', 'considered', 'half', 'size', 'guide', 'oversold', 'minefits', 'flyingitforward', 'affects', 'four', 'huge', 'difference', 'early', 'wantcharge', 'double', 'instead', 'usual', 'pay', 'seem', 'receipt', 'copy', 'reimbursement', 'moms', 'callback', 'bed', 'disinfectant', 'wipes', 'badservice', 'joanne', 'diego', 'phenomenal', 'girl', 'handled', 'flightnightmare', 'anyone', 'lisa', 'pafe', 'costa', 'rica', 'assult', 'drinks', 'spilled', 'drunk', 'passenger', 'ty', 'but', 'offer', 'subscription', 'fluctuated', 'backended', 'paying', 'statement', 'true', 'priceless', 'zero', 'safealone', 'plastic', 'chair', 'h', 'given', 'layovers', 'vouchers', 'wallet', 'stolen', 'resolution', 'million', 'mile', 'flier', 'embarrassed', 'launched', 'makes', 'sense', 'tahiti', 'saying', 'assignment', 'person', 'cust', 'srvc', 'when', 'world', 'treating', 'deeply', 'birthday', 'promo', 'applied', 'mere', 'certain', 'cltnyc', 'notion', 'absurd', 'helping', 'routes', 'aus', 'snacks', 'purpose', 'future', 'harsh', 'preparedness', 'plan', 'snowballed', 'real', 'exit', 'truebluememberlife', 'bird', 'lady', 'dead', 'wish', 'wifes', 'transferred', 'account', 'name', 'aiecraft', 'filling', 'hit', 'error', 'message', 'went', 'offers', 'officer', 'wow', 'unreal', 'waited', 'announce', 'pulling', 'claiming', 'power', 'issues', 'magically', 'repaired', 'kid', 'wants', 'money', 'scumbag', 'usairways', 'holdtime', 'ready', 'juan', 'wondering', 'waive', 'fees', 'military', 'personnel', 'accepting', 'shanese', 'bryantmelton', 'hardworking', 'grandmother', 'dc', 'bucket', 'list', 'flyitforward', 'cancun', 'eventually', 'hell', 'overbook', 'knew', 'assignments', 'inept', 'uncaring', 'piss', 'poorplanning', 'reserved', 'comp', 'ca', 'unfortunately', 'forces', 'buy', 'cheapest', 'grandcayman', 'csr', 'close', 'acct', 'less', 'frustration', 'boiled', 'dealing', 'attitude', 'rocks', 'letter', 'child', 'inspired', 'option', 'lines', 'busy', 'plz', 'reagan', 'unhappy', 'elaborate', 'cha', 'evening', 'orlando', 'robert', 'centricity', 'knowing', 'anamarketers', 'mobile', 'headerelevateusernumofpointsavailable', 'any', 'gmail', 'facebook', 'etc', 'ps', 'loaded', 'herb', 'patient', 'originally', 'ath', 'pdx', 'coordinate', 'reps', 'reliablefriendly', 'usually', 'are', 'living', 'repexper', 'literally', 'rather', 'earlier', 'dr', 'appointment', 'kphl', 'dissapointment', 'shavon', 'evn', 'sounds', 'dayreward', 'diverged', 'burlington', 'vermont', 'anytime', 'lieslieslies', 'clothes', 'vaca', 'lostluggage', 'unprofessional', 'mia', 'jackass', 'favor', 'sayget', 'lessme', 'seeampeter', 'scott', 'situation', 'trustget', 'outside', 'mins', 'wee', 'baking', 'saw', 'black', 'history', 'excited', 'support', 'monthwill', 'grant', 'accordingly', 'respond', 'cvg', 'tag', 'weigh', 'scale', 'appears', 'conveyor', 'belt', 'bug', 'credit', 'earn', 'wont', 'restore', 'forfeited', 'roundtrip', 'london', 'fyi', 'moneynotspentonunited', 'unfriendlyskies', 'sju', 'ass', 'backwards', 'credits', 'relations', 'houston', 'nj', 'short', 'thks', 'tip', 'workaround', 'customerfriendly', 'easily', 'accessible', 'managed', 'pleasent', 'aww', 'aadfw', 'gma', 'amso', 'btw', 'trvlove', 'refund', 'sendingposting', 'complete', 'details', 'surrounding', 'ashamed', 'sardine', 'pilots', 'incompetent', 'belief', 'americanairlines', 'returned', 'following', 'mechanical', 'glitch', 'gtgt', 'prayerdisappointed', 'mishaps', 'lotttttttt', 'astounding', 'doesnt', 'exist', 'kill', 'squared', 'man', 'inside', 'friendly', 'efficient', 'coach', 'ana', 'holders', 'lounge', 'grumpykim', 'james', 'dedicated', 'telephones', 'eat', 'billions', 'profits', 'colours', 'bunch', 'ffl', 'northeast', 'destinations', 'announcements', 'flighting', 'choosing', 'notify', 'turned', 'operated', 'nma', 'arrives', 'national', 'ionlyflyblue', 'ridic', 'transfer', 'youre', 'atleast', 'damn', 'lmfao', 'slow', 'internet', 'horrendous', 'phil', 'wtf', 'item', 'non', 'march', 'th', 'tricities', 'tn', 'terribly', 'blaming', 'jet', 'blue', 'disaster', 'explain', 'exe', 'plat', 'wout', 'confused', 'tire', 'cause', 'nomoaa', 'slightly', 'searching', 'altitude', 'pax', 'sharp', 'drops', 'prove', 'richard', 'p', 'ripped', 'tixs', 'faces', 'rude', 'inappropriate', 'comments', 'cuz', 'map', 'drink', 'couponsi', 'coupons', 'dropping', 'idontwanttocallback', 'dontflythem', 'reroute', 'bos', 'jax', 'forcing', 'passengerslose', 'trublue', 'num', 'answeringdont', 'lostyou', 'deserved', 'rest', 'measured', 'example', 'existing', 'longer', 'cmhord', 'gets', 'president', 'employees', 'blamed', 'him', 'repeated', 'experienced', 'refreshing', 'laxwhen', 'upgrading', 'planesplane', 'screenslousy', 'unitedfirst', 'unbelievable', 'consecutive', 'manchester', 'concourse', 'across', 'ba', 'quickly', 'yyz', 'bit', 'cleared', 'beautifully', 'virgin', 'island', 'emailed', 'lhr', 'mean', 'lauren', 'holy', 'sht', 'winning', 'meanwhile', 'fucked', 'festivities', 'swing', 'fairway', 'overlooking', 'hole', 'logan', 'gong', 'enforcement', 'bins', 'coats', 'tracking', 'worthless', 'is', 'plains', 'state', 'college', 'pa', 'newly', 'married', 'preexisting', 'easy', 'aex', 'obviously', 'agentbooked', 'transportation', 'pregnantwithtwins', 'checked', 'register', 'somehow', 'borderline', 'question', 'invite', 'fallow', 'learn', 'activitiesprevention', 'programs', 'health', 'condomrito', 'familywe', 'cthanks', 'rock', 'peeps', 'hub', 'ireland', 'major', 'planewide', 'directtv', 'reset', 'smh', 'integrating', 'passbook', 'ios', 'works', 'levels', 'reaches', 'lets', 'realistically', 'lufthansa', 'consider', 'summer', 'local', 'youth', 'school', 'math', 'refresher', 'courses', 'applepay', 'mc', 'considering', 'virtually', 'doubt', 'car', 'rentals', 'theres', 'cc', 'unitedairlines', 'aspenbaggagefail', 'aspen', 'den', 'means', 'properly', 'elsewhere', 'addl', 'crowded', 'impressed', 'replies', 'resolve', 'avail', 'advise', 'asap', 'not', 'woman', 'lead', 'c', 'red', 'stamp', 'yourself', 'wreck', 'answer', 'hardtodo', 'request', 'rescheduling', 'maintenance', 'died', 'grab', 'oma', 'bother', 'dog', 'laguardia', 'nowsunshine', 'totally', 'par', 'slide', 'youve', 'met', 'matchgot', 'line', 'anymore', 'expired', 'x', 'train', 'appropriate', 'decorum', 'revisiting', 'death', 'certificate', 'ivebeen', 'client', 'nbr', 'elite', 'waa', 'bank', 'conference', 'what', 'proper', 'handle', 'exactly', 'toiletries', 'screwed', 'orleans', 'huston', 'deals', 'watched', 'bus', 'planestrainsandautomobiles', 'yeah', 'fun', 'corporatepaid', 'april', 'purchase', 'order', 'intact', 'enjoyed', 'disappointment', 'frequent', 'flyer', 'apple', 'spoil', 'louis', 'anywhere', 'did', 'seconds', 'muzak', 'constant', 'commercials', 'delayedagainevery', 'feeling', 'onboard', 'sad', 'southwest', 'mco', 'loyalty', 'vacationing', 'boys', 'inexcusable', 'pre', 'robotic', 'watch', 'video', 'treated', 'south', 'huh', 'winterweather', 'brrr', 'depart', 'schedulecontact', 'bae', 'jetbae', 'regains', 'karma', 'giving', 'sweaty', 'water', 'carrying', 'argh', 'holidays', 'gave', 'phl', 'walked', 'replying', 'aviation', 'swa', 'management', 'funeral', 'pain', 'opening', 'liar', 'precipitation', 'degrees', 'pacify', 'foolthats', 'admit', 'prepares', 'ahead', 'reduce', 'distress', 'ada', 'chairs', 'earth', 'loved', 'sign', 'trueblue', 'happens', 'around', 'pleasant', 'sol', 'consistent', 'saves', 'corporate', 'gt', 'albany', 'unitedk', 'delivered', 'doorstep', 'safely', 'srsly', 'eternity', 'ammisery', 'immediately', 'shhhh', 'else', 'steal', 'agostill', 'id', 'trouble', 'finding', 'cleveland', 'hopkins', 'travis', 'east', 'policies', 'skis', 'boots', 'teach', 'mgr', 'attach', 'lxa', 'ekvm', 'thansk', 'combined', 'yours', 'forgetting', 'fuel', 'realizing', 'cargo', 'mask', 'customerrelationscom', 'poorservice', 'notgoodenough', 'minute', 'turnaround', 'ktn', 'tsa', 'precheck', 'applying', 'nashville', 'southwestairwasthere', 'third', 'straight', 'came', 'canadian', 'used', 'boyfriend', 'event', 'glass', 'wine', 'eyes', 'pandu', 'bringing', 'boards', 'security', 'current', 'definitive', 'monthly', 'assholes', 'announcing', 'winners', 'utah', 'weekend', 'lucky', 'orig', 'unwilling', 'rotten', 'cherry', 'top', 'shit', 'nocareforcustomers', 'rett', 'cavan', 'gofundme', 'breath', 'cares', 'sat', 'equipment', 'apologizing', 'personally', 'waits', 'act', 'final', 'carrier', 'dreaming', 'route', 'lovely', 'outlets', 'sos', 'itis', 'poorcustumerservice', 'anchorage', 'fairbanks', 'bs', 'airportcardio', 'mark', 'snit', 'stepped', 'painful', 'delhi', 'kids', 'offline', 'location', 'absolute', 're', 'suit', 'regarding', 'patronizing', 'legitimate', 'hostage', 'dividends', 'common', 'flightsand', 'meetings', 'luvits', 'imdetermined', 'oyu', 'getaway', 'oneway', 'cities', 'cheapflights', 'farecompare', 'accused', 'stealing', 'fruit', 'mistreatment', 'austic', 'consoled', 'mother', 'ended', 'driving', 'disorganization', 'clients', 'disappoint', 'rectify', 'complaints', 'department', 'stickingtodelta', 'drive', 'memphis', 'loading', 'responseplease', 'btv', 'exists', 'surprise', 'registered', 'hopeful', 'step', 'okay', 'canadaair', 'regional', 'jets', 'plain', 'aggravated', 'disappear', 'prices', 'dropped', 'aware', 'closed', 'terminal', 'solved', 'cue', 'hung', 'wanna', 'beer', 'nah', 'ground', 'repainted', 'sunset', 'guilty', 'economy', 'leg', 'talks', 'poorly', 'ripping', 'volkswagen', 'disgruntled', 'whatacluster', 'alert', 'arrive', 'fourhour', 'phx', 'rno', 'downgraded', 'versace', 'biceps', 'stow', 'completely', 'front', 'requested', 'bom', 'copay', 'upgraded', 'develop', 'ding', 'chromefirefox', 'browser', 'extension', 'swell', 'pathetic', 'stories', 'changing', 'apathetic', 'maps', 'electronics', 'box', 'blocking', 'legroom', 'claims', 'protection', 'diversions', 'nottrue', 'starting', 'canada', 'hnl', 'continental', 'monday', 'morn', 'gosh', 'thats', 'weak', 'ya', 'iphone', 'whoot', 'automated', 'msg', 'familiar', 'procedure', 'unhappytraveler', 'wake', 'pek', 'crying', 'kay', 'chapman', 'designs', 'artluggage', 'locate', 'responded', 'tomorrows', 'posted', 'arrival', 'shv', 'mon', 'feb', 'prob', 'remains', 'we', 'mechanics', 'finish', 'lunch', 'inquired', 'sauvignon', 'blanc', 'pronounce', 'describe', 'bathroom', 'rushed', 'however', 'submitted', 'property', 'package', 'twitter', 'minimum', 'five', 'fll', 'bwiand', 'terribleno', 'knows', 'arehis', 'gear', 'jp', 'sabe', 'bein', 'loosing', 'kidding', 'bagage', 'ny', 'washington', 'trace', 'date', 'revieving', 'several', 'pricey', 'further', 'drunkpilots', 'auto', 'alternate', 'loc', 'cld', 'disorganized', 'inefficient', 'surly', 'stays', 'lap', 'infant', 'mons', 'tkt', 'jacquie', 'plitt', 'cabo', 'responding', 'timely', 'recd', 'flightlation', 'eye', 'ipad', 'erw', 'opened', 'screen', 'shots', 'worked', 'startled', 'description', 'expanded', 'stopped', 'partnering', 'hilton', 'hotels', 'genius', 'expire', 'aacom', 'mattersits', 'matters', 'drop', 'ball', 'froward', 'bahamas', 'hidden', 'crappy', 'generic', 'computer', 'generated', 'accommodate', 'travelers', 'keeping', 'notfair', 'respect', 'expects', 'alwayshappensthere', 'angrytraveler', 'inches', 'hurt', 'shifts', 'raps', 'knees', 'blast', 'social', 'fair', 'speaking', 'vs', 'emergency', 'mke', 'grnd', 'havoc', 'hahah', 'recommended', 'goodness', 'pressure', 'texas', 'beatstheothers', 'crisis', 'jamaica', 'volunteer', 'risk', 'stpatricksfoundation', 'rotary', 'heat', 'ohno', 'bundleup', 'leastthebeverageswillbecold', 'pleasecomeback', 'lag', 'infants', 'conditions', 'uhi', 'likely', 'letting', 'citystrangeand', 'fairs', 'normal', 'diehardvirgin', 'caught', 'promotion', 'argued', 'exec', 'benefits', 'deplaned', 'scream', 'unfortunate', 'xmas', 'gift', 'razor', 'picture', 'misleading', 'favorite', 'created', 'magic', 'friendlyskies', 'careyon', 'earliest', 'complaint', 'losing', 'mddc', 'md', 'praying', 'justgetmehome', 'pure', 'anarchy', 'slc', 'walking', 'packed', 'arms', 'getittogether', 'issuing', 'advisory', 'significant', 'shot', 'incident', 'report', 'processes', 'carried', 'ways', 'filed', 'callwhats', 'airborne', 'velcro', 'inconsistent', 'enforcing', 'prefer', 'randomly', 'freq', 'flyers', 'obey', 'octaviannightmare', 'lie', 'meds', 'diapers', 'baby', 'practice', 'chairmans', 'hey', 'hve', 'flght', 'nw', 'insight', 'largesize', 'fit', 'single', 'spending', 'daldca', 'congrats', 'engine', 'leakingwhats', 'nothappy', 'dads', 'sxm', 'shoddy', 'hep', 'cmon', 'fam', 'just', 'crpe', 'americanair', 'biscuits', 'marks', 'design', 'sun', 'sentinel', 'tad', 'behind', 'assured', 'cincinnati', 'reason', 'layover', 'tolerable', 'loveluv', 'addition', 'under', 'confirm', 'funds', 'centre', 'text', 'changed', 'temperature', 'mosiacfail', 'cranky', 'aas', 'tracker', 'your', 'located', 'trips', 'transported', 'employee', 'freddie', 'admiral', 'sibling', 'gates', 'wheels', 'chocked', 'unmet', 'meant', 'tues', 'childish', 'program', 'comment', 'assigned', 'pairs', 'downgrade', 'mint', 'traveled', 'reported', 'provided', 'china', 'reviewing', 'blog', 'badly', 'wmnlifecom', 'george', 'stinks', 'usairwayssucks', 'ahold', 'others', 'operation', 'intend', 'boo', 'wack', 'bueno', 'software', 'clown', 'hello', 'overseas', 'snaps', 'i', 'cart', 'cups', 'rows', 'markie', 'sked', 'computers', 'clue', 'mod', 'congratulations', 'sky', 'must', 'flightingdelaying', 'flyswa', 'denverairport', 'canned', 'round', 'strike', 'thoughtful', 'guaranteed', 'terms', 'insulting', 'jane', 'special', 'mcogtjfk', 'disclose', 'refundprocedurenottoopainful', 'flightive', 'waaaaaaiting', 'inflight', 'goodcustomerservice', 'kindle', 'mail', 'specialist', 'stewardess', 'serving', 'drunks', 'removal', 'method', 'cessnas', 'become', 'kindness', 'adjusting', 'snowstorms', 'forced', 'alternative', 'talked', 'human', 'forever', 'spoken', 'laughed', 'responsive', 'none', 'weird', 'busiest', 'filled', 'havent', 'scared', 'of', 'plt', 'smoooothest', 'southwestsmoothie', 'shoutout', 'crews', 'led', 'singing', 'luvintheair', 'prompt', 'perhaps', 'reduced', 'priority', 'certificates', 'accepted', 'locked', 'attitudes', 'anotherfail', 'homeless', 'clicking', 'buttons', 'parents', 'greenville', 'forgiven', 'highhopes', 'severally', 'answers', 'chairmanlove', 'noon', 'contacted', 'bring', 'blackberry', 'sweeps', 'overselling', 'kick', 'inability', 'stupidity', 'losers', 'screens', 'laptoplarge', 'god', 'tiny', 'lil', 'middle', 'who', 'travels', 'celebs', 'america', 'efforts', 'jamie', 'mckinnie', 'buf', 'pro', 'owning', 'stewardesses', 'cun', 'amazed', 'added', 'application', 'collection', 'messing', 'fszyo', 'elp', 'flyerfriendly', 'emb', 'elpaso', 'suggest', 'senior', 'manager', 'retrain', 'awe', 'mdwfll', 'capacity', 'picked', 'seatac', 'soaking', 'wet', 'bagawim', 'eyyyy', 'problemss', 'reflight', 'fc', 'read', 'themagicalstranger', 'prime', 'opportunity', 'men', 'hats', 'parody', 'moved', 'inconvenient', 'ege', 'cxld', 'pity', 'machine', 'replied', 'story', 'expected', 'article', 'magazine', 'frankfurt', 'charity', 'donation', 'thankyou', 'coworkers', 'listening', 'capabilities', 'context', 'mentioned', 'lynchburg', 'wld', 'orl', 'char', 'sometime', 'wed', 'gonna', 'cut', 'bwisjd', 'stops', 'aug', 'incentive', 'touchdown', 'madrid', 'avgeek', 'washingtondc', 'edinburgh', 'tired', 'understood', 'sales', 'employ', 'wishing', 'thomas', 'shocking', 'user', 'years', 'settled', 'providing', 'notifications', 'accurate', 'feet', 'bze', 'complainer', 'written', 'experiences', 'wyou', 'finishes', 'walks', 'shocked', 'yepfiled', 'heathrow', 'ey', 'bday', 'birth', 'born', 'courtesy', 'lynn', 'sean', 'callplan', 'plowing', 'jerks', 'have', 'heck', 'warm', 'funflightattendants', 'sundayfunday', 'apply', 'fehqne', 'dcarsw', 'deceptive', 'marketing', 'practices', 'retain', 'granting', 'neverflyunited', 'departing', 'private', 'negotiate', 'resolutions', 'inconvience', 'possibly', 'planet', 'ref', 'deny', 'figure', 'store', 'depends', 'breakfast', 'burrito', 'craving', 'reminder', 'tweeting', 'ward', 'flightchecked', 'oakgtmsy', 'troubles', 'okayyyy', 'irons', 'promise', 'shenanigans', 'pull', 'center', 'ralph', 'naders', 'uals', 'sympathetic', 'questions', 'unanswered', 'yelled', 'her', 'stood', 'whispering', 'pointing', 'temorriscom', 'discuss', 'directly', 'phxgtord', 'fa', 'bill', 'ab', 'cards', 'automatically', 'travelling', 'area', 'lbs', 'lavoratories', 'est', 'z', 'airfare', 'refundable', 'environment', 'cs', 'fhkte', 'october', 'applauded', 'abt', 'takemeback', 'retweets', 'likes', 'fb', 'frustrations', 'f', 'windy', 'sunny', 'flyfi', 'udub', 'extended', 'biggest', 'impact', 'anticipate', 'prebook', 'recently', 'surgery', 'offering', 'lose', 'yesterdays', 'linesforever', 'notified', 'updated', 'locator', 'betsy', 'besty', 'gettin', 'mostbut', 'homewardbound', 'stillbut', 'jetway', 'sb', 'reality', 'dare', 'safari', 'mac', 'emailscalls', 'ticks', 'rented', 'van', 'toledo', 'firstboth', 'galley', 'omg', 'reconsider', 'disrupted', 'sharon', 'saviour', 'gotta', 'departures', 'strtd', 'virginamerica', 'wing', 'weekmakes', 'onlywaytofly', 'being', 'fastest', 'achieve', 'attended', 'corrected', 'whoa', 'brave', 'dissemination', 'relevant', 'e', 'entertaining', 'southern', 'hospitality', 'sav', 'delivering', 'promises', 'hrsampwaiting', 'referral', 'milageplus', 'moment', 'gather', 'thoughts', 'sharing', 'public', 'fire', 'handedly', 'unitedsucks', 'spoke', 'rent', 'corevalues', 'passion', 'aerojobmarket', 'save', 'daughters', 'waitingonapilot', 'siouxfalls', 'whyairtravelsucks', 'honest', 'unlike', 'screenshot', 'myself', 'attentiveness', 'shannon', 'odd', 'txt', 'emp', 'aircraft', 'named', 'leah', 'severely', 'staffed', 'iah', 'brazil', 'teaching', 'english', 'spanish', 'children', 'skills', 'improve', 'vary', 'heads', 'sarcasm', 'patienceiswearingthin', 'woof', 'accept', 'apostrophe', 'surname', 'apostrophefail', 'caller', 'brooklyn', 'the', 'can', 'pair', 'prettyplease', 'frozen', 'ho', 'flywhonotblue', 'upon', 'takeoff', 'teen', 'reservations', 'known', 'awfulness', 'trees', 'die', 'sell', 'optout', 'damage', 'logging', 'entering', 'correctly', 'light', 'gee', 'thnx', 'doi', 'within', 'billing', 'cycles', 'ha', 'americanview', 'mall', 'dining', 'manuel', 'bloody', 'mary', 'screencap', 'unspecified', 'cabinfever', 'averted', 'beers', 'sleet', 'bet', 'birds', 'flown', 'accidentally', 'populate', 'til', 'newamericanstinks', 'scam', 'm', 'swiss', 'lx', 'bff', 'beach', 'westchester', 'medical', 'practical', 'adapted', 'cushion', 'yeehaw', 'vent', 'deep', 'grow', 'all', 'needlessly', 'cats', 'pissedvery', 'thankful', 'evil', 'soul', 'trbl', 'inch', 'hanger', 'pile', 'terriblecommunication', 'vino', 'deiced', 'costumer', 'providence', 'sucked', 'surf', 'baggagedrama', 'ft', 'myers', 'milwaukee', 'dmed', 'ages', 'dnt', 'split', 'sld', 'window', 'messages', 'boeing', 'star', 'alliance', 'finals', 'winters', 'friendliest', 'unscheduled', 'enter', 'memo', 'cheers', 'mention', 'circuit', 'breaker', 'bathrooms', 'formally', 'complain', 'handler', 'misconnected', 'denied', 'tray', 'table', 'florida', 'members', 'over', 'operator', 'surely', 'soft', 'views', 'sweetheart', 'scramble', 'mcogtcmh', 'urgency', 'focused', 'lea', 'switching', 'circling', 'timesomeone', 'forgot', 'clean', 'guitar', 'december', 'partners', 'checkout', 'payment', 'boost', 'conversion', 'rates', 'etailwest', 'payments', 'visa', 'faves', 'tvs', 'responsetough', 'involved', 'started', 'taxiing', 'fltkeeping', 'informed', 'delaygreatcustomerservice', 'reopened', 'wd', 'callers', 'husbands', 'internal', 'prepared', 'situations', 'alex', 'device', 'lbc', 'oak', 'daysand', 'worstnever', 'onelove', 'bestairline', 'experiencing', 'obtain', 'rdu', 'atlantic', 'hpn', 'mimosa', 'compensate', 'vibe', 'moodlight', 'moodlitmonday', 'sciencebehindtheexperience', 'languages', 'latinamerican', 'grand', 'total', 'thur', 'childs', 'peanut', 'allergy', 'didnt', 'vicky', 'refuse', 'heading', 'courier', 'hiring', 'dispatcher', 'il', 'network', 'operations', 'centerl', 'holdguess', 'vacations', 'registration', 'printed', 'records', 'whenever', 'nwn', 'taxis', 'prior', 'unprecedented', 'perk', 'ea', 'bk', 'asia', 'korea', 'training', 'camp', 'notmadeofmoney', 'bd', 'wproj', 'cond', 'promising', 'assist', 'flts', 'monopoly', 'fliers', 'crap', 'warnings', 'shitty', 'svc', 'aw', 'mk', 'btr', 'ordered', 'mvp', 'worstcustomerservice', 'touch', 'locally', 'arent', 'unconscionable', 'treatment', 'educate', 'bohol', 'while', 'rio', 'participate', 'representing', 'yourstoryhere', 'mx', 'phrased', 'differently', 'actual', 'consistently', 'subpar', 'merger', 'miracles', 'wheelsup', 'overheads', 'processing', 'spare', 'fav', 'truck', 'chalk', 'loss', 'roc', 'atc', 'veers', 'icy', 'flightaware', 'stl', 'expecting', 'cab', 'contain', 'herself', 'engadget', 'theverge', 'wired', 'reddit', 'high', 'volumes', 'tru', 'space', 'turning', 'refueling', 'barbados', 'ccwhy', 'checkincorrect', 'blowing', 'shotwest', 'onhold', 'valentines', 'gifts', 'neptune', 'notmyfault', 'clarify', 'learned', 'hundreds', 'jfklax', 'run', 'amenities', 'function', 'nocharge', 'kind', 'pays', 'illogical', 'ual', 'explaining', 'replyour', 'bucks', 'song', 'timehave', 'biz', 'calendar', 'inquiry', 'universally', 'adopted', 'mqxc', 'mpwnc', 'woohoo', 'amt', 'incoming', 'frustrating', 'maint', 'french', 'hardly', 'cutting', 'edge', 'overheard', 'refusing', 'same', 'leather', 'apart', 'ay', 'seams', 'tooooo', 'chain', 'command', 'hates', 'disappeared', 'unhelpful', 'letdown', 'belongings', 'frm', 'stlatl', 'nite', 'secure', 'restating', 'clearly', 'mastercard', 'alaska', 'begging', 'notcool', 'promptly', 'kms', 'file', 'ride', 'multiple', 'waivethefee', 'poorcustomerservice', 'download', 'jeokoo', 'worthy', 'beginning', 'useles', 'lauderdale', 'louisville', 'acknowledge', 'touched', 'neworleans', 'annual', 'distributor', 'livethelegend', 'sound', 'bougth', 'mccaren', 'hipster', 'innovation', 'brand', 'ricoh', 'smith', 'oust', 'uncertainty', 'create', 'undue', 'penalty', 'reqing', 'flexibility', 'restrm', 'he', 'myselfothers', 'wno', 'wrongfully', 'ramp', 'crashedeverywhere', 'activities', 'garbage', 'reward', 'remind', 'rumors', 'tvmovie', 'installing', 'ack', 'write', 'cr', 'itll', 'unresolved', 'sjc', 'pleaseeeeee', 'ignorant', 'fallen', 'farthanks', 'doug', 'parker', 'overwhelming', 'freakin', 'large', 'coffee', 'extralight', 'sweet', 'jetbluebos', 'dcabos', 'bagsno', 'carousel', 'signs', 'updating', 'stock', 'rating', 'lowered', 'vetr', 'inc', 'jblu', 'dakota', 'financial', 'word', 'rental', 'mdtmy', 'origin', 'shares', 'q', 'results', 'grrrrrr', 'yyzua', 'ear', 'worm', 'obsolete', 'fleet', 'texts', 'especially', 'locations', 'seemed', 'happily', 'cockpit', 'visit', 'blew', 'fouryrolds', 'capn', 'stopping', 'carryon', 'xdaily', 'orangecounty', 'portland', 'merging', 'dividendmiles', 'yield', '_exact_', 'steps', 'navigate', 'menu', 'position', 'needing', 'routinely', 'concert', 'required', 'chaperone', 'hard', 'fr', 'undefined', 'workingfamily', 'cgroup', 'guest', 'canplease', 'tryin', 'plse', 'methe', 'pricing', 'pricewise', 'correlate', 'replacement', 'recline', 'soreback', 'becky', 'piela', 'orange', 'county', 'secured', 'dorns', 'thanked', 'goodenoughmother', 'involuntarily', 'bumped', 'preboarding', 'overhead', 'detectors', 'dcastl', 'cheat', 'horribly', 'stray', 'cdn', 'border', 'towns', 'exchange', 'customerappreciation', 'gaincustomers', 'keepem', 'nonservice', 'covered', 'separate', 'occasions', 'trained', 'wbuses', 'boooo', 'formal', 'jockeying', 'happier', 'ontime', 'contest', 'failure', 'dreamliner', 'leaves', 'dancing', 'stevie', 'bummed', 'satellite', 'incase', 'be', 'password', 'username', 'insanity', 'storms', 'inevitable', 'reaccommodation', 'mumbled', 'anxious', 'spite', 'janet', 'karen', 'res', 'maiden', 'namemarried', 'docs', 'hence', 'crummyservice', 'whydidntiflysouthwest', 'goodluckamericanair', 'fraud', 'dept', 'promotionscodes', 'nashvilledenver', 'worrying', 'items', 'brokenstolen', 'lock', 'commitment', 'fixing', 'peoples', 'kicking', 'pounds', 'bar', 'sm', 'industry', 'opinion', 'speedy', 'recovery', 'scavenger', 'hunt', 'v', 'fares', 'pt', 'stndby', 'missedwork', 'clientnothappy', 'ordpvg', 'turn', 'cushions', 'resolved', 'outdated', 'btwn', 'ports', 'personal', 'torture', 'restr', 'aaadvantage', 'dissatisfied', 'allowance', 'glasgow', 'bump', 'seet', 'diverting', 'zurichnew', 'york', 'john', 'hubs', 'mexico', 'attempt', 'join', 'nycas', 'tourist', 'dreading', 'proactively', 'abi', 'holdup', 'flite', 'instance', 'failing', 'proving', 'unsuccessful', 'success', 'nonperformance', 'faithful', 'dry', 'unreachable', 'callbacks', 'police', 'sexual', 'wsj', 'content', 'analyst', 'nasdaq', 'rhonda', 'redeemed', 'straightened', 'reassigned', 'places', 'cantlike', 'lucia', 'flattering', 'proud', 'smart', 'mt', 'weve', 'partnered', 'digital', 'isis', 'eriord', 'express', 'hugely', 'popular', 'eriewr', 'hop', 'hateful', 'incredibly', 'backed', 'lay', 'bedofroses', 'colored', 'brandmance', 'weasel', 'rooms', 'ravioli', 'chickenidiot', 'bwi', 'carolina', 'resort', 'aircraftrunways', 'todaytomorrow', 'lmaoooo', 'although', 'rscheduling', 'representative', 'disconnect', 'degree', 'could', 'official', 'signed', 'lima', 'margo', 'houstons', 'bush', 'intercontinental', 'operating', 'anybody', 'repair', 'potable', 'mcigtdfw', 'pushing', 'adds', 'incorrect', 'horriblecustomerservice', 'track', 'undignified', 'behavior', 'isnt', 'freedrinkcoupons', 'blankets', 'husband', 'strand', 'draw', 'solar', 'charger', 'amazon', 'game', 'changer', 'plug', 'usb', 'pitt', 'hs', 'students', 'ithaca', 'xld', 'rulesshouldbend', 'detroit', 'researching', 'noticed', 'wclass', 'sites', 'deice', 'whose', 'reading', 'invalid', 'log', 'norm', 'boslas', 'vabeatsjblue', 'router', 'fuselage', 'wedding', 'discounts', 'nonprofits', 'donate', 'cute', 'frequentflyer', 'fan', 'brands', 'trivia', 'creative', 'sorted', 'customerits', 'll', 'irina', 'flipside', 'eatup', 'cafe', 'assistants', 'mouth', 'kansas', 'kci', 'catching', 'basically', 'inferior', 'mergers', 'awake', 'laptop', 'logout', 'shocker', 'reminding', 'delta', 'those', 'takes', 'mileage', 'credited', 'useful', 'irresponsible', 'suitcase', 'fedup', 'disastrous', 'stretching', 'midnight', 'exhausting', 'bumping', 'ten', 'overbooked', 'aisles', 'evermoreroom', 'nonsense', 'cheap', 'competitor', 'cling', 'cdglas', 'wearing', 'flythefriendlyskies', 'guysi', 'rnodfw', 'tomorrowplane', 'amshould', 'froute', 'connect', 'if', 'lit', 'msy', 'crashing', 'accessing', 'kys', 'oscars', 'ar', 'combination', 'texting', 'despicable', 'diff', 'necessary', 'wind', 'xoxo', 'blackhistorymonth', 'singer', 'musician', 'blacklivesmatter', 'oversize', 'hardcase', 'golfbags', 'weight', 'guitars', 'instruments', 'pastmypatienceexpirationdate', 'bosclt', 'narrow', 'farmy', 'coverage', 'whatcustomerservice', 'below', 'encouraged', 'cpap', 'influx', 'bummer', 'predict', 'whether', 'value', 'ah', 'grasshopper', 'twitterz', 'kung', 'fu', 'hire', 'geeks', 'indeed', 'pittsburgh', 'drawing', 'crowd', 'notification', 'brother', 'girlfriends', 'grades', 'woulda', 'stepping', 'lifting', 'spirits', 'caned', 'performing', 'placedranked', 'century', 'puerto', 'rico', 'outbound', 'stranding', 'had', 'ignored', 'cover', 'inlaws', 'shortage', 'jose', 'co', 'path', 'railed', 'woke', 'barely', 'x__x', 'namesdallas', 'looong', 'relied', 'harder', 'tallahassee', 'gainesville', 'worrisome', 'ones', 'lying', 'rollaboard', 'wtw', 'grounds', 'gorgeous', 'handling', 'yearslate', 'maybeijustlost', 'whyyounoloveme', 'jeanine', 'excellent', 'lmk', 'curious', 'litter', 'singapore', 'saddens', 'texted', 'nightmare', 'served', 'vile', 'grossthe', 'survey', 'venezuela', 'slowest', 'abq', 'responsible', 'dude', 'shaquille', 'mild', 'poisoning', 'lhriah', 'families', 'argentina', 'sests', 'jacked', 'twitterdm', 'loose', 'em', 'airportsst', 'flexes', 'reverted', 'reliable', 'strangers', 'partnership', 'quite', 'dream', 'leadership', 'counts', 'nightdeplaned', 'motions', 'shortly', 'wonder', 'dime', 'awfully', 'mercy', 'disappearing', 'swamped', 'umm', 'unexpected', 'meaning', 'discrimination', 'regards', 'bounced', 'vp', 'custexp', 'jimmy', 'samartzis', 'surveyemail', 'undies', 'handing', 'comfort', 'profitability', 'clesfo', 'flightstart', 'ru', 'planehow', 'dualcam', 'eastern', 'crjs', 'airstairs', 'valet', 'anniversary', 'dontmakemebeg', 'sector', 'whereby', 'columbus', 'unserved', 'market', 'film', 'unbelieavle', 'unaccpetable', 'failback', 'centers', 'goodwill', 'bellagio', 'vinyl', 'zone', 'nine', 'precious', 'gems', 'animal', 'allergic', 'farelock', 'fake', 'integrate', 'systemsyouareonyourown', 'onboardalerted', 'socketyou', 'vouchersno', 'mi', 'essence', 'stagnant', 'listed', 'dfwno', 'speed', 'tks', 'psp', 'potus', 'main', 'dvr', 'insufficient', 'flightplease', 'unable', 'journal', 'broadway', 'decided', 'counted', 'snowboard', 'boot', 'standard', 'overall', 'italy', 'relatives', 'compensating', 'for', 'northern', 'california', 'coast', 'rubbish', 'multi', 'merged', 'int', 'intentionally', 'unsuitable', 'athletes', 'irony', 'spot', 'barking', 'cocktail', 'apologies', 'thrown', 'seevery', 'iflyswa', 'shanghai', 'slept', 'night_', 'income', 'feedback', 'speechless', 'smoothflight', 'unfriendly', 'pray', 'fyvrfn', 'tickt', 'registering', 'wk', 'delayedcancelled', 'nt', 'infuriated', 'previous', 'newsflt', 'towards', 'requirement', 'urged', 'atrocious', 'silver', 'tx', 'jfksea', 'core', 'config', 'only', 'cry', 'choice', 'nixchangefees', 'redsox', 'side', 'catsanddogslivingtogether', 'overweight', 'restroom', 'sink', 'hand', 'sanitizer', 'insensitive', 'foodallergies', 'lifethreatening', 'unsolicited', 'uneducated', 'opinions', 'reckless', 'dangerous', 'tryna', 'protocols', 'surprisingly', 'moving', 'slower', 'customerservicefail', 'modify', 'daysits', 'dehydrated', 'sigh', 'pref', 'alt', 'refuel', 'announces', 'announcement', 'els', 'shall', 'thrilled', 'publicly', 'unitedfail', 'eu', 'charges', 'reasonable', 'picks', 'voicemail', 'falling', 'itscostingmeincome', 'performance', 'leverage', 'bullshit', 'selfie', 'stick', 'goingtovegas', 'claimed', 'corp', 'spirit', 'letitgo', 'flightledtried', 'everytime', 'paperwork', 'starts', 'failingyourcustomer', 'sincerely', 'patience', 'indy', 'felt', 'albuquerque', 'nm', 'usa', 'cebu', 'philippines', 'educational', 'pleasehelp', 'whenitsnowsitpours', 'tgcyalate', 'newyork', 'viracopos', 'gj', 'affiliate', 'uncomfortable', 'comfortable', 'ripoffquick', 'unemployment', 'clog', 'alreadycrowded', 'vegetarianproblems', 'tropic', 'pedro', 'belize', 'elected', 'appointed', 'hacks', 'dig', 'heels', 'novel', 'zccu', 'advance', 'gf', 'contacting', 'sincere', 'airlinehave', 'shopping', 'dinner', 'controllove', 'unhappycustomer', 'mytimeismoney', 'rebooting', 'dispatch', 'entitled', 'per', 'yr', 'rights', 'sister', 'manner', 'button', 'greyed', 'facing', 'ricdfw', 'regret', 'preparation', 'depending', 'model', 'div', 'unless', 'anyhelp', 'throw', 'conveyer', 'ladies', 'gents', 'connector', 'lagging', 'stream', 'liza', 'raleigh', 'helpbeen', 'divadapouch', 'aka', 'thepoopqueen', 'haul', 'europe', 'defiantly', 'scoop', 'gives', 'phltolas', 'receipts', 'presidential', 'departs', 'programmers', 'bot', 'signal', 'dumb', 'dcagthpn', 'prof', 'takerswe', 'minnow', 'mvmt', 'tea', 'crewmembers', 'notch', 'inbox', 'strong', 'mideast', 'ruining', 'communications', 'intl', 'hv', 'wounded', 'vet', 'chi', 'healing', 'flightst', 'catch', 'rewards', 'ment', 'quoting', 'effective', 'dynamite', 'placed', 'premium', 'cardholder', 'hangup', 'meagan', 'fouty', 'brancato', 'preboard', 'wkids', 'sync', 'disgusted', 'jeff', 'smisek', 'disloyal', 'workers', 'planning', 'meals', 'fell', 'relate', 'gassing', 'brought', 'laxewr', 'steering', 'wilmington', 'mosaic', 'perks', 'helpgot', 'awhile', 'foot', 'fd', 'sickcrew', 'hide', 'self', 'annoying', 'reachable', 'itwhy', 'cont', 'eps', 'killing', 'compared', 'peanuts', 'tarmack', 'elm', 'gogo', 'boatstyle', 'swivel', 'cup', 'dietcoke', 'happyflier', 'mold', 'filthyplane', 'hopeidonotgetsick', 'raeann', 'sf', 'epicfail', 'sweethearts', 'companions', 'lifetime', 'sons', 'allows', 'harass', 'mistakefurious', 'spam', 'larry', 'david', 'positive', 'communicateor', 'oranything', 'ignoring', 'imagined', 'stubbornly', 'manage', 'delayshandling', 'ohead', 'causing', 'ep', 'revenue', 'excruciatingly', 'exception', 'addressed', 'rule', 'research', 'buddy', 'youcouldntmakethis', 'brokenwheel', 'yup', 'knowledge', 'scanned', 'remove', 'bin', 'overflight', 'watered', 'bottles', 'besides', 'rudeness', 'deficiency', 'blocked', 'dming', 'forum', 'reaching', 'fixed', 'remain', 'sdf', 'robbed', 'higher', 'sameday', 'pooling', 'gifting', 'drone', 'notwheelsup', 'receiving', 'tail', 'winds', 'jump', 'sea', 'disconnects', 'quickie', 'midght', 'fkn', 'panam', 'green', 'sarah', 'stocker', 'mech', 'housing', 'stt', 'readily', 'dot', 'hkg', 'standing', 'hmm', 'globe', 'remembers', 'lame', 'excusegeez', 'coffeeneeded', 'whiskey', 'remembering', 'iceland', 'sheer', 'reigning', 'gd', 'were', 'njb', 'capture', 'pleased', 'deicing', 'waitstill', 'delayedno', 'remembered', 'ordseriously', 'seeks', 'balance', 'highway', 'decision', 'ops', 'pushed', 'adore', 'dal', 'daily', 'ftmyers', 'midland', 'lubbock', 'suppose', 'yayayay', 'severe', 'inquire', 'elderly', 'planefirstclass', 'concrete', 'bench', 'fat', 'yummy', 'fella', 'pacific', 'superb', 'raving', 'stress', 'weatherrelate', 'glitches', 'interesting', 'connectors', 'twa', 'prom', 'loudspeaker', 'bourbon', 'quiet', 'savethediagonals', 'began', 'trvl', 'turbulence', 'conection', 'bro', 'tul', 'partial', 'refunddm', 'by', 'looked', 'promotions', 'regularly', 'stuckinmemphis', 'texasisclosed', 'hits', 'sleekmoney', 'southworst', 'staying', 'measly', 'ecertificate', 'achieving', 'miracle', 'fingerscrossed', 'pleasegod', 'missmykids', 'wakes', 'assign', 'whatd', 'sylvie', 'yourock', 'jetbluerocks', 'overloaded', 'corporation', 'nasdaqjblu', 'markets', 'bureau', 'ruins', 'hopes', 'dreams', 'curb', 'draft', 'thanksm', 'unavailable', 'why', 'strollers', 'costs', 'restrictions', 'stroller', 'fifth', 'persistence', 'disturb', 'dl', 'movie', 'synergy', 'spotty', 'stressors', 'wour', 'tacky', 'rebookplease', 'joanna', 'stressful', 'lesson', 'shame', 'wheel', 'impaired', 'jetblueanyone', 'pissing', 'thousands', 'processed', 'hops', 'jumped', 'reboarded', 'aye', 'tisk', 'hourdelay', 'multipledooropeningandclosing', 'dangerofgettingsnowedin', 'yrs', 'supvrs', 'nudgenudge', 'slots', 'exits', 'disney', 'travelproblems', 'bothered', 'selecting', 'rang', 'vendor', 'constantly', 'southwestluv', 'ouch', 'qro', 'alwaysdelayed', 'pitiad', 'writers', 'hosting', 'pjs', 'does', 'lile', 'upstate', 'walk', 'metal', 'opens', 'robocalls', 'flightation', 'acknowledgment', 'todaygiving', 'embarrassing', 'complimentary', 'drinksnack', 'detailed', 'suggested', 'opaque', 'basic', 'sneaky', 'jacksonville', 'parentsonboard', 'happyflight', 'irmafromdallas', 'technical', 'passing', 'buck', 'narrower', 'bloated', 'doll', 'laflying', 'consideration', 'flightn', 'fend', 'runaround', 'earnedmybusiness', 'cowardly', 'guatemala', 'clothing', 'convinced', 'forecast', 'monfr', 'outsourcing', 'advised', 'downhill', 'ran', 'costumerservice', 'legit', 'jk', 'weathercall', 'outofbusiness', 'returns', 'continue', 'regardless', 'hint', 'volume', 'dmstill', 'waitingso', 'aafail', 'bradley', 'realized', 'upcoming', 'west', 'fing', 'selling', 'loans', 'valentine', 'flowerssmfh', 'directional', 'dislexia', 'radio', 'yay', 'ltltltltltlt', 'mikehertzcom', 'nofun', 'understandable', 'canthurtasking', 'comenity', 'recorded', 'tedious', 'vote', 'jetways', 'planepisspoor', 'feels', 'steaming', 'holler', 'subsequent', 'similar', 'intended', 'peer', 'laura', 'shortlycb', 'wonderfully', 'equally', 'satisfaction', 'mistreated', 'pwm', 'notes', 'shout', 'redheaded', 'chs', 'filmcrew', 'photography', 'cameragear', 'bonus', 'flowers', 'phlcrw', 'snack', 'steward', 'names', 'stated', 'citizen', 'nerdbird', 'nerd', 'businessfirst', 'chill', 'ithica', 'tshirt', 'burn', 'warmth', 'domestic', 'transport', 'apps', 'construction', 'os', 'category', 'dildo', 'responds', 'wedontcarebecauseyoupaidalready', 'offenders', 'conversational', 'cluster', 'exiting', 'pita', 'inedible', 'delicious', 'shrimp', 'oneworld', 'endless', 'redirect', 'abysmal', 'warmer', 'rad', 'thtimemonthsold', 'nonstops', 'pbi', 'carrieunderwood', 'stall', 'taxi', 'inconvenience', 'oldseatnocushion', 'worstflight', 'nohelponboard', 'lgabwi', 'easier', 'sapphire', 'reissued', 'sympathy', 'safer', 'avoid', 'incurring', 'relationship', 'thus', 'reimburse', 'flightledthor', 'paulo', 'hearing', 'msgs', 'fiance', 'charleston', 'justify', 'customs', 'abassinet', 'grace', 'powers', 'themed', 'angelo', 'outstanding', 'bless', 'medically', 'iwas', 'upgrd', 'amsound', 'strikes', 'strongly', 'ordeal', 'appreciates', 'marriage', 'abuse', 'overcharge', 'privilege', 'ac', 'nofunatall', 'frontrunner', 'impossibly', 'lesscustomer', 'carol', 'thrower', 'fort', 'convenient', 'seeing', 'contaced', 'eyewitness', 'ripoff', 'idols', 'sooooo', 'amen', 'punished', 'ranked', 'transferring', 'contributiontopool', 'reviewed', 'nada', 'wichita', 'falls', 'pressed', 'staffer', 'threatened', 'planing', 'outage', 'often', 'orbitz', 'blasting', 'honeymooni', 'bride', 'getmeoffthisbird', 'dulles', 'ijustwanttobeinboston', 'thanksdc', 'fitz', 'bwibos', 'web', 'releasing', 'september', 'lbb', 'tripofalifetime', 'starving', 'itpretend', 'theyre', 'interested', 'vouchermiles', 'reciprocate', 'flightchange', 'hoops', 'watching', 'daytona', 'boss', 'driver', 'hospitals', 'badmgmt', 'payton', 'taylor', 'luvin', 'paypal', 'covering', 'range', 'patiently', 'fri', 'agentwhats', 'carriers', 'triple', 'looped', 'sight', 'okc', 'offeringat', 'mysteriously', 'yow', 'flgt', 'motel', 'capability', 'spread', 'salt', 'sass', 'bf', 'exicted', 'ticketed', 'sched', 'dpt', 'burning', 'illegal', 'bluetiful', 'lifeneedsfrosting', 'kj', 'dnxv', 'sudden', 'timed', 'outgetmeoutofhere', 'xweekly', 'apr', 'connected', 'passport', 'debating', 'expedient', 'sec', 'deciding', 'maneuver', 'highlight', 'bumper', 'cough', 'awkward', 'vows', 'smoothtransition', 'serv', 'unaware', 'disgraceful', 'enroll', 'gladly', 'kelly', 'draws', 'lgagtdal', 'loads', 'nocustomerservice', 'playing', 'seek', 'begins', 'bull', 'brothers', 'panamerican', 'championship', 'columbia', 'race', 'screws', 'connectns', 'hotl', 'fran', 'fall', 'backtodelta', 'reinstate', 'library', 'nicest', 'dividendsmember', 'inoperable', 'pittsburg', 'honoring', 'rate', 'reserv', 'brutal', 'nvm', 'finest', 'prevented', 'advising', 'winnipeg', 'tightconnection', 'neither', 'aim', 'ksml', 'suggests', 'cert', 'assume', 'chose', 'sensitive', 'dmqf', 'antonio', 'costumers', 'dozen', 'companionpass', 'decide', 'throwing', 'wrench', 'thatd', 'rack', 'perfect', 'latte', 'nov', 'kin', 'firefox', 'turns', 'gray', 'submits', 'hahayeah', 'park', 'dispute', 'dec', 'released', 'yuma', 'stlaus', 'happycustomer', 'prompted', 'initial', 'retrieve', 'errors', 'proof', 'stmt', 'comedy', 'incl', 'getyouracttogether', 'beans', 'swapping', 'ont', 'disapptment', 'ph', 'pat', 'autoreflight', 'continually', 'painfully', 'inexperienced', 'mci', 'tick', 'type', 'chart', 'respondingmy', 'utevgw', 'hartford', 'cramming', 'planeno', 'exhorbitantfees', 'grandcanyon', 'jb', 'overchging', 'bg', 'herded', 'cattleslaughter', 'triedits', 'immediate', 'refuses', 'characters', 'purchased', 'flightmarch', 'acquire', 'distance', 'ud', 'chnge', 'retrn', 'pickng', 'phoneonly', 'quote', 'jetbluefail', 'north', 'ins', 'age', 'giggled', 'goodgenes', 'ilookyoung', 'male', 'removes', 'tripping', 'version', 'reluctant', 'chicagothanks', 'deane', 'norma', 'sedholm', 'alist', 'wifiless', 'hints', 'rearrange', 'wnothing', 'eh', 'survive', 'breaking', 'circulation', 'advice', 'segments', 'gnv', 'ctl', 'affordable', 'happycamper', 'wth', 'displays', 'destroyed', 'massive', 'played', 'winterstorm', 'browsers', 'continues', 'heated', 'temp', 'itscold', 'nogood', 'faith', 'forth', 'savannah', 'highest', 'extend', 'nuts', 'addressusername', 'signon', 'nc', 'pos', 'conversations', 'worstcustomerserviceever', 'valid', 'occurred', 'prank', 'direction', 'ric', 'pleeeeease', 'pits', 'usexpresspsa', 'sche', 'genious', 'redirected', 'exclusive', 'cash', 'resume', 'dons', 'honestly', 'sine', 'mdwgtmem', 'suspended', 'prchase', 'retailer', 'keepmy', 'force', 'shock', 'halfway', 'roundtrips', 'chief', 'cousin', 'espinosa', 'patricia', 'sway', 'mp', 'player', 'usage', 'tpa', 'atx', 'transactional', 'overcharged', 'valentinesday', 'clever', 'loveisintheair', 'whatever', 'bcn', 'wc', 'shared', 'taste', 'worlds', 'largest', 'heaven', 'aussie', 'cowgirl', 'lookin', 'cowboy', 'estelle', 'damages', 'complex', 'pulldown', 'suboption', 'formsmaddening', 'wens', 'tomorro', 'rollercoaster', 'bqn', 'tablet', 'swair', 'tortured', 'assisted', 'y', 'instagram', 'rant', 'accounts', 'satisfactory', 'hepl', 'rsw', 'define', 'incidentals', 'attempting', 'lasfllsju', 'letsgo', 'dirty', 'iceday', 'requires', 'federal', 'laws', 'truth', 'wastedtime', 'flightly', 'confusion', 'fistfights', 'crashed', 'hotlanta', 'coin', 'rubs', 'wasnt', 'ship', 'usairwaysfflyer', 'stayed', 'affected', 'virgins', 'apathy', 'toward', 'dallasraisenow', 'spf', 'noreplycom', 'filters', 'dns', 'admin', 'among', 'ardent', 'poughkeepsie', 'checkinout', 'marriott', 'boat', 'oregon', 'womens', 'tennis', 'barbara', 'supposedly', 'iv', 'onehouronhold', 'eager', 'vision', 'seasonal', 'sept', 'charter', 'cuba', 'wires', 'dallasairporti', 'clewould', 'inclusion', 'guests', 'begin', 'swadiversity', 'solid', 'length', 'nowhereland', 'asleep', 'understands', 'srv', 'devices', 'bottom', 'heartdestinationdragons', 'choices', 'equal', 'lowest', 'hah', 'hahahah', 'flyingflighttravel', 'nantucket', 'junsep', 'inventory', 'quality', 'physically', 'period', 'doctors', 'offices', 'bademployeeproblem', 'identical', 'needtobehonest', 'repurchased', 'they', 'recieved', 'been', 'everythings', 'brothaaaaaa', 'chibuf', 'miamiphl', 'ordgtcdg', 'attached', 'indianapolis', 'girlfriend', 'ideas', 'idiotic', 'consult', 'memorial', 'justifythissupport', 'guysfor', 'tweeted', 'selfies', 'va', 'deadhead', 'copa', 'competing', 'amtrak', 'refunds', 'retired', 'chrishasmadeusblush', 'trending', 'lmfaooooo', 'comedian', 'stage', 'nexus', 'firefighters', 'document', 'difficulties', 'dates', 'honeymoon', 'cap', 'pet', 'saga', 'ohio', 'horror', 'lh', 'pqd', 'ruiningmy', 'hunkydory', 'nigga', 'play', 'lovegratitudempower', 'werin', 'vipswagbags', 'avalonhollywood', 'j', 'waiver', 'committed', 'continentalairlines', 'communicationfail', 'earlybirdmeansnothing', 'cp', 'noooooooooooooooooooooope', 'rmoug', 'recheduled', 'helloare', 'phf', 'cri', 'mission', 'accomplished', 'hug', 'ticketh', 'trvlno', 'wifimissed', 'con', 'fltnext', 'onehmissed', 'voucherhotel', 'chkoutfltno', 'wifihotel', 'unveils', 'threehourslate', 'gap', 'intro', 'heel', 'clicks', 'pastor', 'homeschool', 'spirited', 'prefundia', 'evaluate', 'rubber', 'pasta', 'sauce', 'tastes', 'consumption', 'characterize', 'shouldve', 'concept', 'ohand', 'giants', 'fligt', 'thanku', 'vacate', 'findanothergate', 'burden', 'where', 'trick', 'wellplayed', 'jokesonus', 'hopped', 'winwin', 'amy', 'lloyd', 'zurich', 'pr', 'bettween', 'creating', 'iti', 'themon', 'crackerjack', 'ensure', 'chocolate', 'melting', 'compliments', 'goingforgreatnessfail', 'navy', 'sisters', 'cancld', 'discnctany', 'jburg', 'warehouse', 'facepalm', 'redcarpet', 'beating', 'apron', 'graders', 'science', 'project', 'loves', 'bogothouston', 'inhumane', 'key', 'reconsidering', 'ordealsigh', 'oki', 'unfollowing', 'expiration', 'unused', 'claudia', 'duped', 'availability', 'overtime', 'undelay', 'airplanes', 'extenuating', 'recovered', 'explains', 'someones', 'downtown', 'empathy', 'chosen', 'decisions', 'burbank', 'recording', 'apt', 'phantom', 'apeared', 'pvd', 'smallest', 'smoothest', 'toilets', 'vacay', 'playa', 'del', 'carmen', 'occupied', 'weighs', 'fullfare', 'gsa', 'helpthanks', 'spontaneously', 'bestairlineever', 'sxmclt', 'deplaning', 'missedconnection', 'forcedovernight', 'lodgingfood', 'volunteers', 'serve', 'peanutsnuts', 'confusing', 'contradictory', 'anaphylaxiswill', 'refrain', 'counterparts', 'negative', 'amateurs', 'hotspot', 'lands', 'serviceopen', 'rip', 'wresos', 'associated', 'myyb', 'clarita', 'jaramillo', 'mejia', 'dulleswe', 'onmultiple', 'saving', 'altonbrownlive', 'sohappy', 'glamco', 'ta', 'picking', 'travelocity', 'rolling', 'crated', 'wouldbe', 'pets', 'test', 'yesso', 'hawaiian', 'schoolgirl', 'typing', 'blacklist', 'alan', 'lve', 'wopen', 'nxt', 'frequency', 'xday', 'furious', 'avb', 'xw', 'embossed', 'badges', 'patches', 'superior', 'figured', 'morrow', 'oil', 'low', 'compd', 'prfriendly', 'accountability', 'mr', 'hayes', 'central', 'wonked', 'css', 'stating', 'regular', 'aeroport', 'firstclass', 'cockup', 'tulsanot', 'servicelooks', 'gif', 'six', 'wlil', 'wu', 'equip', 'flamethrowers', 'plow', 'showed', 'overbookedgng', 'destfeel', 'bec', 'returning', 'policyfees', 'forgotten', 'fkqw', 'approved', 'pic', 'irritated', 'dumped', 'stacey', 'detailsno', 'taiwan', 'numbers', 'sukhdeep', 'donut', 'designer', 'channels', 'robin', 'anni', 'replaced', 'itinerary', 'unsure', 'pointed', 'oreos', 'obscene', 'principle', 'mugged', 'wrongiswrong', 'loses', 'ive', 'tsanightmare', 'oversleeping', 'uncontrollable', 'irregularity', 'eligible', 'pid', 'invited', 'annoyed', 'temporary', 'grr', 'geg', 'overheating', 'hourslove', 'stars', 'bars', 'mobil', 'transferable', 'minenow', 'rectified', 'stunned', 'acceptable', 'cos', 'nondelayed', 'na', 'amount', 'internationally', 'ideal', 'sittin', 'doubtful', 'gvn', 'xna', 'gottogetbetter', 'fresh', 'tpadfwlax', 'orthodoc', 'oncall', 'advantage', 'foodnot', 'bite', 'historical', 'azzf', 'waitlisted', 'lmao', 'latrice', 'existent', 'inappropriately', 'de', 'perfectly', 'fml', 'communicationcompetition', 'august', 'trapped', 'unitedworstever', 'trappedhouston', 'insure', 'fricken', 'responsibilityamp', 'pleading', 'crackers', 'extraordinaire', 'seau', 'fong', 'boise', 'freezing', 'allowable', 'carrie', 'justifiable', 'conveniently', 'writing', 'transports', 'adjustment', 'valuable', 'lugging', 'carryons', 'beats', 'music', 'albums', 'complainers', 'inperson', 'robyn', 'manch', 'daystogo', 'estimated', 'nsw', 'wholly', 'portfolio', 'tonite', 'scan', 'halfthought', 'road', 'srq', 'amazingly', 'todaychecked', 'flighttold', 'nonexistent', 'midb', 'stellar', 'bestinclass', 'takemehome', 'calgary', 'russell', 'daiber', 'eco', 'airserv', 'contractors', 'calamity', 'leisure', 'highly', 'uniform', 'seductive', 'hiremorepeople', 'chase', 'celebrates', 'injuries', 'crash', 'wanting', 'trite', 'condescending', 'platitudes', 'layout', 'kiosksbag', 'definition', 'flyus', 'michael', 'terriblecustomerservice', 'incompetency', 'tough', 'meaningful', 'possibility', 'wouldnt', 'penalized', 'packing', 'lightly', 'departuredealing', 'tags', 'honored', 'backpack', 'cop', 'heart', 'review', 'telephone', 'inadequate', 'misplace', 'cincy', 'answerthephone', 'gently', 'placing', 'whipped', 'cream', 'arkansas', 'gov', 'governor', 'legalizes', 'lgbtcan', 'lend', 'voice', 'boycott', 'wx', 'my', 'vocab', 'rid', 'hip', 'stations', 'sirius', 'xm', 'as', 'unprofessionally', 'uncalled', 'cyndi', 'troy', 'groupa', 'honey', 'moon', 'stairs', 'distances', 'grounded', 'whereabouts', 'greeeaat', 'followdm', 'waitabout', 'perhr', 'bye', 'arrangements', 'preferred', 'wrote', 'evoucher', 'ftl', 'pizza', 'absoulutely', 'heavy', 'stockhouse', 'communicate', 'newarkliberty', 'indicate', 'terminals', 'aampc', 'flyingainteasy', 'shaky', 'standbye', 'potential', 'doom', 'noone', 'typo', 'en', 'mailing', 'ontario', 'shuttle', 'therefore', 'reversed', 'bereavement', 'seatback', 'tokyonarita', 'mkt', 'strategy', 'whathappend', 'devalued', 'darrel', 'entertain', 'rapid', 'lr', 'stats', 'deli', 'customerservicenot', 'callnow', 'hourswhat', 'tomorrowwould', 'ctg', 'lft', 'pictures', 'approach', 'wendi', 'disrespectful', 'surgeryhelp', 'convo', 'amypoehler', 'oscar', 'wheresthepilot', 'alive', 'band', 'consumermarketing', 'nassau', 'android', 'fiasco', 'outward', 'qantas', 'laxsyd', 'challenges', 'dvt', 'addtl', 'bizarre', 'bonuses', 'elevate', 'terror', 'angrycustomer', 'linked', 'oops', 'valuables', 'medication', 'daysampapologise', 'appalling', 'once', 'lord', 'supporting', 'padresst', 'keepitup', 'abroad', 'livewelltraveled', 'sytycd', 'sfogtsna', 'infinity', 'maltese', 'puppy', 'countingthanks', 'tyr', 'crewnow', 'outta', 'mebe', 'mikes', 'ewrord', 'ordywg', 'ct', 'connex', 'goal', 'pulls', 'footrest', 'shelf', 'target', 'stafford', 'yroldtwins', 'published', 'indicates', 'irreplaceable', 'milestone', 'repaid', 'vegan', 'noodles', 'peas', 'zukes', 'nonvegan', 'yogurt', 'shades', 'windows', 'handlers', 'catered', 'thankfully', 'wayi', 'fear', 'youd', 'cater', 'op', 'integration', 'words', 'soooo', 'barcodes', 'mid', 'psgrs', 'kicked', 'baejet', 'amirite', 'hectic', 'actions', 'represent', 'imo', 'transactions', 'league', 'yell', 'devs', 'compatible', 'manually', 'exeu', 'haulba', 'intraeu', 'jbi', 'squished', 'sprint', 'kewl', '_', 'pretzels', 'toll', 'betty', 'ilm', 'uncles', 'considerate', 'oaaret', 'bridge', 'temps', 'netneutrality', 'prioritize', 'winks', 'adolfo', 'garcia', 'strandedinnashville', 'kurt', 'hooray', 'yeseniahernandez', 'peculiar', 'throughout', 'whoever', 'contract', 'honour', 'closing', 'plebes', 'lower', 'floridavacation', 'thatbut', 'manners', 'decency', 'youyou', 'recommendation', 'continued', 'senseless', 'woase', 'winterops', 'michele', 'rocked', 'hou', 'unmonitored', 'deicer', 'dep', 'laxiad', 'learning', 'famous', 'asset', 'mitchell', 'tweetin', 'doin', 'anythin', 'wiser', 'ray', 'choppiest', 'feed', 'whiplash', 'americanairlinesfail', 'iwantmymoneyback', 'verification', 'emerging', 'leader', 'development', 'entirely', 'smelly', 'allrepresentativesbusy', 'nooption', 'xtra', 'donotflyusair', 'registers', 'interest', 'pulse', 'remotely', 'humour', 'troubleshoot', 'confidence', 'npbhd', 'restaff', 'commence', 'convince', 'psychological', 'tricks', 'colors', 'confirming', 'cali', 'loyalmosaicmember', 'abc', 'missingtheoscars', 'capt', 'smoothie', 'nght', 'flightedmechprobs', 'flightedsnow', 'cls', 'filmjobnoequipment', 'nowarmclothes', 'el', 'paso', 'dealsmay', 'amid', 'hassle', 'rejected', 'dozens', 'arvls', 'custs', 'wcancelled', 'connects', 'irrops', 'nasty', 'floors', 'cleaned', 'winkwink', 'pressurization', 'pounding', 'blame', 'takeresponsibility', 'misplaced', 'crabby', 'earlybird', 'aggravating', 'gah', 'disorganised', 'kisses', 'snacksthank', 'delight', 'lightning', 'anotherdisappointment', 'datetime', 'hangar', 'gmas', 'flydelta', 'strandedattheairport', 'flightua', 'prison', 'reminded', 'abcletjetbluestreamfeed', 'guinea', 'pigs', 'stuckon', 'expanding', 'suicide', 'leading', 'teens', 'reimbursed', 'costing', 'infrastructure', 'horrid', 'massivefail', 'failphone', 'resolving', 'teamim', 'flightattendant', 'dreampath', 'g', 'enjoying', 'historically', 'lifeline', 'worldhungry', 'moderate', 'timejust', 'eta', 'allright', 'include', 'actualy', 'situationsyour', 'hostel', 'fakesnow', 'vmail', 'techcontd', 'frontend', 'backend', 'idiot', 'armrest', 'remote', 'resting', 'elbows', 'mix', 'seatmate', 'drinking', 'discontinue', 'own', 'travelhelp', 'jokers', 'reputation', 'southwestfail', 'jetblueblues', 'cltgtsfo', 'desert', 'basket', 'tears', 'community', 'inspiring', 'screwing', 'tomorrowhelp', 'tsaprecheck', 'inpolite', 'chiberia', 'unreliable', 'nakedmeetings', 'deter', 'storage', 'latter', 'penguin', 'incompetentrude', 'untd', 'comps', 'conffvfyw', 'swrr', 'countingphoto', 'responses', 'consistency', 'citing', 'faa', 'timeswitch', 'wouldve', 'empl', 'greatjob', 'hogs', 'other', 'collectively', 'auh', 'gooutofbusiness', 'neverchange', 'uninformed', 'unapologetic', 'nolove', 'peace', 'outtage', 'affecting', 'issuesmy', 'delayedconnection', 'menow', 'nycjfk', 'mountains', 'francisco', 'ahhhh', 'goldsapphire', 'yer', 'nycgtpdx', 'nycgtpghwish', 'realize', 'comfortably', 'civilized', 'yellow', 'because', 'unserviceable', 'squashed', 'miatoiah', 'eternally', 'grateful', 'newflight', 'pordes', 'chillycvz', 'thankgoodness', 'sunshine', 'trafficfuel', 'voucherconfirmation', 'daniel', 'grumpy', 'sydney', 'wrecked', 'destinationdragon', 'fra', 'dmangencom', 'clues', 'duke', 'hat', 'mason', 'locating', 'mammoth', 'troubling', 'skip', 'flgjt', 'gso', 'entered', 'cst', 'reposting', 'autoresponse', 'imateacher', 'neptunewaivethefee', 'bosgtlas', 'permanently', 'resourcesratings', 'inop', 'abbreve', 'deactivated', 'deactivate', 'cstsvc', 'honors', 'rcd', 'particularly', 'hungry', 'vegetarian', 'shrug', 'assaulted', 'unprepared', 'unsympathetic', 'lacked', 'solutions', 'advisories', 'toronto', 'thng', 'responsibility', 'contactless', 'emv', 'testing', 'joking', 'proportion', 'significantly', 'representatives', 'helpunitedsucks', 'spends', 'stranger', 'randomactsofcorporategreed', 'logistics', 'india', 'mumbai', 'surat', 'navimumbai', 'fixedcertain', 'tracks', 'loud', 'mashing', 'tones', 'themestimated', 'goods', 'flexible', 'koalax', 'squeaks', 'shift', 'intent', 'queries', 'journey', 'straighten', 'before', 'neglect', 'cunewr', 'bone', 'preselect', 'sfogtyyz', 'unrivalled', 'onestop', 'yearround', 'causes', 'trial', 'assuming', 'boy', 'himy', 'relieved', 'neighboring', 'bitch', 'envoys', 'envoy', 'strange', 'pri', 'active', 'opsec', 'harf', 'iraiq', 'jobs', 'soaked', 'suitcases', 'cramped', 'craziness', 'ahem', 'parking', 'garage', 'displeased', 'moments', 'baggages', 'popping', 'patiencerunningout', 'cltbna', 'measles', 'outbreak', 'bands', 'predicted', 'understatement', 'courteous', 'span', 'daysnone', 'un', 'fin', 'believable', 'girls', 'becoming', 'woaw', 'lb', 'surfboardbag', 'damion', 'damionflight', 'airbus', 'dark', 'tries', 'buying', 'unaccompanied', 'minors', 'refreshes', 'checkouterror', 'increased', 'dounotwantmybusiness', 'rolemodel', 'finger', 'excuses', 'oversized', 'enforce', 'ticketi', 'betting', 'mths', 'ivr', 'unclear', 'thanksare', 'various', 'requests', 'premiere', 'ber', 'replacing', 'jul', 'fsqthg', 'servicefail', 'onholdforever', 'suboptimal', 'shiver', 'forevercold', 'gent', 'headphones', 'eticket', 'empathize', 'capitalized', 'lowercase', 'dms', 'liars', 'posts', 'fullyear', 'net', 'profit', 'totallyconfused', 'happybirthday', 'rising', 'aruba', 'vallarta', 'athlete', 'nogearnotraining', 'tic', 'pleasure', 'individual', 'privileges', 'entry', 'perform', 'dwell', 'encouragement', 'guessing', 'stole', 'camera', 'trash', 'snowforce', 'workout', 'inconsiderate', 'retroactively', 'flightsmilespoints', 'wide', 'concerns', 'enterprise', 'aggressive', 'obnoxious', 'recourse', 'bgr', 'interchangeably', 'ws', 'chairman', 'flailing', 'nvr', 'coffeemaker', 'coma', 'tovery', 'followers', 'maintained', 'exchangecredit', 'shadier', 'white', 'nines', 'escorted', 'prebooked', 'dissatisfaction', 'und', 'welldone', 'getconnected', 'madness', 'youdo', 'prize', 'sba', 'combine', 'chef', 'beauty', 'miguel', 'allende', 'awards', 'herman', 'ambassador', 'inconveniences', 'ordlga', 'yousuck', 'frankcom', 'whoooo', 'hooooo', 'pace', 'knowhockey', 'sticks', 'outsource', 'airlinesyour', 'dublin', 'jam', 'compassion', 'cxed', 'nev', 'flawless', 'blueheros', 'inconvenienced', 'unexplained', 'young', 'tb', 'rocking', 'tim', 'mcgraw', 'tom', 'sandwiches', 'notfriendly', 'repeat', 'idk', 'transfers', 'downstairs', 'elise', 'joined', 'stepitup', 'doing', 'bafore', 'burst', 'jh', 'homegirl', 'xmost', 'stopclaim', 'improves', 'angryairtravel', 'professionals', 'higgs', 'boson', 'bitchy', 'avis', 'surveying', 'mentioning', 'owner', 'mortified', 'acted', 'lacks', 'nervous', 'spell', 'trusted', 'gobankrupt', 'classy', 'tke', 'flierfriendly', 'maybemange', 'alittlebetter', 'howisthatpossible', 'agreed', 'nothini', 'nothin', 'bout', 'ghettofab', 'gang', 'hacked', 'flaw', 'discontinued', 'dance', 'wasteoftime', 'stupid', 'methods', 'debit', 'billmelate', 'secret', 'beaches', 'handed', 'slip', 'paperampsaid', 'airporthave', 'disregard', 'slowly', 'nothings', 'idiots', 'unnecessarily', 'bnasnow', 'holds', 'bulkhead', 'andor', 'missin', 'hooked', 'tofrom', 'cll', 'angel', 'cathy', 'hooking', 'exasperating', 'undergoing', 'rockies', 'airplanemodewason', 'owed', 'flycould', 'flightsairports', 'bwiewrmco', 'delacy', 'compassionate', 'priorities', 'cb', 'ratepolicy', 'dtw', 'rainsleet', 'hearts', 'flex', 'workforces', 'redeye', 'nonrefundable', 'globalfc', 'selects', 'wupgrade', 'baltimore', 'offwish', 'serenitynow', 'squawked', 'lied', 'beg', 'ottawa', 'cnn', 'nbc', 'explore', 'meseems', 'ongoing', 'remaining', 'hitawall', 'unusable', 'usairwaysfailscustomers', 'thrueverything', 'clothessuit', 'chaos', 'abounds', 'parentthey', 'pqm', 'obvious', 'recruiting', 'postpone', 'proactive', 'mag', 'shoulder', 'selectionchange', 'grandfather', 'hired', 'getmorehands', 'lazy', 'accessibility', 'equality', 'omaha', 'grandmothers', 'grandma', 'greedy', 'foolish', 'rampers', 'crashes', 'action', 'solving', 'skiing', 'jorge', 'combative', 'hury', 'vastly', 'seg', 'haydensteamboat', 'hdn', 'complains', 'overflowed', 'toilet', 'plumber', 'static', 'aside', 'inaccurate', 'manifests', 'would', 'how', 'bright', 'snag', 'diamond', 'earring', 'dayjustgotworse', 'mintyfresh', 'lostbags', 'invoices', 'approx', 'firevan', 'classes', 'presceo', 'gary', 'therofo', 'addressing', 'painless', 'effortless', 'tory', 'tailwinds', 'ans', 'channel', 'scandal', 'arrange', 'queues', 'reclaim', 'entertained', 'gracias', 'lin', 'multimedia', 'detail', 'extravaganza', 'dobetter', 'assumed', 'standbys', 'preoccupied', 'flagging', 'observer', 'semester', 'slash', 'engagement', 'cooler', 'ctr', 'timerest', 'spots', 'areas', 'ragandisney', 'maddening', 'executive', 'fortunately', 'rtbgtiah', 'headaches', 'neighbors', 'smoking', 'cigarettes', 'qualifies', 'misfortune', 'connectfor', 'feces', 'sprinkled', 'icloud', 'bestfriend', 'smashed', 'giant', 'golfunited', 'pigeon', 'warn', 'beware', 'barklays', 'bookin', 'sfopdx', 'monica', 'marshaled', 'seatstray', 'tables', 'sanitized', 'purifier', 'supp', 'neverflyvirginforbusiness', 'maimi', 'checkinbut', 'block', 'geeeeezzzzz', 'pres', 'eqms', 'buys', 'predictable', 'acts', 'necessities', 'dies', 'ebola', 'omgee', 'onfleek', 'aunts', 'argument', 'butt', 'hurts', 'weekly', 'humans', 'monetary', 'destroying', 'lives', 'lively', 'expireswhy', 'nowmightmismybrosgraduation', 'competitors', 'preventative', 'saved', 'papers', 'negatively', 'affect', 'integrity', 'dang', 'teleportation', 'okyou', 'brussels', 'dating', 'upholding', 'pedophile', 'bosbna', 'rcvd', 'mph', 'jua', 'sisterampbrother', 'law', 'desperately', 'overflow', 'most', 'facts', 'deaffriendly', 'couldwanted', 'chrome', 'gangway', 'massages', 'estimate', 'unloaded', 'alternatives', 'pv', 'ummmm', 'airs', 'silence', 'golden', 'tops', 'fired', 'spvsr', 'sally', 'slapintheface', 'byebyeusairline', 'alicia', 'exceptionalservice', 'fendforyourself', 'repping', 'bruins', 'roll', 'hof', 'christmas', 'jetbluebruins', 'failover', 'logic', 'chge', 'searched', 'saver', 'misses', 'madhouse', 'yikes', 'feeyou', 'reopen', 'growing', 'backlog', 'compounded', 'jetbluemess', 'ski', 'spelled', 'twist', 'plot', 'unsecured', 'sys', 'condolences', 'paste', 'suddenintlcheckin', 'understaffing', 'duck', 'sacramento', 'minneapolis', 'resulted', 'rechecked', 'increments', 'wn', 'sansfo', 'brilliant', 'rita', 'impressedand', 'brushing', 'nny', 'hubby', 'kitties', 'countingdown', 'mentions', 'dump', 'tue', 'gesture', 'hero', 'donkey', 'cae', 'willmake', 'chkd', 'statusawaiting', 'asgmnt', 'yest', 'aircrft', 'difficulty', 'mouse', 'pad', 'specifics', 'depot', 'fjbfsc', 'amex', 'xx', 'londonfashionweek', 'lfw', 'everywhere', 'portion', 'impressive', 'roadmap', 'intelligent', 'embed', 'helpaa', 'hypocrisy', 'missedflight', 'junction', 'amazingflightcrew', 'mechanic', 'tool', 'absorber', 'nycgtbos', 'worstever', 'codeshare', 'owe', 'flutter', 'fullprice', 'harbor', 'favoriteairline', 'luvforsw', 'southwestair', 'carolinas', 'disappears', 'zrh', 'prepare', 'certainly', 'chilly', 'misspelled', 'exceptional', 'greatservice', 'professionalism', 'overpriced', 'sub', 'evolved', 'insider', 'trading', 'hill', 'slammed', 'advisoryreally', 'cloud', 'heyo', 'encountered', 'press', 'hella', 'fas', 'collect', 'mce', 'cruise', 'nola', 'dallasfort', 'gears', 'grinding', 'nonprofit', 'arc', 'rely', 'extractions', 'abducted', 'cheese', 'veggies', 'olives', 'onlineuseless', 'batman', 'speeds', 'insanely', 'pointless', 'mundane', 'qs', 'cots', 'roomsthat', 'scenes', 'noaccountability', 'followback', 'snowy', 'roads', 'ticketsforjax', 'qualify', 'dreadful', 'pretend', 'airspace', 'jkf', 'waitingcan', 'awheelchair', 'women', 'laugh', 'jvmchat', 'sapgtmia', 'teeming', 'morons', 'frigid', 'icyflight', 'labeled', 'occupy', 'musical', 'blizzue', 'hizouse', 'understanding', 'dcam', 'reallythey', 'ofi', 'wudda', 'communicated', 'luxury', 'spoiled', 'wcustomer', 'droped', 'rudest', 'fyicall', 'stilling', 'continuous', 'dialing', 'attempted', 'weatherbackup', 'goodgriefpeople', 'aadvantage', 'assurance', 'annnnnd', 'faail', 'disability', 'frontier', 'phonehung', 'onall', 'ideasshe', 'todayat', 'petition', 'silly', 'sittingonthetarmac', 'youi', 'spain', 'vieques', 'bossju', 'downgrading', 'ffstatusdontmatter', 'thenewaa', 'muscles', 'frown', 'flyin', 'thanx', 'rodeo', 'comm', 'violation', 'phoneonline', 'fifty', 'ooh', 'sourhwest', 'greed', 'fave', 'eservicecom', 'bgkwm', 'narayanan', 'tel', 'kul', 'owes', 'tammy', 'winstonsalem', 'unheard', 'happend', 'tagged', 'isp', 'frigidfriday', 'daysofhell', 'detailsu', 'costarica', 'pennies', 'vacatime', 'pmtold', 'referencing', 'jac', 'flightrfor', 'threw', 'timei', 'ewrsti', 'season', 'proceed', 'delayforwhat', 'kindly', 'sfonew', 'each', 'badmaybe', 'nature', 'callguys', 'logged', 'emailtext', 'outline', 'scenarios', 'maui', 'shirts', 'viable', 'substitute', 'ton', 'publicity', 'willneverflywithyou', 'gunna', 'wjere', 'dear', 'sti', 'transpired', 'teaampnot', 'shipped', 'emptied', 'nightyour', 'ethics', 'sir', 'majority', 'evidence', 'ils', 'into', 'result', 'desired', 'lessand', 'inclement', 'neurosurgery', 'icu', 'americanisbetter', 'fourth', 'lavatory', 'baggagelost', 'likelihood', 'employeefaceless', 'miler', 'minutesand', 'pink', 'thousandth', 'rswwebsite', 'transf', 'supv', 'ramada', 'kidnapped', 'retaining', 'ventilation', 'reference', 'appalled', 'gal', 'lasttweetaboutthis', 'wakinginmemphis', 'kit', 'kat', 'tasty', 'sandwich', 'or', 'indicating', 'discount', 'unnerving', 'humiliated', 'uncompromising', 'blindsided', 'rachel', 'wong', 'marisol', 'pimentel', 'hindered', 'ability', 'snapped', 'lacking', 'interrupted', 'iahmnl', 'advertised', 'bookable', 'bugging', 'accts', 'hurry', 'benefit', 'dishonest', 'ewrlax', 'seatarmrest', 'discover', 'fullfa', 'misery', 'breach', 'lawsuit', 'lawyerup', 'horriblewent', 'flightno', 'buttonthatcalled', 'ampwait', 'minsampput', 'calledampit', 'hungupnohelp', 'unitedagainstunited', 'operate', 'mothers', 'glitchy', 'clicked', 'programhorrible', 'measure', 'xt', 'faus', 'customersyou', 'asks', 'token', 'whatstatus', 'weds', 'arguing', 'laughing', 'checkpoint', 'court', 'anticonsumer', 'casual', 'angering', 'slowness', 'ase', 'blames', 'meit', 'jetbluesofly', 'appointments', 'sfolax', 'twiiter', 'jal', 'cathay', 'sunrises', 'geez', 'sampgs', 'nl', 'disappointments', 'followup', 'turrible', 'uxzj', 'relaxing', 'ups', 'complicated', 'fully', 'compensated', 'urgentlyget', 'reflect', 'duffle', 'premgold', 'comms', 'deck', 'websites', 'ticketing', 'unorganized', 'mass', 'unmanned', 'buffalo', 'cheapoairchat', 'crewi', 'marked', 'completed', 'saveus', 'passengersstranded', 'graduate', 'missingstollen', 'anyones', 'welcomed', 'outoftouchwithreality', 'belong', 'humiliating', 'races', 'breaks', 'selection', 'strandednyc', 'login', 'tfw', 'tyspent', 'cell', 'battery', 'stains', 'aboard', 'finalstretch', 'execplat', 'mileagerun', 'arrogant', 'coat', 'gloves', 'maria', 'beanie', 'superiors', 'phillip', 'heller', 'ifc', 'particular', 'luxuries', 'finds', 'thurs', 'earrings', 'donedeal', 'talktoahuman', 'heartless', 'term', 'whilst', 'timesenough', 'remorse', 'chatted', 'lowdown', 'dooronly', 'fuelamplikely', 'fuelcycle', 'churchmouse', 'grown', 'unimpressed', 'numerical', 'odds', 'injured', 'greatest', 'truebluepoints', 'jetbluemember', 'handicapped', 'staring', 'itin', 'precioustime', 'veryloyalcustomer', 'rescue', 'sundown', 'millions', 'coincidence', 'hundred', 'cutoff', 'yhzewr', 'fligths', 'plague', 'carerespond', 'jt', 'sop', 'problemhad', 'flightdelay', 'craft', 'nocompensation', 'corrective', 'shouldhaveflowndelta', 'agency', 'tone', 'deaf', 'hahnot', 'ftw', 'plate', 'acc', 'scene', 'meanit', 'belabor', 'pointbut', 'announced', 'rollers', 'youragentshavenoclue', 'pns', 'antigua', 'disrespect', 'pulled', 'usdelayways', 'letsgoalready', 'hii', 'ridiculousor', 'approve', 'refundplease', 'wht', 'terminology', 'brings', 'verbiage', 'utilize', 'hanged', 'midwaychicago', 'thapril', 'flypbi', 'goto', 'improper', 'gills', 'killeen', 'setup', 'constitution', 'declaration', 'independence', 'pho', 'providenciales', 'schedules', 'uvf', 'weekday', 'television', 'nycfeltthelove', 'july', 'restrooms', 'playlist', 'ruth', 'rerouting', 'spamjunk', 'casenothing', 'differ', 'usairsucks', 'irritating', 'tomrw', 'screaming', 'tf', 'verbal', 'approvals', 'stopover', 'awww', 'realtime', 'appreciation', 'rockingthetweets', 'swap', 'fool', 'homeintentional', 'directed', 'uncool', 'untrue', 'montego', 'tailwind', 'candy', 'aaba', 'hoursgot', 'txfd', 'cncdld', 'poop', 'doubletriple', 'hrsthere', 'problemsbtwthe', 'mdwsan', 'uwont', 'memake', 'mesit', 'excess', 'timesampstill', 'insist', 'speciifc', 'character', 'aaus', 'adopting', 'nearby', 'sounding', 'bitchslapped', 'sizer', 'packingayak', 'recap', 'thinkdo', 'supply', 'images', 'organization', 'priv', 'usaiways', 'api', 'electrical', 'interiors', 'whyjeff', 'ellamae', 'discovered', 'pennypincher', 'grandbabies', 'births', 'fueled', 'attdt', 'decides', 'locals', 'strip', 'dallasaustin', 'ketr', 'njvbp', 'livepersonplease', 'enzo', 'pooch', 'unloads', 'badbusiness', 'contains', 'modifications', 'fusturated', 'applications', 'intern', 'positions', 'pgh', 'mbps', 'bots', 'professors', 'classwrite', 'midterm', 'cabs', 'cooker', 'worstairline', 'nightlife', 'nicole', 'quito', 'professionalnice', 'reverse', 'chargersclothescoatcontact', 'lenses', 'mtg', 'shaking', 'freaky', 'dimensions', 'grievance', 'occurs', 'yyj', 'intention', 'versus', 'convenience', 'quoted', 'pummeled', 'aimed', 'satisfy', 'nanosmattering', 'colonist', 'awesomebright', 'vibrant', 'habitrails', 'sitecomplicated', 'ordering', 'typically', 'smalls', 'sentiment', 'groundstill', 'kristy', 'spelling', 'comethis', 'gng', 'arpt', 'wat', 'bound', 'workhard', 'playsoon', 'notahappycustomer', 'leavingtomm', 'easiest', 'recheck', 'woo', 'require', 'memorize', 'fiveword', 'phrase', 'tabitha', 'miraculously', 'shoe', 'pamper', 'fendyourself', 'youareonyourown', 'victim', 'sosmart', 'frequentflyerappreciates', 'alsoyayforsnacks', 'spring', 'flat', 'contents', 'suitshirts', 'mtgs', 'albeit', 'earned', 'luggagecancelled', 'admitted', 'checks', 'jeopardy', 'protect', 'anticipation', 'olympic', 'specified', 'stillnotonmyflight', 'interferes', 'wellen', 'concerts', 'alway', 'treasure', 'hourconnected', 'systemtransferred', 'soc', 'dontflyusairways', 'questionare', 'onboad', 'volt', 'savings', 'foodallergy', 'escalate', 'flipped', 'retrieved', 'coded', 'tryng', 'rsrv', 'backroads', 'becuase', 'functionality', 'brokeni', 'assed', 'captured', 'brittany', 'clouds', 'sports', 'comped', 'jetblues', 'ballbag', 'manchesterbwi', 'yaayy', 'steamed', 'conjunction', 'wmy', 'equivalent', 'dirt', 'guidelines', 'taller', 'solo', 'female', 'traveller', 'scary', 'foreign', 'ellas', 'greeting', 'reminds', 'belttoolong', 'formed', 'jfkgtsfo', 'yxe', 'secrets', 'songs', 'ruin', 'unitedairlinessucks', 'beatriz', 'susan', 'japan', 'uh', 'invest', 'secondary', 'screenings', 'waitin', 'underweight', 'belti', 'yards', 'willie', 'nelson', 'impersonator', 'sang', 'peanutsandtoons', 'freezes', 'nitrogen', 'inflating', 'malfunctioning', 'forms', 'opal', 'dragon', 'ali', 'woven', 'murdering', 'australia', 'manufactured', 'quirkiness', 'mmm', 'captiveaudience', 'hollow', 'wellbeing', 'mgmt', 'very', 'pto', 'packages', 'retribution', 'tock', 'rapidly', 'approaching', 'fantasy', 'dominick', 'guardia', 'guns', 'iwoulddoanythingforlove', 'lovesongfriday', 'guesstimate', 'marshall', 'gratitude', 'delayedthats', 'quantas', 'auckland', 'givethoseladiesraise', 'interim', 'expenses', 'anthony', 'weighing', 'acquisition', 'insulted', 'sc', 'debacle', 'flightedsent', 'notsatisfied', 'multiplier', 'transatlantic', 'ri', 'january', 'bestdressed', 'bluecarpet', 'agts', 'tickethotel', 'delayedover', 'dominican', 'lodging', 'apologise', 'blameshiftoverload', 'naming', 'depression', 'specials', 'sms', 'structure', 'dramatically', 'diminishes', 'certs', 'inaccessibility', 'racist', 'timedout', 'howdy', 'erroring', 'regard', 'expressing', 'thinking', 'photos', 'ebook', 'tips', 'sarita', 'argue', 'sitters', 'quietly', 'irate', 'justsaying', 'ontarmac', 'donaldarobertscom', 'epicfailure', 'excitement', 'clarification', 'dtv', 'epic', 'efficiency', 'consultant', 'kiosks', 'churn', 'increasing', 'ots', 'pants', 'checkins', 'mines', 'inline', 'bagdisgutedindenver', 'diversion', 'thingsishouldknow', 'ifeeldumb', 'unfold', 'autoapplied', 'incomprehensible', 'neglected', 'refunding', 'captive', 'badcustomersrvice', 'whereismybag', 'cuzco', 'noservice', 'freeconcert', 'gb', 'painted', 'blumanity', 'paint', 'streamline', 'commute', 'colliding', 'hilo', 'hrmin', 'ahah', 'outrageous', 'loudly', 'throug', 'lights', 'dimmed', 'resulting', 'rarely', 'dying', 'ito', 'teamagain', 'gist', 'mobileboarding', 'learnt', 'nh', 'mhtforlife', 'stuckintampa', 'au', 'probability', 'tailfin', 'hood', 'roberto', 'slight', 'tweak', 'delayedl', 'systemwide', 'preventing', 'laguardiadal', 'sorta', 'genuine', 'pbiboston', 'ringing', 'crossing', 'ezee', 'steve', 'wilson', 'getyourlife', 'aviv', 'charac', 'shortcomings', 'inchecking', 'netherlands', 'ams', 'lilly', 'checkbaggage', 'enroute', 'milan', 'malpensa', 'mar', 'danbury', 'resoled', 'cultural', 'appropriation', 'alison', 'bobbi', 'bankruptcies', 'shouldnt', 'nochill', 'wigs', 'circles', 'ticked', 'mbj', 'shorts', 'weary', 'german', 'deplanes', 'jealous', 'auf', 'wiedersehen', 'bozos', 'incorrectly', 'ons', 'sjo', 'aisle', 'capital', 'onholdwith', 'dj', 'scratching', 'boldflavors', 'bold', 'flavors', 'ingredients', 'huntsville', 'weekampinbound', 'lastnight', 'careless', 'visibly', 'reassign', 'bish', 'timeshand', 'letterwent', 'airportcalledplease', 'investors', 'popped', 'consolation', 'lipstick', 'pig', 'uncle', 'reserve', 'replace', 'inputted', 'sittingontheplane', 'dest', 'blizzard', 'fights', 'sombrons', 'sighed', 'heavily', 'clearing', 'houstonbush', 'kiosk', 'frowny', 'cookies', 'yelling', 'throwback', 'bestflightever', 'germany', 'hopeless', 'mde', 'waivefee', 'upgrademe', 'shut', 'waters', 'submitting', 'cud', 'whiny', 'accommodated', 'baggageissues', 'wave', 'baggageridiculous', 'pretsa', 'retracted', 'completing', 'installation', 'army', 'poorlyhandled', 'usairheads', 'instrument', 'baggagefail', 'bagsflyfreebutnotwithme', 'faaaannntastic', 'mex', 'humanity', 'dcadsm', 'decent', 'slowfi', 'killed', 'buzz', 'marty', 'nobaggagefees', 'phomia', 'barrel', 'circle', 'dmv', 'noshadetothedmv', 'welp', 'contracts', 'sections', 'joe', 'numberphone', 'aal', 'sauna', 'moar', 'roadwarrior', 'tindertips', 'tinderchamp', 'becuz', 'sloooooow', 'interupt', 'staduim', 'series', 'lovedoll', 'themhence', 'huxleyesque', 'fasten', 'seatbelt', 'x____x', 'shitshow', 'destinationrude', 'lovejetblue', 'motto', 'idonotcare', 'callings', 'staffing', 'hotline', 'yxu', 'complaintquestions', 'momma', 'sanfrancisco', 'crewtells', 'norfolk', 'renting', 'befor', 'irrlcd', 'undetermined', 'clusterfucks', 'bleed', 'these', 'leeds', 'hellomy', 'agencies', 'flightledrebooked', 'daydelayed', 'anderson', 'abused', 'container', 'totes', 'pouting', 'attitudeissues', 'puj', 'adress', 'reads', 'escaping', 'wayne', 'restructured', 'brotha', 'inclemental', 'disruptions', 'fwwef', 'ant', 'ends', 'successful', 'cinci', 'removed', 'readded', 'asha', 'answersno', 'fiancee', 'thnk', 'responseall', 'wother', 'someoneawesome', 'pride', 'timeliness', 'nomorecheckedbags', 'impersonal', 'impatient', 'jj', 'qualification', 'unacceptablei', 'worstunitedflightsever', 'culture', 'directs', 'okcdirects', 'okcprofessionals', 'swfan', 'hoped', 'holdcan', 'dim', 'technically', 'blown', 'pandora', 'benes', 'serves', 'fudgin', 'justwantmybed', 'remedy', 'wandered', 'jetscrew', 'awfulcustomerservice', 'paul', 'feelingtheluv', 'justdoit', 'youknowyouwantto', 'emer', 'albuquer', 'condition', 'maverick', 'englishspanish', 'weights', 'jobfail', 'revers', 'agt', 'rage', 'helpcomplaint', 'applies', 'narita', 'tokyo', 'disservice', 'flightfail', 'itineraryconfirmation', 'nawww', 'assisting', 'discourteous', 'frequentflyers', 'labor', 'slowdown', 'its', 'sayin', 'wsomeone', 'challenging', 'unavoidable', 'controllable', 'thxu', 'organizational', 'pointsme', 'fron', 'tpadfwaus', 'iahdfw', 'comforting', 'stationary', 'vip', 'vineyard', 'stlbos', 'resched', 'terribleservice', 'arbitrarily', 'submit', 'roger', 'mclarrensp', 'closings', 'bums', 'gerne', 'wilco', 'insisted', 'rerouted', 'nolo', 'miserablemorning', 'stupidly', 'refreshments', 'raising', 'referring', 'buddies', 'trashy', 'alas', 'witty', 'repartee', 'ems', 'acting', 'shortshorts', 'flightsdelays', 'ducttaped', 'ohboy', 'shouldigetoutandpush', 'logs', 'ending', 'derrick', 'bussey', 'selected', 'nonempty', 'nonupgrade', 'overcarry', 'reschedulereplane', 'youcandobetter', 'fpmy', 'jennifercascinocom', 'stone', 'tablets', 'hon', 'fucken', 'plainly', 'compmech', 'pp', 'rides', 'resent', 'alreadygot', 'mht', 'amateur', 'kevolt', 'sozldj', 'sis', 'nephew', 'mega', 'evenings', 'humor', 'makeovertimecustomerserviceplease', 'whammie', 'teamspirit', 'reinstated', 'mis', 'colo', 'disabled', 'unfamiliar', 'outcome', 'tongueincheek', 'etiquette', 'videos', 'education', 'sunglasses', 'rated', 'segs', 'sex', 'sd', 'distribution', 'avatars', 'kitty', 'disproportionate', 'poornoncommunication', 'unaccounted', 'prerecorded', 'marys', 'communicating', 'authoritative', 'vital', 'stowaway', 'siting', 'cockroaches', 'crawling', 'visible', 'traps', 'tremendously', 'lololololol', 'earning', 'cudtomers', 'aaaand', 'amstuck', 'snowstorm', 'hotelhows', 'flightline', 'worn', 'enoughisenough', 'servicessomething', 'travelbank', 'recouping', 'jetbridge', 'drivermissed', 'wkrb', 'mistakes', 'blatant', 'wernicke', 'acarlcom', 'sobbed', 'soured', 'denewr', 'tys', 'anticipating', 'abilities', 'underway', 'query', 'scrum', 'grouping', 'exposed', 'cus', 'peggy', 'informative', 'unitedbreaksguitars', 'wantmymoneyback', 'aadavantage', 'lan', 'journalist', 'mn', 'bullying', 'workforce', 'accurately', 'movies', 'dunkin', 'donuts', 'hazard', 'thingsyoucantmakeup', 'switchsbux', 'rapids', 'uhmmm', 'dallastx', 'shits', 'wtfodds', 'userperceived', 'bandwidth', 'flightncy', 'statuswill', 'helpfulness', 'lastella', 'def', 'peeved', 'restriction', 'suprise', 'vanity', 'travellers', 'borrow', 'flightlanding', 'sunscreen', 'feelsgood', 'impending', 'veg', 'waitlol', 'lake', 'wylie', 'vt', 'general', 'enquires', 'internship', 'dmcome', 'skypewell', 'competent', 'arrivals', 'lgaiah', 'fay', 'rdureimburse', 'checkinbag', 'blueblackish', 'tab', 'flightedflight', 'yvonne', 'happyfriday', 'jaipur', 'dehli', 'undrstnd', 'wlcm', 'onbrd', 'ticketnow', 'ownership', 'redo', 'fudgers', 'hoursat', 'port', 'authority', 'ambivalence', 'informing', 'itfits', 'bike', 'attending', 'earlieror', 'notreceive', 'ihop', 'sounded', 'onplane', 'handy', 'dandy', 'lookforwardtoflywithaa', 'gnight', 'eould', 'stink', 'lhrord', 'servicehaving', 'kingscollegelondon', 'jailbreak', 'rag', 'revue', 'blood', 'appt', 'pleaseeee', 'austinbergstrom', 'lanes', 'finder', 'preparedhonestly', 'spreadtheword', 'sdq', 'protocol', 'statusdelays', 'itself', 'milesneed', 'valuing', 'descent', 'malfunction', 'confirmations', 'session', 'presented', 'beloved', 'areyounew', 'nonumber', 'feeltheheat', 'congested', 'dissapointing', 'automatic', 'alwayslate', 'controllers', 'permissions', 'whyabcwhy', 'birthdays', 'fianc', 'refer', 'dencle', 'ker', 'recognize', 'terri', 'panic', 'click', 'curiosity', 'arranged', 'lightyears', 'frightening', 'quiche', 'tandoori', 'entrees', 'accompaniments', 'allll', 'multinational', 'prince', 'ressie', 'prolonged', 'prds', 'skillful', 'flightness', 'snafu', 'midlandflight', 'offload', 'kcthanks', 'eaten', 'burger', 'worker', 'austrian', 'incls', 'bowl', 'faulty', 'ineligible', 'grief', 'fits', 'nojetblue', 'gis', 'yucki', 'kthxbai', 'exclusively', 'scattered', 'unfair', 'flightsthis', 'lifestop', 'luggagegate', 'upc', 'swimsuits', 'phlmco', 'regulations', 'quicker', 'ecom', 'kmm', 'occur', 'ute', 'dulleswashington', 'siteits', 'correctness', 'emotional', 'flightlationyou', 'prem', 'toplay', 'ping', 'bosfll', 'portal', 'lou', 'ann', 'ourguest', 'respects', 'toby', 'skytrax', 'corpgreed', 'nevertakeno', 'pst', 'ex', 'boyfriends', 'tryagain', 'digging', 'swanky', 'mood', 'lighting', 'cabaret', 'pir', 'abidfw', 'closepwcs', 'inebriated', 'alcohol', 'goodbye', 'waved', 'indicated', 'chicagolaxphx', 'spotting', 'frustratingit', 'worded', 'funited', 'ooookay', 'purely', 'reactions', 'gonnabealongnight', 'lolol', 'wthis', 'unloading', 'writes', 'clueless', 'brighter', 'carpet', 'reassess', 'normally', 'tkts', 'eom', 'travelled', 'scl', 'iha', 'adult', 'tus', 'failurethen', 'safetyfirst', 'color', 'pgashow', 'mosaiccant', 'weathers', 'iadsat', 'outdoor', 'kathryn', 'sotelo', 'courrier', 'chaotic', 'nightmarish', 'idnumber', 'hopetogetanswersoon', 'mcogtiad', 'ordlhr', 'itsthelittlethings', 'alavera', 'rez', 'accidents', 'tamara', 'cannoxtralegroom', 'nocoatcloset', 'surfboard', 'fdk', 'xzmscw', 'notimpressed', 'events', 'flightchng', 'affiliates', 'afiliates', 'inefficiency', 'misinformation', 'tonights', 'usaa', 'renewed', 'allgood', 'luggages', 'tagging', 'backing', 'reno', 'dial', 'display', 'fields', 'itthis', 'disabledtraveler', 'extraordinary', 'goingforgreat', 'eb', 'rethinking', 'chl', 'disconnecting', 'menus', 'applicable', 'lgb', 'cal', 'elevategold', 'sliced', 'bread', 'bruh', 'vxsafetydance', 'disneys', 'magical', 'ami', 'livid', 'nicedismissive', 'birmingham', 'seven', 'lmfaooo', 'robbing', 'banned', 'messaged', 'june', 'competition', 'helene', 'uhuhgroup', 'tomorrowwhy', 'preemptive', 'generally', 'inbaggage', 'unhelpfulness', 'flightwouldve', 'liked', 'ella', 'makeup', 'theft', 'evry', 'lastflightofthenight', 'breakup', 'curvygirltravels', 'gsp', 'dsm', 'separately', 'sfolaxsalclo', 'hm', 'av', 'howhardcanthatreallybe', 'skin', 'teeth', 'pattern', 'maximization', 'dinosaurs', 'sfojfk', 'legacy', 'linking', 'established', 'inflght', 'wannaa', 'doo', 'sand', 'translation', 'reinvest', 'personallyabout', 'atlno', 'sleepless', 'unfollow', 'nohotel', 'realise', 'ltltnow', 'fuckin', 'americanforlife', 'thenewamerican', 'drives', 'dcazero', 'divident', 'royally', 'waking', 'bravo', 'iep', 'alb', 'essentials', 'deplorable', 'takingthistothetop', 'thebachelor', 'wah', 'blade', 'customerexperience', 'dubjac', 'jaclax', 'laxdub', 'approximate', 'terry', 'cellphone', 'congratulation', 'tear', 'seam', 'busted', 'zippers', 'transparency', 'during', 'speaks', 'inspected', 'routine', 'nyt', 'localized', 'copypaste', 'thatisall', 'accountable', 'patterns', 'cheated', 'hasty', 'unwise', 'pushback', 'plows', 'oneasy', 'reservationhelpful', 'balt', 'babies', 'cried', 'vomited', 'caroline', 'superhero', 'rtb', 'wayway', 'interviews', 'uneventful', 'surliness', 'desirable', 'aboout', 'forgive', 'firstworldproblems', 'breathe', 'crewmember', 'hrdelay', 'flipping', 'waived', 'explanations', 'denphx', 'laxsna', 'al', 'neverflyusairways', 'fraction', 'planets', 'applaud', 'ensued', 'marcos', 'concierge', 'gru', 'sorting', 'infanttoddler', 'cabins', 'nolaorlando', 'sharktank', 'hournever', 'sloppy', 'raised', 'expectations', 'russ', 'counters', 'noenertainmentonhourflights', 'mosaicmecrazy', 'sunrise', 'nofilterneeded', 'cory', 'greatcustomerservice', 'opposite', 'station', 'peanuttreenut', 'allergies', 'lostsuitcase', 'noreimbursement', 'relayed', 'consumers', 'yepused', 'againget', 'nix', 'sfosea', 'gotcha', 'confrontational', 'antitrust', 'gfc', 'cluecould', 'rollerboards', 'art', 'projects', 'cmhoak', 'daydreaming', 'bayespecially', 'ohioprobz', 'hhp', 'cocktails', 'fustrated', 'preventable', 'commend', 'pbampj', 'curfew', 'players', 'chgd', 'acoustic', 'pty', 'terrific', 'scolding', 'breast', 'pumps', 'passngr', 'capable', 'cared', 'fendurself', 'candice', 'accident', 'aggravation', 'jeans', 'suits', 'expedia', 'diligent', 'luvswa', 'okayd', 'hrl', 'respondi', 'iusair', 'tonightgreat', 'nas', 'pumped', 'subsequently', 'infocom', 'bounce', 'koalaxphlord', 'savr', 'awrd', 'koalaxphxord', 'inaccuratemisleading', 'hopethegearmakesitintact', 'bushleague', 'weakservice', 'jdhadp', 'gcvwj', 'kailua', 'hime', 'todaythis', 'bevies', 'tuned', 'mystery', 'comcast', 'biggie', 'loaaret', 'blah', 'shoulda', 'realistic', 'emily', 'pops', 'bdng', 'wervirgin', 'qmfd', 'ceases', 'amazefor', 'reclining', 'kickin', 'ihatemergers', 'scotch', 'thislinehasntmovedforanhour', 'acknowledgement', 'ife', 'profile', 'earlyconnecting', 'atlaus', 'awaynow', 'econ', 'possiable', 'schiphol', 'minflight', 'beenhours', 'mont', 'sondo', 'certificatess', 'youto', 'frustratingly', 'mustve', 'mixtapethough', 'recordi', 'hoursi', 'reload', 'pleasantly', 'toughtomakeplans', 'lift', 'labyrinth', 'swindle', 'karaax', 'neuer', 'unload', 'apologizes', 'carseat', 'iahwowjust', 'impacts', 'afraid', 'unhappyspend', 'animals', 'americandairlinessucks', 'tied', 'proposal', 'gala', 'org', 'boundless', 'readers', 'thanking', 'braving', 'amongst', 'dfword', 'ramps', 'beneficial', 'longstanding', 'csfail', 'afterall', 'cheesy', 'sweresomuchfun', 'brandloveaffair', 'sortawe', 'aquadilla', 'clearance', 'martin', 'dayi', 'robot', 'wothers', 'peopleon', 'equals', 'bgm', 'canld', 'resch', 'opt', 'cng', 'graphic', 'license', 'jail', 'lly', 'rivets', 'peak', 'caucasity', 'broinlaw', 'thier', 'needtocatchmynextflight', 'alreadyrebookedonce', 'weekends', 'ers', 'curtesy', 'epitimeoffail', 'firm', 'steel', 'thoughand', 'avalible', 'hotelliving', 'sexy', 'appeared', 'err', 'vm', 'rings', 'newburgh', 'periods', 'wflights', 'gluten', 'thth', 'flysouthwest', 'lovesouthwest', 'mybday', 'present', 'improvement', 'attained', 'omagtden', 'conflicting', 'unpleasant', 'guessweflyingdelta', 'averaging', 'tyvm', 'yasssss', 'da', 'fuccc', 'lucas', 'flyingretro', 'theworst', 'closest', 'agentsno', 'coworker', 'conflict', 'erased', 'drift', 'closetoverhead', 'discomfort', 'disastertravelingwithsmallkids', 'tap', 'compliant', 'cantblametheweather', 'rosetta', 'dan', 'wasappreciated', 'heyyyy', 'guyyyys', 'listens', 'musicians', 'bass', 'feck', 'procedures', 'ocean', 'husain', 'shld', 'protest', 'rehman', 'malik', 'pia', 'pdw', 'ilovejetblue', 'breastfeeding', 'mommas', 'nominated', 'films', 'meetthefleet', 'poorest', 'pe', 'departments', 'downmy', 'flyingwithus', 'lostacustomer', 'rain', 'retiring', 'reactivate', 'briughy', 'aif', 'agcommunity', 'targeting', 'vulnerable', 'thieves', 'phlmia', 'sellmypointssoon', 'winner', 'infuriating', 'accompany', 'brain', 'deedee', 'jerk', 'chg', 'sorrynotsorry', 'deferring', 'unitedunimpressed', 'cak', 'tore', 'hid', 'badge', 'joy', 'callcentre', 'cmhiad', 'bagcould', 'maam', 'sees', 'willsunday', 'hn', 'notourfaultyoudontuseyourgatesright', 'supvsr', 'gr', 'siberia', 'oy', 'samantha', 'onlyblue', 'jetblueforever', 'dope', 'passenegers', 'ensured', 'crutches', 'cldnt', 'improvements', 'retains', 'bid', 'laxgtsea', 'luvagent', 'essentially', 'backs', 'stillmakingmepoorthough', 'celebration', 'twitteremailweb', 'preggo', 'hormones', 'oscarnight', 'dialup', 'gogh', 'findurgrip', 'dfwlax', 'budget', 'faced', 'bridges', 'gatestill', 'negligence', 'daysofunitedfailures', 'thingafteranother', 'pleasecan', 'vacatinn', 'devalue', 'silicon', 'valley', 'disruption', 'fcmostinnovative', 'incubator', 'sample', 'itineraries', 'interviewed', 'recruiter', 'interview', 'batting', 'rozana', 'choosekind', 'headache', 'fwiw', 'loweredexpectations', 'spagnuolo', 'coached', 'rams', 'rdui', 'streetwise', 'revs', 'misunderstood', 'happytohelp', 'mosiac', 'unaccomidating', 'malcome', 'replicate', 'enuf', 'mbr', 'fmjtyl', 'miaewr', 'ewriad', 'drain', 'fearing', 'didflyfi', 'onlyinamerica', 'customerservices', 'nick', 'investigation', 'stoked', 'brink', 'bankruptcy', 'profitbeforepeople', 'bankrupt', 'former', 'sing', 'lovesouthwestair', 'blow', 'caren', 'sporadically', 'uncharacteristic', 'rush', 'jetwaywhy', 'jxst', 'damper', 'iy', 'pregnant', 'twins', 'abandon', 'flightget', 'coltsmissingbags', 'informs', 'exceed', 'regulation', 'austindallas', 'candace', 'fab', 'worstairlineinamerica', 'kmdw', 'mait', 'formality', 'rudelyreturning', 'reader', 'everleft', 'munich', 'cutest', 'pepper', 'shaker', 'complained', 'hd', 'ordsfo', 'abcdef', 'struggling', 'jackson', 'wyoming', 'ndary', 'pending', 'veterans', 'mcokeep', 'bebetter', 'nmaryland', 'morrw', 'classic', 'geraldine', 'centerworst', 'ourprincess', 'advis', 'pen', 'mligtden', 'dengtyeg', 'rainy', 'americas', 'bible', 'kangaroos', 'grossed', 'disappointmentyet', 'againflying', 'involve', 'removing', 'lists', 'payed', 'preference', 'reunion', 'organized', 'breeze', 'welcomes', 'usable', 'trivialize', 'reposted', 'coffeeat', 'flyjetblue', 'theyareallbetter', 'stillnobags', 'briefings', 'paged', 'spaced', 'thirty', 'mnth', 'bcs', 'promofly', 'rnd', 'iata', 'hosp', 'trys', 'cuts', 'hlp', 'insta', 'produce', 'limits', 'bicycles', 'criteria', 'bikes', 'faq', 'attempts', 'continentals', 'feat', 'sfoewr', 'clincher', 'protected', 'businesstravel', 'recvd', 'sucksi', 'tckt', 'responsedisappointed', 'nothelpful', 'dpdfpp', 'reliability', 'tt', 'ec', 'excellentcustomerservice', 'honorable', 'economic', 'nooooo', 'styling', 'rn', 'ripme', 'ethiopia', 'runs', 'unsmiling', 'breezy', 'minutesi', 'customerloyalty', 'marathon', 'syracuse', 'copilot', 'fwd', 'natt', 'disappointedunited', 'honolulu', 'los', 'angeles', 'waspaid', 'excusable', 'monitoring', 'fakeawards', 'luvisbetter', 'quitting', 'vouchercompensation', 'sch', 'delayedstill', 'waitingyou', 'mem', 'ordewr', 'soulandinspiration', 'umosaicmecrazy', 'deltanews', 'ladan', 'issuecould', 'anna', 'medal', 'prechk', 'currentlysittingontarmac', 'unforeseeable', 'operational', 'manbut', 'thisor', 'coupled', 'selfservice', 'policiescost', 'exacerbates', 'noted', 'mga', 'greeted', 'simultaneously', 'wishmyflightwaslonger', 'freberg', 'redeempoints', 'baitandswitch', 'reboard', 'kitchen', 'rtn', 'noworse', 'bigger', 'dick', 'chimid', 'unplanned', 'interpreting', 'sarcastic', 'escape', 'raft', 'backanother', 'minhour', 'exps', 'avios', 'smoothly', 'skilled', 'deleted', 'norway', 'shrugging', 'bewhat', 'issucks', 'verify', 'partnerrewards', 'expiring', 'sucking', 'pin', 'iberia', 'kerry', 'allowances', 'ourselves', 'lostfound', 'reuniting', 'delightful', 'impressions', 'jurassic', 'dinosaurplane', 'equipped', 'danger', 'jfksfo', 'awesomeness', 'assistanceyou', 'bz', 'taxing', 'makestoomuchsense', 'subtlety', 'hating', 'nocommunication', 'nocrew', 'comeonpeople', 'laps', 'birthdate', 'transit', 'maysep', 'oct', 'cincyjust', 'landedyou', 'desition', 'nade', 'duecto', 'willl', 'gum', 'desparately', 'bnagt', 'crooked', 'shouldwearmasks', 'nofee', 'fax', 'faxlike', 'microsecond', 'flightleddelayed', 'prospective', 'schools', 'ticketeven', 'booted', 'umpteen', 'lister', 'plundering', 'hardearned', 'fampking', 'woeful', 'colleagues', 'jfklhr', 'incompetenceunderstaffing', 'compounding', 'zfv', 'weblink', 'cometoaustin', 'thereisafirstforeverything', 'customerstime', 'airliner', 'contagious', 'virus', 'seeking', 'confident', 'misread', 'clarifying', 'miacur', 'unbalanced', 'section', 'agnt', 'threatens', 'droppeditoffyet', 'cantlogoutofunitedwifi', 'fiscal', 'pieces', 'informationstill', 'investigate', 'booklet', 'mini', 'progressed', 'audio', 'printers', 'mfps', 'kelsey', 'compares', 'percentage', 'bottle', 'yout', 'sectionturn', 'youdidit', 'ondemand', 'leatherseats', 'hipunis', 'shortstaffed', 'letters', 'ploughs', 'lone', 'furrow', 'middleeast', 'everybody', 'wut', 'relationships', 'vipliveinthevieyard', 'ethan', 'revive', 'laundry', 'tabs', 'laxm', 'timbit', 'values', 'lostmybusiness', 'princess', 'txting', 'debbie', 'baldwin', 'rockstar', 'demo', 'lassfo', 'bestcrew', 'sherocks', 'auction', 'postmasters', 'invitational', 'daddyshome', 'ish', 'aok', 'bait', 'tactic', 'poorcommunication', 'waitingsince', 'revision', 'tiffany', 'engineer', 'frame', 'fridgethat', 'dorm', 'treacherous', 'ohk', 'inexpensive', 'airfares', 'quirky', 'archaic', 'accommodates', 'belfast', 'clockwork', 'scareways', 'neverfails', 'princesses', 'glassslipperchallenge', 'wdw', 'des', 'moines', 'commitments', 'prepurchase', 'gaga', 'wowd', 'meh', 'fromthefrontseat', 'lease', 'somewhat', 'empathetic', 'monika', 'mwa', 'callbackthe', 'concerning', 'satmorrow', 'choclt', 'cho', 'swu', 'mxpjfk', 'nexttimeiwillflysouthwest', 'moneywhy', 'enrolled', 'sbn', 'notafanofyourmerger', 'mailbox', 'forwarding', 'endlessly', 'thefutureisweird', 'nippon', 'increase', 'compare', 'banning', 'ignores', 'pnut', 'dust', 'monitor', 'jobslose', 'statusand', 'transition', 'orf', 'absurdly', 'pesky', 'folk', 'crucial', 'rebookedarrived', 'az', 'inner', 'lowstandards', 'kinder', 'regrading', 'wating', 'hall', 'crewsignage', 'demoted', 'goldsspousaldiscriminationangry', 'kim', 'closes', 'expense', 'wewanttoknow', 'appealing', 'tonnes', 'curt', 'eternal', 'mergerdisaster', 'initiated', 'lineoh', 'lostinlove', 'wemosaictogether', 'levd', 'numbered', 'iatanbul', 'multimillion', 'gay', 'selfinterest', 'jumping', 'gun', 'couldve', 'chewey', 'oatmeal', 'berlin', 'bur', 'gettingbetter', 'necessity', 'iiiii', 'wifey', 'vday', 'keeper', 'holla', 'airwe', 'nowhere', 'tucking', 'milesstatus', 'sfofll', 'dontdothistome', 'pascucci', 'aligned', 'mobay', 'loaner', 'loanr', 'laissez', 'faire', 'pipes', 'flydeltanexttime', 'waitingagain', 'tmr', 'lala', 'scheme', 'missedupgrades', 'preboards', 'emailingcallingdming', 'quit', 'reinstating', 'kosher', 'sympathize', 'reweather', 'bil', 'sweatshirt', 'upsellladen', 'stucked', 'aadelay', 'activate', 'delayednot', 'cxd', 'mainline', 'enjoyable', 'filing', 'consumer', 'affairs', 'presenting', 'staticy', 'ithelpsabit', 'outfitted', 'fi', 'dontmakemegooutside', 'neededwhy', 'logo', 'tcf', 'installed', 'codes', 'broad', 'shoulders', 'pssngrs', 'chknotcomingback', 'cxldprotection', 'proceeded', 'larger', 'amateurish', 'affiliated', 'gtsvyb', 'stbernard', 'tomo', 'stuckintheloop', 'georgia', 'redemption', 'mcdonnell', 'douglas', 'goodnight', 'voided', 'visors', 'preflight', 'coathanging', 'complaining', 'shucks', 'sheesh', 'ads', 'dcaewr', 'liesstill', 'phi', 'thread', 'lolz', 'hsv', 'whatstheholdup', 'chitocle', 'lostrevenue', 'angryandsober', 'bachelorpartymishap', 'grrrrrrrr', 'canx', 'weatherless', 'communicationdetails', 'forfeit', 'inactivity', 'brisk', 'monthold', 'foldup', 'crib', 'oversorry', 'preparations', 'instructed', 'syastem', 'abandoned', 'evedidnt', 'exitrow', 'rjs', 'lta', 'snaord', 'petty', 'theend', 'goodday', 'improved', 'attendents', 'crappiest', 'enemy', 'govt', 'saidi', 'deceiving', 'reprehensible', 'includes', 'brian', 'williams', 'edit', 'observation', 'clunky', 'rudeservice', 'weyburn', 'airlineive', 'swapped', 'tlc', 'brandi', 'zabsonre', 'decline', 'cleaning', 'refresh', 'forecasted', 'hmmm', 'haning', 'horse', 'buggy', 'childrens', 'lapse', 'wins', 'lessening', 'parts', 'bulb', 'pensacola', 'swooped', 'helpfaith', 'restored', 'yyc', 'lightbulb', 'messaging', 'tellpurchase', 'boardingpass', 'fixes', 'attitudycustomer', 'rejecting', 'flyunited', 'misjudging', 'deliberate', 'expens', 'teams', 'cpus', 'redesign', 'pairings', 'redwineisbetter', 'thelodge', 'vice', 'versa', 'insurance', 'personalized', 'upsmh', 'neveryamind', 'onlineapp', 'assuage', 'indignation', 'sticking', 'sac', 'kate', 'appleton', 'attackingbabymomma', 'crazinessintherockies', 'kta', 'hahahahaha', 'overloads', 'execution', 'servicing', 'aha', 'smell', 'dilemma', 'waiverskeep', 'rly', 'goin', 'template', 'muh', 'colleague', 'laxgtjfk', 'luxurious', 'wthat', 'impress', 'rudely', 'manana', 'prescreen', 'aint', 'needcoffee', 'gig', 'devastated', 'pn', 'deflator', 'chapter', 'amm', 'conversed', 'aateam', 'rigorous', 'erj', 'evansville', 'jun', 'nasbwi', 'happenedwhat', 'retook', 'zip', 'shady', 'luved', 'represents', 'combat', 'flightgotta', 'flightupset', 'anyonemin', 'exhausted', 'planeso', 'mommy', 'daddy', 'instant', 'babys', 'additionally', 'likingyoulessandless', 'topdown', 'clarence', 'oveur', 'murdock', 'scheduling', 'minutewere', 'tweeter', 'branson', 'virginatlantic', 'staffers', 'wrap', 'slowing', 'eyw', 'holz', 'bufclt', 'behave', 'offensively', 'particulars', 'neverflyvirgin', 'workin', 'carta', 'prev', 'backyard', 'competes', 'fraif', 'youbag', 'frano', 'naval', 'commands', 'cdt', 'kinda', 'timing', 'wise', 'sponsor', 'overreacting', 'swag', 'dislike', 'duty', 'considerably', 'flashlight', 'loooooong', 'geneva', 'spaghetti', 'amenity', 'kits', 'tbd', 'usd', 'quotations', 'effin', 'shitting', 'ridicules', 'themselves', 'seemless', 'seattlebound', 'montrose', 'nuw', 'disconnections', 'preciation', 'stretch', 'miscommunicated', 'convey', 'emailmailtocustomerrelationscom', 'rwrd', 'aano', 'aadv', 'niece', 'elizabeth', 'confirmedso', 'bored', 'thaw', 'naelah', 'handoff', 'nutella', 'veryimportantproject', 'preferences', 'aaron', 'machines', 'katie', 'tos', 'eri', 'agoyet', 'unitedairlinessux', 'yourphonesystemsucks', 'preciate', 'knoxville', 'grp', 'reappeared', 'robbedexplain', 'dalaus', 'bosphl', 'abcs', 'brush', 'basics', 'straightend', 'scent', 'tht', 'horribleservice', 'bwiboston', 'few', 'bttr', 'tailfinthursday', 'miriam', 'happiness', 'gracious', 'schooler', 'effect', 'cousins', 'suspect', 'longterm', 'issuenot', 'skibootbag', 'pointer', 'western', 'nba', 'patriarc', 'outofdate', 'frozentoilet', 'medicalissue', 'mechanicalissue', 'dispatchissue', 'gem', 'faundation', 'judeo', 'cristian', 'ideologias', 'tails', 'painandsuffering', 'structures', 'hated', 'dobut', 'timethatll', 'ftlauderdale', 'stillwaiting', 'doesntfeellikestatusyet', 'unitedhatesusall', 'earnings', 'makingloveoutofnothingatall', 'ballin', 'ckin', 'aged', 'internally', 'refueled', 'retards', 'specially', 'carlton', 'lifes', 'sailor', 'bosnia', 'clutch', 'callemail', 'genuinely', 'comparable', 'quickest', 'delayconsequence', 'addresses', 'meright', 'breakdown', 'surcharge', 'accruing', 'ritz', 'pics', 'welcoming', 'systemic', 'disallows', 'gjt', 'permission', 'phrps', 'definately', 'employer', 'trains', 'incur', 'phlbos', 'avoidable', 'nonweather', 'goldentickets', 'uncontrollably', 'pillows', 'lieflat', 'que', 'pgfryz', 'operators', 'meantime', 'dadeland', 'cheeze', 'overchargedampunderserved', 'islands', 'itboarding', 'untz', 'untzlike', 'hoo', 'moveaboutthecountry', 'weekthats', 'sides', 'dendal', 'instructions', 'paradise', 'replyingi', 'investigated', 'minno', 'extending', 'creditwhats', 'daysnotahappytraveler', 'customercant', 'hometown', 'mgood', 'thin', 'skycap', 'misunderstanding', 'tmm', 'desktop', 'caching', 'compliment', 'mistaken', 'scarf', 'glasses', 'wiyh', 'bfs', 'diabetic', 'insulin', 'rnp', 'lip', 'oopsno', 'fairly', 'stahhppp', 'suggesting', 'satisfactorily', 'justsayin', 'embarrassment', 'worldwide', 'shameonyou', 'purchasing', 'alsonodrinkcartcomingaround', 'stingiest', 'ptfo', 'bastards', 'stingy', 'jon', 'ewrfll', 'chasing', 'absorb', 'sooo', 'upload', 'listing', 'internships', 'davidson', 'auditorium', 'jsom', 'utdallas', 'directing', 'grabbed', 'openin', 'yrold', 'greatgranny', 'onlinewas', 'sayas', 'dissatisfiedthanks', 'upwherewebelong', 'clowns', 'perth', 'deoderant', 'shirt', 'mrn', 'budweiserduels', 'oc', 'shade', 'reachingnewlows', 'conv', 'siss', 'dfwgtgtmke', 'hannah', 'surgeries', 'requiresshe', 'helppls', 'donatert', 'ricardo', 'olavarria', 'reboarding', 'slogan', 'clearvision', 'tvu', 'anhour', 'noc', 'amarillo', 'periolodicly', 'pros', 'displeasure', 'treats', 'origami', 'oldpolicieswaybetter', 'unknowledgeable', 'stonewalled', 'behalf', 'defective', 'sweepstakesit', 'flightnever', 'cinnabons', 'bonsinthesky', 'apparent', 'hournot', 'relax', 'adv', 'nikon', 'botched', 'absurdity', 'promos', 'nothanks', 'scareair', 'leak', 'getmeoffthisplane', 'ineedabeer', 'planebroken', 'neverontime', 'paymytab', 'medallion', 'probablynot', 'skyscanner', 'equalizer', 'heres', 'airportwide', 'unlucky', 'jetgreen', 'jetred', 'weatherflight', 'attendantcan', 'thisgreen', 'acu', 'incedentals', 'noworstairline', 'bingo', 'noah', 'uses', 'upfare', 'gpu', 'greater', 'probs', 'cteam', 'notevenjv', 'houstonbogota', 'bshave', 'colossal', 'infringement', 'elmira', 'fathers', 'proficient', 'usairwayssuck', 'suite', 'coldly', 'investigatedmy', 'totaled', 'disneyworld', 'princesshalf', 'importantflight', 'moodlighting', 'hungary', 'shittydeal', 'jfkyou', 'rethink', 'falseadvertising', 'celebrating', 'chinese', 'invitation', 'erewards', 'erie', 'overwhelmed', 'delyd', 'lasden', 'platinummember', 'promoting', 'product', 'noneother', 'slides', 'taxiway', 'rich', 'westagard', 'att', 'nancy', 'airportheld', 'customersfirst', 'reservationchange', 'difficultieswhat', 'billed', 'enhance', 'stepup', 'makeitright', 'wewillsee', 'creates', 'institutional', 'predictive', 'analytics', 'forecasts', 'data', 'miscounting', 'reunite', 'usas', 'fashion', 'unitedvusa', 'lungs', 'teyana', 'medusafridays', 'themenofbusiness', 'fro', 'napkins', 'beareavement', 'youredoingitwrong', 'emplid', 'sj', 'scheming', 'obj', 'lmaooo', 'lgasat', 'ususdo', 'appropriately', 'fakesincerity', 'hourwaitsucks', 'unannounced', 'albanyairport', 'spaces', 'tiredampfrustrated', 'tk', 'spk', 'chk', 'canadians', 'needtogethome', 'infobag', 'badwebsite', 'anxiety', 'cabine', 'sao', 'burgundy', 'familys', 'gether', 'confs', 'febs', 'edition', 'hemisphere', 'postcode', 'fm', 'sby', 'friendlyfriday', 'paws', 'fiousairways', 'idaho', 'diet', 'cokenice', 'bizness', 'relative', 'leinenkugels', 'craftbeer', 'goodflight', 'alwaysdelayedonunited', 'rockstars', 'updateyourwebsite', 'fresno', 'bridesmaid', 'alleviate', 'graded', 'eqp', 'lane', 'stlouis', 'sr', 'servicecare', 'yoga', 'deemed', 'empathizes', 'stclass', 'wnonworking', 'entertainmnt', 'louder', 'hfjkto', 'lengthy', 'bethonors', 'braved', 'helper', 'disunited', 'unanticipated', 'taping', 'aircargo', 'lifeisgood', 'exceptionally', 'uncourteous', 'tiredofwaiting', 'tux', 'itd', 'shin', 'splits', 'sprinting', 'gagent', 'danny', 'dfwclt', 'lampf', 'prepaid', 'mktg', 'branding', 'cxp', 'language', 'ilchp', 'daysno', 'usairway', 'situationagain', 'disrespected', 'guru', 'luz', 'calderon', 'king', 'tribute', 'soundofmusic', 'negligent', 'stuckonaplane', 'babyfood', 'essential', 'attire', 'brd', 'nowfrustrated', 'rocif', 'tld', 'messcng', 'overbk', 'freejust', 'bsuxlu', 'charm', 'volumecan', 'transformative', 'bora', 'oprah', 'eagle', 'ew', 'bringbackrealstaff', 'ky', 'tripitpro', 'outin', 'doumented', 'annnndddd', 'lodge', 'evidently', 'mpls', 'soooooo', 'sleepy', 'noplacelikehome', 'eventhoughitsdegreesathome', 'busfirst', 'milesaaver', 'whyfly', 'flightledgonna', 'breathing', 'fneqm', 'countryshes', 'marchand', 'avoiding', 'mellie', 'marsh', 'noticing', 'agenti', 'devotedyyours', 'oxgen', 'tank', 'grk', 'lex', 'wretched', 'tiks', 'finale', 'pssgrs', 'psngrs', 'grt', 'melinda', 'greensboro', 'jewel', 'badairline', 'oldplanes', 'damageluggage', 'warmweather', 'minutessaid', 'crosswords', 'fsve', 'nutsamp', 'earphone', 'raisegreat', 'connecticut', 'makechange', 'gin', 'tonic', 'hesitant', 'sized', 'lgjwb', 'voluntarily', 'france', 'nonenglish', 'um', 'telleveryone', 'cot', 'destn', 'mates', 'holdon', 'everythingsgonnabealright', 'truebluelove', 'tossed', 'signing', 'credentials', 'entrance', 'whereas', 'eating', 'dawn', 'pilotsamp', 'unitedwithivy', 'smitten', 'hourhope', 'relying', 'caffeine', 'bossan', 'evasive', 'kax', 'tnx', 'retire', 'agentthen', 'csrs', 'hasshe', 'loststolen', 'vaileagle', 'victoria', 'rockys', 'milehighselfieclub', 'unsettling', 'pullin', 'sh', 'disheartening', 'familyand', 'rear', 'aprilmay', 'syscon', 'presentation', 'mltple', 'lunchtime', 'inserted', 'psych', 'priortried', 'miboston', 'icelandair', 'between', 'gtk', 'longing', 'firstlove', 'istanbul', 'thnkx', 'bt', 'sux', 'pages', 'lick', 'embassy', 'suites', 'herndon', 'build', 'prompts', 'unempathetic', 'fulldont', 'portsmouth', 'ais', 'bringbacktheluvtordu', 'directflights', 'pura', 'vida', 'liftin', 'higherandhigher', 'sprawled', 'grossedout', 'mandatory', 'expedite', 'planb', 'hemispheres', 'laughedhard', 'funnycaptain', 'lekvhg', 'thailand', 'sanity', 'bliss', 'indenial', 'whatfrozenpipes', 'referred', 'mobility', 'dalmdw', 'offensive', 'casimir', 'thanksjetblue', 'pleeeeeeeease', 'exboyfriend', 'phonenot', 'bwahahaha', 'encounter', 'outright', 'tissues', 'screensand', 'whatajoke', 'overhaul', 'tusdfw', 'wcx', 'fampampcking', 'strives', 'centric', 'advertising', 'apnea', 'downhow', 'sum', 'qsvgru', 'natural', 'beefjerky', 'agtb', 'okayim', 'frankly', 'defines', 'badbadbad', 'wentook', 'workng', 'et', 'pushy', 'companyi', 'noooooooooooooooooo', 'rare', 'cancer', 'makessense', 'ballsturn', 'panicked', 'xs', 'entrusted', 'verbally', 'cussed', 'rifle', 'hunting', 'pistol', 'nobackup', 'xox', 'sends', 'outrage', 'snobby', 'remarks', 'poker', 'chats', 'contentmarketing', 'pockets', 'wheelchairs', 'dunno', 'earthquakehaiti', 'rebuilding', 'specifically', 'smallerthinner', 'flightu', 'concentrate', 'uplink', 'royal', 'commission', 'headlines', 'liveonfox', 'februaryfreezefox', 'inconceivable', 'thinks', 'planelooks', 'planesnot', 'assuring', 'solate', 'podium', 'struts', 'nozzle', 'calibrated', 'isthisreal', 'nevertoldus', 'givethemraises', 'maarten', 'fwa', 'building', 'agovacationfail', 'frozenwater', 'gettingimpatient', 'theycouldatleastofferfreebooze', 'dos', 'donts', 'announcer', 'pearl', 'laxnycarea', 'winston', 'exciting', 'monsoon', 'apples', 'ipodtouch', 'geography', 'transaction', 'fuckinf', 'chargesi', 'airlinesecurity', 'wfares', 'tomoro', 'await', 'doublestandards', 'midtravel', 'toes', 'enraging', 'wbroken', 'witness', 'mental', 'walls', 'wonderingirritated', 'yessir', 'rob', 'monterey', 'thick', 'fog', 'spectacularfed', 'byebyejetblue', 'basketball', 'wheresmyrefund', 'jperhi', 'helpva', 'lovedflyingwiththem', 'notanymore', 'badpolicy', 'tryn', 'comping', 'clarion', 'ripoffs', 'pricediscrimination', 'horrific', 'werenot', 'chng', 'whch', 'advsry', 'reboot', 'kn', 'bypass', 'buybacks', 'priced', 'modelodenegocio', 'innovacion', 'businessmodel', 'etd', 'society', 'authors', 'fiction', 'talents', 'phn', 'bosmco', 'holiday', 'momentand', 'banana', 'ampamp', 'ddean', 'contd', 'geraghty', 'thatthis', 'separated', 'foodso', 'helpimstuck', 'illiterate', 'allan', 'kmmvlkm', 'wowthx', 'greg', 'sobewff', 'teamnkh', 'hourflight', 'plannedneverflyvirginforbusiness', 'againlate', 'fewer', 'freeze', 'avp', 'tgif', 'lefteven', 'bwilax', 'jetbluejfk', 'purchaseerrorinvalid_loyalty_member_account_status', 'swvyilxklrogfsj_a', 'pleasemy', 'cocktailor', 'servicedog', 'lastflightwithyouever', 'horribleattitudes', 'noise', 'norahm', 'reiterate', 'acces', 'robotweeting', 'wore', 'mot', 'mphx', 'courtsey', 'kristiesp', 'promotethatgirl', 'attendanteliz', 'crosswinds', 'eliz', 'callah', 'skycaps', 'twitterhug', 'shesaidrun', 'supported', 'sa', 'indian', 'aunties', 'aruna', 'thanksseat', 'flightsyearmy', 'kevin', 'fish', 'asshole', 'jim', 'sport', 'authorize', 'chillpill', 'carryonbagssloweverybodydown', 'reflection', 'extinct', 'lgaord', 'rqstd', 'bcz', 'asem', 'hinted', 'abandonment', 'shouldhaveflownjetblue', 'minsthank', 'prompting', 'grandpas', 'ashes', 'naples', 'lived', 'tier', 'hormonal', 'teenager', 'wastedeffort', 'slew', 'engaging', 'personable', 'turkish', 'gladys', 'es', 'amiga', 'dtwase', 'mayweatherpacquiao', 'becomes', 'semantics', 'extent', 'dictionary', 'wireless', 'piggy', 'jilted', 'moneyelsewhere', 'mdbeei', 'mcmullen', 'evenlate', 'zones', 'interrogated', 'poorform', 'bogota', 'vodkatonics', 'flightsfo', 'natl', 'rubbed', 'baggagefind', 'walmart', 'puts', 'gtmins', 'americans', 'ecuador', 'dmsccom', 'guyssee', 'flightcancelled', 'custservicehasnonumber', 'pple', 'snowice', 'tu', 'pmwe', 'leeway', 'barclays', 'tara', 'praise', 'worknogood', 'flightrexcept', 'nwkgtsf', 'boom', 'whod', 'bearable', 'sinuses', 'contend', 'landings', 'preregistration', 'synonymous', 'ferry', 'chicagos', 'flyquiet', 'ordnoise', 'communist', 'russia', 'posting', 'chkin', 'wsupervisor', 'regina', 'argg', 'assure', 'timezones', 'accuratetraveltimes', 'rdtimethishashappened', 'impression', 'earlyon', 'unitedgt', 'angrybird', 'wheresmybag', 'fate', 'syr', 'onafter', 'understandably', 'edgy', 'chipper', 'greatly', 'reunited', 'delinquent', 'homeward', 'incidents', 'buses', 'dissaponted', 'ensuring', 'achieves', 'fritz', 'reevaluate', 'believing', 'whatgives', 'dullessucks', 'executives', 'flysw', 'hair', 'ipaddont', 'customary', 'pbijfk', 'hatch', 'legitimately', 'nastiest', 'yesterdayrubber', 'slime', 'backfas', 'optimistic', 'profiting', 'hurting', 'cncled', 'arrangement', 'experts', 'cruz', 'nan', 'lagos', 'nigeria', 'ou', 'slog', 'emerg', 'phlord', 'blegh', 'gonenow', 'charlestonvery', 'pricy', 'attendees', 'nationalized', 'nations', 'leads', 'folding', 'dobetterjetblue', 'sfogtbos', 'competitively', 'bosgtjfk', 'jfkgtroc', 'bicycle', 'fla', 'controllableirregularity', 'mel', 'sticker', 'novemberdecember', 'salisbury', 'doc', 'allready', 'fulleven', 'voucherno', 'charles', 'cave', 'maro', 'airat', 'technology', 'tsk', 'betterfrom', 'havana', 'muchneeded', 'furnish', 'ga', 'exhibited', 'newamericanairline', 'cheapslogannotmotto', 'cases', 'westjet', 'servers', 'tiday', 'corner', 'asses', 'nevergettinghome', 'easter', 'worseas', 'seatout', 'foodnothing', 'efficencies', 'body', 'downs', 'meat', 'punishedforflying', 'artisanal', 'pairing', 'wallstreet', 'scope', 'imaginedragons', 'slaycancerwithdragons', 'malaysia', 'kuala', 'lumpur', 'fransico', 'evacuated', 'glowing', 'sparkled', 'alabama', 'caribbean', 'ld', 'bear', 'seriousness', 'beingsuckontarmacsucks', 'enormous', 'connectin', 'nyfw', 'screakjmf', 'noexcusesaccepted', 'ownerhelp', 'honesty', 'choppy', 'gusty', 'wa', 'wthe', 'windchill', 'invoice', 'availableyour', 'ux', 'shuttles', 'riedel', 'exceptions', 'delaymissed', 'connectionand', 'whining', 'openskies', 'astounds', 'scooby', 'helpless', 'verifies', 'availab', 'laxnyc', 'wreservations', 'excellence', 'warmest', 'negativedegrees', 'snowwillnevermelt', 'kybilc', 'adjacent', 'isle', 'reveal', 'sandiego', 'idlovetoask', 'keepusguessing', 'isthisyourfirsttry', 'thingunited', 'crackersnabisco', 'pepperidge', 'farms', 'settle', 'igiveup', 'evenmorespace', 'evenmoreview', 'partnerships', 'businessso', 'desires', 'bringyourown', 'phoneeeee', 'februaryi', 'sexually', 'daysampcharging', 'toarrange', 'upin', 'argentinaclaiming', 'tollfree', 'upsetting', 'staffcust', 'backtowinter', 'refreshed', 'atct', 'documentation', 'sailed', 'freaked', 'limbo', 'asus', 'wondered', 'rise', 'hassles', 'patheticcx', 'guyana', 'cabcelled', 'qqbmug', 'reticketed', 'airlinehate', 'beijing', 'bergstrom', 'worstthingever', 'fedexed', 'pump', 'disciplined', 'extortion', 'wiped', 'discusses', 'possibilities', 'nhl', 'arena', 'sportsbiz', 'trend', 'topnews', 'arab', 'emirates', 'obsessed', 'hail', 'joplin', 'jln', 'sil', 'declined', 'activity', 'flustered', 'disappoints', 'taxies', 'liberty', 'portauprince', 'haiti', 'supplies', 'orphan', 'correspondence', 'deborah', 'evennotified', 'theflight', 'isdelayed', 'emailtextphone', 'callif', 'wererunning', 'wcompanies', 'foru', 'prolly', 'fulfill', 'flighthis', 'marry', 'lamp', 'desperate', 'donthavehighhopes', 'infinite', 'praised', 'eventprof', 'propositioned', 'attendanttrue', 'creditcardsales', 'usuck', 'sureill', 'flightamp', 'mislead', 'sobbing', 'uas', 'establish', 'facilities', 'maine', 'dullestostatecollege', 'runningonthreehoursofsleep', 'delayedovernight', 'iahhnl', 'reactive', 'friendlysky', 'cableinternet', 'upgd', 'steep', 'boozefood', 'selections', 'gc', 'thu', 'brownsville', 'arose', 'tuldal', 'icecream', 'intel', 'became', 'logically', 'uggh', 'wmass', 'janna', 'weappreciateyou', 'jetbluefame', 'cents', 'recordings', 'ishouldhavedriven', 'rescued', 'againestimated', 'wpg', 'wcomputer', 'chartering', 'buisness', 'repeatedly', 'erring', 'loner', 'caution', 'jammed', 'bundle', 'vouchersany', 'reservationexplain', 'spruce', 'moose', 'lofty', 'silverstatus', 'ceos', 'challenge', 'columbian', 'radish', 'possession', 'makers', 'mindset', 'noexcuses', 'noshow', 'scoot', 'illness', 'forfeits', 'footage', 'snapchat', 'demolish', 'mccarran', 'yuck', 'alerted', 'showsomerespect', 'glassdoors', 'snagging', 'notsurprising', 'luvthem', 'passengerbillofrights', 'dedication', 'mos', 'managers', 'flightledcant', 'starbucks', 'recycle', 'bagtag', 'vanished', 'commutation', 'mcogtdca', 'msydca', 'swamistake', 'smelled', 'ultimately', 'html', 'lauderdalebogot', 'colombian', 'earthquake', 'relief', 'heh', 'begrudgingly', 'resources', 'delaykilling', 'iny', 'battling', 'freyasfund', 'theworstairline', 'daytonabeach', 'carsl', 'comedic', 'othr', 'swas', 'marthas', 'african', 'festival', 'mv', 'cmfatfeet', 'fallflorida', 'everglades', 'faint', 'sunburn', 'awayhere', 'cavalli', 'calves', 'interfering', 'compartments', 'avon', 'compton', 'mewhat', 'eight', 'jvstatus', 'milage', 'declared', 'squawking', 'campus', 'miasfo', 'nonewplanes', 'belligerent', 'ranting', 'hoot', 'villages', 'fo', 'keepingtraditionsalive', 'unitedsucksdick', 'frank', 'complimenting', 'servicemost', 'responseservice', 'rebecca', 'levi', 'jfklas', 'laish', 'comparing', 'sabre', 'lostandforgotten', 'nickeled', 'inout', 'terriblebeen', 'contingencies', 'unprofessionalism', 'dividendrewards', 'urgently', 'fulfilled', 'reqs', 'bcuz', 'pac', 'downloaded', 'displayed', 'hts', 'firing', 'loaned', 'she', 'func', 'such', 'vrm', 'neveind', 'incidentally', 'sheila', 'jetbluesucks', 'safetyservice', 'brendan', 'shortlyrs', 'okie', 'doke', 'lo', 'dignity', 'makingthingseasy', 'feelbetter', 'responsesme', 'cartagena', 'praises', 'pact', 'ml', 'gthour', 'selves', 'mintalicious', 'shelleyandmarcrock', 'crystal', 'refurbish', 'quarter', 'ritacomo', 'opportunities', 'remained', 'whyso', 'fewdirectflights', 'hahaha', 'sandra', 'commented', 'precludes', 'visiting', 'contingency', 'wewantcomps', 'linkemail', 'irene', 'paxex', 'managing', 'undelayed', 'hughes', 'automobiles', 'dcamanual', 'height', 'booksampmedicine', 'orphanage', 'react', 'wings', 'classiq', 'greetingz', 'whyany', 'older', 'wipe', 'chuckhole', 'trials', 'egregious', 'sam', 'adams', 'usurious', 'birder', 'trap', 'tug', 'baked', 'replys', 'usairwaysssuck', 'timeand', 'keepit', 'tmw', 'usvi', 'multicity', 'ump', 'bridgewaitingforbagsunitedewr', 'usingthisword', 'rolled', 'changemassive', 'uppp', 'imtired', 'wannagohome', 'simplify', 'stiiiil', 'onlineis', 'delete', 'aforementioned', 'patron', 'hoodlums', 'nogate', 'noting', 'dealings', 'stubborn', 'demanding', 'ijustwanttosleep', 'credibility', 'observe', 'iusedtoloveu', 'sorude', 'thete', 'recharging', 'nosecuritylines', 'narrowly', 'standbylots', 'snags', 'beought', 'unexpactable', 'plants', 'productivity', 'healthbenefitsofplants', 'gardening', 'exercise', 'miserably', 'awaywhy', 'setting', 'tminus', 'freeneversucks', 'platter', 'abundance', 'supervisors', 'jeanette', 'freecomedyshow', 'newlifetimecustomer', 'fist', 'bumphigh', 'loctjycqh', 'nitenot', 'pu', 'unt', 'aft', 'transcontinental', 'pleasurerelief', 'destin', 'walton', 'ampwebsite', 'bool', 'niggaz', 'toyingwithouremotions', 'durango', 'farmington', 'slopes', 'hotter', 'celebrate', 'courtney', 'stuffy', 'faults', 'miscalculation', 'disrespectfully', 'strive', 'fllight', 'minsits', 'alittle', 'tsapre', 'whyyy', 'americanairsucks', 'hiremorepoeple', 'downthanks', 'isabelle', 'gramp', 'minsrescue', 'opposed', 'describing', 'ids', 'alternatively', 'sweepstakes', 'nutsaboutsouthwest', 'commit', 'bmi', 'avoided', 'buzzkill', 'electronic', 'nexttime', 'andthewinneris', 'ees', 'chking', 'schd', 'unbelievably', 'tense', 'occasion', 'pens', 'ed', 'okee', 'imjustsaying', 'annamarie', 'norris', 'recognized', 'sime', 'noapology', 'lacma', 'fairfax', 'sgf', 'eg', 'muc', 'evv', 'tempting', 'sodone', 'aaso', 'woodland', 'virginia', 'powered', 'blushing', 'honululu', 'advisorynow', 'gohelp', 'luxuriesaesthetics', 'tools', 'disputed', 'subterfuge', 'dissapointed', 'paseengers', 'santo', 'domingo', 'confuses', 'fargo', 'amazings', 'noclothesnoinfo', 'flythroughs', 'strength', 'reached', 'emphasize', 'vape', 'whacked', 'terra', 'chips', 'retweet', 'dcapit', 'barelyexpired', 'rapidrewards', 'donotflywiththem', 'smaller', 'requirements', 'backpacks', 'arbitrary', 'vancouver', 'rumor', 'transparent', 'reeks', 'vomit', 'hamsters', 'rabbits', 'foresight', 'acquired', 'kravitz', 'reduction', 'careers', 'intuitlife', 'leanin', 'trumping', 'warrants', 'prbound', 'cesspool', 'germs', 'knowexpect', 'flightsrefunds', 'grandparents', 'misbehavior', 'dubai', 'gentleman', 'sloooowresponses', 'reebooked', 'lvdfw', 'funerals', 'havin', 'costwhy', 'sham', 'secondly', 'demonstration', 'corny', 'bully', 'mentality', 'fostering', 'inspiration', 'employeerelations', 'herewhen', 'figures', 'suddenly', 'truthful', 'thickens', 'scenario', 'toolittletoolate', 'audience', 'usaw', 'responsivethoughts', 'guidance', 'considerable', 'monkey', 'mdwmci', 'homeandreadyfornexttrip', 'likeagirl', 'smm', 'sets', 'ringling', 'barnum', 'bailey', 'peeled', 'obama', 'sato', 'bringin', 'bdldca', 'spooky', 'spook', 'scare', 'phltoslc', 'potentially', 'diffused', 'dumps', 'spade', 'spiced', 'rum', 'destroy', 'amponly', 'wthem', 'walkway', 'champagne', 'ordnrt', 'tokyomarathon', 'beverage', 'moveup', 'eliza', 'barriers', 'energy', 'pitts', 'somethingwhich', 'nothinghoping', 'waynot', 'saipan', 'guam', 'adventure', 'rndtrp', 'fixthis', 'metars', 'thismosaicnothappy', 'bleh', 'biztravel']\n"
          ],
          "name": "stdout"
        }
      ]
    },
    {
      "cell_type": "code",
      "metadata": {
        "id": "i29aesulftFt",
        "outputId": "cb6a120b-b7d3-4f7f-b709-8878b203af94",
        "colab": {
          "base_uri": "https://localhost:8080/",
          "height": 0
        }
      },
      "source": [
        "len(vocabulary)"
      ],
      "execution_count": 13,
      "outputs": [
        {
          "output_type": "execute_result",
          "data": {
            "text/plain": [
              "11106"
            ]
          },
          "metadata": {
            "tags": []
          },
          "execution_count": 13
        }
      ]
    },
    {
      "cell_type": "markdown",
      "metadata": {
        "id": "X3t3qbvCFJkT"
      },
      "source": [
        "## Part 1 - KNN from Scrach"
      ]
    },
    {
      "cell_type": "code",
      "metadata": {
        "id": "lZ4mFxfxP8NR"
      },
      "source": [
        "X_train = df_train['preprocessedTweets'].apply(vectorize)"
      ],
      "execution_count": 14,
      "outputs": []
    },
    {
      "cell_type": "code",
      "metadata": {
        "id": "xVrtQgISILsz"
      },
      "source": [
        "X_test = df_test['preprocessedTweets'].apply(vectorize)"
      ],
      "execution_count": 15,
      "outputs": []
    },
    {
      "cell_type": "code",
      "metadata": {
        "id": "WJ0PL4WXyZ80"
      },
      "source": [
        "# Transform categories to 1 for Neutral, 2 for Positive and 3 for Negative\n",
        "def trans(sentiment):\n",
        "  if sentiment == \"neutral\":\n",
        "    return 1\n",
        "  elif sentiment == \"positive\":\n",
        "    return 2\n",
        "  else:\n",
        "    return 3"
      ],
      "execution_count": 16,
      "outputs": []
    },
    {
      "cell_type": "code",
      "metadata": {
        "id": "5StrFhoMF1Yt"
      },
      "source": [
        "X_train = np.stack(X_train)\n",
        "X_test = np.stack(X_test)\n",
        "Y_train = np.asarray(df_train['Sentiment'].apply(trans))\n",
        "Y_test = np.asarray(df_test['Sentiment'].apply(trans))"
      ],
      "execution_count": 17,
      "outputs": []
    },
    {
      "cell_type": "code",
      "metadata": {
        "id": "hxD0XaSbJFjQ",
        "outputId": "1604ae51-b440-410a-d9cc-ccf95d51d723",
        "colab": {
          "base_uri": "https://localhost:8080/",
          "height": 34
        }
      },
      "source": [
        "X_train.shape"
      ],
      "execution_count": 18,
      "outputs": [
        {
          "output_type": "execute_result",
          "data": {
            "text/plain": [
              "(11680, 11106)"
            ]
          },
          "metadata": {
            "tags": []
          },
          "execution_count": 18
        }
      ]
    },
    {
      "cell_type": "code",
      "metadata": {
        "id": "_ViTSRGdWZau"
      },
      "source": [
        "# Calculates distances \n",
        "def distances(train, test):\n",
        "    dists = np.zeros((test.shape[0], train.shape[0])) \n",
        "    dists = np.sqrt(- 2*np.dot(test, train.T) + np.sum(np.square(train), axis = 1) + np.sum(np.square(test), axis = 1)[:, np.newaxis])\n",
        "    # dists = cdist(test, train, 'euclidean')\n",
        "    return dists"
      ],
      "execution_count": 19,
      "outputs": []
    },
    {
      "cell_type": "code",
      "metadata": {
        "id": "RGLOEpqzFfYq"
      },
      "source": [
        "# Predicts labels\n",
        "def predictLabels(y_train, dists, k=1):\n",
        "\n",
        "    y_pred = np.zeros(dists.shape[0])\n",
        "    for i in range(dists.shape[0]):\n",
        "      # A list of length k storing the labels of the k nearest neighbors to\n",
        "      # the ith test point.\n",
        "      y_closest = []\n",
        "    \n",
        "      y_closest = y_train[np.argsort(dists[i])[:k]]\n",
        "      y_pred[i] = np.argmax(np.bincount(y_closest))\n",
        "\n",
        "    return y_pred"
      ],
      "execution_count": 20,
      "outputs": []
    },
    {
      "cell_type": "code",
      "metadata": {
        "id": "ARl89f_nKgSQ",
        "outputId": "a27fabc3-875e-4b9d-94c2-c1d64360cb1f",
        "colab": {
          "base_uri": "https://localhost:8080/",
          "height": 136
        }
      },
      "source": [
        "#Calculate distances\n",
        "dists = distances(X_train, X_test)\n",
        "print(dists)"
      ],
      "execution_count": 21,
      "outputs": [
        {
          "output_type": "stream",
          "text": [
            "[[2.23606798 2.44948974 4.89897949 ... 3.16227766 3.87298335 2.82842712]\n",
            " [3.31662479 3.46410162 5.47722558 ... 4.         4.58257569 3.74165739]\n",
            " [2.44948974 2.64575131 4.79583152 ... 3.31662479 4.         3.        ]\n",
            " ...\n",
            " [2.23606798 2.44948974 4.89897949 ... 3.16227766 3.87298335 2.82842712]\n",
            " [4.24264069 4.35889894 6.08276253 ... 4.79583152 5.29150262 4.58257569]\n",
            " [3.46410162 3.60555128 5.56776436 ... 4.12310563 4.69041576 3.87298335]]\n"
          ],
          "name": "stdout"
        }
      ]
    },
    {
      "cell_type": "code",
      "metadata": {
        "id": "I_aDNTg9cFSF"
      },
      "source": [
        "# calculate a confusion matrix\n",
        "def confusion_matrix(actual, predicted):\n",
        "\tunique = set(actual)\n",
        "\tmatrix = [list() for x in range(len(unique))]\n",
        "\tfor i in range(len(unique)):\n",
        "\t\tmatrix[i] = [0 for x in range(len(unique))]\n",
        "\tlookup = dict()\n",
        "\tfor i, value in enumerate(unique):\n",
        "\t\tlookup[value] = i\n",
        "\tfor i in range(len(actual)):\n",
        "\t\tx = lookup[actual[i]]\n",
        "\t\ty = lookup[predicted[i]]\n",
        "\t\tmatrix[y][x] += 1\n",
        "\treturn unique, matrix\n",
        "# calculate precision, recall, and f1 score\n",
        "def precision_recall_f1score(matrix, y_test):\n",
        "  precision = []\n",
        "  recall = []\n",
        "  f1Score = []\n",
        "  for i in range(len(matrix)):\n",
        "    totalPositive = matrix[i][0] + matrix[i][1] + matrix[i][2]\n",
        "    actualPositive = np.count_nonzero(y_test == (i+1))\n",
        "    for j in range(len(matrix[0])):\n",
        "      if i == j:\n",
        "        precision.append(matrix[i][j]/totalPositive)\n",
        "        recall.append(matrix[i][j]/actualPositive)\n",
        "    # f1 Score\n",
        "    f1Score.append(2* (precision[i]*recall[i])/(precision[i]+recall[i]))\n",
        "\n",
        "  \n",
        "  return precision, recall, f1Score\n"
      ],
      "execution_count": 22,
      "outputs": []
    },
    {
      "cell_type": "code",
      "metadata": {
        "id": "E00BphbOikRk",
        "outputId": "7afda62c-0f19-4971-fc0b-e4bb4f50e6d0",
        "colab": {
          "base_uri": "https://localhost:8080/",
          "height": 697
        }
      },
      "source": [
        "K = [1,3,5,7,10]\n",
        "accuracies = []\n",
        "precisions = []\n",
        "recalls = []\n",
        "f1scores = []\n",
        "for k in K:\n",
        "  Y_pred = predictLabels(Y_train, dists, k)\n",
        "  accuracy = (float(np.sum(Y_pred == Y_test)) / Y_test.shape[0])*100\n",
        "  unique, matrix = confusion_matrix(Y_test, Y_pred)\n",
        "  prec, rec, f1Sco = precision_recall_f1score(matrix, Y_test)\n",
        "  accuracies.append(accuracy)\n",
        "  precisions.append(prec)\n",
        "  recalls.append(rec)\n",
        "  f1scores.append(f1Sco)\n",
        "  # Print\n",
        "  print(\"K = \", k)\n",
        "  print('Accuracy: %f %%' % accuracy)\n",
        "  print(\"Precision: \", np.average(prec))\n",
        "  print(\"Recall:    \", np.average(rec))\n",
        "  print(\"F1Score:   \", np.average(f1Sco))\n",
        "  print(\"Confusion Matrix\", matrix)\n",
        "\n",
        "  print(\"_____________________________________________________________________________________________\\n\")"
      ],
      "execution_count": 23,
      "outputs": [
        {
          "output_type": "stream",
          "text": [
            "K =  1\n",
            "Accuracy: 55.049641 %\n",
            "Precision:  0.5657831124276101\n",
            "Recall:     0.5835634386924429\n",
            "F1Score:    0.538049668494044\n",
            "Confusion Matrix [[417, 144, 768], [83, 269, 144], [115, 59, 922]]\n",
            "_____________________________________________________________________________________________\n",
            "\n",
            "K =  3\n",
            "Accuracy: 51.318042 %\n",
            "Precision:  0.5843364623353589\n",
            "Recall:     0.5839266473408871\n",
            "F1Score:    0.5220025878472204\n",
            "Confusion Matrix [[473, 167, 952], [66, 269, 125], [76, 36, 757]]\n",
            "_____________________________________________________________________________________________\n",
            "\n",
            "K =  5\n",
            "Accuracy: 48.955837 %\n",
            "Precision:  0.5754437791084498\n",
            "Recall:     0.5785589849272242\n",
            "F1Score:    0.5012419886877612\n",
            "Confusion Matrix [[490, 168, 1012], [77, 271, 153], [48, 33, 669]]\n",
            "_____________________________________________________________________________________________\n",
            "\n",
            "K =  7\n",
            "Accuracy: 48.339610 %\n",
            "Precision:  0.5778302320134684\n",
            "Recall:     0.5823651747367149\n",
            "F1Score:    0.4989069657408906\n",
            "Confusion Matrix [[498, 157, 1045], [79, 279, 154], [38, 36, 635]]\n",
            "_____________________________________________________________________________________________\n",
            "\n",
            "K =  10\n",
            "Accuracy: 45.566587 %\n",
            "Precision:  0.5696175483813936\n",
            "Recall:     0.567086958044044\n",
            "F1Score:    0.47591109412292015\n",
            "Confusion Matrix [[495, 162, 1118], [88, 280, 160], [32, 30, 556]]\n",
            "_____________________________________________________________________________________________\n",
            "\n"
          ],
          "name": "stdout"
        }
      ]
    },
    {
      "cell_type": "markdown",
      "metadata": {
        "id": "7t7nI0XjZetQ"
      },
      "source": [
        "### Plots"
      ]
    },
    {
      "cell_type": "code",
      "metadata": {
        "id": "kaMr0BtUu9W3",
        "outputId": "81fa6372-abf3-4cbd-cb0c-2e90fc4b96fe",
        "colab": {
          "base_uri": "https://localhost:8080/",
          "height": 295
        }
      },
      "source": [
        "plt.bar(K, accuracies, align='center', alpha=0.5)\n",
        "plt.xticks(K)\n",
        "plt.ylabel('Accuracy')\n",
        "plt.xlabel('Value of K')\n",
        "plt.title('Accuracy Comparison')\n",
        "plt.show()"
      ],
      "execution_count": 24,
      "outputs": [
        {
          "output_type": "display_data",
          "data": {
            "image/png": "[encoded data removed]",
            "text/plain": [
              "<Figure size 432x288 with 1 Axes>"
            ]
          },
          "metadata": {
            "tags": [],
            "needs_background": "light"
          }
        }
      ]
    },
    {
      "cell_type": "code",
      "metadata": {
        "id": "8vV6lqaFsylQ",
        "outputId": "3398df44-5c28-4f78-c63a-ad5071a71bba",
        "colab": {
          "base_uri": "https://localhost:8080/",
          "height": 295
        }
      },
      "source": [
        "plt.bar(K, np.average(precisions, axis=1), align='center', alpha=0.5)\n",
        "plt.xticks(K)\n",
        "plt.ylabel('Precision')\n",
        "plt.xlabel('Value of K')\n",
        "plt.title('Precision Comparison')\n",
        "\n",
        "plt.show()"
      ],
      "execution_count": 25,
      "outputs": [
        {
          "output_type": "display_data",
          "data": {
            "image/png": "[encoded data removed]",
            "text/plain": [
              "<Figure size 432x288 with 1 Axes>"
            ]
          },
          "metadata": {
            "tags": [],
            "needs_background": "light"
          }
        }
      ]
    },
    {
      "cell_type": "code",
      "metadata": {
        "id": "mgHSGNZqusQ3",
        "outputId": "b38ae64c-57ce-4c10-988c-791506ddef9d",
        "colab": {
          "base_uri": "https://localhost:8080/",
          "height": 295
        }
      },
      "source": [
        "plt.bar(K, np.average(recalls, axis=1), align='center', alpha=0.5)\n",
        "plt.xticks(K)\n",
        "plt.ylabel('Recall')\n",
        "plt.xlabel('Value of K')\n",
        "plt.title('Recall Comparison')\n",
        "\n",
        "plt.show()"
      ],
      "execution_count": 26,
      "outputs": [
        {
          "output_type": "display_data",
          "data": {
            "image/png": "[encoded data removed]",
            "text/plain": [
              "<Figure size 432x288 with 1 Axes>"
            ]
          },
          "metadata": {
            "tags": [],
            "needs_background": "light"
          }
        }
      ]
    },
    {
      "cell_type": "code",
      "metadata": {
        "id": "_icd4nPWuztI",
        "outputId": "d5806dee-aefc-4854-dc16-142198a0fb2d",
        "colab": {
          "base_uri": "https://localhost:8080/",
          "height": 295
        }
      },
      "source": [
        "plt.bar(K, np.average(f1scores, axis=1), align='center', alpha=0.5)\n",
        "plt.xticks(K)\n",
        "plt.ylabel('F1 Score')\n",
        "plt.xlabel('Value of K')\n",
        "plt.title('F1 Score Comparison')\n",
        "\n",
        "plt.show()"
      ],
      "execution_count": 27,
      "outputs": [
        {
          "output_type": "display_data",
          "data": {
            "image/png": "[encoded data removed]",
            "text/plain": [
              "<Figure size 432x288 with 1 Axes>"
            ]
          },
          "metadata": {
            "tags": [],
            "needs_background": "light"
          }
        }
      ]
    },
    {
      "cell_type": "markdown",
      "metadata": {
        "id": "js212LeH4bZ2"
      },
      "source": [
        "## Part 2 - scikit-learn’s kNN"
      ]
    },
    {
      "cell_type": "code",
      "metadata": {
        "id": "seQwjVlB6P6X"
      },
      "source": [
        "from sklearn.neighbors import KNeighborsClassifier\n",
        "from sklearn.metrics import multilabel_confusion_matrix\n",
        "from sklearn.metrics import precision_score\n",
        "from sklearn.metrics import recall_score\n",
        "from sklearn.metrics import f1_score"
      ],
      "execution_count": 28,
      "outputs": []
    },
    {
      "cell_type": "code",
      "metadata": {
        "id": "ce7PTXc34Hoe"
      },
      "source": [
        "def KNN(k, x_train, x_test, y_train, y_test):\n",
        "  #Setup a knn classifier with k neighbors\n",
        "  knn = KNeighborsClassifier(n_neighbors=k)\n",
        "  #Fit the model\n",
        "  knn.fit(x_train, y_train)\n",
        "  #Compute accuracy on the training set\n",
        "  train_accuracy = knn.score(x_train, y_train)\n",
        "  #Compute accuracy on the test set\n",
        "  test_accuracy = knn.score(x_test, y_test) \n",
        "  #Make predictions\n",
        "  y_pred = knn.predict(x_test)\n",
        "  #Compute confusion matrix\n",
        "  sk_matrix = multilabel_confusion_matrix(y_test, y_pred)\n",
        "  #Compute Precision\n",
        "  sk_prec = precision_score(y_test, y_pred, average='macro')\n",
        "  #Compute recall\n",
        "  sk_rec = recall_score(y_test, y_pred, average='macro')\n",
        "  #Compute F1 Score\n",
        "  sk_f1sco = f1_score(y_test, y_pred, average='macro')\n",
        "\n",
        "  return train_accuracy, test_accuracy, sk_matrix, sk_prec, sk_rec, sk_f1sco"
      ],
      "execution_count": 31,
      "outputs": []
    },
    {
      "cell_type": "code",
      "metadata": {
        "id": "ZsjvCR3-5oCs",
        "outputId": "03829223-aae4-44b8-a122-62db57587e68",
        "colab": {
          "base_uri": "https://localhost:8080/",
          "height": 833
        }
      },
      "source": [
        "K = [1,3,5,7,10]\n",
        "# store computed data\n",
        "train_accuracies =np.empty(len(K))\n",
        "test_accuracies = np.empty(len(K))\n",
        "sk_precisions = np.empty(len(K))\n",
        "sk_recalls = np.empty(len(K))\n",
        "sk_f1scores = np.empty(len(K))\n",
        "\n",
        "for i ,k in enumerate(K):\n",
        "    #Compute\n",
        "    train_accuracies[i], test_accuracies[i], sk_matrix, sk_precisions[i], sk_recalls[i], sk_f1scores[i] = KNN(k ,X_train, X_test, Y_train, Y_test)\n",
        "\n",
        "    print(\"K = \", k)\n",
        "    print('Train Accuracy: %f %%' % train_accuracies[i])\n",
        "    print('Test Accuracy: %f %%' % test_accuracies[i])\n",
        "    print(\"Precision: \", sk_precisions[i])\n",
        "    print(\"Recall:    \", sk_recalls[i])\n",
        "    print(\"F1Score:   \", sk_f1scores[i])\n",
        "    print(\"Confusion Matrix\\n\", sk_matrix)\n",
        "\n",
        "    print(\"_____________________________________________________________________________________________\\n\")"
      ],
      "execution_count": null,
      "outputs": [
        {
          "output_type": "stream",
          "text": [
            "K =  1\n",
            "Train Accuracy: 0.990325 %\n",
            "Test Accuracy: 0.530298 %\n",
            "Precision:  0.5564757720721024\n",
            "Recall:     0.5687029988518838\n",
            "F1Score:    0.5191938206089574\n",
            "Confusion Matrix [[[1328  978]\n",
            "  [ 176  439]]\n",
            "\n",
            " [[2227  222]\n",
            "  [ 226  246]]\n",
            "\n",
            " [[ 915  172]\n",
            "  [ 970  864]]]\n",
            "_____________________________________________________________________________________________\n",
            "\n",
            "K =  3\n",
            "Train Accuracy: 0.683990 %\n",
            "Test Accuracy: 0.487162 %\n",
            "Precision:  0.5791327869895343\n",
            "Recall:     0.5679418978865315\n",
            "F1Score:    0.49798604546325514\n",
            "Confusion Matrix [[[1090 1216]\n",
            "  [ 116  499]]\n",
            "\n",
            " [[2264  185]\n",
            "  [ 225  247]]\n",
            "\n",
            " [[ 990   97]\n",
            "  [1157  677]]]\n",
            "_____________________________________________________________________________________________\n",
            "\n",
            "K =  5\n",
            "Train Accuracy: 0.604110 %\n",
            "Test Accuracy: 0.466963 %\n",
            "Precision:  0.5683871687412797\n",
            "Recall:     0.5657423006313312\n",
            "F1Score:    0.4831786082065757\n",
            "Confusion Matrix [[[1057 1249]\n",
            "  [ 120  495]]\n",
            "\n",
            " [[2221  228]\n",
            "  [ 206  266]]\n",
            "\n",
            " [[1007   80]\n",
            "  [1231  603]]]\n",
            "_____________________________________________________________________________________________\n",
            "\n"
          ],
          "name": "stdout"
        }
      ]
    },
    {
      "cell_type": "markdown",
      "metadata": {
        "id": "Vf-T-Hg2ZXBs"
      },
      "source": [
        "### Plots"
      ]
    },
    {
      "cell_type": "code",
      "metadata": {
        "id": "nLSD1za-6w5I"
      },
      "source": [
        "#plot train accuracy\n",
        "plt.bar(K, train_accuracies, align='center', alpha=0.5)\n",
        "plt.xticks(K)\n",
        "plt.ylabel('Train Accuracy')\n",
        "plt.xlabel('Value of K')\n",
        "plt.title('Train Accuracy Comparison')\n",
        "plt.show()"
      ],
      "execution_count": null,
      "outputs": []
    },
    {
      "cell_type": "code",
      "metadata": {
        "id": "o-PwowTztinj"
      },
      "source": [
        "#plot test accuracy\n",
        "plt.bar(K, test_accuracies, align='center', alpha=0.5)\n",
        "plt.xticks(K)\n",
        "plt.ylabel('Test Accuracy')\n",
        "plt.xlabel('Value of K')\n",
        "plt.title('Test Accuracy Comparison')\n",
        "plt.show()"
      ],
      "execution_count": null,
      "outputs": []
    },
    {
      "cell_type": "code",
      "metadata": {
        "id": "kSCaR3TXtpOd"
      },
      "source": [
        "#plot precisions\n",
        "plt.bar(K, sk_precisions, align='center', alpha=0.5)\n",
        "plt.xticks(K)\n",
        "plt.ylabel('Precision')\n",
        "plt.xlabel('Value of K')\n",
        "plt.title('Precision Comparison')\n",
        "plt.show()"
      ],
      "execution_count": null,
      "outputs": []
    },
    {
      "cell_type": "code",
      "metadata": {
        "id": "9BcSLZOnt2rW"
      },
      "source": [
        "#plot recalls\n",
        "plt.bar(K, sk_recalls, align='center', alpha=0.5)\n",
        "plt.xticks(K)\n",
        "plt.ylabel('Recall')\n",
        "plt.xlabel('Value of K')\n",
        "plt.title('Recall Comparison')\n",
        "plt.show()"
      ],
      "execution_count": null,
      "outputs": []
    },
    {
      "cell_type": "code",
      "metadata": {
        "id": "FyYx0HKEt8wG"
      },
      "source": [
        "#plot f1scores\n",
        "plt.bar(K, sk_f1scores, align='center', alpha=0.5)\n",
        "plt.xticks(K)\n",
        "plt.ylabel('F1 Score')\n",
        "plt.xlabel('Value of K')\n",
        "plt.title('F1 Score Comparison')\n",
        "plt.show()"
      ],
      "execution_count": null,
      "outputs": []
    },
    {
      "cell_type": "markdown",
      "metadata": {
        "id": "OYW9SnUIyn3u"
      },
      "source": [
        "## Part 3 - Word2Vec"
      ]
    },
    {
      "cell_type": "code",
      "metadata": {
        "id": "CUmq0xS5zsAV"
      },
      "source": [
        "from gensim.models import KeyedVectors"
      ],
      "execution_count": null,
      "outputs": []
    },
    {
      "cell_type": "code",
      "metadata": {
        "id": "_LNiu8ROGPbB"
      },
      "source": [
        "word2vec = KeyedVectors.load_word2vec_format(\"/content/drive/My Drive/Colab Notebooks/ML-PA1/GoogleNews-vectors-negative300.bin.gz\", binary=True)"
      ],
      "execution_count": null,
      "outputs": []
    },
    {
      "cell_type": "code",
      "metadata": {
        "id": "CUnPRiE6WK13"
      },
      "source": [
        "type(word2vec)"
      ],
      "execution_count": null,
      "outputs": []
    },
    {
      "cell_type": "code",
      "metadata": {
        "id": "zuQPsRx4GqPH"
      },
      "source": [
        "# Feature extractor\n",
        "def extract_features(text):\n",
        "  words = [word for word in text.split() if word in word2vec.vocab]\n",
        "  if len(words) == 0:\n",
        "    return np.asarray([])\n",
        "  return np.asarray(np.mean(word2vec[words], axis=0))"
      ],
      "execution_count": null,
      "outputs": []
    },
    {
      "cell_type": "code",
      "metadata": {
        "id": "uhnTzenHa4LD"
      },
      "source": [
        "X_train = np.asarray(df_train['Tweet'].apply(extract_features))\n",
        "X_test = np.asarray(df_test['Tweet'].apply(extract_features))\n",
        "\n",
        "Y_train = np.asarray(df_train['Sentiment'].apply(trans))\n",
        "Y_test = np.asarray(df_test['Sentiment'].apply(trans))"
      ],
      "execution_count": null,
      "outputs": []
    },
    {
      "cell_type": "code",
      "metadata": {
        "id": "kXHksTNT7Zfr"
      },
      "source": [
        "print(X_train[21])"
      ],
      "execution_count": null,
      "outputs": []
    },
    {
      "cell_type": "code",
      "metadata": {
        "id": "MpDxe_pH9_P-"
      },
      "source": [
        "# Removes empy entries\n",
        "def cleanData(x, y):\n",
        "  entriesToDelete = []\n",
        "  for i in range(x.size):\n",
        "    if x[i].size == 0:\n",
        "      entriesToDelete.append(i)\n",
        "  y = np.delete(y, entriesToDelete )\n",
        "  x = np.delete(x, entriesToDelete )\n",
        "  return x, y"
      ],
      "execution_count": null,
      "outputs": []
    },
    {
      "cell_type": "code",
      "metadata": {
        "id": "vYDZuhBE6skV"
      },
      "source": [
        "#Removing the entries for which there was no word in word2vec vocab\n",
        "X_train, Y_train = cleanData(X_train, Y_train)\n",
        "X_test, Y_test = cleanData(X_test, Y_test)   "
      ],
      "execution_count": null,
      "outputs": []
    },
    {
      "cell_type": "code",
      "metadata": {
        "id": "9_0ppW4aDonA"
      },
      "source": [
        "X_train = np.stack(X_train)\n",
        "X_test  = np.stack(Y_train)"
      ],
      "execution_count": null,
      "outputs": []
    },
    {
      "cell_type": "markdown",
      "metadata": {
        "id": "f5bJcgnQG_G4"
      },
      "source": [
        "### Part 1 with Word2Vec"
      ]
    },
    {
      "cell_type": "code",
      "metadata": {
        "id": "jzez6IvOHIGY"
      },
      "source": [
        "#Calculate distances\n",
        "dists = distances(X_train, X_test)\n",
        "print(dists)"
      ],
      "execution_count": null,
      "outputs": []
    },
    {
      "cell_type": "code",
      "metadata": {
        "id": "sD946Y-SHJki"
      },
      "source": [
        "K = [1,3,5,7,10]\n",
        "accuracies = []\n",
        "precisions = []\n",
        "recalls = []\n",
        "f1scores = []\n",
        "for k in K:\n",
        "  Y_pred = predictLabels(Y_train, dists, k)\n",
        "  accuracy = (float(np.sum(Y_pred == Y_test)) / Y_test.shape[0])*100\n",
        "  unique, matrix = confusion_matrix(Y_test, Y_pred)\n",
        "  prec, rec, f1Sco = precision_recall_f1score(matrix, Y_test)\n",
        "  accuracies.append(accuracy)\n",
        "  precisions.append(prec)\n",
        "  recalls.append(rec)\n",
        "  f1scores.append(f1Sco)\n",
        "  # Print\n",
        "  print(\"Word2Vec Implementation\")\n",
        "  print(\"K = \", k)\n",
        "  print('Accuracy: %f %%' % accuracy)\n",
        "  print(\"Precision: \", np.average(prec))\n",
        "  print(\"Recall:    \", np.average(rec))\n",
        "  print(\"F1Score:   \", np.average(f1Sco))\n",
        "  print(\"Confusion Matrix\", matrix)\n",
        "\n",
        "  print(\"_____________________________________________________________________________________________\\n\")"
      ],
      "execution_count": null,
      "outputs": []
    },
    {
      "cell_type": "markdown",
      "metadata": {
        "id": "v8qOBG3tZmYe"
      },
      "source": [
        "#### Plots"
      ]
    },
    {
      "cell_type": "code",
      "metadata": {
        "id": "8M_VPOr6IVKu"
      },
      "source": [
        ""
      ],
      "execution_count": null,
      "outputs": []
    },
    {
      "cell_type": "code",
      "metadata": {
        "id": "7IYijFQMIVhG"
      },
      "source": [
        "plt.bar(K, accuracies, align='center', alpha=0.5)\n",
        "plt.xticks(K)\n",
        "plt.ylabel('Accuracy')\n",
        "plt.xlabel('Value of K')\n",
        "plt.title('Accuracy Comparison')\n",
        "plt.show()"
      ],
      "execution_count": null,
      "outputs": []
    },
    {
      "cell_type": "code",
      "metadata": {
        "id": "2kpQAKgGIVhM"
      },
      "source": [
        "plt.bar(K, np.average(precisions, axis=1), align='center', alpha=0.5)\n",
        "plt.xticks(K)\n",
        "plt.ylabel('Precision')\n",
        "plt.xlabel('Value of K')\n",
        "plt.title('Precision Comparison')\n",
        "\n",
        "plt.show()"
      ],
      "execution_count": null,
      "outputs": []
    },
    {
      "cell_type": "code",
      "metadata": {
        "id": "TZ7mIrKfIVhO"
      },
      "source": [
        "plt.bar(K, np.average(recalls, axis=1), align='center', alpha=0.5)\n",
        "plt.xticks(K)\n",
        "plt.ylabel('Recall')\n",
        "plt.xlabel('Value of K')\n",
        "plt.title('Recall Comparison')\n",
        "\n",
        "plt.show()"
      ],
      "execution_count": null,
      "outputs": []
    },
    {
      "cell_type": "code",
      "metadata": {
        "id": "5DSYbUc6IVhR"
      },
      "source": [
        "plt.bar(K, np.average(f1scores, axis=1), align='center', alpha=0.5)\n",
        "plt.xticks(K)\n",
        "plt.ylabel('F1 Score')\n",
        "plt.xlabel('Value of K')\n",
        "plt.title('F1 Score Comparison')\n",
        "\n",
        "plt.show()"
      ],
      "execution_count": null,
      "outputs": []
    },
    {
      "cell_type": "markdown",
      "metadata": {
        "id": "2u-7NzxXHKGe"
      },
      "source": [
        "### Part 2 with Word2Vec"
      ]
    },
    {
      "cell_type": "code",
      "metadata": {
        "id": "2na-IXqbIVhY"
      },
      "source": [
        "K = [1,3,5,7,10]\n",
        "# store computed data\n",
        "train_accuracies =np.empty(len(K))\n",
        "test_accuracies = np.empty(len(K))\n",
        "sk_precisions = np.empty(len(K))\n",
        "sk_recalls = np.empty(len(K))\n",
        "sk_f1scores = np.empty(len(K))\n",
        "\n",
        "for i ,k in enumerate(K):\n",
        "    #Compute\n",
        "    train_accuracies[i], test_accuracies[i], sk_matrix, sk_precisions[i], sk_recalls[i], sk_f1scores[i] = KNN(k ,X_train, X_test, Y_train, Y_test)\n",
        "\n",
        "    print(\"K = \", k)\n",
        "    print('Train Accuracy: %f %%' % train_accuracies[i])\n",
        "    print('Test Accuracy: %f %%' % test_accuracies[i])\n",
        "    print(\"Precision: \", sk_precisions[i])\n",
        "    print(\"Recall:    \", sk_recalls[i])\n",
        "    print(\"F1Score:   \", sk_f1scores[i])\n",
        "    print(\"Confusion Matrix\", sk_matrix)\n",
        "\n",
        "    print(\"_____________________________________________________________________________________________\\n\")"
      ],
      "execution_count": null,
      "outputs": []
    },
    {
      "cell_type": "markdown",
      "metadata": {
        "id": "ur13LXv4ZrSG"
      },
      "source": [
        "#### Plots"
      ]
    },
    {
      "cell_type": "code",
      "metadata": {
        "id": "c9K1ONJKIVha"
      },
      "source": [
        "#plot train accuracy\n",
        "plt.bar(K, train_accuracies, align='center', alpha=0.5)\n",
        "plt.xticks(K)\n",
        "plt.ylabel('Train Accuracy')\n",
        "plt.xlabel('Value of K')\n",
        "plt.title('Train Accuracy Comparison')\n",
        "plt.show()"
      ],
      "execution_count": null,
      "outputs": []
    },
    {
      "cell_type": "code",
      "metadata": {
        "id": "Pg4OfvRvIVhc"
      },
      "source": [
        "#plot test accuracy\n",
        "plt.bar(K, test_accuracies, align='center', alpha=0.5)\n",
        "plt.xticks(K)\n",
        "plt.ylabel('Test Accuracy')\n",
        "plt.xlabel('Value of K')\n",
        "plt.title('Test Accuracy Comparison')\n",
        "plt.show()"
      ],
      "execution_count": null,
      "outputs": []
    },
    {
      "cell_type": "code",
      "metadata": {
        "id": "1R3D6LyvIVhe"
      },
      "source": [
        "#plot precisions\n",
        "plt.bar(K, sk_precisions, align='center', alpha=0.5)\n",
        "plt.xticks(K)\n",
        "plt.ylabel('Precision')\n",
        "plt.xlabel('Value of K')\n",
        "plt.title('Precision Comparison')\n",
        "plt.show()"
      ],
      "execution_count": null,
      "outputs": []
    },
    {
      "cell_type": "code",
      "metadata": {
        "id": "iaojNjhnIVhg"
      },
      "source": [
        "#plot recalls\n",
        "plt.bar(K, sk_recalls, align='center', alpha=0.5)\n",
        "plt.xticks(K)\n",
        "plt.ylabel('Recall')\n",
        "plt.xlabel('Value of K')\n",
        "plt.title('Recall Comparison')\n",
        "plt.show()"
      ],
      "execution_count": null,
      "outputs": []
    },
    {
      "cell_type": "code",
      "metadata": {
        "id": "KnF4SSU9IVhi"
      },
      "source": [
        "#plot f1scores\n",
        "plt.bar(K, sk_f1scores, align='center', alpha=0.5)\n",
        "plt.xticks(K)\n",
        "plt.ylabel('F1 Score')\n",
        "plt.xlabel('Value of K')\n",
        "plt.title('F1 Score Comparison')\n",
        "plt.show()"
      ],
      "execution_count": null,
      "outputs": []
    },
    {
      "cell_type": "code",
      "metadata": {
        "id": "c8jtzROIHVuj"
      },
      "source": [
        ""
      ],
      "execution_count": null,
      "outputs": []
    }
  ]
}