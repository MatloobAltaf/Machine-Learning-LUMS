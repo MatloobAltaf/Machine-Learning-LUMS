{
  "nbformat": 4,
  "nbformat_minor": 0,
  "metadata": {
    "colab": {
      "name": "21100164.ipynb",
      "provenance": [],
      "collapsed_sections": [],
      "authorship_tag": "ABX9TyOGAlqFojCtZXdHpa8zH95C",
      "include_colab_link": true
    },
    "kernelspec": {
      "name": "python3",
      "display_name": "Python 3"
    }
  },
  "cells": [
    {
      "cell_type": "markdown",
      "metadata": {
        "id": "view-in-github",
        "colab_type": "text"
      },
      "source": [
        "<a href=\"https://colab.research.google.com/github/matloob-altaf/Machine-Learning-LUMS/blob/main/Programming_Assignment_1/21100164.ipynb\" target=\"_parent\"><img src=\"https://colab.research.google.com/assets/colab-badge.svg\" alt=\"Open In Colab\"/></a>"
      ]
    },
    {
      "cell_type": "code",
      "metadata": {
        "id": "qOrQGlKrZiAc",
        "outputId": "fef45e9f-885f-49c4-dc2f-367024a6455a",
        "colab": {
          "base_uri": "https://localhost:8080/",
          "height": 36
        }
      },
      "source": [
        "# mount google drive\n",
        "from google.colab import drive\n",
        "drive.mount('/content/drive')"
      ],
      "execution_count": 1,
      "outputs": [
        {
          "output_type": "stream",
          "text": [
            "Mounted at /content/drive\n"
          ],
          "name": "stdout"
        }
      ]
    },
    {
      "cell_type": "code",
      "metadata": {
        "id": "z0dmtc24EUJ9"
      },
      "source": [
        "import numpy as np\n",
        "import pandas as pd\n",
        "import matplotlib.pyplot as plt \n",
        "from scipy.spatial.distance import cdist\n",
        "import string\n",
        "import re"
      ],
      "execution_count": 2,
      "outputs": []
    },
    {
      "cell_type": "code",
      "metadata": {
        "id": "OC81xfGHE9p_",
        "outputId": "5547e878-41a9-4d19-c1ae-708000d22443",
        "colab": {
          "base_uri": "https://localhost:8080/",
          "height": 363
        }
      },
      "source": [
        "#Load datasets\n",
        "df_train = pd.read_csv(\"/content/drive/My Drive/Colab Notebooks/ML-PA1/train.csv\")\n",
        "df_test = pd.read_csv(\"/content/drive/My Drive/Colab Notebooks/ML-PA1/test.csv\")\n",
        "\n",
        "df_train.head(10)"
      ],
      "execution_count": 3,
      "outputs": [
        {
          "output_type": "execute_result",
          "data": {
            "text/html": [
              "<div>\n",
              "<style scoped>\n",
              "    .dataframe tbody tr th:only-of-type {\n",
              "        vertical-align: middle;\n",
              "    }\n",
              "\n",
              "    .dataframe tbody tr th {\n",
              "        vertical-align: top;\n",
              "    }\n",
              "\n",
              "    .dataframe thead th {\n",
              "        text-align: right;\n",
              "    }\n",
              "</style>\n",
              "<table border=\"1\" class=\"dataframe\">\n",
              "  <thead>\n",
              "    <tr style=\"text-align: right;\">\n",
              "      <th></th>\n",
              "      <th>Sentiment</th>\n",
              "      <th>Tweet</th>\n",
              "    </tr>\n",
              "  </thead>\n",
              "  <tbody>\n",
              "    <tr>\n",
              "      <th>0</th>\n",
              "      <td>neutral</td>\n",
              "      <td>@united 877 from amsterdam to ewr, 02.27.2015,...</td>\n",
              "    </tr>\n",
              "    <tr>\n",
              "      <th>1</th>\n",
              "      <td>negative</td>\n",
              "      <td>@united IT-problems with the link? #3thparty</td>\n",
              "    </tr>\n",
              "    <tr>\n",
              "      <th>2</th>\n",
              "      <td>positive</td>\n",
              "      <td>@united -today the staff @ MSP took customer s...</td>\n",
              "    </tr>\n",
              "    <tr>\n",
              "      <th>3</th>\n",
              "      <td>negative</td>\n",
              "      <td>@AmericanAir but have been yet to receive assi...</td>\n",
              "    </tr>\n",
              "    <tr>\n",
              "      <th>4</th>\n",
              "      <td>negative</td>\n",
              "      <td>@SouthwestAir  you won't let me change my rese...</td>\n",
              "    </tr>\n",
              "    <tr>\n",
              "      <th>5</th>\n",
              "      <td>neutral</td>\n",
              "      <td>@AmericanAir where do I look for cabin crew va...</td>\n",
              "    </tr>\n",
              "    <tr>\n",
              "      <th>6</th>\n",
              "      <td>neutral</td>\n",
              "      <td>@united please update what is going to happen ...</td>\n",
              "    </tr>\n",
              "    <tr>\n",
              "      <th>7</th>\n",
              "      <td>negative</td>\n",
              "      <td>@AmericanAir how do I redeem a travel voucher ...</td>\n",
              "    </tr>\n",
              "    <tr>\n",
              "      <th>8</th>\n",
              "      <td>neutral</td>\n",
              "      <td>@AmericanAir originating at SFO and going to LAX.</td>\n",
              "    </tr>\n",
              "    <tr>\n",
              "      <th>9</th>\n",
              "      <td>negative</td>\n",
              "      <td>@JetBlue Good perspective. If only this safety...</td>\n",
              "    </tr>\n",
              "  </tbody>\n",
              "</table>\n",
              "</div>"
            ],
            "text/plain": [
              "  Sentiment                                              Tweet\n",
              "0   neutral  @united 877 from amsterdam to ewr, 02.27.2015,...\n",
              "1  negative       @united IT-problems with the link? #3thparty\n",
              "2  positive  @united -today the staff @ MSP took customer s...\n",
              "3  negative  @AmericanAir but have been yet to receive assi...\n",
              "4  negative  @SouthwestAir  you won't let me change my rese...\n",
              "5   neutral  @AmericanAir where do I look for cabin crew va...\n",
              "6   neutral  @united please update what is going to happen ...\n",
              "7  negative  @AmericanAir how do I redeem a travel voucher ...\n",
              "8   neutral  @AmericanAir originating at SFO and going to LAX.\n",
              "9  negative  @JetBlue Good perspective. If only this safety..."
            ]
          },
          "metadata": {
            "tags": []
          },
          "execution_count": 3
        }
      ]
    },
    {
      "cell_type": "code",
      "metadata": {
        "id": "gp6e8WQ8v5Qh",
        "outputId": "0a39c554-ebaf-42ae-d79d-36aec417614c",
        "colab": {
          "base_uri": "https://localhost:8080/",
          "height": 54
        }
      },
      "source": [
        "print(\"Train data dimentions\", df_train.shape)\n",
        "print(\"Test data dimentions\", df_test.shape)\n"
      ],
      "execution_count": 4,
      "outputs": [
        {
          "output_type": "stream",
          "text": [
            "Train data dimentions (11680, 2)\n",
            "Test data dimentions (2921, 2)\n"
          ],
          "name": "stdout"
        }
      ]
    },
    {
      "cell_type": "markdown",
      "metadata": {
        "id": "zmEuR9MU9zpy"
      },
      "source": [
        "## Preprocessing\n",
        "*removing the stop words, punctuation marks and other unwanted characters from the tweets and converting them to lower case*"
      ]
    },
    {
      "cell_type": "code",
      "metadata": {
        "id": "AkZWi9fKEW9j",
        "outputId": "9f336888-3fcb-4b45-cc6c-26bd92390bcb",
        "colab": {
          "base_uri": "https://localhost:8080/",
          "height": 74
        }
      },
      "source": [
        "# Load stop words\n",
        "stopWords = []\n",
        "with open('/content/drive/My Drive/Colab Notebooks/ML-PA1/stop_words.txt', 'r') as fi:\n",
        "    for line in fi:\n",
        "        line = line.rstrip()\n",
        "        stopWords.append(line)\n",
        "stopWords += [\"can't\", 'cannot', 'could', \"he'd\", \"he'll\", \"he's\", \"here's\", \"how's\", \"i'd\", \"i'll\", \"i've\", \"let's\", 'ought', \"she'd\", \"she'll\", \"that's\", \"there's\", \"they'd\", \"they'll\", \"they're\", \"they've\", \"we'd\", \"we'll\", \"we're\", \"we've\", \"what's\", \"when's\", \"where's\", \"who's\", \"why's\", 'would', 'hey', 'hi']\n",
        "\n",
        "print(stopWords)\n",
        "print(len(stopWords))"
      ],
      "execution_count": 5,
      "outputs": [
        {
          "output_type": "stream",
          "text": [
            "['i', \"i'm\", 'me', 'my', 'myself', 'we', 'our', 'ours', 'ourselves', 'you', \"you're\", \"you've\", \"you'll\", \"you'd\", 'your', 'yours', 'yourself', 'yourselves', 'he', 'him', 'his', 'himself', 'she', \"she's\", 'her', 'hers', 'herself', 'it', \"it's\", 'its', 'itself', 'they', 'them', 'their', 'theirs', 'themselves', 'what', 'which', 'who', 'whom', 'this', 'that', \"that'll\", 'these', 'those', 'am', 'is', 'are', 'was', 'were', 'be', 'been', 'being', 'have', 'has', 'had', 'having', 'do', 'does', 'did', 'doing', 'a', 'an', 'the', 'and', 'but', 'if', 'or', 'because', 'as', 'until', 'while', 'of', 'at', 'by', 'for', 'with', 'about', 'against', 'between', 'into', 'through', 'during', 'before', 'after', 'above', 'below', 'to', 'from', 'up', 'down', 'in', 'out', 'on', 'off', 'over', 'under', 'again', 'further', 'then', 'once', 'here', 'there', 'when', 'where', 'why', 'how', 'all', 'any', 'both', 'each', 'few', 'more', 'most', 'other', 'some', 'such', 'no', 'nor', 'not', 'only', 'own', 'same', 'so', 'than', 'too', 'very', 's', 't', 'can', 'will', 'just', 'don', \"don't\", 'should', \"should've\", 'now', 'd', 'll', 'm', 'o', 're', 've', 'y', 'ain', 'aren', \"aren't\", 'couldn', \"couldn't\", 'didn', \"didn't\", 'doesn', \"doesn't\", 'hadn', \"hadn't\", 'hasn', \"hasn't\", 'haven', \"haven't\", 'isn', \"isn't\", 'ma', 'mightn', \"mightn't\", 'mustn', \"mustn't\", 'needn', \"needn't\", 'shan', \"shan't\", 'shouldn', \"shouldn't\", 'wasn', \"wasn't\", 'weren', \"weren't\", 'won', \"won't\", 'wouldn', \"wouldn't\", \"can't\", 'cannot', 'could', \"he'd\", \"he'll\", \"he's\", \"here's\", \"how's\", \"i'd\", \"i'll\", \"i've\", \"let's\", 'ought', \"she'd\", \"she'll\", \"that's\", \"there's\", \"they'd\", \"they'll\", \"they're\", \"they've\", \"we'd\", \"we'll\", \"we're\", \"we've\", \"what's\", \"when's\", \"where's\", \"who's\", \"why's\", 'would', 'hey', 'hi']\n",
            "213\n"
          ],
          "name": "stdout"
        }
      ]
    },
    {
      "cell_type": "code",
      "metadata": {
        "id": "C56pSov8-MbJ"
      },
      "source": [
        "\n",
        "def removeUnwantedChars(tweet):\n",
        "  # Removes the tweeter handle\n",
        "  result = re.sub('(@)\\w+', '', tweet)\n",
        "  #  Converts to lower\n",
        "  result = result.lower()\n",
        "  # Removes stop words\n",
        "  result = ' '.join(filter(lambda x: x not in stopWords,  result.split()))\n",
        "  # Removes numbers\n",
        "  result = re.sub(r'\\d+', '', result)\n",
        "  # Removes punctuactions\n",
        "  result = re.sub(r'[^\\w\\s]','', result)\n",
        "  # Removes leading and trailing white spaces\n",
        "  result = result.strip()\n",
        "\n",
        "  return result"
      ],
      "execution_count": 6,
      "outputs": []
    },
    {
      "cell_type": "code",
      "metadata": {
        "id": "ru2tXyEIBNPE",
        "outputId": "a9fa06bf-ee41-47d3-e901-ac04a938dcea",
        "colab": {
          "base_uri": "https://localhost:8080/",
          "height": 206
        }
      },
      "source": [
        "df_train['preprocessedTweets'] = df_train['Tweet'].apply(removeUnwantedChars)\n",
        "df_train.head()"
      ],
      "execution_count": 7,
      "outputs": [
        {
          "output_type": "execute_result",
          "data": {
            "text/html": [
              "<div>\n",
              "<style scoped>\n",
              "    .dataframe tbody tr th:only-of-type {\n",
              "        vertical-align: middle;\n",
              "    }\n",
              "\n",
              "    .dataframe tbody tr th {\n",
              "        vertical-align: top;\n",
              "    }\n",
              "\n",
              "    .dataframe thead th {\n",
              "        text-align: right;\n",
              "    }\n",
              "</style>\n",
              "<table border=\"1\" class=\"dataframe\">\n",
              "  <thead>\n",
              "    <tr style=\"text-align: right;\">\n",
              "      <th></th>\n",
              "      <th>Sentiment</th>\n",
              "      <th>Tweet</th>\n",
              "      <th>preprocessedTweets</th>\n",
              "    </tr>\n",
              "  </thead>\n",
              "  <tbody>\n",
              "    <tr>\n",
              "      <th>0</th>\n",
              "      <td>neutral</td>\n",
              "      <td>@united 877 from amsterdam to ewr, 02.27.2015,...</td>\n",
              "      <td>amsterdam ewr</td>\n",
              "    </tr>\n",
              "    <tr>\n",
              "      <th>1</th>\n",
              "      <td>negative</td>\n",
              "      <td>@united IT-problems with the link? #3thparty</td>\n",
              "      <td>itproblems link thparty</td>\n",
              "    </tr>\n",
              "    <tr>\n",
              "      <th>2</th>\n",
              "      <td>positive</td>\n",
              "      <td>@united -today the staff @ MSP took customer s...</td>\n",
              "      <td>today staff  msp took customer service new lev...</td>\n",
              "    </tr>\n",
              "    <tr>\n",
              "      <th>3</th>\n",
              "      <td>negative</td>\n",
              "      <td>@AmericanAir but have been yet to receive assi...</td>\n",
              "      <td>yet receive assistance one agents securing new...</td>\n",
              "    </tr>\n",
              "    <tr>\n",
              "      <th>4</th>\n",
              "      <td>negative</td>\n",
              "      <td>@SouthwestAir  you won't let me change my rese...</td>\n",
              "      <td>let change reservation online wasting time htt...</td>\n",
              "    </tr>\n",
              "  </tbody>\n",
              "</table>\n",
              "</div>"
            ],
            "text/plain": [
              "  Sentiment  ...                                 preprocessedTweets\n",
              "0   neutral  ...                                      amsterdam ewr\n",
              "1  negative  ...                            itproblems link thparty\n",
              "2  positive  ...  today staff  msp took customer service new lev...\n",
              "3  negative  ...  yet receive assistance one agents securing new...\n",
              "4  negative  ...  let change reservation online wasting time htt...\n",
              "\n",
              "[5 rows x 3 columns]"
            ]
          },
          "metadata": {
            "tags": []
          },
          "execution_count": 7
        }
      ]
    },
    {
      "cell_type": "code",
      "metadata": {
        "id": "H1wz9PZmBhe7",
        "outputId": "fc1561af-fadf-4738-e95e-a32424e5c3ce",
        "colab": {
          "base_uri": "https://localhost:8080/",
          "height": 206
        }
      },
      "source": [
        "df_test['preprocessedTweets'] = df_test['Tweet'].apply(removeUnwantedChars)\n",
        "df_test.head()"
      ],
      "execution_count": 8,
      "outputs": [
        {
          "output_type": "execute_result",
          "data": {
            "text/html": [
              "<div>\n",
              "<style scoped>\n",
              "    .dataframe tbody tr th:only-of-type {\n",
              "        vertical-align: middle;\n",
              "    }\n",
              "\n",
              "    .dataframe tbody tr th {\n",
              "        vertical-align: top;\n",
              "    }\n",
              "\n",
              "    .dataframe thead th {\n",
              "        text-align: right;\n",
              "    }\n",
              "</style>\n",
              "<table border=\"1\" class=\"dataframe\">\n",
              "  <thead>\n",
              "    <tr style=\"text-align: right;\">\n",
              "      <th></th>\n",
              "      <th>Sentiment</th>\n",
              "      <th>Tweet</th>\n",
              "      <th>preprocessedTweets</th>\n",
              "    </tr>\n",
              "  </thead>\n",
              "  <tbody>\n",
              "    <tr>\n",
              "      <th>0</th>\n",
              "      <td>neutral</td>\n",
              "      <td>@VirginAmerica to jump into the Dallas-Austin ...</td>\n",
              "      <td>jump dallasaustin market  httptcoewwgigdx</td>\n",
              "    </tr>\n",
              "    <tr>\n",
              "      <th>1</th>\n",
              "      <td>positive</td>\n",
              "      <td>@AmericanAir Chicago seen from seat 6A, AA 162...</td>\n",
              "      <td>chicago seen seat a aa  far great ride pdx htt...</td>\n",
              "    </tr>\n",
              "    <tr>\n",
              "      <th>2</th>\n",
              "      <td>negative</td>\n",
              "      <td>@united you need a bag bouncer. Get it together</td>\n",
              "      <td>need bag bouncer get together</td>\n",
              "    </tr>\n",
              "    <tr>\n",
              "      <th>3</th>\n",
              "      <td>negative</td>\n",
              "      <td>@JetBlue Hey Jetblue, you stranded an entire p...</td>\n",
              "      <td>jetblue stranded entire plane supposed go jfk ...</td>\n",
              "    </tr>\n",
              "    <tr>\n",
              "      <th>4</th>\n",
              "      <td>negative</td>\n",
              "      <td>@USAirways Big fail on not having curbside bag...</td>\n",
              "      <td>big fail curbside baggage pittsburgh charge  d...</td>\n",
              "    </tr>\n",
              "  </tbody>\n",
              "</table>\n",
              "</div>"
            ],
            "text/plain": [
              "  Sentiment  ...                                 preprocessedTweets\n",
              "0   neutral  ...          jump dallasaustin market  httptcoewwgigdx\n",
              "1  positive  ...  chicago seen seat a aa  far great ride pdx htt...\n",
              "2  negative  ...                      need bag bouncer get together\n",
              "3  negative  ...  jetblue stranded entire plane supposed go jfk ...\n",
              "4  negative  ...  big fail curbside baggage pittsburgh charge  d...\n",
              "\n",
              "[5 rows x 3 columns]"
            ]
          },
          "metadata": {
            "tags": []
          },
          "execution_count": 8
        }
      ]
    },
    {
      "cell_type": "markdown",
      "metadata": {
        "id": "NlOg3EvKN1F1"
      },
      "source": [
        "## Feature Extraction\n",
        "*representing each tweet as a bag-of-words (BoW), that is, an unordered set of words with their position ignored, keeping only their frequency in the tweet.*"
      ]
    },
    {
      "cell_type": "code",
      "metadata": {
        "id": "r-d7Ss-TC3OH"
      },
      "source": [
        "def vectorize(tweet):\n",
        "    vector=[]\n",
        "    tokens = tweet.split()\n",
        "    for w in vocabulary:\n",
        "        vector.append(tokens.count(w))\n",
        "    return np.asarray(vector)\n",
        "def unique(tweet):\n",
        "    tokens = tweet.split()\n",
        "    for x in tokens:\n",
        "      if not (x in vocabulary):\n",
        "        vocabulary.append(x)"
      ],
      "execution_count": 9,
      "outputs": []
    },
    {
      "cell_type": "code",
      "metadata": {
        "id": "vZuoXogWO-Nf",
        "outputId": "bd4a7533-f2c5-49fa-de70-9586af0125ec",
        "colab": {
          "base_uri": "https://localhost:8080/",
          "height": 56
        }
      },
      "source": [
        "vocabulary = []\n",
        "df_train['preprocessedTweets'].apply(unique)\n",
        "print(vocabulary)"
      ],
      "execution_count": 10,
      "outputs": [
        {
          "output_type": "stream",
          "text": [
            "['amsterdam', 'ewr', 'itproblems', 'link', 'thparty', 'today', 'staff', 'msp', 'took', 'customer', 'service', 'new', 'level', 'father', 'passed', 'away', 'last', 'night', 'amp', 'helped', 'get', 'home', 'thanks', 'yet', 'receive', 'assistance', 'one', 'agents', 'securing', 'connection', 'many', 'miss', 'work', 'tomorrow', 'let', 'change', 'reservation', 'online', 'wasting', 'time', 'httptcomhaxxaed', 'look', 'cabin', 'crew', 'vacancies', 'please', 'update', 'going', 'happen', 'passengers', 'flt', 'ua', 'cancelled', 'flightled', 'redeem', 'travel', 'voucher', 'flight', 'reach', 'agent', 'phone', 'hold', 'expires', 'hours', 'originating', 'sfo', 'lax', 'good', 'perspective', 'safety', 'concern', 'expressed', 'point', 'arrived', 'airport', 'communicationiskey', 'welllllll', 'rt', 'fleets', 'fleek', 'httptcodhhomgkix', 'upgrades', 'paid', 'wifi', 'load', 'website', 'functionally', 'except', 'live', 'streaming', 'unacceptable', 'absolutely', 'worries', 'never', 'flying', 'again', 'ever', 'even', 'hitch', 'hike', 'cross', 'country', 'passengersarepeople', 'concerned', 'fly', 'plane', 'needs', 'delayed', 'due', 'tech', 'stop', 'sitting', 'seat', 'd', 'back', 'vegas', 'chicago', 'someone', 'left', 'folder', 'looks', 'important', 'pocket', 'make', 'changes', 'still', 'charged', 'dollars', 'using', 'wall', 'separating', 'row', 'safetyconcerns', 'httptcoztrdwvnl', 'people', 'counter', 'helpful', 'see', 'nobody', 'there', 'austin', 'here', 'stahp', 'httptcobmunraoni', 'cruel', 'unusual', 'wo', 'notice', 'stay', 'min', 'listen', 'ad', 'loop', 'rules', 'keep', 'friend', 'alright', 'hope', 'jetblue', 'app', 'showing', 'seats', 'shows', 'a', 'want', 'surprises', 'first', 'base', 'already', 'like', 'style', 'amazing', 'best', 'follow', 'otis', 'baggage', 'claim', 'bay', 'happy', 'nearly', 'pissed', 'contact', 'stuff', 'bag', 'legally', 'blind', 'messed', 'up', 'trying', 'partner', 'pnr', 'spent', 'hour', 'know', 'snowing', 'somewhere', 'awful', 'sale', 'delighted', 'making', 'big', 'snow', 'montana', 'cool', 'planned', 'boston', 'traffic', 'recent', 'weather', 'insane', 'expedited', 'made', 'it', 'sure', 'remember', 'bags', 'onto', 'forget', 'im', 'resending', 'confirmation', 'code', 'dm', 'guy', 'follows', 'threat', 'sue', 'couldnt', 'carry', 'defend', 'free', 'in', 'this', 'reply', 'note', 'pilot', 'nailed', 'landing', 'seriously', 'kudos', 'cmh', 'ord', 'gate', 'next', 'segment', 'yvr', 'boarding', 'give', 'recognition', 'deserves', 'looking', 'forward', 'friends', 'family', 'arizona', 'checkin', 'system', 'poor', 'holding', 'now', 'that', 'great', 'return', 'calls', 'day', 'after', 'ask', 'more', 'myvxexperience', 'needknow', 'ill', 'able', 'ind', 'todayrather', 'maf', 'dfw', 'find', 'httptcogvgkhbxrb', 'additional', 'charge', 'golf', 'clubs', 'shoes', 'balls', 'piece', 'luggage', 'check', 'platinum', 'usair', 'stranded', 'clt', 'answering', 'phones', 'rebook', 'me', 'help', 'second', 'put', 'explanation', 'missed', 'meetingoutraged', 'oh', 'got', 'right', 'kept', 'putting', 'fix', 'problem', 'including', 'us', 'tour', 'pack', 'winter', 'coatunfortunately', 'yes', 'werenotincalianymore', 'blazer', 'kooples', 'jacket', 'rd', 't', 'disgusting', 'chicken', 'entree', 'seen', 'standards', 'nosedived', 'newamerican', 'httptcoessfoowt', 'beautiful', 'seattle', 'httptcoiquppvqs', 'flightling', 'flights', 'sending', 'tickets', 'telling', 'buyer', 'allowed', 'headed', 'nyc', 'funny', 'hear', 'ring', 'entire', 'groan', 'has', 'happened', 'twice', 'interns', 'sorry', 'add', 'vacation', 'wife', 'cant', 'fails', 'possible', 'set', 'schedule', 'try', 'aaalwayslate', 'legal', 'guys', 'advertise', 'honor', 'waiting', 'door', 'broke', 'global', 'services', 'status', 'airline', 'unsafe', 'stunning', 'hrs', 'counting', 'alone', 'things', 'accomplish', 'thousand', 'fans', 'asking', 'utmost', 'effort', 'safe', 'soon', 'chances', 'leaving', 'bna', 'to', 'lga', 'dallas', 'morning', 'cle', 'need', 'booked', 'out', 'address', 'issue', 'speak', 'class', 'curbside', 'delivery', 'teamusa', 'hi', 'bought', 'united', 'ebokeers', 'paris', 'miami', 'chance', 'everything', 'ok', 'mess', 'somebody', 'elses', 'plans', 'u', 'flow', 'team', 'pls', 'talking', 'about', 'nonstop', 'sna', 'hotel', 'food', 'least', 'suggestion', 'options', 'metro', 'city', 'ticket', 'exact', 'specific', 'page', 'site', 'share', 'thx', 'found', 'via', 'minutes', 'httptcodqjlvzh', 'refunded', 'room', 'sleep', 'dia', 'chariot', 'tonight', 'angle', 'no', 'httptcozzkqwwbjz', 'since', 'fed', 'wknd', 'pass', 'admirals', 'club', 'meal', 'coupon', 'coke', 'blank', 'stare', 'whats', 'deal', 'provide', 'overnight', 'cozy', 'floor', 'ohare', 'gross', 'helpmeplease', 'anyonethere', 'fabulous', 'thank', 'much', 'taking', 'skies', 'you', 'tell', 'then', 'boarded', 'group', 'end', 'queue', 'gold', 'member', 'nothing', 'progress', 'luck', 'patrick', 'rebooked', 'fingers', 'crossed', 'and', 'empty', 'desks', 'according', 'jfk', 'plenty', 'planes', 'kp', 'traveling', 'cheer', 'ms', 'bila', 'updates', 'take', 'love', 'meet', 'imagine', 'dragons', 'destinationdragons', 'dishonoring', 'upgrade', 'notifying', 'k', 'philadelphia', 'icing', 'cake', 'miserable', 'experience', 'nicer', 'sold', 'connetion', 'fantastic', 'tweet', 'photo', 'view', 'guarantee', 'fight', 'duh', 'httptcodkzlupqi', 'international', 'am', 'hoping', 'thing', 'deodorant', 'shampoo', 'toothpaste', 'seems', 'limited', 'oz', 'correct', 'reschedule', 'batteries', 'airlines', 'st', 'disgrace', 'listened', 'horrible', 'working', 'tight', 'cx', 'delaying', 'secs', 'httptcoguywqh', 'tuesday', 'sooner', 'attend', 'ailing', 'parent', 'fl', 'custserv', 'always', 'brag', 'ur', 'disappointed', 'apparently', 'sleeping', 'sev', 'ppl', 'office', 'received', 'apology', 'ff', 'miles', 'delay', 'apologize', 'select', 'booze', 'bach', 'party', 'better', 'ordgtmsy', 'enjoy', 'either', 'way', 'really', 'appreciate', 'alls', 'bhm', 'commercial', 'aired', 's', 'bookofnegroes', 'hr', 'willing', 'hang', 'long', 'answered', 'cold', 'air', 'vents', 'vx', 'noair', 'worstflightever', 'roasted', 'sfotobos', 'runways', 'late', 'flightr', 'nd', 'wdelays', 'reasons', 'unrelate', 'flightd', 'go', 'requesting', 'splitting', 'quadruples', 'price', 'todays', 'little', 'disappointing', 'unnecessary', 'delays', 'desk', 'queuing', 'control', 'treat', 'customersshafted', 'hanging', 'understand', 'crazy', 'n', 'sometimes', 'enough', 'happening', 'worstairlineever', 'also', 'marie', 'burroughs', 'worst', 'rep', 'yourairlinesucks', 'nope', 'wampb', 'raise', 'hands', 'move', 'fast', 'incapable', 'seating', 'yo', 'mom', 'together', 'toddler', 'fail', 'nice', 'company', 'asked', 'attendant', 'typical', 'compensation', 'says', 'might', 'tv', 'minor', 'freaking', 'bc', 'connecting', 'hawaii', 'frustrated', 'average', 'wait', 'maybe', 'understaffed', 'sick', 'companys', 'lousy', 'excuse', 'checking', 'months', 'attention', 'upset', 'told', 'utterly', 'call', 'disconnected', 'amend', 'booking', 'problems', 'ow', 'emerald', 'suck', 'loving', 'keepitmovin', 'days', 'said', 'anything', 'memories', 'neveragain', 'feel', 'criminal', 'sit', 'near', 'year', 'old', 'httptcoqgtcaoju', 'compensates', 'caused', 'fact', 'attendants', 'httptcoaprqan', 'start', 'life', 'maintenece', 'appear', 'incompetence', 'pm', 'newark', 'la', 'folks', 'incredible', 'letsgohome', 'everyones', 'deserve', 'down', 'charging', 'lol', 'them', 'simple', 'google', 'search', 'number', 'tells', 'difficult', 'leave', 'tarmac', 'uniteds', 'agree', 'head', 'count', 'max', 'epicfailunited', 'past', 'couple', 'at', 'jason', 'san', 'afternoon', 'southwestairlines', 'stellarservice', 'lemme', 'come', 'university', 'student', 'use', 'break', 'books', 'allow', 'dialogue', 'solve', 'faster', 'emailing', 'lindsey', 'idea', 'stuck', 'denver', 'intercom', 'send', 'house', 'win', 'son', 'provo', 'saturday', 'called', 'weeks', 'ago', 'adding', 'elevatethey', 'shown', 'uphelp', 'allowing', 'simply', 'hangs', 'quick', 'response', 'yep', 'tried', 'input', 'pretty', 'drove', 'philly', 'mhtt', 'info', 'wether', 'charlotte', 'ice', 'storm', 'mad', 'customers', 'bossf', 'waivers', 'business', 'flighted', 'beforeafter', 'flexibilitycompassion', 'extreme', 'circumstances', 'ridiculous', 'routing', 'match', 'yall', 'say', 'officially', 'lost', 'waste', 'points', 'too', 'noooo', 'previously', 'direct', 'fllgtsfo', 'diverted', 'las', 'arriving', 'almost', 'flightations', 'driven', 'airports', 'different', 'states', 'gas', 'threatening', 'companion', 'luv', 'premier', 'groups', 'indication', 'broken', 'process', 'glad', 'retweeted', 'otherwise', 'ignore', 'numerous', 'tweets', 'sent', 'fucking', 'ceo', 'battles', 'appease', 'street', 'waterbury', 'republican', 'american', 'httptcourungy', 'loyal', 'lack', 'communication', 'bad', 'dont', 'taken', 'kc', 'available', 'till', 'supposed', 'nights', 'stand', 'tix', 'based', 'confirmed', 'anyway', 'tremendous', 'recommend', 'done', 'sadly', 'gotten', 'tampa', 'tmrw', 'atlanta', 'show', 'dealt', 'nicely', 'captain', 'post', 'alerts', 'bdl', 'sunday', 'fuck', 'caring', 'thru', 'cxl', 'flew', 'helps', 'lot', 'httptcowsgyckciio', 'switch', 'spend', 'passes', 'lindsay', 'darn', 'terrible', 'memory', 'part', 'iad', 'pit', 'everyone', 'legs', 'damaged', 'expensive', 'case', 'offered', 'anythingjust', 'wks', 'news', 'media', 'unnoticed', 'held', 'mdw', 'oakland', 'coming', 'deplane', 'newborns', 'board', 'meeting', 'finally', 'lined', 'cattle', 'sw', 'original', 'departure', 'badcustomerservice', 'far', 'getting', 'unknown', 'open', 'dca', 'shameful', 'forelock', 'fare', 'expect', 'something', 'release', 'february', 'pick', 'sits', 'throne', 'lies', 'wanted', 'along', 'esp', 'flies', 'times', 'month', 'beat', 'town', 'policy', 'nws', 'issued', 'warning', 'guess', 'rough', 'sort', 'missing', 'airmiles', 'suggestions', 'friday', 'worried', 'may', 'continuing', 'record', 'cost', 'book', 'award', 'etihad', 'dividend', 'doors', 'catering', 'stocking', 'will', 'through', 'followed', 'dmd', 'ruined', 'wrong', 'deliver', 'insult', 'injury', 'worry', 'backup', 'every', 'sufficiently', 'actually', 'do', 'systems', 'presumably', 'beyond', 'reproach', 'reform', 'definitely', 'so', 'headphone', 'jack', 'wasted', 'two', 'waitinginphilly', 'hate', 'thursday', 'imma', 'hook', 'tho', 'httptcorlwbjma', 'r', 'serious', 'place', 'land', 'without', 'accommodations', 'lots', 'reports', 'failures', 'week', 'currently', 'ogg', 'appreciated', 'hashtag', 'lucycat', 'melissa', 'awesome', 'smiling', 'b', 'welcome', 'httptcofwcyhgdj', 'joke', 'push', 'job', 'aa', 'heard', 'whisper', 'shes', 'probably', 'think', 'trust', 'ap', 'destination', 'santa', 'fe', 'ashley', 'face', 'angry', 'traveler', 'twelve', 'unlikely', 'movement', 'minwow', 'keeps', 'worse', 'resource', 'delayscancelled', 'flightlations', 'field', 'stressed', 'believe', 'impossible', 'yesterday', 'mind', 'cheaper', 'bkk', 'nrt', 'though', 'extra', 'print', 'paper', 'well', 'smile', 'customerservice', 'meelan', 'afford', 'supervisor', 'included', 'conversation', 'rec', 'dale', 'wonderful', 'foreverrrrrr', 'julie', 'andrews', 'running', 'parked', 'yea', 'fault', 'sucks', 'comes', 'emails', 'whole', 'worth', 'suree', 'care', 'requiring', 'fill', 'information', 'designed', 'prevent', 'limit', 'interaction', 'random', 'false', 'alarm', 'screw', 'tucson', 'landed', 'some', 'exp', 'membership', 'card', 'physical', 'access', 'lounges', 'spotify', 'stat', 'guiltypleasures', 'chat', 'feature', 'uk', 'alot', 'extremely', 'w', 'trip', 'mileageplus', 'explorer', 'holder', 'provides', 'wiggle', 'fee', 'accommodating', 'provider', 'connections', 'usairwaysfail', 'off', 'hopefully', 'suffering', 'immensely', 'merge', 'needed', 'hot', 'beverages', 'nyers', 'super', 'smooth', 'happytweet', 'useless', 'functioning', 'wheelchair', 'form', 'entertainment', 'ridiculousness', 'learncustomerservice', 'explained', 'reopens', 'scheduled', 'divert', 'closer', 'acy', 'truly', 'goes', 'matter', 'small', 'was', 'switched', 'inform', 'chathes', 'ugh', 'palm', 'springs', 'promised', 'jan', 'l', 'phoenix', 'younger', 'daughter', 'seated', 'airways', 'reveals', 'bluemanity', 'livery', 'travelpulse', 'httptcofttfyfmvco', 'fine', 'full', 'plus', 'on', 'phxphl', 'hilarious', 'greetings', 'pointy', 'airplane', 'haha', 'urgent', 'november', 'runway', 'wednesday', 'mistake', 'multibillion', 'dollar', 'httptcolsybglfj', 'professional', 'calling', 'rescheduled', 'solution', 'course', 'companies', 'failed', 'talk', 'choose', 'with', 'from', 'thought', 'lt', 'dani', 'conf', 'newest', 'httptcoftlzwtvo', 'standby', 'hitting', 'iowa', 'both', 'luckily', 'bso', 'midway', 'attentive', 'punta', 'cana', 'email', 'rr', 'pts', 'gain', 'clear', 'mine', 'gone', 'refused', 'despite', 'atl', 'departed', 'awaiting', 'inbound', 'three', 'another', 'surprised', 'mostly', 'dad', 'considered', 'half', 'httptcoymftwuyhr', 'size', 'guide', 'oversold', 'minefits', 'flyingitforward', 'affects', 'four', 'huge', 'difference', 'early', 'wantcharge', 'double', 'instead', 'usual', 'pay', 'seem', 'receipt', 'copy', 'reimbursement', 'moms', 'callback', 'bed', 'disinfectant', 'wipes', 'badservice', 'joanne', 'diego', 'phenomenal', 'girl', 'handled', 'flightnightmare', 'anyone', 'lisa', 'pafe', 'costa', 'rica', 'assult', 'drinks', 'spilled', 'drunk', 'passenger', 'ty', 'but', 'offer', 'subscription', 'fluctuated', 'backended', 'paying', 'statement', 'true', 'priceless', 'zero', 'safealone', 'plastic', 'chair', 'h', 'given', 'layovers', 'vouchers', 'wallet', 'stolen', 'resolution', 'million', 'mile', 'flier', 'embarrassed', 'launched', 'makes', 'sense', 'tahiti', 'saying', 'assignment', 'person', 'cust', 'srvc', 'when', 'world', 'treating', 'httptcoskkewqhssg', 'deeply', 'birthday', 'promo', 'applied', 'mere', 'certain', 'cltnyc', 'notion', 'absurd', 'helping', 'routes', 'aus', 'snacks', 'purpose', 'future', 'harsh', 'preparedness', 'plan', 'snowballed', 'real', 'exit', 'truebluememberlife', 'bird', 'lady', 'dead', 'wish', 'wifes', 'transferred', 'account', 'name', 'aiecraft', 'filling', 'hit', 'error', 'message', 'went', 'httptcojbdkxdefz', 'offers', 'officer', 'wow', 'unreal', 'waited', 'announce', 'pulling', 'claiming', 'power', 'issues', 'magically', 'repaired', 'kid', 'wants', 'money', 'scumbag', 'usairways', 'holdtime', 'httptcouppabxrq', 'ready', 'juan', 'wondering', 'waive', 'fees', 'military', 'personnel', 'accepting', 'shanese', 'bryantmelton', 'hardworking', 'grandmother', 'dc', 'bucket', 'list', 'flyitforward', 'cancun', 'eventually', 'hell', 'overbook', 'knew', 'assignments', 'inept', 'uncaring', 'piss', 'poorplanning', 'reserved', 'comp', 'ca', 'unfortunately', 'forces', 'buy', 'cheapest', 'grandcayman', 'httptcogxqbtckbr', 'csr', 'close', 'acct', 'less', 'frustration', 'boiled', 'dealing', 'attitude', 'httptcodergpdwsj', 'rocks', 'letter', 'httptcozfroinpszi', 'child', 'inspired', 'option', 'lines', 'busy', 'plz', 'reagan', 'unhappy', 'elaborate', 'cha', 'evening', 'orlando', 'robert', 'centricity', 'knowing', 'anamarketers', 'mobile', 'headerelevateusernumofpointsavailable', 'any', 'gmail', 'facebook', 'etc', 'ps', 'loaded', 'herb', 'patient', 'originally', 'ath', 'pdx', 'coordinate', 'reps', 'reliablefriendly', 'usually', 'are', 'living', 'repexper', 'literally', 'rather', 'earlier', 'dr', 'appointment', 'kphl', 'dissapointment', 'shavon', 'evn', 'sounds', 'dayreward', 'httptcoxaspqdsqhe', 'diverged', 'burlington', 'vermont', 'anytime', 'httptcoavrtowtyzk', 'lieslieslies', 'clothes', 'vaca', 'lostluggage', 'unprofessional', 'mia', 'jackass', 'favor', 'sayget', 'lessme', 'seeampeter', 'scott', 'situation', 'trustget', 'outside', 'mins', 'wee', 'baking', 'saw', 'black', 'history', 'excited', 'support', 'monthwill', 'grant', 'accordingly', 'respond', 'cvg', 'tag', 'weigh', 'scale', 'appears', 'conveyor', 'belt', 'bug', 'credit', 'earn', 'wont', 'restore', 'forfeited', 'roundtrip', 'london', 'fyi', 'moneynotspentonunited', 'unfriendlyskies', 'sju', 'ass', 'backwards', 'credits', 'relations', 'houston', 'nj', 'short', 'thks', 'tip', 'workaround', 'customerfriendly', 'easily', 'accessible', 'managed', 'pleasent', 'aww', 'aadfw', 'gma', 'amso', 'btw', 'trvlove', 'refund', 'sendingposting', 'complete', 'details', 'surrounding', 'ashamed', 'sardine', 'pilots', 'incompetent', 'belief', 'americanairlines', 'returned', 'following', 'mechanical', 'glitch', 'gtgt', 'httptcoibkyjbcjm', 'prayerdisappointed', 'mishaps', 'lotttttttt', 'astounding', 'doesnt', 'exist', 'kill', 'squared', 'man', 'inside', 'friendly', 'efficient', 'coach', 'httptcopvkchnr', 'ana', 'holders', 'lounge', 'grumpykim', 'james', 'dedicated', 'telephones', 'eat', 'billions', 'profits', 'colours', 'bunch', 'ffl', 'northeast', 'destinations', 'announcements', 'flighting', 'choosing', 'notify', 'turned', 'operated', 'nma', 'arrives', 'national', 'httptcooscoflol', 'ionlyflyblue', 'ridic', 'transfer', 'youre', 'atleast', 'damn', 'lmfao', 'slow', 'internet', 'horrendous', 'phil', 'wtf', 'item', 'non', 'march', 'th', 'tricities', 'tn', 'terribly', 'blaming', 'jet', 'blue', 'disaster', 'explain', 'exe', 'plat', 'wout', 'confused', 'tire', 'cause', 'nomoaa', 'slightly', 'searching', 'altitude', 'pax', 'sharp', 'drops', 'prove', 'richard', 'p', 'ripped', 'tixs', 'faces', 'rude', 'inappropriate', 'comments', 'cuz', 'map', 'drink', 'couponsi', 'coupons', 'dropping', 'idontwanttocallback', 'dontflythem', 'reroute', 'bos', 'jax', 'forcing', 'passengerslose', 'trublue', 'num', 'answeringdont', 'lostyou', 'deserved', 'rest', 'measured', 'example', 'existing', 'longer', 'cmhord', 'gets', 'president', 'employees', 'blamed', 'him', 'repeated', 'experienced', 'refreshing', 'laxwhen', 'upgrading', 'planesplane', 'screenslousy', 'unitedfirst', 'unbelievable', 'consecutive', 'manchester', 'concourse', 'across', 'ba', 'quickly', 'yyz', 'bit', 'cleared', 'beautifully', 'virgin', 'island', 'emailed', 'lhr', 'mean', 'lauren', 'holy', 'sht', 'winning', 'meanwhile', 'fucked', 'festivities', 'swing', 'fairway', 'overlooking', 'hole', 'logan', 'gong', 'enforcement', 'bins', 'coats', 'httptcoclupdprhp', 'tracking', 'worthless', 'is', 'plains', 'state', 'college', 'pa', 'newly', 'married', 'preexisting', 'easy', 'aex', 'obviously', 'agentbooked', 'transportation', 'pregnantwithtwins', 'checked', 'register', 'somehow', 'borderline', 'question', 'invite', 'fallow', 'learn', 'activitiesprevention', 'programs', 'health', 'condomrito', 'familywe', 'cthanks', 'rock', 'httptcolazaoay', 'peeps', 'hub', 'ireland', 'major', 'planewide', 'directtv', 'reset', 'smh', 'integrating', 'passbook', 'ios', 'works', 'levels', 'reaches', 'lets', 'realistically', 'lufthansa', 'consider', 'summer', 'local', 'youth', 'school', 'math', 'refresher', 'courses', 'applepay', 'mc', 'considering', 'virtually', 'doubt', 'car', 'rentals', 'theres', 'cc', 'unitedairlines', 'aspenbaggagefail', 'aspen', 'den', 'means', 'properly', 'elsewhere', 'addl', 'crowded', 'impressed', 'replies', 'resolve', 'avail', 'advise', 'asap', 'not', 'woman', 'lead', 'c', 'red', 'stamp', 'yourself', 'wreck', 'httptcoprgysvurm', 'answer', 'hardtodo', 'request', 'rescheduling', 'maintenance', 'died', 'grab', 'oma', 'bother', 'dog', 'httptcoifespcbztm', 'laguardia', 'nowsunshine', 'totally', 'par', 'slide', 'youve', 'met', 'matchgot', 'httptcohrdktqy', 'line', 'anymore', 'expired', 'x', 'train', 'appropriate', 'decorum', 'revisiting', 'death', 'certificate', 'httptcoeeqwvammiy', 'ivebeen', 'client', 'nbr', 'elite', 'waa', 'bank', 'conference', 'what', 'httptconlrfouay', 'proper', 'handle', 'httptcodbesbnzg', 'exactly', 'toiletries', 'screwed', 'orleans', 'huston', 'deals', 'httptcoeniqgbuzj', 'watched', 'bus', 'planestrainsandautomobiles', 'yeah', 'fun', 'corporatepaid', 'april', 'purchase', 'order', 'intact', 'enjoyed', 'httptcokhmkotz', 'disappointment', 'frequent', 'flyer', 'apple', 'spoil', 'louis', 'anywhere', 'did', 'seconds', 'muzak', 'constant', 'commercials', 'delayedagainevery', 'feeling', 'onboard', 'sad', 'southwest', 'mco', 'loyalty', 'vacationing', 'boys', 'inexcusable', 'pre', 'robotic', 'httptcohbccot', 'watch', 'video', 'treated', 'south', 'huh', 'winterweather', 'brrr', 'depart', 'schedulecontact', 'bae', 'jetbae', 'regains', 'karma', 'giving', 'sweaty', 'water', 'carrying', 'argh', 'holidays', 'gave', 'phl', 'walked', 'httptcoipaamztz', 'replying', 'aviation', 'swa', 'management', 'funeral', 'pain', 'opening', 'liar', 'precipitation', 'degrees', 'pacify', 'foolthats', 'admit', 'prepares', 'ahead', 'reduce', 'distress', 'ada', 'chairs', 'earth', 'loved', 'sign', 'trueblue', 'happens', 'around', 'pleasant', 'sol', 'consistent', 'saves', 'corporate', 'gt', 'albany', 'unitedk', 'delivered', 'doorstep', 'safely', 'srsly', 'eternity', 'ammisery', 'immediately', 'shhhh', 'else', 'steal', 'agostill', 'id', 'trouble', 'finding', 'cleveland', 'hopkins', 'travis', 'east', 'policies', 'skis', 'boots', 'teach', 'mgr', 'attach', 'lxa', 'ekvm', 'thansk', 'combined', 'yours', 'forgetting', 'fuel', 'realizing', 'cargo', 'mask', 'customerrelationscom', 'poorservice', 'notgoodenough', 'minute', 'turnaround', 'ktn', 'tsa', 'precheck', 'applying', 'nashville', 'southwestairwasthere', 'third', 'straight', 'came', 'canadian', 'used', 'boyfriend', 'event', 'glass', 'wine', 'eyes', 'pandu', 'bringing', 'boards', 'security', 'current', 'definitive', 'monthly', 'assholes', 'announcing', 'winners', 'utah', 'weekend', 'lucky', 'orig', 'unwilling', 'rotten', 'cherry', 'top', 'shit', 'nocareforcustomers', 'rett', 'cavan', 'gofundme', 'breath', 'cares', 'sat', 'equipment', 'apologizing', 'personally', 'waits', 'act', 'final', 'carrier', 'dreaming', 'route', 'lovely', 'outlets', 'sos', 'itis', 'poorcustumerservice', 'anchorage', 'fairbanks', 'httptcofjkvqmbmas', 'bs', 'airportcardio', 'mark', 'snit', 'stepped', 'painful', 'delhi', 'kids', 'offline', 'location', 'absolute', 're', 'suit', 'regarding', 'httptcoirixaifjjx', 'patronizing', 'legitimate', 'hostage', 'dividends', 'common', 'flightsand', 'meetings', 'luvits', 'imdetermined', 'httptcooxmcwgab', 'oyu', 'getaway', 'oneway', 'cities', 'httptcobxiygt', 'cheapflights', 'farecompare', 'accused', 'stealing', 'fruit', 'mistreatment', 'austic', 'consoled', 'mother', 'ended', 'driving', 'disorganization', 'clients', 'disappoint', 'rectify', 'complaints', 'department', 'stickingtodelta', 'drive', 'memphis', 'loading', 'responseplease', 'btv', 'exists', 'surprise', 'registered', 'hopeful', 'step', 'okay', 'canadaair', 'regional', 'jets', 'plain', 'aggravated', 'disappear', 'prices', 'dropped', 'aware', 'closed', 'terminal', 'solved', 'cue', 'hung', 'wanna', 'beer', 'nah', 'ground', 'repainted', 'sunset', 'guilty', 'economy', 'leg', 'talks', 'poorly', 'ripping', 'volkswagen', 'disgruntled', 'whatacluster', 'alert', 'arrive', 'fourhour', 'phx', 'rno', 'downgraded', 'versace', 'biceps', 'stow', 'completely', 'front', 'requested', 'bom', 'copay', 'upgraded', 'develop', 'ding', 'chromefirefox', 'browser', 'extension', 'swell', 'pathetic', 'stories', 'changing', 'apathetic', 'maps', 'electronics', 'box', 'blocking', 'legroom', 'httptcohcnnwxqqr', 'claims', 'protection', 'diversions', 'nottrue', 'httptcooqtohjl', 'starting', 'canada', 'hnl', 'continental', 'monday', 'morn', 'gosh', 'thats', 'weak', 'ya', 'iphone', 'whoot', 'automated', 'msg', 'httptcoojrsdwpkk', 'familiar', 'procedure', 'unhappytraveler', 'wake', 'pek', 'crying', 'kay', 'chapman', 'designs', 'artluggage', 'locate', 'responded', 'tomorrows', 'posted', 'arrival', 'shv', 'mon', 'feb', 'prob', 'remains', 'we', 'mechanics', 'finish', 'lunch', 'inquired', 'sauvignon', 'blanc', 'pronounce', 'describe', 'bathroom', 'rushed', 'however', 'submitted', 'property', 'package', 'twitter', 'minimum', 'five', 'fll', 'bwiand', 'terribleno', 'knows', 'arehis', 'gear', 'jp', 'sabe', 'bein', 'loosing', 'kidding', 'bagage', 'ny', 'washington', 'trace', 'date', 'revieving', 'several', 'pricey', 'further', 'drunkpilots', 'httptcozirazudc', 'auto', 'alternate', 'loc', 'cld', 'disorganized', 'inefficient', 'surly', 'stays', 'lap', 'infant', 'mons', 'tkt', 'jacquie', 'plitt', 'cabo', 'httptcoqxwwpa', 'responding', 'timely', 'recd', 'flightlation', 'eye', 'ipad', 'erw', 'opened', 'screen', 'shots', 'worked', 'startled', 'description', 'expanded', 'stopped', 'partnering', 'hilton', 'hotels', 'genius', 'expire', 'aacom', 'mattersits', 'matters', 'drop', 'ball', 'froward', 'bahamas', 'hidden', 'crappy', 'generic', 'computer', 'generated', 'accommodate', 'travelers', 'keeping', 'httptcoayosjhzmc', 'notfair', 'respect', 'expects', 'alwayshappensthere', 'angrytraveler', 'inches', 'hurt', 'shifts', 'raps', 'knees', 'blast', 'social', 'fair', 'speaking', 'vs', 'emergency', 'mke', 'grnd', 'havoc', 'hahah', 'httptcoveemacm', 'httptcoddqqgqni', 'recommended', 'goodness', 'pressure', 'texas', 'beatstheothers', 'crisis', 'jamaica', 'volunteer', 'risk', 'stpatricksfoundation', 'rotary', 'heat', 'ohno', 'bundleup', 'leastthebeverageswillbecold', 'pleasecomeback', 'httptcoglxfwpnqh', 'lag', 'infants', 'conditions', 'uhi', 'likely', 'letting', 'citystrangeand', 'fairs', 'normal', 'diehardvirgin', 'caught', 'promotion', 'argued', 'exec', 'benefits', 'deplaned', 'scream', 'unfortunate', 'xmas', 'gift', 'razor', 'picture', 'misleading', 'favorite', 'created', 'magic', 'friendlyskies', 'careyon', 'earliest', 'complaint', 'losing', 'mddc', 'md', 'praying', 'justgetmehome', 'pure', 'anarchy', 'slc', 'walking', 'packed', 'arms', 'getittogether', 'issuing', 'advisory', 'significant', 'shot', 'incident', 'report', 'processes', 'carried', 'ways', 'filed', 'callwhats', 'airborne', 'velcro', 'inconsistent', 'enforcing', 'prefer', 'randomly', 'freq', 'flyers', 'obey', 'httptcowezumdimyf', 'octaviannightmare', 'lie', 'meds', 'diapers', 'baby', 'practice', 'chairmans', 'hey', 'hve', 'flght', 'nw', 'insight', 'largesize', 'fit', 'single', 'spending', 'daldca', 'congrats', 'httptcokjiljaebv', 'engine', 'leakingwhats', 'nothappy', 'httptcoffczygjs', 'dads', 'sxm', 'shoddy', 'hep', 'httptcopadcjxlzl', 'cmon', 'fam', 'just', 'crpe', 'americanair', 'biscuits', 'httptcogzgqdtjj', 'marks', 'design', 'sun', 'sentinel', 'httptcosjveelween', 'tad', 'behind', 'assured', 'cincinnati', 'reason', 'layover', 'tolerable', 'loveluv', 'addition', 'under', 'confirm', 'funds', 'centre', 'text', 'changed', 'httptcololuwfci', 'temperature', 'mosiacfail', 'cranky', 'aas', 'tracker', 'your', 'located', 'trips', 'transported', 'employee', 'freddie', 'admiral', 'sibling', 'gates', 'wheels', 'chocked', 'unmet', 'meant', 'tues', 'httptcooscrefw', 'childish', 'program', 'comment', 'assigned', 'pairs', 'downgrade', 'mint', 'traveled', 'reported', 'provided', 'china', 'reviewing', 'blog', 'badly', 'wmnlifecom', 'george', 'httptcogrsdl', 'stinks', 'usairwayssucks', 'ahold', 'others', 'operation', 'intend', 'boo', 'wack', 'bueno', 'software', 'clown', 'hello', 'overseas', 'snaps', 'i', 'cart', 'cups', 'rows', 'httptcoxhcacjax', 'markie', 'sked', 'computers', 'clue', 'mod', 'congratulations', 'sky', 'must', 'flightingdelaying', 'flyswa', 'denverairport', 'canned', 'round', 'strike', 'httptcofrrfxccwz', 'httptconklwssvrq', 'thoughtful', 'guaranteed', 'terms', 'insulting', 'jane', 'special', 'mcogtjfk', 'disclose', 'refundprocedurenottoopainful', 'flightive', 'waaaaaaiting', 'inflight', 'goodcustomerservice', 'kindle', 'mail', 'specialist', 'stewardess', 'serving', 'drunks', 'removal', 'method', 'cessnas', 'become', 'httptcovtmusjvu', 'kindness', 'adjusting', 'snowstorms', 'forced', 'alternative', 'talked', 'human', 'forever', 'spoken', 'laughed', 'responsive', 'none', 'weird', 'busiest', 'filled', 'havent', 'scared', 'of', 'plt', 'smoooothest', 'southwestsmoothie', 'httptcovrklai', 'shoutout', 'crews', 'led', 'singing', 'luvintheair', 'prompt', 'perhaps', 'reduced', 'priority', 'certificates', 'accepted', 'locked', 'attitudes', 'anotherfail', 'homeless', 'clicking', 'buttons', 'parents', 'greenville', 'forgiven', 'highhopes', 'severally', 'answers', 'chairmanlove', 'noon', 'contacted', 'bring', 'blackberry', 'sweeps', 'httptconofgtqhyn', 'overselling', 'kick', 'inability', 'stupidity', 'losers', 'httptcofyvaioul', 'httptcovglxykwqg', 'screens', 'laptoplarge', 'god', 'tiny', 'lil', 'middle', 'who', 'travels', 'celebs', 'america', 'efforts', 'jamie', 'mckinnie', 'buf', 'pro', 'owning', 'stewardesses', 'cun', 'amazed', 'added', 'application', 'collection', 'httptcolednocdqee', 'messing', 'fszyo', 'elp', 'flyerfriendly', 'emb', 'elpaso', 'httptcomeozboxl', 'suggest', 'senior', 'manager', 'retrain', 'awe', 'mdwfll', 'capacity', 'picked', 'seatac', 'soaking', 'wet', 'bagawim', 'httptcongxaloml', 'eyyyy', 'problemss', 'reflight', 'fc', 'read', 'themagicalstranger', 'prime', 'opportunity', 'men', 'hats', 'parody', 'httpstcomwpggrezp', 'moved', 'inconvenient', 'ege', 'cxld', 'pity', 'machine', 'replied', 'story', 'expected', 'article', 'magazine', 'frankfurt', 'charity', 'donation', 'thankyou', 'coworkers', 'listening', 'capabilities', 'context', 'mentioned', 'lynchburg', 'wld', 'orl', 'char', 'sometime', 'wed', 'gonna', 'cut', 'bwisjd', 'stops', 'aug', 'incentive', 'touchdown', 'madrid', 'avgeek', 'httptcoywxrfngr', 'washingtondc', 'edinburgh', 'tired', 'understood', 'sales', 'employ', 'wishing', 'thomas', 'shocking', 'httptcoiwoigrlhxb', 'user', 'years', 'settled', 'providing', 'notifications', 'accurate', 'feet', 'bze', 'httptcoawgjkjiiac', 'complainer', 'written', 'experiences', 'wyou', 'finishes', 'walks', 'shocked', 'yepfiled', 'heathrow', 'ey', 'bday', 'birth', 'born', 'courtesy', 'lynn', 'sean', 'callplan', 'plowing', 'jerks', 'have', 'heck', 'warm', 'httptconsuiipvw', 'funflightattendants', 'sundayfunday', 'apply', 'fehqne', 'dcarsw', 'deceptive', 'marketing', 'practices', 'retain', 'granting', 'neverflyunited', 'departing', 'private', 'httptcoribqrcyd', 'httptcoaqjnhwnac', 'negotiate', 'resolutions', 'inconvience', 'possibly', 'planet', 'ref', 'httptcoysqbvqmgb', 'deny', 'figure', 'store', 'depends', 'breakfast', 'burrito', 'craving', 'reminder', 'tweeting', 'httptcomfmnkmvotrrt', 'ward', 'httptcoqavvlaxlkl', 'flightchecked', 'oakgtmsy', 'troubles', 'okayyyy', 'irons', 'promise', 'shenanigans', 'pull', 'center', 'ralph', 'naders', 'uals', 'httptcooapiau', 'sympathetic', 'questions', 'unanswered', 'httptcoxilzqdwe', 'yelled', 'her', 'stood', 'whispering', 'pointing', 'temorriscom', 'discuss', 'directly', 'phxgtord', 'fa', 'bill', 'ab', 'cards', 'automatically', 'travelling', 'area', 'lbs', 'lavoratories', 'est', 'z', 'airfare', 'refundable', 'environment', 'cs', 'fhkte', 'october', 'applauded', 'abt', 'takemeback', 'httptcooqzwclla', 'retweets', 'likes', 'fb', 'frustrations', 'f', 'windy', 'sunny', 'httptcoirynmbdu', 'flyfi', 'udub', 'httptcokbhymgkap', 'extended', 'httptcomthmwaobu', 'biggest', 'impact', 'anticipate', 'prebook', 'recently', 'surgery', 'offering', 'lose', 'yesterdays', 'linesforever', 'notified', 'updated', 'locator', 'betsy', 'besty', 'gettin', 'mostbut', 'homewardbound', 'stillbut', 'jetway', 'sb', 'reality', 'dare', 'safari', 'mac', 'emailscalls', 'ticks', 'rented', 'van', 'toledo', 'firstboth', 'galley', 'omg', 'reconsider', 'disrupted', 'sharon', 'saviour', 'gotta', 'departures', 'strtd', 'virginamerica', 'wing', 'httptcobagfdc', 'weekmakes', 'onlywaytofly', 'being', 'fastest', 'achieve', 'attended', 'corrected', 'whoa', 'brave', 'dissemination', 'relevant', 'e', 'entertaining', 'southern', 'hospitality', 'sav', 'delivering', 'promises', 'hrsampwaiting', 'referral', 'milageplus', 'moment', 'gather', 'thoughts', 'sharing', 'public', 'fire', 'handedly', 'unitedsucks', 'spoke', 'rent', 'httpstcodbcvepnqc', 'corevalues', 'passion', 'aerojobmarket', 'save', 'daughters', 'waitingonapilot', 'siouxfalls', 'whyairtravelsucks', 'honest', 'unlike', 'screenshot', 'myself', 'attentiveness', 'shannon', 'odd', 'txt', 'emp', 'aircraft', 'named', 'leah', 'severely', 'staffed', 'iah', 'brazil', 'teaching', 'english', 'spanish', 'children', 'skills', 'improve', 'vary', 'heads', 'sarcasm', 'patienceiswearingthin', 'woof', 'accept', 'apostrophe', 'surname', 'apostrophefail', 'caller', 'brooklyn', 'the', 'can', 'pair', 'prettyplease', 'frozen', 'ho', 'flywhonotblue', 'upon', 'takeoff', 'teen', 'reservations', 'known', 'awfulness', 'trees', 'die', 'sell', 'optout', 'httptcocxrzhcdtvz', 'damage', 'logging', 'entering', 'correctly', 'light', 'gee', 'thnx', 'doi', 'within', 'billing', 'cycles', 'ha', 'americanview', 'mall', 'httptconexdbcrhg', 'dining', 'manuel', 'bloody', 'mary', 'screencap', 'unspecified', 'cabinfever', 'averted', 'beers', 'sleet', 'bet', 'birds', 'flown', 'httptcohepknpuzwu', 'accidentally', 'populate', 'til', 'newamericanstinks', 'scam', 'm', 'swiss', 'lx', 'bff', 'beach', 'westchester', 'medical', 'practical', 'adapted', 'cushion', 'yeehaw', 'vent', 'deep', 'grow', 'all', 'needlessly', 'cats', 'pissedvery', 'thankful', 'evil', 'soul', 'httptcoxzbajmiekx', 'httptcoivdiwqsf', 'trbl', 'inch', 'hanger', 'pile', 'terriblecommunication', 'vino', 'deiced', 'costumer', 'providence', 'sucked', 'surf', 'baggagedrama', 'httptcocshrqq', 'ft', 'myers', 'milwaukee', 'dmed', 'ages', 'dnt', 'split', 'sld', 'window', 'messages', 'boeing', 'star', 'alliance', 'finals', 'winters', 'httptcoowmaxoyehz', 'friendliest', 'unscheduled', 'enter', 'memo', 'cheers', 'mention', 'circuit', 'breaker', 'bathrooms', 'httptcoxfwxsrwkha', 'formally', 'complain', 'handler', 'misconnected', 'denied', 'tray', 'table', 'florida', 'members', 'over', 'operator', 'surely', 'soft', 'views', 'httptcocnctlgef', 'sweetheart', 'scramble', 'mcogtcmh', 'urgency', 'focused', 'lea', 'switching', 'circling', 'timesomeone', 'forgot', 'clean', 'guitar', 'december', 'partners', 'checkout', 'payment', 'boost', 'conversion', 'rates', 'etailwest', 'payments', 'visa', 'faves', 'tvs', 'responsetough', 'involved', 'started', 'taxiing', 'fltkeeping', 'informed', 'delaygreatcustomerservice', 'reopened', 'wd', 'callers', 'husbands', 'internal', 'prepared', 'situations', 'alex', 'httptconsjwvttjgo', 'device', 'lbc', 'oak', 'daysand', 'worstnever', 'onelove', 'bestairline', 'experiencing', 'obtain', 'rdu', 'httptcowdyekvbze', 'atlantic', 'hpn', 'mimosa', 'compensate', 'vibe', 'moodlight', 'moodlitmonday', 'sciencebehindtheexperience', 'httptcoyounxtqp', 'languages', 'latinamerican', 'grand', 'total', 'thur', 'childs', 'peanut', 'allergy', 'didnt', 'vicky', 'refuse', 'heading', 'courier', 'hiring', 'dispatcher', 'il', 'network', 'operations', 'centerl', 'httpstcolioocpteq', 'holdguess', 'vacations', 'registration', 'printed', 'records', 'whenever', 'nwn', 'taxis', 'prior', 'httptcoidrakenoh', 'unprecedented', 'perk', 'httptconustgpelsf', 'httptcobebkxbt', 'ea', 'bk', 'asia', 'korea', 'training', 'camp', 'notmadeofmoney', 'bd', 'wproj', 'cond', 'promising', 'assist', 'flts', 'monopoly', 'fliers', 'crap', 'warnings', 'shitty', 'svc', 'aw', 'mk', 'btr', 'ordered', 'mvp', 'httptcojwlglrw', 'worstcustomerservice', 'touch', 'locally', 'arent', 'unconscionable', 'treatment', 'educate', 'bohol', 'while', 'rio', 'participate', 'representing', 'yourstoryhere', 'mx', 'phrased', 'differently', 'actual', 'consistently', 'subpar', 'merger', 'miracles', 'wheelsup', 'overheads', 'processing', 'spare', 'fav', 'truck', 'chalk', 'loss', 'roc', 'atc', 'veers', 'icy', 'flightaware', 'httptcoatwyifhzy', 'stl', 'expecting', 'cab', 'contain', 'herself', 'engadget', 'theverge', 'wired', 'reddit', 'high', 'volumes', 'tru', 'space', 'turning', 'refueling', 'barbados', 'ccwhy', 'checkincorrect', 'blowing', 'shotwest', 'onhold', 'valentines', 'gifts', 'neptune', 'notmyfault', 'clarify', 'learned', 'hundreds', 'jfklax', 'run', 'amenities', 'function', 'nocharge', 'kind', 'pays', 'illogical', 'ual', 'explaining', 'replyour', 'bucks', 'song', 'httpstcoflfulcbq', 'timehave', 'biz', 'calendar', 'inquiry', 'universally', 'adopted', 'mqxc', 'mpwnc', 'woohoo', 'amt', 'incoming', 'frustrating', 'maint', 'french', 'hardly', 'cutting', 'edge', 'overheard', 'refusing', 'same', 'leather', 'apart', 'ay', 'seams', 'tooooo', 'chain', 'command', 'hates', 'disappeared', 'unhelpful', 'letdown', 'belongings', 'frm', 'stlatl', 'nite', 'secure', 'restating', 'clearly', 'httptcofwkjble', 'mastercard', 'alaska', 'begging', 'notcool', 'promptly', 'kms', 'file', 'ride', 'multiple', 'waivethefee', 'poorcustomerservice', 'download', 'jeokoo', 'worthy', 'beginning', 'useles', 'lauderdale', 'louisville', 'acknowledge', 'touched', 'neworleans', 'annual', 'distributor', 'livethelegend', 'sound', 'httptcoqkquraggoo', 'bougth', 'mccaren', 'hipster', 'innovation', 'brand', 'ricoh', 'smith', 'oust', 'uncertainty', 'create', 'undue', 'penalty', 'reqing', 'flexibility', 'restrm', 'he', 'myselfothers', 'wno', 'wrongfully', 'ramp', 'crashedeverywhere', 'activities', 'garbage', 'reward', 'remind', 'rumors', 'tvmovie', 'installing', 'ack', 'httptcoqrxvzfrdz', 'write', 'cr', 'itll', 'unresolved', 'sjc', 'pleaseeeeee', 'ignorant', 'fallen', 'farthanks', 'doug', 'parker', 'overwhelming', 'freakin', 'large', 'coffee', 'extralight', 'sweet', 'jetbluebos', 'dcabos', 'bagsno', 'carousel', 'signs', 'updating', 'stock', 'rating', 'lowered', 'vetr', 'inc', 'jblu', 'dakota', 'financial', 'httptcoqwebeemvg', 'word', 'rental', 'mdtmy', 'origin', 'shares', 'q', 'results', 'httptcoxzqegnef', 'httptcovdtlomtwu', 'grrrrrr', 'yyzua', 'ear', 'worm', 'obsolete', 'fleet', 'texts', 'especially', 'locations', 'seemed', 'happily', 'cockpit', 'visit', 'blew', 'fouryrolds', 'capn', 'httptcocmqezxvdh', 'stopping', 'carryon', 'xdaily', 'orangecounty', 'portland', 'merging', 'dividendmiles', 'yield', '_exact_', 'steps', 'navigate', 'menu', 'position', 'needing', 'routinely', 'concert', 'httptcogbeasz', 'required', 'chaperone', 'httptcotmccexyaaq', 'hard', 'fr', 'undefined', 'workingfamily', 'cgroup', 'guest', 'canplease', 'tryin', 'plse', 'methe', 'pricing', 'pricewise', 'correlate', 'replacement', 'recline', 'soreback', 'becky', 'piela', 'orange', 'county', 'secured', 'dorns', 'thanked', 'goodenoughmother', 'involuntarily', 'bumped', 'preboarding', 'overhead', 'detectors', 'dcastl', 'cheat', 'horribly', 'stray', 'cdn', 'border', 'towns', 'exchange', 'customerappreciation', 'gaincustomers', 'keepem', 'nonservice', 'covered', 'httptcowowxhpuqv', 'separate', 'occasions', 'trained', 'wbuses', 'boooo', 'httptcowhagpknnlf', 'formal', 'jockeying', 'happier', 'ontime', 'contest', 'failure', 'dreamliner', 'leaves', 'httptcoaiyzwtza', 'dancing', 'stevie', 'bummed', 'satellite', 'incase', 'be', 'password', 'username', 'insanity', 'storms', 'inevitable', 'reaccommodation', 'mumbled', 'anxious', 'spite', 'janet', 'karen', 'res', 'maiden', 'namemarried', 'docs', 'hence', 'crummyservice', 'whydidntiflysouthwest', 'goodluckamericanair', 'fraud', 'dept', 'promotionscodes', 'nashvilledenver', 'worrying', 'items', 'brokenstolen', 'lock', 'commitment', 'fixing', 'peoples', 'httptcodplqmhqgd', 'kicking', 'pounds', 'bar', 'sm', 'industry', 'opinion', 'speedy', 'recovery', 'scavenger', 'hunt', 'v', 'fares', 'httptcombcehcszx', 'httptcozmjkalzl', 'pt', 'stndby', 'missedwork', 'clientnothappy', 'httptcosuprlfoit', 'ordpvg', 'turn', 'cushions', 'resolved', 'outdated', 'btwn', 'ports', 'personal', 'torture', 'restr', 'httptcoxrdtovnl', 'httptcoybyackc', 'aaadvantage', 'dissatisfied', 'allowance', 'glasgow', 'bump', 'seet', 'diverting', 'zurichnew', 'york', 'john', 'httptcobbhtlzghc', 'hubs', 'mexico', 'attempt', 'join', 'nycas', 'tourist', 'httptcoegaejtrglb', 'dreading', 'proactively', 'abi', 'holdup', 'flite', 'instance', 'failing', 'proving', 'unsuccessful', 'success', 'nonperformance', 'faithful', 'dry', 'unreachable', 'callbacks', 'police', 'sexual', 'wsj', 'content', 'analyst', 'nasdaq', 'httptcodwesexidr', 'rhonda', 'redeemed', 'straightened', 'reassigned', 'places', 'cantlike', 'lucia', 'flattering', 'proud', 'httptcooktukjyo', 'smart', 'mt', 'weve', 'partnered', 'digital', 'httptcoliwecasoe', 'isis', 'eriord', 'express', 'hugely', 'popular', 'eriewr', 'hop', 'hateful', 'incredibly', 'backed', 'lay', 'bedofroses', 'colored', 'httpstcoqyezhjgsb', 'brandmance', 'weasel', 'rooms', 'httptcoflcnnnusd', 'ravioli', 'chickenidiot', 'bwi', 'carolina', 'resort', 'aircraftrunways', 'todaytomorrow', 'httptcoukmedz', 'lmaoooo', 'although', 'rscheduling', 'representative', 'disconnect', 'degree', 'could', 'official', 'signed', 'lima', 'margo', 'houstons', 'bush', 'intercontinental', 'operating', 'anybody', 'repair', 'potable', 'mcigtdfw', 'pushing', 'adds', 'httptcoljzdthdbv', 'httptcogsnqsqz', 'incorrect', 'horriblecustomerservice', 'track', 'undignified', 'behavior', 'isnt', 'freedrinkcoupons', 'blankets', 'husband', 'strand', 'draw', 'solar', 'charger', 'amazon', 'game', 'changer', 'plug', 'usb', 'pitt', 'httptcoqygxgmdsn', 'hs', 'students', 'ithaca', 'xld', 'rulesshouldbend', 'detroit', 'researching', 'noticed', 'wclass', 'sites', 'deice', 'whose', 'reading', 'invalid', 'log', 'norm', 'boslas', 'vabeatsjblue', 'router', 'fuselage', 'wedding', 'discounts', 'nonprofits', 'donate', 'cute', 'frequentflyer', 'fan', 'brands', 'trivia', 'httptcoaucsykfuhd', 'creative', 'sorted', 'customerits', 'll', 'irina', 'flipside', 'eatup', 'cafe', 'assistants', 'mouth', 'kansas', 'kci', 'catching', 'basically', 'inferior', 'mergers', 'awake', 'laptop', 'logout', 'shocker', 'reminding', 'delta', 'those', 'takes', 'mileage', 'credited', 'useful', 'irresponsible', 'suitcase', 'fedup', 'disastrous', 'stretching', 'midnight', 'exhausting', 'bumping', 'ten', 'overbooked', 'aisles', 'evermoreroom', 'nonsense', 'cheap', 'competitor', 'cling', 'cdglas', 'wearing', 'flythefriendlyskies', 'guysi', 'rnodfw', 'tomorrowplane', 'amshould', 'froute', 'connect', 'httptcoincncavn', 'if', 'lit', 'msy', 'crashing', 'accessing', 'kys', 'oscars', 'ar', 'combination', 'texting', 'despicable', 'diff', 'necessary', 'wind', 'xoxo', 'blackhistorymonth', 'singer', 'musician', 'blacklivesmatter', 'oversize', 'hardcase', 'golfbags', 'weight', 'guitars', 'instruments', 'pastmypatienceexpirationdate', 'bosclt', 'narrow', 'farmy', 'coverage', 'whatcustomerservice', 'below', 'httpstcosoiqrnaj', 'httptcoibvvtzlse', 'encouraged', 'cpap', 'influx', 'bummer', 'predict', 'whether', 'value', 'ah', 'grasshopper', 'twitterz', 'kung', 'fu', 'hire', 'geeks', 'httptcomwitrikf', 'indeed', 'pittsburgh', 'drawing', 'crowd', 'notification', 'brother', 'girlfriends', 'grades', 'woulda', 'stepping', 'httptcovqtyzamzu', 'lifting', 'spirits', 'caned', 'performing', 'placedranked', 'century', 'puerto', 'rico', 'outbound', 'stranding', 'had', 'ignored', 'cover', 'inlaws', 'shortage', 'jose', 'co', 'path', 'railed', 'woke', 'barely', 'x__x', 'httptcoxxppzoj', 'namesdallas', 'looong', 'relied', 'harder', 'tallahassee', 'gainesville', 'worrisome', 'ones', 'lying', 'rollaboard', 'httptcoxvnnmltiw', 'wtw', 'grounds', 'gorgeous', 'handling', 'yearslate', 'maybeijustlost', 'whyyounoloveme', 'jeanine', 'excellent', 'lmk', 'curious', 'litter', 'singapore', 'saddens', 'texted', 'nightmare', 'served', 'vile', 'grossthe', 'survey', 'venezuela', 'slowest', 'abq', 'responsible', 'dude', 'shaquille', 'mild', 'poisoning', 'lhriah', 'families', 'argentina', 'sests', 'jacked', 'twitterdm', 'loose', 'em', 'airportsst', 'flexes', 'reverted', 'reliable', 'strangers', 'httptcobttgmyna', 'partnership', 'httptcowhufmiytd', 'httptcofbtemfwrsp', 'quite', 'dream', 'httptcooadrfaoq', 'httptcolwwdackhx', 'leadership', 'counts', 'nightdeplaned', 'motions', 'shortly', 'wonder', 'dime', 'awfully', 'mercy', 'disappearing', 'swamped', 'umm', 'unexpected', 'meaning', 'discrimination', 'regards', 'bounced', 'vp', 'custexp', 'jimmy', 'samartzis', 'surveyemail', 'httptcootfzcyguq', 'undies', 'handing', 'comfort', 'profitability', 'httpstcoagpbvwt', 'clesfo', 'flightstart', 'ru', 'planehow', 'dualcam', 'eastern', 'crjs', 'airstairs', 'valet', 'anniversary', 'dontmakemebeg', 'sector', 'whereby', 'columbus', 'unserved', 'market', 'film', 'unbelieavle', 'unaccpetable', 'failback', 'centers', 'goodwill', 'bellagio', 'vinyl', 'zone', 'nine', 'precious', 'gems', 'animal', 'allergic', 'farelock', 'fake', 'integrate', 'systemsyouareonyourown', 'onboardalerted', 'socketyou', 'vouchersno', 'mi', 'essence', 'stagnant', 'listed', 'httptcoiegobcepp', 'dfwno', 'speed', 'tks', 'psp', 'potus', 'main', 'dvr', 'insufficient', 'flightplease', 'unable', 'journal', 'broadway', 'httptcoasyqetdjp', 'decided', 'counted', 'snowboard', 'boot', 'standard', 'overall', 'italy', 'relatives', 'compensating', 'for', 'northern', 'california', 'coast', 'httptconmvnnfkb', 'rubbish', 'multi', 'merged', 'int', 'intentionally', 'unsuitable', 'athletes', 'irony', 'spot', 'barking', 'cocktail', 'apologies', 'thrown', 'seevery', 'iflyswa', 'shanghai', 'slept', 'night_', 'income', 'feedback', 'speechless', 'smoothflight', 'unfriendly', 'pray', 'fyvrfn', 'tickt', 'registering', 'wk', 'delayedcancelled', 'nt', 'infuriated', 'previous', 'newsflt', 'towards', 'requirement', 'urged', 'atrocious', 'silver', 'tx', 'httptcolenaowfyvu', 'jfksea', 'core', 'config', 'only', 'cry', 'choice', 'nixchangefees', 'redsox', 'side', 'catsanddogslivingtogether', 'httptcokfuyyokufv', 'overweight', 'restroom', 'sink', 'hand', 'sanitizer', 'insensitive', 'foodallergies', 'lifethreatening', 'unsolicited', 'uneducated', 'opinions', 'reckless', 'dangerous', 'tryna', 'protocols', 'surprisingly', 'moving', 'slower', 'customerservicefail', 'modify', 'daysits', 'dehydrated', 'sigh', 'pref', 'alt', 'refuel', 'announces', 'announcement', 'els', 'shall', 'thrilled', 'publicly', 'unitedfail', 'eu', 'charges', 'reasonable', 'picks', 'voicemail', 'falling', 'httptcohajlkqjw', 'itscostingmeincome', 'performance', 'leverage', 'bullshit', 'selfie', 'stick', 'goingtovegas', 'claimed', 'corp', 'spirit', 'letitgo', 'httptcoqxteqzmyz', 'flightledtried', 'everytime', 'paperwork', 'starts', 'failingyourcustomer', 'sincerely', 'patience', 'indy', 'felt', 'albuquerque', 'nm', 'usa', 'cebu', 'philippines', 'educational', 'pleasehelp', 'whenitsnowsitpours', 'tgcyalate', 'newyork', 'viracopos', 'httptcofheslpmu', 'gj', 'affiliate', 'uncomfortable', 'comfortable', 'ripoffquick', 'unemployment', 'clog', 'alreadycrowded', 'vegetarianproblems', 'tropic', 'pedro', 'belize', 'elected', 'appointed', 'hacks', 'httptcokkedjnrtwo', 'dig', 'heels', 'novel', 'zccu', 'advance', 'gf', 'contacting', 'sincere', 'airlinehave', 'httptcoeczhcmmvi', 'shopping', 'dinner', 'controllove', 'unhappycustomer', 'mytimeismoney', 'rebooting', 'dispatch', 'entitled', 'per', 'yr', 'rights', 'sister', 'manner', 'button', 'greyed', 'facing', 'ricdfw', 'regret', 'preparation', 'depending', 'model', 'httptcoambsig', 'div', 'unless', 'anyhelp', 'throw', 'conveyer', 'httptcolyoocxmsh', 'httptcoojeptw', 'ladies', 'gents', 'connector', 'lagging', 'stream', 'liza', 'raleigh', 'helpbeen', 'divadapouch', 'aka', 'thepoopqueen', 'httptcoxxydimnp', 'haul', 'europe', 'defiantly', 'scoop', 'gives', 'phltolas', 'receipts', 'presidential', 'departs', 'programmers', 'bot', 'httptcowbhbljjks', 'signal', 'dumb', 'dcagthpn', 'prof', 'takerswe', 'minnow', 'mvmt', 'tea', 'crewmembers', 'notch', 'httptcoragncwbk', 'inbox', 'strong', 'mideast', 'httptcoymmhkcbr', 'ruining', 'communications', 'intl', 'hv', 'wounded', 'vet', 'chi', 'healing', 'flightst', 'catch', 'httptcotyxaztmqu', 'httptcootlzakd', 'rewards', 'httptcoqkkjdfobos', 'ment', 'quoting', 'effective', 'dynamite', 'placed', 'premium', 'cardholder', 'hangup', 'meagan', 'fouty', 'brancato', 'preboard', 'wkids', 'sync', 'disgusted', 'jeff', 'smisek', 'disloyal', 'workers', 'httptcocevypb', 'planning', 'meals', 'fell', 'relate', 'gassing', 'brought', 'laxewr', 'steering', 'wilmington', 'mosaic', 'perks', 'helpgot', 'awhile', 'foot', 'fd', 'sickcrew', 'hide', 'self', 'annoying', 'reachable', 'itwhy', 'cont', 'eps', 'killing', 'compared', 'peanuts', 'tarmack', 'elm', 'gogo', 'boatstyle', 'swivel', 'cup', 'dietcoke', 'happyflier', 'mold', 'filthyplane', 'hopeidonotgetsick', 'httptcozikuoxgnw', 'raeann', 'sf', 'epicfail', 'sweethearts', 'companions', 'lifetime', 'sons', 'httptcolxwbsfxfj', 'allows', 'harass', 'mistakefurious', 'spam', 'larry', 'david', 'positive', 'communicateor', 'oranything', 'ignoring', 'imagined', 'stubbornly', 'manage', 'delayshandling', 'ohead', 'causing', 'ep', 'revenue', 'excruciatingly', 'exception', 'addressed', 'rule', 'research', 'buddy', 'youcouldntmakethis', 'brokenwheel', 'yup', 'knowledge', 'scanned', 'remove', 'bin', 'overflight', 'watered', 'bottles', 'besides', 'rudeness', 'deficiency', 'blocked', 'dming', 'forum', 'reaching', 'fixed', 'remain', 'sdf', 'robbed', 'higher', 'sameday', 'pooling', 'gifting', 'httptcodwvdvqxbb', 'drone', 'notwheelsup', 'receiving', 'tail', 'winds', 'jump', 'sea', 'disconnects', 'quickie', 'midght', 'fkn', 'panam', 'green', 'sarah', 'stocker', 'mech', 'housing', 'stt', 'readily', 'dot', 'hkg', 'standing', 'hmm', 'httptcopofsxojsy', 'globe', 'remembers', 'lame', 'excusegeez', 'coffeeneeded', 'whiskey', 'remembering', 'iceland', 'sheer', 'reigning', 'gd', 'were', 'njb', 'capture', 'pleased', 'deicing', 'waitstill', 'delayedno', 'remembered', 'ordseriously', 'seeks', 'balance', 'highway', 'httptcotynchoelac', 'decision', 'ops', 'pushed', 'adore', 'dal', 'daily', 'ftmyers', 'midland', 'lubbock', 'suppose', 'yayayay', 'severe', 'inquire', 'elderly', 'planefirstclass', 'concrete', 'bench', 'fat', 'yummy', 'httptcoaczwmuoon', 'fella', 'pacific', 'superb', 'raving', 'stress', 'weatherrelate', 'glitches', 'interesting', 'connectors', 'twa', 'prom', 'loudspeaker', 'bourbon', 'quiet', 'savethediagonals', 'began', 'trvl', 'turbulence', 'conection', 'bro', 'tul', 'partial', 'refunddm', 'by', 'looked', 'promotions', 'regularly', 'stuckinmemphis', 'texasisclosed', 'hits', 'sleekmoney', 'httptcozdkxnktou', 'southworst', 'staying', 'measly', 'ecertificate', 'achieving', 'miracle', 'fingerscrossed', 'pleasegod', 'missmykids', 'httptconwffkafy', 'wakes', 'assign', 'whatd', 'sylvie', 'yourock', 'jetbluerocks', 'overloaded', 'corporation', 'nasdaqjblu', 'markets', 'bureau', 'httptcoapyzlsquu', 'ruins', 'hopes', 'dreams', 'curb', 'draft', 'thanksm', 'unavailable', 'why', 'strollers', 'costs', 'restrictions', 'stroller', 'fifth', 'persistence', 'disturb', 'dl', 'movie', 'httptconhizlzmk', 'synergy', 'spotty', 'stressors', 'wour', 'httptcohiscndmgz', 'tacky', 'rebookplease', 'joanna', 'stressful', 'lesson', 'shame', 'httptconosvli', 'wheel', 'impaired', 'jetblueanyone', 'pissing', 'thousands', 'processed', 'hops', 'jumped', 'reboarded', 'aye', 'tisk', 'hourdelay', 'multipledooropeningandclosing', 'dangerofgettingsnowedin', 'yrs', 'supvrs', 'nudgenudge', 'slots', 'exits', 'disney', 'travelproblems', 'bothered', 'selecting', 'httptcosllyibevq', 'rang', 'vendor', 'constantly', 'southwestluv', 'httptcounxqotzik', 'ouch', 'qro', 'alwaysdelayed', 'pitiad', 'writers', 'hosting', 'pjs', 'does', 'lile', 'upstate', 'walk', 'metal', 'opens', 'robocalls', 'flightation', 'acknowledgment', 'todaygiving', 'httptcopsqrpsil', 'embarrassing', 'complimentary', 'drinksnack', 'detailed', 'httpstcozaxbh', 'suggested', 'opaque', 'basic', 'sneaky', 'jacksonville', 'parentsonboard', 'happyflight', 'irmafromdallas', 'technical', 'passing', 'buck', 'httptcolifnzku', 'narrower', 'bloated', 'doll', 'laflying', 'consideration', 'flightn', 'fend', 'runaround', 'earnedmybusiness', 'cowardly', 'guatemala', 'clothing', 'convinced', 'forecast', 'monfr', 'outsourcing', 'advised', 'downhill', 'ran', 'costumerservice', 'legit', 'jk', 'weathercall', 'outofbusiness', 'returns', 'continue', 'regardless', 'hint', 'volume', 'dmstill', 'waitingso', 'aafail', 'bradley', 'realized', 'upcoming', 'west', 'fing', 'selling', 'loans', 'valentine', 'flowerssmfh', 'directional', 'dislexia', 'radio', 'yay', 'ltltltltltlt', 'mikehertzcom', 'nofun', 'understandable', 'canthurtasking', 'comenity', 'recorded', 'tedious', 'vote', 'jetways', 'planepisspoor', 'feels', 'steaming', 'holler', 'subsequent', 'similar', 'intended', 'peer', 'laura', 'shortlycb', 'wonderfully', 'equally', 'satisfaction', 'mistreated', 'pwm', 'notes', 'shout', 'redheaded', 'chs', 'filmcrew', 'photography', 'cameragear', 'bonus', 'flowers', 'phlcrw', 'snack', 'steward', 'names', 'stated', 'citizen', 'nerdbird', 'nerd', 'businessfirst', 'chill', 'ithica', 'tshirt', 'burn', 'warmth', 'domestic', 'transport', 'apps', 'construction', 'os', 'category', 'dildo', 'responds', 'wedontcarebecauseyoupaidalready', 'offenders', 'conversational', 'cluster', 'exiting', 'pita', 'inedible', 'delicious', 'shrimp', 'httptcosotlxqsrp', 'oneworld', 'endless', 'httptcobjnzeix', 'redirect', 'abysmal', 'warmer', 'rad', 'thtimemonthsold', 'httptcokcqnwixucm', 'nonstops', 'pbi', 'carrieunderwood', 'stall', 'taxi', 'inconvenience', 'oldseatnocushion', 'worstflight', 'nohelponboard', 'lgabwi', 'easier', 'sapphire', 'reissued', 'sympathy', 'safer', 'avoid', 'incurring', 'relationship', 'thus', 'reimburse', 'flightledthor', 'paulo', 'hearing', 'msgs', 'fiance', 'charleston', 'justify', 'customs', 'httptcojhbjdver', 'abassinet', 'grace', 'powers', 'themed', 'angelo', 'outstanding', 'bless', 'medically', 'iwas', 'upgrd', 'amsound', 'strikes', 'strongly', 'ordeal', 'appreciates', 'marriage', 'abuse', 'overcharge', 'privilege', 'httptcosdylukrpt', 'ac', 'nofunatall', 'frontrunner', 'httptcopkiqhi', 'impossibly', 'lesscustomer', 'carol', 'thrower', 'fort', 'convenient', 'seeing', 'contaced', 'eyewitness', 'ripoff', 'idols', 'sooooo', 'amen', 'punished', 'ranked', 'transferring', 'contributiontopool', 'reviewed', 'nada', 'wichita', 'falls', 'pressed', 'staffer', 'threatened', 'planing', 'outage', 'often', 'orbitz', 'blasting', 'httptcoxaizwisml', 'honeymooni', 'bride', 'httptcowbjawxxd', 'getmeoffthisbird', 'dulles', 'ijustwanttobeinboston', 'thanksdc', 'fitz', 'bwibos', 'web', 'releasing', 'september', 'lbb', 'tripofalifetime', 'starving', 'itpretend', 'theyre', 'interested', 'vouchermiles', 'reciprocate', 'flightchange', 'hoops', 'watching', 'daytona', 'boss', 'httptcosbgbnouxy', 'driver', 'hospitals', 'badmgmt', 'payton', 'taylor', 'luvin', 'paypal', 'covering', 'range', 'patiently', 'fri', 'agentwhats', 'httptcopfsenjkpw', 'carriers', 'triple', 'looped', 'sight', 'okc', 'offeringat', 'mysteriously', 'yow', 'httptcosjqemdtqma', 'flgt', 'motel', 'capability', 'spread', 'salt', 'sass', 'bf', 'exicted', 'ticketed', 'sched', 'dpt', 'burning', 'illegal', 'bluetiful', 'lifeneedsfrosting', 'kj', 'dnxv', 'sudden', 'timed', 'outgetmeoutofhere', 'xweekly', 'apr', 'connected', 'passport', 'debating', 'expedient', 'sec', 'deciding', 'maneuver', 'highlight', 'bumper', 'cough', 'awkward', 'vows', 'smoothtransition', 'serv', 'unaware', 'disgraceful', 'enroll', 'gladly', 'kelly', 'draws', 'httptcocvbaolcbl', 'httptcowtapxa', 'lgagtdal', 'loads', 'nocustomerservice', 'httptcommmqffa', 'playing', 'seek', 'begins', 'bull', 'brothers', 'panamerican', 'championship', 'columbia', 'race', 'screws', 'connectns', 'hotl', 'fran', 'fall', 'backtodelta', 'reinstate', 'library', 'nicest', 'dividendsmember', 'httptconuhplnxriq', 'inoperable', 'pittsburg', 'honoring', 'rate', 'reserv', 'brutal', 'nvm', 'finest', 'prevented', 'advising', 'winnipeg', 'tightconnection', 'httptcobbaonxtxd', 'neither', 'aim', 'httptcohkowohd', 'ksml', 'suggests', 'cert', 'assume', 'chose', 'sensitive', 'dmqf', 'antonio', 'costumers', 'dozen', 'companionpass', 'decide', 'throwing', 'wrench', 'thatd', 'rack', 'perfect', 'latte', 'httptcogdzadxzbya', 'nov', 'kin', 'firefox', 'turns', 'gray', 'submits', 'hahayeah', 'park', 'dispute', 'dec', 'released', 'yuma', 'stlaus', 'happycustomer', 'prompted', 'initial', 'retrieve', 'errors', 'proof', 'stmt', 'comedy', 'incl', 'getyouracttogether', 'beans', 'swapping', 'ont', 'disapptment', 'ph', 'pat', 'autoreflight', 'continually', 'painfully', 'inexperienced', 'httptcovolmeja', 'mci', 'tick', 'type', 'chart', 'respondingmy', 'utevgw', 'hartford', 'cramming', 'planeno', 'exhorbitantfees', 'grandcanyon', 'httptcodpqouatdf', 'jb', 'overchging', 'bg', 'herded', 'cattleslaughter', 'triedits', 'immediate', 'httptcoqfochqez', 'refuses', 'characters', 'purchased', 'flightmarch', 'acquire', 'distance', 'ud', 'chnge', 'retrn', 'pickng', 'phoneonly', 'quote', 'jetbluefail', 'north', 'ins', 'age', 'giggled', 'goodgenes', 'ilookyoung', 'male', 'removes', 'tripping', 'version', 'reluctant', 'chicagothanks', 'deane', 'norma', 'sedholm', 'alist', 'wifiless', 'httptconjgagds', 'hints', 'rearrange', 'wnothing', 'eh', 'survive', 'breaking', 'circulation', 'advice', 'segments', 'gnv', 'ctl', 'affordable', 'happycamper', 'wth', 'displays', 'destroyed', 'massive', 'played', 'winterstorm', 'browsers', 'continues', 'heated', 'temp', 'itscold', 'nogood', 'faith', 'forth', 'savannah', 'highest', 'extend', 'nuts', 'httptcoxzyphkfgr', 'addressusername', 'signon', 'nc', 'pos', 'conversations', 'worstcustomerserviceever', 'valid', 'occurred', 'prank', 'direction', 'ric', 'pleeeeease', 'pits', 'usexpresspsa', 'sche', 'genious', 'redirected', 'exclusive', 'cash', 'resume', 'dons', 'honestly', 'sine', 'mdwgtmem', 'suspended', 'prchase', 'retailer', 'keepmy', 'force', 'shock', 'halfway', 'roundtrips', 'chief', 'cousin', 'espinosa', 'httptcohxlnvzknp', 'patricia', 'httptcommcwkqpgy', 'sway', 'httptcotqctkci', 'mp', 'player', 'usage', 'httptconvkirgkp', 'tpa', 'atx', 'transactional', 'overcharged', 'valentinesday', 'clever', 'loveisintheair', 'httptcodocmvotwti', 'whatever', 'bcn', 'wc', 'shared', 'taste', 'worlds', 'largest', 'heaven', 'aussie', 'cowgirl', 'lookin', 'cowboy', 'estelle', 'damages', 'complex', 'pulldown', 'suboption', 'formsmaddening', 'wens', 'tomorro', 'rollercoaster', 'bqn', 'httptcohyraoauu', 'tablet', 'swair', 'tortured', 'assisted', 'y', 'instagram', 'rant', 'accounts', 'satisfactory', 'hepl', 'rsw', 'define', 'incidentals', 'attempting', 'lasfllsju', 'letsgo', 'dirty', 'httptcorxhomm', 'httptcoycodikpt', 'iceday', 'httptcoksrfnw', 'requires', 'federal', 'laws', 'truth', 'wastedtime', 'flightly', 'httptcouimypzh', 'confusion', 'fistfights', 'crashed', 'hotlanta', 'httptcoxzqssjtrb', 'coin', 'rubs', 'wasnt', 'ship', 'usairwaysfflyer', 'stayed', 'affected', 'virgins', 'apathy', 'toward', 'dallasraisenow', 'spf', 'noreplycom', 'filters', 'dns', 'admin', 'among', 'ardent', 'poughkeepsie', 'httptcofrhuxibii', 'checkinout', 'marriott', 'boat', 'oregon', 'womens', 'tennis', 'barbara', 'supposedly', 'iv', 'onehouronhold', 'eager', 'vision', 'seasonal', 'sept', 'charter', 'cuba', 'wires', 'httptcoswbgrcc', 'httptcoqnodugfqk', 'dallasairporti', 'clewould', 'inclusion', 'guests', 'begin', 'swadiversity', 'solid', 'length', 'nowhereland', 'asleep', 'understands', 'srv', 'devices', 'httptcoobqirobuj', 'bottom', 'heartdestinationdragons', 'choices', 'equal', 'lowest', 'hah', 'hahahah', 'flyingflighttravel', 'nantucket', 'junsep', 'inventory', 'quality', 'physically', 'period', 'doctors', 'offices', 'bademployeeproblem', 'identical', 'needtobehonest', 'repurchased', 'they', 'recieved', 'been', 'httptcofuchzrzjg', 'everythings', 'brothaaaaaa', 'chibuf', 'miamiphl', 'ordgtcdg', 'attached', 'httptcosdlynmss', 'indianapolis', 'girlfriend', 'ideas', 'idiotic', 'consult', 'memorial', 'justifythissupport', 'guysfor', 'tweeted', 'selfies', 'va', 'deadhead', 'copa', 'competing', 'amtrak', 'refunds', 'retired', 'chrishasmadeusblush', 'trending', 'httptcollwioxvo', 'lmfaooooo', 'comedian', 'stage', 'nexus', 'httptcoxfmpnaaje', 'firefighters', 'document', 'difficulties', 'dates', 'honeymoon', 'cap', 'pet', 'saga', 'ohio', 'horror', 'lh', 'pqd', 'ruiningmy', 'hunkydory', 'nigga', 'play', 'lovegratitudempower', 'httptcoagrkncpf', 'werin', 'vipswagbags', 'avalonhollywood', 'httptcoybmbgsdhn', 'j', 'waiver', 'committed', 'continentalairlines', 'communicationfail', 'earlybirdmeansnothing', 'cp', 'noooooooooooooooooooooope', 'rmoug', 'recheduled', 'helloare', 'phf', 'cri', 'mission', 'accomplished', 'hug', 'httptcoltpykfvrq', 'ticketh', 'trvlno', 'wifimissed', 'con', 'fltnext', 'onehmissed', 'voucherhotel', 'chkoutfltno', 'wifihotel', 'unveils', 'httptcoueggknza', 'threehourslate', 'gap', 'httptcolsxjiouvr', 'intro', 'heel', 'clicks', 'pastor', 'homeschool', 'spirited', 'prefundiahttptcojrbzlhrwy', 'evaluate', 'httptcozvcfpohl', 'rubber', 'pasta', 'sauce', 'tastes', 'consumption', 'characterize', 'shouldve', 'concept', 'ohand', 'giants', 'fligt', 'thanku', 'vacate', 'findanothergate', 'burden', 'where', 'trick', 'wellplayed', 'jokesonus', 'hopped', 'winwin', 'amy', 'lloyd', 'zurich', 'pr', 'bettween', 'creating', 'iti', 'themon', 'crackerjack', 'ensure', 'chocolate', 'melting', 'httptcojjdosfyibm', 'compliments', 'goingforgreatnessfail', 'navy', 'sisters', 'cancld', 'discnctany', 'jburg', 'warehouse', 'facepalm', 'redcarpet', 'beating', 'apron', 'graders', 'science', 'project', 'loves', 'httptcobayepzkmiz', 'bogothouston', 'inhumane', 'key', 'reconsidering', 'ordealsigh', 'oki', 'unfollowing', 'expiration', 'unused', 'claudia', 'duped', 'availability', 'overtime', 'undelay', 'airplanes', 'extenuating', 'recovered', 'explains', 'someones', 'downtown', 'empathy', 'chosen', 'decisions', 'burbank', 'recording', 'apt', 'phantom', 'apeared', 'pvd', 'smallest', 'smoothest', 'toilets', 'vacay', 'playa', 'del', 'carmen', 'occupied', 'weighs', 'httptcolneghdgn', 'fullfare', 'gsa', 'helpthanks', 'spontaneously', 'bestairlineever', 'sxmclt', 'deplaning', 'missedconnection', 'forcedovernight', 'lodgingfood', 'volunteers', 'serve', 'peanutsnuts', 'confusing', 'contradictory', 'anaphylaxiswill', 'refrain', 'counterparts', 'negative', 'amateurs', 'hotspot', 'lands', 'serviceopen', 'rip', 'wresos', 'associated', 'myyb', 'clarita', 'jaramillo', 'mejia', 'dulleswe', 'onmultiple', 'saving', 'altonbrownlive', 'sohappy', 'glamco', 'ta', 'picking', 'travelocity', 'rolling', 'crated', 'wouldbe', 'pets', 'test', 'yesso', 'hawaiian', 'schoolgirl', 'typing', 'blacklist', 'alan', 'lve', 'wopen', 'nxt', 'frequency', 'xday', 'furious', 'avb', 'xw', 'embossed', 'badges', 'patches', 'superior', 'httptcofqxelbon', 'figured', 'morrow', 'oil', 'low', 'compd', 'prfriendly', 'accountability', 'mr', 'hayes', 'central', 'wonked', 'css', 'httptcoqsqmmkf', 'httptcoztkeeup', 'stating', 'regular', 'aeroport', 'firstclass', 'cockup', 'httptcoohcfvdhr', 'tulsanot', 'servicelooks', 'gif', 'six', 'wlil', 'wu', 'equip', 'flamethrowers', 'plow', 'showed', 'httptcozcbjyolsn', 'overbookedgng', 'destfeel', 'bec', 'returning', 'policyfees', 'forgotten', 'fkqw', 'approved', 'pic', 'httptcoaycflalxv', 'irritated', 'dumped', 'stacey', 'detailsno', 'taiwan', 'numbers', 'sukhdeep', 'httptcokneqe', 'donut', 'designer', 'channels', 'robin', 'httptcokkayxaps', 'anni', 'replaced', 'itinerary', 'httptcobaperumne', 'unsure', 'pointed', 'oreos', 'obscene', 'principle', 'mugged', 'wrongiswrong', 'loses', 'ive', 'tsanightmare', 'oversleeping', 'uncontrollable', 'irregularity', 'eligible', 'pid', 'invited', 'annoyed', 'temporary', 'grr', 'geg', 'overheating', 'hourslove', 'stars', 'bars', 'httptcomwsogucp', 'mobil', 'transferable', 'minenow', 'rectified', 'httptconbpcjcpew', 'stunned', 'httptcoukdjjijrow', 'acceptable', 'cos', 'nondelayed', 'na', 'amount', 'internationally', 'ideal', 'sittin', 'doubtful', 'gvn', 'httptconxqijcojnj', 'xna', 'gottogetbetter', 'fresh', 'tpadfwlax', 'orthodoc', 'oncall', 'advantage', 'foodnot', 'bite', 'historical', 'azzf', 'waitlisted', 'lmao', 'latrice', 'existent', 'inappropriately', 'de', 'perfectly', 'fml', 'communicationcompetition', 'august', 'trapped', 'unitedworstever', 'trappedhouston', 'insure', 'fricken', 'responsibilityamp', 'pleading', 'crackers', 'extraordinaire', 'seau', 'fong', 'boise', 'freezing', 'allowable', 'carrie', 'justifiable', 'conveniently', 'writing', 'transports', 'adjustment', 'valuable', 'lugging', 'carryons', 'beats', 'music', 'albums', 'complainers', 'inperson', 'robyn', 'manch', 'daystogo', 'estimated', 'nsw', 'httptcowqzztiemx', 'wholly', 'portfolio', 'tonite', 'scan', 'halfthought', 'road', 'srq', 'amazingly', 'todaychecked', 'httptcoxbqqqbrgvf', 'flighttold', 'nonexistent', 'midb', 'stellar', 'bestinclass', 'takemehome', 'calgary', 'russell', 'daiber', 'eco', 'airserv', 'contractors', 'calamity', 'leisure', 'highly', 'uniform', 'seductive', 'httptcoahlxhhkiyn', 'hiremorepeople', 'chase', 'celebrates', 'httptcouhxricrx', 'injuries', 'crash', 'wanting', 'httptcorpzyfe', 'trite', 'condescending', 'platitudes', 'layout', 'kiosksbag', 'definition', 'flyus', 'michael', 'terriblecustomerservice', 'httptcofecivwq', 'httptcogbiwugfnm', 'incompetency', 'tough', 'meaningful', 'possibility', 'wouldnt', 'penalized', 'packing', 'lightly', 'httptcodnifcgwe', 'departuredealing', 'tags', 'honored', 'backpack', 'cop', 'heart', 'review', 'telephone', 'inadequate', 'misplace', 'cincy', 'answerthephone', 'gently', 'placing', 'whipped', 'cream', 'arkansas', 'gov', 'governor', 'legalizes', 'lgbtcan', 'lend', 'voice', 'boycott', 'wx', 'my', 'vocab', 'rid', 'hip', 'stations', 'sirius', 'xm', 'as', 'unprofessionally', 'uncalled', 'cyndi', 'troy', 'groupa', 'honey', 'moon', 'stairs', 'distances', 'grounded', 'whereabouts', 'greeeaat', 'followdm', 'waitabout', 'perhr', 'bye', 'arrangements', 'preferred', 'wrote', 'evoucher', 'ftl', 'pizza', 'absoulutely', 'heavy', 'stockhouse', 'httptcoobfjbpca', 'communicate', 'newarkliberty', 'indicate', 'terminals', 'aampc', 'flyingainteasy', 'shaky', 'standbye', 'potential', 'doom', 'noone', 'typo', 'en', 'mailing', 'ontario', 'shuttle', 'therefore', 'reversed', 'bereavement', 'seatback', 'tokyonarita', 'mkt', 'strategy', 'whathappend', 'devalued', 'httptcomdbdyomrs', 'darrel', 'entertain', 'rapid', 'lr', 'stats', 'deli', 'customerservicenot', 'callnow', 'hourswhat', 'tomorrowwould', 'ctg', 'lft', 'httptcowbmhrlbvl', 'pictures', 'approach', 'httptcoadfulmh', 'wendi', 'disrespectful', 'surgeryhelp', 'convo', 'amypoehler', 'oscar', 'wheresthepilot', 'alive', 'band', 'httptcogkyufqh', 'consumermarketing', 'nassau', 'httptcoebxwgt', 'android', 'fiasco', 'outward', 'qantas', 'laxsyd', 'challenges', 'dvt', 'addtl', 'httptcoxcjqrb', 'httptcocwhyfoow', 'bizarre', 'httptcohlmoksxl', 'bonuses', 'elevate', 'terror', 'angrycustomer', 'linked', 'oops', 'httptcouldhwfkfo', 'valuables', 'medication', 'daysampapologise', 'appalling', 'once', 'httptcoshhtvioti', 'lord', 'supporting', 'padresst', 'keepitup', 'httptcobkmfeyqol', 'abroad', 'httptcocqmmnuem', 'livewelltraveled', 'sytycd', 'sfogtsna', 'infinity', 'httptcopxfhqkps', 'httptcoxmrvrlgeg', 'httptcowjocfsu', 'maltese', 'puppy', 'countingthanks', 'tyr', 'crewnow', 'outta', 'mebe', 'mikes', 'ewrord', 'ordywg', 'ct', 'connex', 'goal', 'pulls', 'httptcoimrlauih', 'footrest', 'shelf', 'httptcozlbvexmcj', 'target', 'stafford', 'httptcovqmdmzafuj', 'yroldtwins', 'published', 'indicates', 'irreplaceable', 'milestone', 'repaid', 'vegan', 'noodles', 'peas', 'zukes', 'nonvegan', 'yogurt', 'shades', 'windows', 'handlers', 'catered', 'thankfully', 'wayi', 'fear', 'youd', 'cater', 'op', 'integration', 'words', 'soooo', 'barcodes', 'httptcowepflly', 'mid', 'psgrs', 'httptcokfkjfztgi', 'kicked', 'httptcopnwjfps', 'baejet', 'amirite', 'hectic', 'actions', 'represent', 'imo', 'transactions', 'league', 'yell', 'devs', 'compatible', 'httptcoesmmnizek', 'manually', 'exeu', 'haulba', 'intraeu', 'jbi', 'squished', 'sprint', 'kewl', '_', 'pretzels', 'toll', 'betty', 'ilm', 'uncles', 'considerate', 'oaaret', 'bridge', 'temps', 'netneutrality', 'prioritize', 'winks', 'adolfo', 'garcia', 'strandedinnashville', 'kurt', 'hooray', 'yeseniahernandez', 'peculiar', 'throughout', 'whoever', 'contract', 'honour', 'closing', 'plebes', 'lower', 'floridavacation', 'thatbut', 'manners', 'decency', 'youyou', 'recommendation', 'continued', 'senseless', 'woase', 'winterops', 'michele', 'rocked', 'hou', 'unmonitored', 'deicer', 'dep', 'laxiad', 'learning', 'famous', 'asset', 'mitchell', 'tweetin', 'doin', 'anythin', 'wiser', 'ray', 'choppiest', 'feed', 'whiplash', 'americanairlinesfail', 'iwantmymoneyback', 'httptcoiskihge', 'verification', 'emerging', 'leader', 'development', 'httptcojlhmxukb', 'entirely', 'smelly', 'httptcohhoxqpsuba', 'allrepresentativesbusy', 'nooption', 'xtra', 'donotflyusair', 'registers', 'interest', 'pulse', 'httptcohxsnvfbbh', 'remotely', 'httptcolkfhhyhw', 'humour', 'httptcojnqnbkhut', 'troubleshoot', 'confidence', 'npbhd', 'httptcoewxwxidtfx', 'restaff', 'commence', 'httptcohaqcgdgc', 'convince', 'psychological', 'tricks', 'colors', 'confirming', 'cali', 'loyalmosaicmember', 'abc', 'missingtheoscars', 'capt', 'smoothie', 'httpstcoyzxfeau', 'nght', 'flightedmechprobs', 'flightedsnow', 'cls', 'filmjobnoequipment', 'nowarmclothes', 'el', 'paso', 'dealsmay', 'amid', 'hassle', 'rejected', 'dozens', 'arvls', 'custs', 'wcancelled', 'connects', 'irrops', 'nasty', 'floors', 'cleaned', 'winkwink', 'pressurization', 'pounding', 'blame', 'takeresponsibility', 'misplaced', 'crabby', 'earlybird', 'aggravating', 'gah', 'disorganised', 'kisses', 'snacksthank', 'httptconklozcntto', 'delight', 'lightning', 'anotherdisappointment', 'datetime', 'hangar', 'gmas', 'flydelta', 'strandedattheairport', 'flightua', 'prison', 'reminded', 'abcletjetbluestreamfeed', 'guinea', 'pigs', 'stuckon', 'expanding', 'httptcokkeixifp', 'suicide', 'leading', 'teens', 'reimbursed', 'costing', 'infrastructure', 'horrid', 'massivefail', 'failphone', 'httptcoigdgcttm', 'resolving', 'teamim', 'flightattendant', 'dreampath', 'g', 'enjoying', 'historically', 'lifeline', 'worldhungry', 'moderate', 'timejust', 'eta', 'allright', 'include', 'actualy', 'situationsyour', 'hostel', 'fakesnow', 'vmail', 'techcontd', 'httptcofxbijlxat', 'frontend', 'backend', 'idiot', 'armrest', 'remote', 'resting', 'elbows', 'mix', 'seatmate', 'drinking', 'discontinue', 'own', 'httptcotfjfmshak', 'travelhelp', 'jokers', 'reputation', 'southwestfail', 'jetblueblues', 'cltgtsfo', 'desert', 'basket', 'tears', 'community', 'inspiring', 'screwing', 'tomorrowhelp', 'tsaprecheck', 'httptconxzhbbmt', 'inpolite', 'chiberia', 'unreliable', 'nakedmeetings', 'deter', 'storage', 'latter', 'penguin', 'incompetentrude', 'untd', 'comps', 'conffvfyw', 'swrr', 'countingphoto', 'responses', 'consistency', 'citing', 'faa', 'timeswitch', 'httptcoxnruovts', 'wouldve', 'empl', 'greatjob', 'hogs', 'other', 'collectively', 'auh', 'gooutofbusiness', 'neverchange', 'uninformed', 'unapologetic', 'nolove', 'peace', 'outtage', 'affecting', 'httptcodrwdjhai', 'issuesmy', 'delayedconnection', 'menow', 'nycjfk', 'mountains', 'francisco', 'ahhhh', 'goldsapphire', 'yer', 'nycgtpdx', 'nycgtpghwish', 'realize', 'comfortably', 'civilized', 'yellow', 'because', 'unserviceable', 'squashed', 'miatoiah', 'eternally', 'grateful', 'newflight', 'pordes', 'chillycvz', 'thankgoodness', 'sunshine', 'trafficfuel', 'voucherconfirmation', 'daniel', 'grumpy', 'sydney', 'wrecked', 'destinationdragon', 'fra', 'dmangencom', 'clues', 'duke', 'hat', 'mason', 'locating', 'mammoth', 'troubling', 'httptconmbhngnmki', 'skip', 'flgjt', 'gso', 'entered', 'cst', 'reposting', 'autoresponse', 'imateacher', 'neptunewaivethefee', 'bosgtlas', 'permanently', 'resourcesratings', 'httptcodewithpew', 'inop', 'abbreve', 'deactivated', 'deactivate', 'cstsvc', 'honors', 'rcd', 'particularly', 'hungry', 'vegetarian', 'shrug', 'assaulted', 'unprepared', 'unsympathetic', 'lacked', 'solutions', 'advisories', 'toronto', 'thng', 'responsibility', 'httptcomljacpmch', 'contactless', 'emv', 'testing', 'joking', 'proportion', 'significantly', 'representatives', 'helpunitedsucks', 'spends', 'stranger', 'randomactsofcorporategreed', 'logistics', 'india', 'mumbai', 'surat', 'navimumbai', 'fixedcertain', 'tracks', 'loud', 'mashing', 'tones', 'themestimated', 'goods', 'flexible', 'koalax', 'squeaks', 'shift', 'intent', 'queries', 'journey', 'straighten', 'httptcouvieuidf', 'before', 'neglect', 'cunewr', 'bone', 'preselect', 'sfogtyyz', 'httptcoazltjhflv', 'httptconytuxfqf', 'unrivalled', 'onestop', 'yearround', 'causes', 'trial', 'assuming', 'boy', 'himy', 'relieved', 'neighboring', 'bitch', 'envoys', 'envoy', 'strange', 'pri', 'active', 'opsec', 'harf', 'iraiq', 'jobs', 'soaked', 'suitcases', 'cramped', 'craziness', 'ahem', 'parking', 'garage', 'displeased', 'moments', 'baggages', 'popping', 'patiencerunningout', 'cltbna', 'measles', 'outbreak', 'bands', 'predicted', 'httptcoufyxxkisa', 'understatement', 'courteous', 'span', 'daysnone', 'un', 'fin', 'believable', 'httptcokigfkvxxdq', 'girls', 'becoming', 'woaw', 'httptcorfxlvkgdh', 'lb', 'surfboardbag', 'damion', 'damionflight', 'airbus', 'dark', 'tries', 'buying', 'unaccompanied', 'minors', 'refreshes', 'checkouterror', 'increased', 'dounotwantmybusiness', 'httptcoflbgzzkd', 'rolemodel', 'finger', 'excuses', 'oversized', 'enforce', 'ticketi', 'betting', 'mths', 'ivr', 'unclear', 'thanksare', 'various', 'requests', 'premiere', 'ber', 'replacing', 'jul', 'fsqthg', 'servicefail', 'onholdforever', 'suboptimal', 'shiver', 'forevercold', 'gent', 'headphones', 'eticket', 'empathize', 'capitalized', 'lowercase', 'dms', 'httptcokmhzrjfe', 'liars', 'posts', 'fullyear', 'net', 'profit', 'httptcotvbzbzvhg', 'totallyconfused', 'httptcodvsltqzkmq', 'httpstcoucvnilmbx', 'happybirthday', 'rising', 'httptcovahdekvoke', 'aruba', 'vallarta', 'httptcocpzbo', 'httptcoquzvmkrtr', 'athlete', 'nogearnotraining', 'tic', 'pleasure', 'httptcokmqulyge', 'individual', 'privileges', 'entry', 'perform', 'dwell', 'encouragement', 'guessing', 'stole', 'camera', 'trash', 'snowforce', 'workout', 'inconsiderate', 'retroactively', 'flightsmilespoints', 'wide', 'concerns', 'enterprise', 'httptcocicfrlqbe', 'aggressive', 'obnoxious', 'recourse', 'bgr', 'interchangeably', 'ws', 'chairman', 'flailing', 'httptcojhxwmutxg', 'nvr', 'coffeemaker', 'coma', 'tovery', 'followers', 'maintained', 'exchangecredit', 'shadier', 'white', 'nines', 'escorted', 'prebooked', 'dissatisfaction', 'und', 'welldone', 'getconnected', 'madness', 'httptcoxusbjfv', 'youdo', 'prize', 'sba', 'combine', 'chef', 'beauty', 'miguel', 'allende', 'httptcotrdrcre', 'awards', 'herman', 'ambassador', 'inconveniences', 'ordlga', 'yousuck', 'frankcom', 'whoooo', 'hooooo', 'pace', 'knowhockey', 'sticks', 'outsource', 'airlinesyour', 'dublin', 'jam', 'compassion', 'cxed', 'nev', 'flawless', 'blueheros', 'inconvenienced', 'unexplained', 'young', 'tb', 'rocking', 'tim', 'mcgraw', 'tom', 'sandwiches', 'notfriendly', 'repeat', 'idk', 'transfers', 'downstairs', 'elise', 'joined', 'stepitup', 'doing', 'httptcofupfuayir', 'httptcolpvfhkyf', 'bafore', 'burst', 'jh', 'homegirl', 'httptcotvkpyxqv', 'xmost', 'stopclaim', 'improves', 'angryairtravel', 'professionals', 'higgs', 'boson', 'bitchy', 'avis', 'httptcotjbnwztq', 'surveying', 'mentioning', 'owner', 'mortified', 'acted', 'lacks', 'nervous', 'spell', 'trusted', 'gobankrupt', 'httptcoamcuiewo', 'classy', 'tke', 'flierfriendly', 'maybemange', 'alittlebetter', 'howisthatpossible', 'agreed', 'nothini', 'nothin', 'bout', 'ghettofab', 'httptcomaqwnlniu', 'gang', 'hacked', 'flaw', 'discontinued', 'dance', 'wasteoftime', 'stupid', 'methods', 'debit', 'billmelate', 'secret', 'beaches', 'handed', 'slip', 'paperampsaid', 'airporthave', 'disregard', 'slowly', 'nothings', 'idiots', 'unnecessarily', 'bnasnow', 'holds', 'bulkhead', 'andor', 'httpstcocafcxgfi', 'missin', 'hooked', 'tofrom', 'cll', 'angel', 'cathy', 'hooking', 'exasperating', 'undergoing', 'rockies', 'airplanemodewason', 'owed', 'flycould', 'flightsairports', 'bwiewrmco', 'delacy', 'compassionate', 'priorities', 'cb', 'ratepolicy', 'dtw', 'rainsleet', 'hearts', 'flex', 'workforces', 'redeye', 'nonrefundable', 'globalfc', 'selects', 'wupgrade', 'baltimore', 'offwish', 'serenitynow', 'squawked', 'lied', 'beg', 'ottawa', 'cnn', 'nbc', 'explore', 'meseems', 'ongoing', 'remaining', 'hitawall', 'unusable', 'usairwaysfailscustomers', 'thrueverything', 'clothessuit', 'chaos', 'abounds', 'httptcoryxbplgmnk', 'parentthey', 'pqm', 'obvious', 'recruiting', 'postpone', 'proactive', 'mag', 'shoulder', 'selectionchange', 'grandfather', 'hired', 'getmorehands', 'lazy', 'accessibility', 'equality', 'omaha', 'grandmothers', 'grandma', 'greedy', 'foolish', 'rampers', 'crashes', 'action', 'solving', 'skiing', 'jorge', 'combative', 'hury', 'vastly', 'seg', 'haydensteamboat', 'hdn', 'complains', 'overflowed', 'toilet', 'plumber', 'static', 'aside', 'inaccurate', 'manifests', 'would', 'how', 'bright', 'snag', 'diamond', 'earring', 'dayjustgotworse', 'httptcouiesrghho', 'mintyfresh', 'lostbags', 'invoices', 'approx', 'firevan', 'classes', 'presceo', 'gary', 'therofo', 'addressing', 'httptcooiuqttz', 'painless', 'effortless', 'tory', 'tailwinds', 'ans', 'channel', 'scandal', 'arrange', 'queues', 'reclaim', 'entertained', 'gracias', 'lin', 'multimedia', 'detail', 'extravaganza', 'dobetter', 'httptcovpvphmtzc', 'httptcoudpqfliqo', 'assumed', 'standbys', 'preoccupied', 'flagging', 'observer', 'semester', 'slash', 'engagement', 'cooler', 'httpstcojpdnsgrt', 'ctr', 'timerest', 'spots', 'areas', 'ragandisney', 'maddening', 'executive', 'fortunately', 'rtbgtiah', 'headaches', 'neighbors', 'smoking', 'cigarettes', 'qualifies', 'misfortune', 'connectfor', 'feces', 'sprinkled', 'icloud', 'bestfriend', 'smashed', 'giant', 'golfunited', 'pigeon', 'warn', 'httptconpsuejdc', 'beware', 'barklays', 'bookin', 'sfopdx', 'monica', 'marshaled', 'seatstray', 'tables', 'sanitized', 'purifier', 'supp', 'neverflyvirginforbusiness', 'maimi', 'checkinbut', 'block', 'httptconkdcsxu', 'geeeeezzzzz', 'pres', 'eqms', 'httptcovpqemxuq', 'buys', 'predictable', 'acts', 'necessities', 'httptcoqdljhsloi', 'dies', 'ebola', 'httptcohxvvisvww', 'omgee', 'onfleek', 'aunts', 'argument', 'butt', 'hurts', 'weekly', 'humans', 'monetary', 'destroying', 'lives', 'lively', 'expireswhy', 'nowmightmismybrosgraduation', 'competitors', 'preventative', 'saved', 'papers', 'negatively', 'affect', 'integrity', 'dang', 'teleportation', 'okyou', 'brussels', 'dating', 'upholding', 'pedophile', 'bosbna', 'rcvd', 'mph', 'jua', 'sisterampbrother', 'law', 'desperately', 'overflow', 'most', 'facts', 'deaffriendly', 'httptcobrtathau', 'httptcowznpqmh', 'couldwanted', 'chrome', 'gangway', 'massages', 'estimate', 'unloaded', 'alternatives', 'pv', 'httptcomwsgolgo', 'ummmm', 'airs', 'silence', 'golden', 'tops', 'fired', 'spvsr', 'sally', 'slapintheface', 'httptcouczplhl', 'byebyeusairline', 'alicia', 'exceptionalservice', 'fendforyourself', 'repping', 'bruins', 'roll', 'hof', 'christmas', 'jetbluebruins', 'httptcojknwugj', 'failover', 'logic', 'chge', 'searched', 'saver', 'misses', 'madhouse', 'yikes', 'feeyou', 'reopen', 'growing', 'backlog', 'httptcopxdelnql', 'compounded', 'jetbluemess', 'httptcocyoonzftdc', 'ski', 'spelled', 'twist', 'plot', 'unsecured', 'sys', 'httptcoaygaoebuu', 'condolences', 'paste', 'suddenintlcheckin', 'understaffing', 'duck', 'sacramento', 'minneapolis', 'resulted', 'rechecked', 'increments', 'wn', 'sansfo', 'brilliant', 'rita', 'impressedand', 'brushing', 'nny', 'hubby', 'kitties', 'countingdown', 'mentions', 'dump', 'tue', 'gesture', 'hero', 'donkey', 'cae', 'willmake', 'chkd', 'httptcombltalrbs', 'statusawaiting', 'asgmnt', 'yest', 'aircrft', 'difficulty', 'mouse', 'pad', 'specifics', 'depot', 'fjbfsc', 'amex', 'xx', 'londonfashionweek', 'lfw', 'everywhere', 'portion', 'impressive', 'httptcofraqdpkyga', 'roadmap', 'intelligent', 'embed', 'helpaa', 'hypocrisy', 'httptcohjucpl', 'missedflight', 'junction', 'amazingflightcrew', 'mechanic', 'tool', 'absorber', 'nycgtbos', 'worstever', 'httptcomynzitcovn', 'codeshare', 'owe', 'flutter', 'fullprice', 'harbor', 'favoriteairline', 'luvforsw', 'southwestair', 'carolinas', 'disappears', 'zrh', 'prepare', 'certainly', 'chilly', 'misspelled', 'httptcobswrpmq', 'exceptional', 'greatservice', 'professionalism', 'httptcotycgaeo', 'overpriced', 'sub', 'evolved', 'httptcofornpfky', 'insider', 'trading', 'hill', 'httptcovvzksmfkvw', 'slammed', 'advisoryreally', 'cloud', 'heyo', 'encountered', 'press', 'httptcoxdlbibclp', 'hella', 'fas', 'collect', 'mce', 'cruise', 'nola', 'dallasfort', 'gears', 'grinding', 'nonprofit', 'arc', 'rely', 'extractions', 'abducted', 'cheese', 'veggies', 'olives', 'onlineuseless', 'batman', 'speeds', 'insanely', 'pointless', 'mundane', 'qs', 'cots', 'roomsthat', 'scenes', 'noaccountability', 'httptcorpdbpxwnd', 'followback', 'snowy', 'roads', 'ticketsforjax', 'qualify', 'dreadful', 'pretend', 'airspace', 'jkf', 'waitingcan', 'awheelchair', 'women', 'laugh', 'jvmchat', 'sapgtmia', 'teeming', 'morons', 'frigid', 'icyflight', 'labeled', 'occupy', 'musical', 'httptcojmnkjbmc', 'blizzue', 'hizouse', 'understanding', 'dcam', 'reallythey', 'ofi', 'wudda', 'communicated', 'luxury', 'spoiled', 'wcustomer', 'droped', 'rudest', 'fyicall', 'stilling', 'continuous', 'dialing', 'attempted', 'httptcoskwxqaqb', 'weatherbackup', 'goodgriefpeople', 'aadvantage', 'assurance', 'httptcovulbzxtrx', 'annnnnd', 'faail', 'disability', 'frontier', 'httptconwinfuc', 'phonehung', 'onall', 'ideasshe', 'todayat', 'petition', 'silly', 'sittingonthetarmac', 'youi', 'spain', 'vieques', 'bossju', 'downgrading', 'ffstatusdontmatter', 'thenewaa', 'muscles', 'frown', 'flyin', 'thanx', 'rodeo', 'comm', 'violation', 'phoneonline', 'fifty', 'ooh', 'sourhwest', 'greed', 'fave', 'eservicecom', 'bgkwm', 'narayanan', 'tel', 'kul', 'owes', 'tammy', 'winstonsalem', 'unheard', 'happend', 'tagged', 'isp', 'frigidfriday', 'httptcobfpfweyku', 'httpstcormpkogwu', 'daysofhell', 'httptconehnsdckty', 'detailsu', 'costarica', 'pennies', 'vacatime', 'pmtold', 'referencing', 'jac', 'httptcopnbajfkmhg', 'flightrfor', 'threw', 'timei', 'ewrsti', 'season', 'proceed', 'delayforwhat', 'kindly', 'httptcoqpawnlip', 'sfonew', 'each', 'badmaybe', 'nature', 'callguys', 'logged', 'emailtext', 'outline', 'scenarios', 'maui', 'shirts', 'viable', 'substitute', 'ton', 'publicity', 'willneverflywithyou', 'gunna', 'wjere', 'dear', 'sti', 'transpired', 'teaampnot', 'httptcobcwckwtnle', 'shipped', 'emptied', 'nightyour', 'ethics', 'sir', 'majority', 'evidence', 'ils', 'into', 'result', 'desired', 'lessand', 'inclement', 'httptcoeqepkkpsxm', 'neurosurgery', 'icu', 'americanisbetter', 'fourth', 'httptconageakpa', 'lavatory', 'baggagelost', 'likelihood', 'employeefaceless', 'miler', 'minutesand', 'pink', 'thousandth', 'rswwebsite', 'httptcoqxnoaqtyn', 'httptcojkqmdfqgf', 'transf', 'supv', 'ramada', 'kidnapped', 'retaining', 'ventilation', 'reference', 'appalled', 'gal', 'httptcovbuxfpckfa', 'lasttweetaboutthis', 'httptcocsddccmvbd', 'wakinginmemphis', 'kit', 'kat', 'tasty', 'sandwich', 'or', 'indicating', 'discount', 'unnerving', 'httptcoqdxftqqt', 'humiliated', 'uncompromising', 'blindsided', 'rachel', 'wong', 'marisol', 'pimentel', 'hindered', 'ability', 'snapped', 'lacking', 'interrupted', 'iahmnl', 'advertised', 'bookable', 'bugging', 'accts', 'hurry', 'benefit', 'dishonest', 'ewrlax', 'seatarmrest', 'discover', 'fullfa', 'misery', 'breach', 'lawsuit', 'lawyerup', 'httptcovbfieoqjc', 'horriblewent', 'flightno', 'buttonthatcalled', 'ampwait', 'minsampput', 'calledampit', 'hungupnohelp', 'unitedagainstunited', 'httptcogsaozgtv', 'operate', 'mothers', 'glitchy', 'clicked', 'httptconosjza', 'httptcouqoopjpwg', 'programhorrible', 'measure', 'xt', 'faus', 'customersyou', 'asks', 'token', 'whatstatus', 'weds', 'arguing', 'laughing', 'checkpoint', 'court', 'anticonsumer', 'casual', 'httptcojieycatek', 'httptcohiflaxe', 'angering', 'slowness', 'ase', 'blames', 'meit', 'jetbluesofly', 'appointments', 'sfolax', 'httptcosrmqbrzd', 'twiiter', 'jal', 'cathay', 'sunrises', 'httptcojgduusdz', 'geez', 'sampgs', 'nl', 'disappointments', 'followup', 'turrible', 'uxzj', 'relaxing', 'httpstcojcjlrfd', 'httptcodtlguqkak', 'ups', 'complicated', 'fully', 'compensated', 'httpstcoomviega', 'urgentlyget', 'reflect', 'duffle', 'premgold', 'comms', 'deck', 'websites', 'httptcohhctie', 'ticketing', 'unorganized', 'mass', 'unmanned', 'httptcozgqebfk', 'buffalo', 'cheapoairchat', 'crewi', 'marked', 'completed', 'httptcoaufmxdaj', 'saveus', 'passengersstranded', 'graduate', 'missingstollen', 'anyones', 'welcomed', 'outoftouchwithreality', 'belong', 'humiliating', 'races', 'httptcoaxpnxiqb', 'breaks', 'selection', 'strandednyc', 'login', 'tfw', 'tyspent', 'cell', 'battery', 'stains', 'aboard', 'finalstretch', 'execplat', 'mileagerun', 'arrogant', 'coat', 'gloves', 'maria', 'beanie', 'httptcoaneqxzrbp', 'superiors', 'phillip', 'heller', 'ifc', 'particular', 'luxuries', 'finds', 'thurs', 'earrings', 'httptcojiclvdts', 'httptcovosizhsl', 'donedeal', 'talktoahuman', 'heartless', 'term', 'whilst', 'timesenough', 'remorse', 'httptcoedgctbls', 'chatted', 'lowdown', 'httptcozouowgvq', 'dooronly', 'fuelamplikely', 'fuelcycle', 'churchmouse', 'grown', 'unimpressed', 'numerical', 'odds', 'injured', 'httptcoghjbpgg', 'greatest', 'truebluepoints', 'jetbluemember', 'handicapped', 'staring', 'itin', 'httptcowajkeyt', 'precioustime', 'veryloyalcustomer', 'rescue', 'sundown', 'httptcorqbpmwettq', 'millions', 'coincidence', 'hundred', 'cutoff', 'yhzewr', 'httptcopfsluxegw', 'httptcoonhxhcobk', 'fligths', 'plague', 'carerespond', 'jt', 'sop', 'problemhad', 'flightdelay', 'craft', 'nocompensation', 'corrective', 'httptcoxbodakak', 'shouldhaveflowndelta', 'agency', 'tone', 'deaf', 'hahnot', 'ftw', 'plate', 'acc', 'scene', 'meanit', 'belabor', 'pointbut', 'announced', 'rollers', 'youragentshavenoclue', 'httptcoanohokl', 'pns', 'antigua', 'disrespect', 'pulled', 'usdelayways', 'letsgoalready', 'httptcokacyawdbw', 'hii', 'ridiculousor', 'approve', 'refundplease', 'wht', 'terminology', 'brings', 'verbiage', 'utilize', 'hanged', 'midwaychicago', 'thapril', 'flypbi', 'goto', 'improper', 'gills', 'killeen', 'setup', 'constitution', 'declaration', 'independence', 'pho', 'providenciales', 'schedules', 'httptcoxltvzst', 'httptcotfpcgrej', 'uvf', 'weekday', 'television', 'nycfeltthelove', 'july', 'restrooms', 'playlist', 'ruth', 'rerouting', 'spamjunk', 'casenothing', 'differ', 'usairsucks', 'irritating', 'tomrw', 'screaming', 'tf', 'verbal', 'approvals', 'stopover', 'awww', 'realtime', 'appreciation', 'rockingthetweets', 'swap', 'fool', 'homeintentional', 'directed', 'uncool', 'untrue', 'montego', 'tailwind', 'candy', 'aaba', 'hoursgot', 'txfd', 'cncdld', 'poop', 'httptcoarvaylmfc', 'doubletriple', 'hrsthere', 'problemsbtwthe', 'mdwsan', 'uwont', 'memake', 'mesit', 'excess', 'timesampstill', 'insist', 'speciifc', 'character', 'aaus', 'adopting', 'nearby', 'sounding', 'bitchslapped', 'sizer', 'packingayak', 'recap', 'thinkdo', 'supply', 'images', 'organization', 'priv', 'usaiways', 'api', 'electrical', 'interiors', 'whyjeff', 'ellamae', 'discovered', 'pennypincher', 'httptcoliqwoblfbt', 'grandbabies', 'births', 'fueled', 'attdt', 'decides', 'locals', 'strip', 'dallasaustin', 'ketr', 'httptcossuvwwkyhh', 'njvbp', 'livepersonplease', 'enzo', 'pooch', 'httptcodlhhbg', 'unloads', 'badbusiness', 'contains', 'modifications', 'fusturated', 'httptcolftqdsy', 'applications', 'intern', 'positions', 'httpstcogmlotimh', 'pgh', 'mbps', 'bots', 'professors', 'classwrite', 'midterm', 'cabs', 'cooker', 'worstairline', 'nightlife', 'nicole', 'quito', 'professionalnice', 'reverse', 'chargersclothescoatcontact', 'lenses', 'mtg', 'shaking', 'freaky', 'dimensions', 'grievance', 'occurs', 'yyj', 'intention', 'versus', 'convenience', 'quoted', 'httptcomjkpgvxmpc', 'pummeled', 'aimed', 'satisfy', 'nanosmattering', 'colonist', 'httptconzdxrvszwv', 'awesomebright', 'vibrant', 'habitrails', 'sitecomplicated', 'ordering', 'typically', 'smalls', 'sentiment', 'groundstill', 'httptcoqxvwgl', 'kristy', 'spelling', 'comethis', 'gng', 'arpt', 'wat', 'bound', 'workhard', 'playsoon', 'notahappycustomer', 'leavingtomm', 'easiest', 'recheck', 'woo', 'require', 'memorize', 'fiveword', 'phrase', 'tabitha', 'miraculously', 'shoe', 'pamper', 'fendyourself', 'youareonyourown', 'httptcopweudlczg', 'victim', 'sosmart', 'frequentflyerappreciates', 'alsoyayforsnacks', 'spring', 'flat', 'contents', 'suitshirts', 'mtgs', 'albeit', 'earned', 'luggagecancelled', 'httptcoltxjkbo', 'admitted', 'checks', 'jeopardy', 'protect', 'anticipation', 'httptcovlcikvip', 'olympic', 'specified', 'stillnotonmyflight', 'interferes', 'wellen', 'concerts', 'alway', 'treasure', 'hourconnected', 'systemtransferred', 'soc', 'dontflyusairways', 'questionare', 'onboad', 'volt', 'savings', 'foodallergy', 'escalate', 'flipped', 'retrieved', 'coded', 'tryng', 'rsrv', 'backroads', 'becuase', 'functionality', 'httptcoimdckodfx', 'brokeni', 'assed', 'httptcouadoual', 'captured', 'brittany', 'clouds', 'sports', 'httptcothcrkurt', 'comped', 'httptcoaavvoreph', 'jetblues', 'ballbag', 'manchesterbwi', 'yaayy', 'httptcodxicoyioxf', 'steamed', 'conjunction', 'wmy', 'equivalent', 'dirt', 'guidelines', 'taller', 'solo', 'female', 'traveller', 'scary', 'foreign', 'ellas', 'greeting', 'reminds', 'httptcopxexilsjbs', 'belttoolong', 'formed', 'jfkgtsfo', 'yxe', 'httptcojdvktcqx', 'secrets', 'songs', 'ruin', 'unitedairlinessucks', 'beatriz', 'susan', 'japan', 'uh', 'invest', 'wkhttptcojvjzzaa', 'secondary', 'screenings', 'waitin', 'underweight', 'belti', 'yards', 'httptcogiennyqn', 'willie', 'nelson', 'impersonator', 'sang', 'peanutsandtoons', 'httptcokcddoduff', 'httptcoyqehcqzt', 'freezes', 'nitrogen', 'inflating', 'malfunctioning', 'forms', 'opal', 'dragon', 'ali', 'woven', 'murdering', 'australia', 'httptconfvelcygz', 'manufactured', 'quirkiness', 'mmm', 'captiveaudience', 'hollow', 'wellbeing', 'mgmt', 'very', 'pto', 'packages', 'retribution', 'tock', 'rapidly', 'approaching', 'fantasy', 'dominick', 'guardia', 'guns', 'iwoulddoanythingforlove', 'httpstcoyxdqjnnl', 'lovesongfriday', 'guesstimate', 'marshall', 'gratitude', 'delayedthats', 'quantas', 'auckland', 'givethoseladiesraise', 'interim', 'expenses', 'anthony', 'weighing', 'acquisition', 'insulted', 'sc', 'debacle', 'flightedsent', 'notsatisfied', 'multiplier', 'transatlantic', 'httptcoxmztfix', 'ri', 'january', 'httptcogrkbjbxlk', 'bestdressed', 'bluecarpet', 'httptcocyprhegok', 'agts', 'tickethotel', 'delayedover', 'dominican', 'lodging', 'apologise', 'blameshiftoverload', 'naming', 'depression', 'specials', 'sms', 'structure', 'dramatically', 'diminishes', 'certs', 'inaccessibility', 'racist', 'timedout', 'howdy', 'erroring', 'regard', 'expressing', 'thinking', 'photos', 'ebook', 'tips', 'httptcodmjhm', 'httptcoxedeckgmw', 'httptcofrghglmkqf', 'sarita', 'argue', 'sitters', 'quietly', 'irate', 'justsaying', 'ontarmac', 'donaldarobertscom', 'epicfailure', 'httptcodzkcauzu', 'excitement', 'httptcoivgpzsjtkw', 'clarification', 'dtv', 'epic', 'httptcompiyuojr', 'efficiency', 'consultant', 'kiosks', 'churn', 'increasing', 'ots', 'pants', 'checkins', 'mines', 'httptcovudwjmlyb', 'inline', 'bagdisgutedindenver', 'diversion', 'thingsishouldknow', 'ifeeldumb', 'unfold', 'autoapplied', 'incomprehensible', 'neglected', 'refunding', 'captive', 'badcustomersrvice', 'whereismybag', 'cuzco', 'noservice', 'freeconcert', 'gb', 'painted', 'blumanity', 'paint', 'httptcovtfmknad', 'streamline', 'commute', 'colliding', 'hilo', 'hrmin', 'ahah', 'outrageous', 'loudly', 'throug', 'lights', 'dimmed', 'resulting', 'rarely', 'dying', 'ito', 'teamagain', 'gist', 'mobileboarding', 'learnt', 'nh', 'mhtforlife', 'stuckintampa', 'au', 'probability', 'tailfin', 'httptcoqxvmvug', 'hood', 'httptcoysahvxzk', 'roberto', 'slight', 'tweak', 'delayedl', 'httptcowndceoqlk', 'systemwide', 'preventing', 'laguardiadal', 'sorta', 'genuine', 'pbiboston', 'httptcoroqaveoi', 'ringing', 'crossing', 'ezee', 'steve', 'wilson', 'getyourlife', 'aviv', 'charac', 'shortcomings', 'inchecking', 'netherlands', 'ams', 'httptcoklbaimes', 'lilly', 'checkbaggage', 'enroute', 'httptcoqefkfwzod', 'milan', 'malpensa', 'mar', 'danbury', 'resoled', 'cultural', 'appropriation', 'alison', 'bobbi', 'bankruptcies', 'shouldnt', 'nochill', 'httptcoesdxdvr', 'wigs', 'circles', 'ticked', 'mbj', 'shorts', 'weary', 'german', 'deplanes', 'jealous', 'auf', 'wiedersehen', 'bozos', 'incorrectly', 'ons', 'sjo', 'aisle', 'capital', 'onholdwith', 'httptcotrqlpeinzw', 'dj', 'scratching', 'boldflavors', 'bold', 'flavors', 'ingredients', 'huntsville', 'weekampinbound', 'lastnight', 'careless', 'visibly', 'reassign', 'bish', 'timeshand', 'letterwent', 'airportcalledplease', 'investors', 'httptcoreddvc', 'popped', 'consolation', 'lipstick', 'pig', 'uncle', 'reserve', 'httptcocdzhtydak', 'replace', 'inputted', 'sittingontheplane', 'dest', 'blizzard', 'fights', 'sombrons', 'sighed', 'heavily', 'clearing', 'houstonbush', 'kiosk', 'frowny', 'cookies', 'yelling', 'throwback', 'bestflightever', 'httptcotrypzebc', 'httptcoxtdydbh', 'germany', 'hopeless', 'mde', 'waivefee', 'upgrademe', 'httptcogxmmmubb', 'httptcohgveqhghy', 'shut', 'waters', 'httptcoseulpvfn', 'submitting', 'cud', 'whiny', 'accommodated', 'baggageissues', 'wave', 'baggageridiculous', 'httptcobrcsjbxgs', 'pretsa', 'httptcoyccitaeps', 'retracted', 'completing', 'installation', 'httptcosgckbopata', 'army', 'poorlyhandled', 'usairheads', 'httptcofmrmn', 'instrument', 'baggagefail', 'bagsflyfreebutnotwithme', 'faaaannntastic', 'mex', 'httptcosedmjhiw', 'humanity', 'dcadsm', 'decent', 'slowfi', 'killed', 'buzz', 'marty', 'nobaggagefees', 'httptcotjdzamhpew', 'phomia', 'barrel', 'circle', 'dmv', 'noshadetothedmv', 'welp', 'httptcokwuekukbc', 'httptcowhoaewhws', 'httptcozksxitdn', 'contracts', 'sections', 'joe', 'numberphone', 'aal', 'sauna', 'moar', 'roadwarrior', 'tindertips', 'tinderchamp', 'httptcojbmvvhaa', 'becuz', 'sloooooow', 'interupt', 'staduim', 'series', 'lovedoll', 'themhence', 'huxleyesque', 'fasten', 'seatbelt', 'x____x', 'httptcoyyzdpbvu', 'httptcoxdjzkcgb', 'shitshow', 'destinationrude', 'lovejetblue', 'motto', 'idonotcare', 'httptcoenaxbues', 'httptcoemextq', 'callings', 'staffing', 'hotline', 'yxu', 'complaintquestions', 'momma', 'sanfrancisco', 'httptcontuixdbyr', 'crewtells', 'httptcowmtmspry', 'httptcocgfvgzb', 'norfolk', 'renting', 'befor', 'httpstcoiitojhuikh', 'irrlcd', 'undetermined', 'clusterfucks', 'bleed', 'these', 'leeds', 'hellomy', 'httptconlzsehnee', 'agencies', 'httptcoqrxzbgbtq', 'flightledrebooked', 'daydelayed', 'anderson', 'abused', 'container', 'totes', 'httptcomjtksfuhg', 'pouting', 'attitudeissues', 'puj', 'adress', 'reads', 'escaping', 'wayne', 'restructured', 'brotha', 'inclemental', 'disruptions', 'fwwef', 'ant', 'ends', 'successful', 'cinci', 'httptcoiuxrgc', 'httptcoottyrymzd', 'removed', 'readded', 'asha', 'answersno', 'fiancee', 'thnk', 'responseall', 'wother', 'someoneawesome', 'pride', 'timeliness', 'nomorecheckedbags', 'impersonal', 'impatient', 'httptcovqwkyxsw', 'jj', 'qualification', 'unacceptablei', 'worstunitedflightsever', 'culture', 'directs', 'okcdirects', 'okcprofessionals', 'swfan', 'hoped', 'holdcan', 'dim', 'technically', 'blown', 'httptcojorescfbx', 'pandora', 'benes', 'serves', 'fudgin', 'justwantmybed', 'remedy', 'wandered', 'jetscrew', 'awfulcustomerservice', 'paul', 'feelingtheluv', 'justdoit', 'youknowyouwantto', 'emer', 'albuquer', 'condition', 'maverick', 'englishspanish', 'weights', 'jobfail', 'revers', 'agt', 'rage', 'helpcomplaint', 'applies', 'narita', 'tokyo', 'disservice', 'flightfail', 'itineraryconfirmation', 'nawww', 'assisting', 'discourteous', 'frequentflyers', 'labor', 'slowdown', 'its', 'sayin', 'wsomeone', 'challenging', 'unavoidable', 'controllable', 'thxu', 'organizational', 'pointsme', 'httptcovmquurzupw', 'fron', 'tpadfwaus', 'iahdfw', 'comforting', 'stationary', 'vip', 'vineyard', 'stlbos', 'resched', 'terribleservice', 'arbitrarily', 'submit', 'httptcoeulsdurbu', 'roger', 'mclarrensp', 'httptcoucfbbqr', 'closings', 'bums', 'gerne', 'wilco', 'insisted', 'rerouted', 'nolo', 'miserablemorning', 'stupidly', 'refreshments', 'raising', 'referring', 'httptconuvclmada', 'buddies', 'trashy', 'httptcowjiigztiwg', 'alas', 'witty', 'repartee', 'ems', 'acting', 'shortshorts', 'flightsdelays', 'ducttaped', 'ohboy', 'shouldigetoutandpush', 'httptcorzsvzurlw', 'logs', 'ending', 'httptcoljydkorq', 'derrick', 'bussey', 'httptcofefhpmfple', 'selected', 'nonempty', 'nonupgrade', 'overcarry', 'reschedulereplane', 'youcandobetter', 'fpmy', 'jennifercascinocom', 'stone', 'tablets', 'hon', 'fucken', 'plainly', 'compmech', 'pp', 'rides', 'resent', 'alreadygot', 'mht', 'httptcomrawqdwd', 'amateur', 'kevolt', 'sozldj', 'sis', 'nephew', 'mega', 'evenings', 'humor', 'makeovertimecustomerserviceplease', 'whammie', 'teamspirit', 'httpstcoxjenanye', 'reinstated', 'mis', 'colo', 'disabled', 'unfamiliar', 'outcome', 'tongueincheek', 'etiquette', 'videos', 'httptcogguaajvdf', 'education', 'sunglasses', 'rated', 'segs', 'sex', 'sd', 'distribution', 'avatars', 'kitty', 'disproportionate', 'httptcoaptzpurop', 'poornoncommunication', 'unaccounted', 'prerecorded', 'marys', 'communicating', 'httptcohlzahxkdsn', 'authoritative', 'vital', 'stowaway', 'siting', 'cockroaches', 'crawling', 'visible', 'traps', 'tremendously', 'lololololol', 'httptcoyxswfqtgp', 'earning', 'cudtomers', 'aaaand', 'amstuck', 'snowstorm', 'hotelhows', 'flightline', 'worn', 'enoughisenough', 'servicessomething', 'travelbank', 'recouping', 'jetbridge', 'drivermissed', 'wkrb', 'httptcoxvbjczlmda', 'mistakes', 'blatant', 'wernicke', 'acarlcom', 'sobbed', 'soured', 'denewr', 'tys', 'httptcoinbpbdw', 'anticipating', 'abilities', 'underway', 'query', 'scrum', 'grouping', 'exposed', 'cus', 'peggy', 'informative', 'unitedbreaksguitars', 'wantmymoneyback', 'aadavantage', 'lan', 'journalist', 'mn', 'bullying', 'workforce', 'accurately', 'movies', 'dunkin', 'donuts', 'hazard', 'thingsyoucantmakeup', 'switchsbux', 'rapids', 'uhmmm', 'dallastx', 'shits', 'httptcopeqpqmpp', 'wtfodds', 'userperceived', 'bandwidth', 'flightncy', 'statuswill', 'helpfulness', 'lastella', 'def', 'peeved', 'restriction', 'suprise', 'vanity', 'travellers', 'httptcofanygnux', 'borrow', 'flightlanding', 'sunscreen', 'feelsgood', 'httptcopvghjxkp', 'impending', 'veg', 'waitlol', 'httptcobbzijwfdl', 'lake', 'wylie', 'httptcojgorvdis', 'vt', 'httptcoaiycwvoq', 'general', 'enquires', 'internship', 'dmcome', 'skypewell', 'competent', 'arrivals', 'lgaiah', 'fay', 'rdureimburse', 'checkinbag', 'blueblackish', 'tab', 'flightedflight', 'yvonne', 'happyfriday', 'jaipur', 'dehli', 'undrstnd', 'wlcm', 'onbrd', 'ticketnow', 'ownership', 'redo', 'httptcooylgeaoy', 'fudgers', 'hoursat', 'httptcokmanldqbh', 'port', 'authority', 'ambivalence', 'informing', 'itfits', 'httptcoaurnpwd', 'bike', 'httptcozhgqprsg', 'attending', 'earlieror', 'notreceive', 'httptcombhvfqbtsee', 'ihop', 'sounded', 'onplane', 'handy', 'dandy', 'httptcofvlxirhf', 'lookforwardtoflywithaa', 'gnight', 'eould', 'stink', 'lhrord', 'servicehaving', 'kingscollegelondon', 'jailbreak', 'rag', 'revue', 'blood', 'appt', 'httptcouxwpadugs', 'pleaseeee', 'httptcojmgeyxbylol', 'austinbergstrom', 'lanes', 'finder', 'preparedhonestly', 'spreadtheword', 'sdq', 'httptcogbhgwt', 'protocol', 'statusdelays', 'itself', 'milesneed', 'valuing', 'descent', 'malfunction', 'httptcopgwukrpmox', 'confirmations', 'session', 'presented', 'beloved', 'httptcovvcfyhkvb', 'areyounew', 'nonumber', 'feeltheheat', 'congested', 'dissapointing', 'automatic', 'alwayslate', 'controllers', 'permissions', 'whyabcwhy', 'httptcogegnghmie', 'birthdays', 'fianc', 'httptcouaywrras', 'refer', 'dencle', 'ker', 'httptcolfgrnifut', 'recognize', 'terri', 'httptcoipgeicsm', 'panic', 'click', 'curiosity', 'arranged', 'lightyears', 'frightening', 'quiche', 'tandoori', 'entrees', 'accompaniments', 'allll', 'multinational', 'prince', 'ressie', 'httptcogsbjcgm', 'prolonged', 'prds', 'skillful', 'flightness', 'snafu', 'httptcoypvpvdltys', 'midlandflight', 'offload', 'kcthanks', 'eaten', 'burger', 'worker', 'austrian', 'incls', 'bowl', 'faulty', 'ineligible', 'grief', 'fits', 'nojetblue', 'gis', 'yucki', 'httptcoromzqavi', 'kthxbai', 'exclusively', 'scattered', 'unfair', 'httptcooxsabtvtb', 'flightsthis', 'lifestop', 'httptcokdmqjps', 'luggagegate', 'upc', 'swimsuits', 'phlmco', 'regulations', 'quicker', 'ecom', 'kmm', 'httpstcozgoqoxjbqy', 'occur', 'httptcoubcoasyws', 'ute', 'dulleswashington', 'siteits', 'correctness', 'emotional', 'flightlationyou', 'prem', 'toplay', 'ping', 'httptcocmjriwopo', 'bosfll', 'portal', 'httptcohuclxluvh', 'httptcoozrqpcr', 'lou', 'ann', 'ourguest', 'respects', 'toby', 'skytrax', 'corpgreed', 'nevertakeno', 'httptcombvjflpbm', 'pst', 'ex', 'boyfriends', 'tryagain', 'digging', 'swanky', 'mood', 'lighting', 'cabaret', 'pir', 'abidfw', 'closepwcs', 'inebriated', 'alcohol', 'goodbye', 'waved', 'indicated', 'chicagolaxphx', 'spotting', 'httptcolaiggefkj', 'frustratingit', 'worded', 'funited', 'ooookay', 'purely', 'reactions', 'gonnabealongnight', 'lolol', 'wthis', 'unloading', 'writes', 'clueless', 'brighter', 'carpet', 'reassess', 'normally', 'tkts', 'eom', 'travelled', 'scl', 'iha', 'adult', 'tus', 'failurethen', 'safetyfirst', 'color', 'pgashow', 'mosaiccant', 'weathers', 'httptcoxggcntcom', 'iadsat', 'outdoor', 'kathryn', 'sotelo', 'courrier', 'chaotic', 'nightmarish', 'idnumber', 'hopetogetanswersoon', 'mcogtiad', 'ordlhr', 'itsthelittlethings', 'alavera', 'rez', 'accidents', 'tamara', 'cannoxtralegroom', 'nocoatcloset', 'surfboard', 'fdk', 'xzmscw', 'notimpressed', 'events', 'flightchng', 'affiliates', 'afiliates', 'inefficiency', 'misinformation', 'tonights', 'usaa', 'renewed', 'allgood', 'luggages', 'tagging', 'backing', 'reno', 'dial', 'display', 'fields', 'itthis', 'disabledtraveler', 'extraordinary', 'goingforgreat', 'eb', 'rethinking', 'chl', 'disconnecting', 'menus', 'applicable', 'lgb', 'cal', 'httptcovpkdsi', 'elevategold', 'sliced', 'bread', 'bruh', 'vxsafetydance', 'disneys', 'magical', 'ami', 'livid', 'nicedismissive', 'birmingham', 'seven', 'lmfaooo', 'httptcogrnmyuqe', 'robbing', 'banned', 'messaged', 'june', 'competition', 'helene', 'uhuhgroup', 'tomorrowwhy', 'preemptive', 'httpstcoybvxaowkv', 'generally', 'inbaggage', 'unhelpfulness', 'flightwouldve', 'liked', 'ella', 'makeup', 'httptcoiutzvhco', 'theft', 'httptcotrvfncedl', 'evry', 'lastflightofthenight', 'breakup', 'httpstcogwwrvbrq', 'curvygirltravels', 'gsp', 'dsm', 'separately', 'sfolaxsalclo', 'hm', 'av', 'howhardcanthatreallybe', 'skin', 'teeth', 'pattern', 'maximization', 'dinosaurs', 'sfojfk', 'legacy', 'linking', 'established', 'inflght', 'wannaa', 'doo', 'sand', 'translation', 'reinvest', 'personallyabout', 'atlno', 'sleepless', 'unfollow', 'nohotel', 'realise', 'httptcobbmpabort', 'ltltnow', 'fuckin', 'americanforlife', 'thenewamerican', 'httptcoatdsmhf', 'drives', 'dcazero', 'divident', 'royally', 'waking', 'bravo', 'iep', 'alb', 'essentials', 'deplorable', 'takingthistothetop', 'thebachelor', 'wah', 'blade', 'httptcorxjxqrxz', 'customerexperience', 'dubjac', 'jaclax', 'laxdub', 'approximate', 'terry', 'cellphone', 'congratulation', 'tear', 'seam', 'busted', 'zippers', 'httptcolhwfbkfyni', 'httpstcoqvsffrdu', 'transparency', 'during', 'speaks', 'inspected', 'routine', 'nyt', 'httptcobngplijt', 'localized', 'copypaste', 'thatisall', 'accountable', 'patterns', 'cheated', 'hasty', 'unwise', 'pushback', 'plows', 'oneasy', 'reservationhelpful', 'balt', 'babies', 'cried', 'vomited', 'caroline', 'superhero', 'rtb', 'wayway', 'interviews', 'uneventful', 'surliness', 'desirable', 'aboout', 'forgive', 'firstworldproblems', 'breathe', 'crewmember', 'hrdelay', 'flipping', 'waived', 'explanations', 'denphx', 'laxsna', 'al', 'neverflyusairways', 'fraction', 'planets', 'applaud', 'ensued', 'marcos', 'concierge', 'gru', 'sorting', 'infanttoddler', 'httptcovsbrbicx', 'cabins', 'nolaorlando', 'sharktank', 'hournever', 'sloppy', 'raised', 'expectations', 'russ', 'counters', 'noenertainmentonhourflights', 'httptcohiboavxy', 'mosaicmecrazy', 'sunrise', 'nofilterneeded', 'httptconycsjruv', 'cory', 'greatcustomerservice', 'opposite', 'station', 'peanuttreenut', 'allergies', 'lostsuitcase', 'noreimbursement', 'relayed', 'consumers', 'yepused', 'againget', 'nix', 'sfosea', 'gotcha', 'confrontational', 'antitrust', 'gfc', 'httptconvlnglnmgn', 'cluecould', 'rollerboards', 'art', 'projects', 'httptcouyduegx', 'httptcovjfvksgcq', 'cmhoak', 'daydreaming', 'bayespecially', 'ohioprobz', 'hhp', 'cocktails', 'fustrated', 'preventable', 'commend', 'pbampj', 'curfew', 'httptcoxxmjxqep', 'players', 'chgd', 'acoustic', 'httptcoimrhivyr', 'pty', 'terrific', 'scolding', 'httptcoskebqktxvx', 'breast', 'pumps', 'passngr', 'capable', 'cared', 'fendurself', 'candice', 'accident', 'aggravation', 'jeans', 'suits', 'expedia', 'diligent', 'luvswa', 'okayd', 'httptcoknuvuovhub', 'hrl', 'respondi', 'iusair', 'tonightgreat', 'httptcotkvcmhbpim', 'nas', 'pumped', 'subsequently', 'infocom', 'bounce', 'koalaxphlord', 'savr', 'awrd', 'koalaxphxord', 'inaccuratemisleading', 'hopethegearmakesitintact', 'bushleague', 'weakservice', 'jdhadp', 'gcvwj', 'kailua', 'httptcowrwqrublps', 'hime', 'todaythis', 'bevies', 'tuned', 'httptcovdfdodqvgx', 'mystery', 'httptcovuxswjkiy', 'comcast', 'biggie', 'loaaret', 'blah', 'shoulda', 'realistic', 'emily', 'pops', 'bdng', 'wervirgin', 'qmfd', 'ceases', 'amazefor', 'reclining', 'kickin', 'ihatemergers', 'scotch', 'httptcoxhsuupheze', 'httptcojmgqkgrf', 'thislinehasntmovedforanhour', 'acknowledgement', 'ife', 'profile', 'earlyconnecting', 'atlaus', 'awaynow', 'econ', 'possiable', 'schiphol', 'minflight', 'beenhours', 'httptcoeueyxawcv', 'mont', 'sondo', 'certificatess', 'youto', 'httptcoenxvrkbu', 'frustratingly', 'mustve', 'mixtapethough', 'recordi', 'hoursi', 'reload', 'pleasantly', 'toughtomakeplans', 'lift', 'labyrinth', 'swindle', 'karaax', 'neuer', 'unload', 'apologizes', 'carseat', 'iahwowjust', 'impacts', 'afraid', 'unhappyspend', 'httptcoetfjqiwuvt', 'animals', 'americandairlinessucks', 'tied', 'proposal', 'gala', 'org', 'boundless', 'readers', 'thanking', 'braving', 'amongst', 'dfword', 'ramps', 'httptcoimvmpnqxai', 'beneficial', 'longstanding', 'csfail', 'afterall', 'httpstcoswwhyhen', 'cheesy', 'sweresomuchfun', 'brandloveaffair', 'sortawe', 'aquadilla', 'clearance', 'martin', 'dayi', 'robot', 'httptcobmokxj', 'wothers', 'peopleon', 'httptcohfofiyhi', 'equals', 'bgm', 'canld', 'resch', 'opt', 'cng', 'graphic', 'httptcoutgrrwaaa', 'license', 'jail', 'lly', 'rivets', 'peak', 'caucasity', 'httptcocsnrpvyb', 'broinlaw', 'thier', 'needtocatchmynextflight', 'alreadyrebookedonce', 'weekends', 'ers', 'curtesy', 'epitimeoffail', 'firm', 'steel', 'thoughand', 'avalible', 'hotelliving', 'sexy', 'httptcoqgmfcbyt', 'appeared', 'err', 'vm', 'rings', 'newburgh', 'periods', 'httptcobtbawqtln', 'wflights', 'gluten', 'thth', 'flysouthwest', 'lovesouthwest', 'mybday', 'present', 'improvement', 'attained', 'omagtden', 'conflicting', 'unpleasant', 'guessweflyingdelta', 'averaging', 'tyvm', 'yasssss', 'da', 'fuccc', 'httptcooajmnucha', 'lucas', 'flyingretro', 'httptcoasuwxkv', 'theworst', 'httptcotsvgbrlf', 'closest', 'agentsno', 'coworker', 'conflict', 'erased', 'drift', 'closetoverhead', 'discomfort', 'disastertravelingwithsmallkids', 'tap', 'compliant', 'cantblametheweather', 'rosetta', 'dan', 'wasappreciated', 'heyyyy', 'guyyyys', 'listens', 'musicians', 'bass', 'feck', 'procedures', 'ocean', 'husain', 'shld', 'protest', 'rehman', 'malik', 'pia', 'pdw', 'ilovejetblue', 'breastfeeding', 'mommas', 'nominated', 'films', 'meetthefleet', 'httptcodnstitrzwy', 'poorest', 'httptcoesuuhiajm', 'pe', 'departments', 'httptcoiqnvyfpgp', 'downmy', 'flyingwithus', 'lostacustomer', 'httptcoltwhmoldr', 'rain', 'retiring', 'reactivate', 'httptcojnvkqgv', 'briughy', 'aif', 'agcommunity', 'targeting', 'vulnerable', 'thieves', 'phlmia', 'sellmypointssoon', 'winner', 'infuriating', 'accompany', 'brain', 'deedee', 'jerk', 'chg', 'sorrynotsorry', 'deferring', 'unitedunimpressed', 'cak', 'tore', 'hid', 'badge', 'joy', 'callcentre', 'cmhiad', 'bagcould', 'maam', 'sees', 'willsunday', 'hn', 'notourfaultyoudontuseyourgatesright', 'supvsr', 'gr', 'httptcoqjklabprg', 'siberia', 'oy', 'samantha', 'onlyblue', 'jetblueforever', 'dope', 'passenegers', 'ensured', 'crutches', 'cldnt', 'improvements', 'retains', 'bid', 'laxgtsea', 'httptcooumclrxdn', 'luvagent', 'essentially', 'backs', 'stillmakingmepoorthough', 'httptcoktsskj', 'celebration', 'twitteremailweb', 'preggo', 'hormones', 'oscarnight', 'dialup', 'gogh', 'httptcoeeofthgaj', 'findurgrip', 'dfwlax', 'budget', 'faced', 'bridges', 'gatestill', 'httptconcboncsi', 'negligence', 'daysofunitedfailures', 'thingafteranother', 'pleasecan', 'httptcoeqqinfszh', 'vacatinn', 'devalue', 'silicon', 'valley', 'disruption', 'fcmostinnovative', 'incubator', 'httptcowulbcncr', 'sample', 'itineraries', 'httptcomfrabgna', 'interviewed', 'recruiter', 'interview', 'batting', 'rozana', 'choosekind', 'headache', 'fwiw', 'loweredexpectations', 'spagnuolo', 'coached', 'rams', 'rdui', 'httptcohmmqczkcf', 'streetwise', 'httptcoctpdkqulm', 'revs', 'misunderstood', 'happytohelp', 'mosiac', 'unaccomidating', 'malcome', 'replicate', 'enuf', 'mbr', 'fmjtyl', 'httptcovxnjmv', 'httptcojjtxyxg', 'miaewr', 'ewriad', 'httptcotujxjazn', 'drain', 'fearing', 'didflyfi', 'onlyinamerica', 'customerservices', 'nick', 'investigation', 'stoked', 'brink', 'bankruptcy', 'httptcoldxnqqq', 'profitbeforepeople', 'bankrupt', 'former', 'sing', 'lovesouthwestair', 'blow', 'caren', 'sporadically', 'uncharacteristic', 'httptcotxhyjllg', 'rush', 'jetwaywhy', 'jxst', 'damper', 'iy', 'pregnant', 'twins', 'abandon', 'flightget', 'httptcocmroiypc', 'coltsmissingbags', 'informs', 'exceed', 'regulation', 'austindallas', 'httptcoxwjolflh', 'httptcoyaormfkac', 'candace', 'httptcolehgtzxz', 'fab', 'worstairlineinamerica', 'kmdw', 'httptcocpypgfnd', 'mait', 'formality', 'rudelyreturning', 'reader', 'everleft', 'munich', 'cutest', 'pepper', 'shaker', 'httptcovckeulgj', 'complained', 'hd', 'ordsfo', 'abcdef', 'struggling', 'jackson', 'wyoming', 'ndary', 'pending', 'veterans', 'mcokeep', 'bebetter', 'nmaryland', 'morrw', 'classic', 'geraldine', 'centerworst', 'ourprincess', 'httptcoaztdaer', 'advis', 'pen', 'mligtden', 'dengtyeg', 'rainy', 'americas', 'bible', 'kangaroos', 'grossed', 'disappointmentyet', 'againflying', 'involve', 'removing', 'lists', 'payed', 'httptcojipggom', 'preference', 'httptcobtvpxtzju', 'reunion', 'organized', 'breeze', 'httptcouoaryqpu', 'httptcofyfrzbk', 'welcomes', 'usable', 'trivialize', 'reposted', 'coffeeat', 'flyjetblue', 'theyareallbetter', 'stillnobags', 'briefings', 'paged', 'spaced', 'httptcoaceboelpa', 'thirty', 'mnth', 'bcs', 'promofly', 'rnd', 'iata', 'hosp', 'trys', 'cuts', 'hlp', 'insta', 'produce', 'limits', 'bicycles', 'criteria', 'bikes', 'faq', 'attempts', 'continentals', 'feat', 'httptcoyqhkljabn', 'sfoewr', 'clincher', 'protected', 'httptcohpsqvrjk', 'businesstravel', 'recvd', 'sucksi', 'tckt', 'responsedisappointed', 'nothelpful', 'httptcoebxckfjd', 'httptcovqnpdoi', 'dpdfpp', 'reliability', 'tt', 'ec', 'httptcorlpjchb', 'excellentcustomerservice', 'httptconwvxdgmf', 'honorable', 'economic', 'nooooo', 'styling', 'rn', 'ripme', 'ethiopia', 'runs', 'unsmiling', 'breezy', 'minutesi', 'customerloyalty', 'marathon', 'syracuse', 'copilot', 'fwd', 'httptconbzjcdr', 'natt', 'disappointedunited', 'honolulu', 'los', 'angeles', 'waspaid', 'excusable', 'monitoring', 'fakeawards', 'luvisbetter', 'quitting', 'vouchercompensation', 'sch', 'delayedstill', 'waitingyou', 'httptcomntptr', 'mem', 'httptcogbdrolsi', 'ordewr', 'soulandinspiration', 'httpstcoigkogywksr', 'umosaicmecrazy', 'httptcoilqzmmjiyq', 'deltanews', 'ladan', 'issuecould', 'anna', 'medal', 'prechk', 'currentlysittingontarmac', 'unforeseeable', 'operational', 'manbut', 'thisor', 'coupled', 'selfservice', 'policiescost', 'exacerbates', 'noted', 'mga', 'greeted', 'simultaneously', 'wishmyflightwaslonger', 'httptcoxxqscjll', 'freberg', 'redeempoints', 'baitandswitch', 'reboard', 'httptcoeerekdffq', 'kitchen', 'rtn', 'noworse', 'bigger', 'dick', 'chimid', 'unplanned', 'interpreting', 'sarcastic', 'escape', 'raft', 'httptcodtheyofxrb', 'backanother', 'minhour', 'exps', 'avios', 'smoothly', 'skilled', 'deleted', 'norway', 'shrugging', 'bewhat', 'issucks', 'verify', 'partnerrewards', 'expiring', 'sucking', 'pin', 'iberia', 'kerry', 'allowances', 'ourselves', 'lostfound', 'reuniting', 'delightful', 'impressions', 'jurassic', 'dinosaurplane', 'equipped', 'danger', 'jfksfo', 'awesomeness', 'assistanceyou', 'bz', 'taxing', 'makestoomuchsense', 'subtlety', 'hating', 'nocommunication', 'nocrew', 'httptcohfjynvtvj', 'comeonpeople', 'httptcopdntgbxc', 'laps', 'birthdate', 'transit', 'maysep', 'oct', 'cincyjust', 'landedyou', 'desition', 'nade', 'duecto', 'willl', 'gum', 'httptconhmcrjchb', 'desparately', 'bnagt', 'httptcokcqebeejs', 'crooked', 'shouldwearmasks', 'nofee', 'fax', 'faxlike', 'microsecond', 'flightleddelayed', 'prospective', 'schools', 'ticketeven', 'booted', 'umpteen', 'httptcorinzyskki', 'lister', 'plundering', 'hardearned', 'fampking', 'woeful', 'colleagues', 'jfklhr', 'incompetenceunderstaffing', 'compounding', 'zfv', 'weblink', 'cometoaustin', 'thereisafirstforeverything', 'customerstime', 'airliner', 'contagious', 'virus', 'seeking', 'confident', 'misread', 'clarifying', 'miacur', 'unbalanced', 'section', 'agnt', 'threatens', 'droppeditoffyet', 'cantlogoutofunitedwifi', 'fiscal', 'pieces', 'informationstill', 'investigate', 'booklet', 'mini', 'progressed', 'audio', 'httptcoslbdrxfn', 'printers', 'mfps', 'httptcoocjsvssqf', 'kelsey', 'compares', 'percentage', 'bottle', 'yout', 'sectionturn', 'youdidit', 'ondemand', 'leatherseats', 'hipunis', 'httptcovwvgvngq', 'httptcozstyuqj', 'shortstaffed', 'letters', 'ploughs', 'lone', 'furrow', 'middleeast', 'httptcodcoboknee', 'everybody', 'httptcoproebcn', 'wut', 'relationships', 'httptcovgqoihtrkh', 'vipliveinthevieyard', 'ethan', 'revive', 'laundry', 'tabs', 'laxm', 'httptcostktjxan', 'timbit', 'values', 'lostmybusiness', 'princess', 'txting', 'debbie', 'baldwin', 'rockstar', 'demo', 'lassfo', 'bestcrew', 'sherocks', 'auction', 'postmasters', 'invitational', 'httptcomrfbjtepef', 'daddyshome', 'ish', 'aok', 'bait', 'tactic', 'poorcommunication', 'waitingsince', 'revision', 'tiffany', 'engineer', 'frame', 'fridgethat', 'dorm', 'treacherous', 'ohk', 'inexpensive', 'airfares', 'httptcomqfmxebxt', 'quirky', 'archaic', 'accommodates', 'httptcovoxcghciji', 'belfast', 'clockwork', 'scareways', 'neverfails', 'princesses', 'glassslipperchallenge', 'wdw', 'des', 'moines', 'commitments', 'prepurchase', 'gaga', 'wowd', 'meh', 'httptcotzimqzlg', 'fromthefrontseat', 'lease', 'somewhat', 'empathetic', 'monika', 'mwa', 'httptcosbehibmk', 'callbackthe', 'concerning', 'httptcoutdfqfwpa', 'satmorrow', 'choclt', 'cho', 'swu', 'mxpjfk', 'nexttimeiwillflysouthwest', 'moneywhy', 'enrolled', 'httptcogguigtz', 'sbn', 'notafanofyourmerger', 'mailbox', 'forwarding', 'httptcohbsjsfh', 'endlessly', 'httptcoegkvfokogj', 'thefutureisweird', 'httptcoxijifymvqp', 'nippon', 'increase', 'compare', 'httptcodiufepnq', 'banning', 'ignores', 'pnut', 'dust', 'monitor', 'jobslose', 'statusand', 'transition', 'orf', 'absurdly', 'httptcozjvilw', 'pesky', 'folk', 'crucial', 'rebookedarrived', 'az', 'inner', 'lowstandards', 'httptcomwnbglxq', 'kinder', 'httptcofmipwdhi', 'regrading', 'wating', 'hall', 'crewsignage', 'demoted', 'goldsspousaldiscriminationangry', 'kim', 'httptcololghpcdu', 'closes', 'expense', 'wewanttoknow', 'appealing', 'tonnes', 'curt', 'eternal', 'mergerdisaster', 'initiated', 'lineoh', 'lostinlove', 'httpstcobzwgpadve', 'wemosaictogether', 'levd', 'numbered', 'iatanbul', 'multimillion', 'gay', 'selfinterest', 'jumping', 'gun', 'couldve', 'chewey', 'oatmeal', 'berlin', 'bur', 'gettingbetter', 'necessity', 'iiiii', 'wifey', 'vday', 'keeper', 'holla', 'httptcojloiblnair', 'airwe', 'nowhere', 'tucking', 'milesstatus', 'httptcohhnjjje', 'sfofll', 'dontdothistome', 'pascucci', 'httptcoyiwlhqhzgp', 'httptcopvczxthm', 'aligned', 'mobay', 'loaner', 'loanr', 'laissez', 'faire', 'pipes', 'flydeltanexttime', 'waitingagain', 'tmr', 'lala', 'scheme', 'httptcogtumhbh', 'httptcofdsnvkiem', 'missedupgrades', 'preboards', 'emailingcallingdming', 'httptcoxijyrpslzk', 'quit', 'reinstating', 'kosher', 'sympathize', 'reweather', 'bil', 'sweatshirt', 'upsellladen', 'stucked', 'aadelay', 'activate', 'delayednot', 'cxd', 'mainline', 'enjoyable', 'httptcotpzhjxhbt', 'filing', 'consumer', 'affairs', 'presenting', 'httptcoznmwxdiu', 'staticy', 'ithelpsabit', 'outfitted', 'httptcokcvubuyexc', 'httpstcocfiekxa', 'fi', 'dontmakemegooutside', 'neededwhy', 'logo', 'tcf', 'httptcogkzrei', 'installed', 'codes', 'broad', 'shoulders', 'pssngrs', 'chknotcomingback', 'cxldprotection', 'proceeded', 'larger', 'amateurish', 'affiliated', 'httptcoljzxznkg', 'gtsvyb', 'stbernard', 'tomo', 'stuckintheloop', 'georgia', 'redemption', 'mcdonnell', 'douglas', 'goodnight', 'voided', 'visors', 'preflight', 'coathanging', 'complaining', 'shucks', 'sheesh', 'httptcorhkamxvf', 'httptcopyalebgkjt', 'ads', 'httptcotjuumdd', 'dcaewr', 'liesstill', 'httptcolulgnweffh', 'phi', 'thread', 'httptcomvyoizrpde', 'lolz', 'hsv', 'whatstheholdup', 'chitocle', 'httptcofixywxyb', 'lostrevenue', 'angryandsober', 'bachelorpartymishap', 'grrrrrrrr', 'canx', 'weatherless', 'communicationdetails', 'forfeit', 'inactivity', 'brisk', 'httptcormznivgmg', 'monthold', 'foldup', 'crib', 'oversorry', 'preparations', 'instructed', 'syastem', 'abandoned', 'httptcohqdtkatue', 'evedidnt', 'exitrow', 'rjs', 'lta', 'httptcoaoeaeszdlx', 'snaord', 'httptcoyzhzrqmi', 'petty', 'theend', 'goodday', 'improved', 'attendents', 'crappiest', 'enemy', 'govt', 'saidi', 'deceiving', 'reprehensible', 'includes', 'brian', 'williams', 'edit', 'observation', 'clunky', 'rudeservice', 'httptcozpjrkwbk', 'weyburn', 'httptcortqyjcvtq', 'airlineive', 'swapped', 'tlc', 'brandi', 'zabsonre', 'httptcotkaopdtsq', 'decline', 'httptcolzfgutxiyn', 'cleaning', 'refresh', 'forecasted', 'hmmm', 'haning', 'horse', 'buggy', 'childrens', 'lapse', 'httptcoklfywwmq', 'wins', 'lessening', 'parts', 'bulb', 'pensacola', 'swooped', 'helpfaith', 'restored', 'yyc', 'lightbulb', 'messaging', 'tellpurchase', 'boardingpass', 'fixes', 'attitudycustomer', 'rejecting', 'flyunited', 'httpstcodfmvmibhx', 'misjudging', 'deliberate', 'expens', 'httptcohjglwlayyy', 'teams', 'cpus', 'redesign', 'pairings', 'redwineisbetter', 'thelodge', 'vice', 'versa', 'insurance', 'personalized', 'upsmh', 'neveryamind', 'httptcovnjjiao', 'onlineapp', 'httptcotbsjquw', 'assuage', 'indignation', 'sticking', 'sac', 'kate', 'appleton', 'attackingbabymomma', 'crazinessintherockies', 'kta', 'hahahahaha', 'overloads', 'execution', 'servicing', 'aha', 'smell', 'dilemma', 'waiverskeep', 'rly', 'goin', 'template', 'muh', 'colleague', 'laxgtjfk', 'luxurious', 'httptcoyxnpnoav', 'wthat', 'impress', 'rudely', 'manana', 'prescreen', 'httptcoikbpgxwi', 'aint', 'needcoffee', 'gig', 'devastated', 'httptcouaicfjrms', 'pn', 'deflator', 'chapter', 'amm', 'httptcooilncfweyg', 'conversed', 'aateam', 'rigorous', 'erj', 'evansville', 'jun', 'nasbwi', 'happenedwhat', 'retook', 'zip', 'shady', 'luved', 'represents', 'httptcoclobqwmxr', 'combat', 'flightgotta', 'flightupset', 'anyonemin', 'httptcohprppcvhx', 'exhausted', 'httpstcolarkcvcs', 'planeso', 'mommy', 'daddy', 'instant', 'babys', 'additionally', 'likingyoulessandless', 'topdown', 'httptcovkjsjrm', 'clarence', 'oveur', 'murdock', 'scheduling', 'minutewere', 'tweeter', 'branson', 'virginatlantic', 'staffers', 'wrap', 'slowing', 'eyw', 'holz', 'bufclt', 'behave', 'offensively', 'particulars', 'neverflyvirgin', 'workin', 'carta', 'prev', 'backyard', 'competes', 'fraif', 'youbag', 'frano', 'naval', 'commands', 'cdt', 'kinda', 'timing', 'wise', 'sponsor', 'overreacting', 'swag', 'dislike', 'duty', 'httptcohujcjg', 'considerably', 'flashlight', 'loooooong', 'httptcoaygidcfa', 'httptcoycvsiod', 'geneva', 'spaghetti', 'amenity', 'kits', 'tbd', 'usd', 'quotations', 'effin', 'shitting', 'ridicules', 'themselves', 'seemless', 'seattlebound', 'montrose', 'httptcolqjtjvoys', 'nuw', 'httptcottlwzgiyag', 'disconnections', 'preciation', 'stretch', 'miscommunicated', 'convey', 'emailmailtocustomerrelationscom', 'rwrd', 'aano', 'aadv', 'niece', 'elizabeth', 'httptcotopqmvqnjp', 'confirmedso', 'bored', 'thaw', 'httptcopkyzhnnrh', 'httptcodsceeenj', 'naelah', 'handoff', 'nutella', 'veryimportantproject', 'preferences', 'httptcoynczutzz', 'aaron', 'machines', 'katie', 'tos', 'eri', 'agoyet', 'unitedairlinessux', 'yourphonesystemsucks', 'preciate', 'knoxville', 'grp', 'reappeared', 'robbedexplain', 'dalaus', 'httpstcoxcvqxykg', 'bosphl', 'abcs', 'brush', 'basics', 'straightend', 'scent', 'tht', 'horribleservice', 'bwiboston', 'few', 'bttr', 'tailfinthursday', 'httptconceself', 'miriam', 'happiness', 'gracious', 'schooler', 'effect', 'cousins', 'suspect', 'longterm', 'issuenot', 'skibootbag', 'pointer', 'western', 'nba', 'patriarc', 'httptcobduauzfhw', 'outofdate', 'frozentoilet', 'medicalissue', 'mechanicalissue', 'dispatchissue', 'gem', 'faundation', 'judeo', 'cristian', 'ideologias', 'httptcomwbkka', 'tails', 'httptcowcsazzqpae', 'painandsuffering', 'structures', 'hated', 'dobut', 'timethatll', 'ftlauderdale', 'stillwaiting', 'doesntfeellikestatusyet', 'unitedhatesusall', 'earnings', 'makingloveoutofnothingatall', 'httpstcokdhrufsw', 'httptconyvvxd', 'ballin', 'httptcomzzfgqfhu', 'ckin', 'aged', 'internally', 'refueled', 'retards', 'specially', 'carlton', 'lifes', 'sailor', 'bosnia', 'httptcomnywrkbs', 'clutch', 'callemail', 'genuinely', 'comparable', 'quickest', 'delayconsequence', 'addresses', 'meright', 'breakdown', 'surcharge', 'accruing', 'ritz', 'pics', 'welcoming', 'httptcokhgjofgpx', 'systemic', 'disallows', 'httptcoznsujpbv', 'gjt', 'permission', 'phrps', 'definately', 'employer', 'trains', 'incur', 'phlbos', 'avoidable', 'nonweather', 'goldentickets', 'uncontrollably', 'pillows', 'lieflat', 'httptcorgywjbbhm', 'que', 'httptcoaitzlnd', 'pgfryz', 'operators', 'httptcoswzmfxnu', 'meantime', 'dadeland', 'httptcovhgkitzsaw', 'cheeze', 'overchargedampunderserved', 'islands', 'itboarding', 'untz', 'untzlike', 'httptcoljlarive', 'hoo', 'moveaboutthecountry', 'weekthats', 'sides', 'dendal', 'instructions', 'httptcoxbkvcraokn', 'paradise', 'httptcokdzqczlpyr', 'httptcollwjazioa', 'replyingi', 'investigated', 'minno', 'extending', 'creditwhats', 'daysnotahappytraveler', 'customercant', 'hometown', 'mgood', 'thin', 'skycap', 'misunderstanding', 'tmm', 'desktop', 'caching', 'compliment', 'mistaken', 'scarf', 'glasses', 'httptcobzqzqxdc', 'wiyh', 'bfs', 'diabetic', 'insulin', 'rnp', 'lip', 'oopsno', 'fairly', 'stahhppp', 'httptcovhfjgneozo', 'suggesting', 'satisfactorily', 'justsayin', 'embarrassment', 'worldwide', 'shameonyou', 'purchasing', 'alsonodrinkcartcomingaround', 'stingiest', 'ptfo', 'bastards', 'stingy', 'jon', 'httptcotutglid', 'ewrfll', 'chasing', 'absorb', 'sooo', 'upload', 'listing', 'internships', 'davidson', 'auditorium', 'jsom', 'utdallas', 'directing', 'grabbed', 'openin', 'httptcoanvbjipx', 'yrold', 'greatgranny', 'onlinewas', 'sayas', 'dissatisfiedthanks', 'upwherewebelong', 'httpstcoktawbiuuro', 'clowns', 'perth', 'deoderant', 'shirt', 'mrn', 'budweiserduels', 'httptcohovuaisg', 'oc', 'shade', 'reachingnewlows', 'conv', 'siss', 'dfwgtgtmke', 'httptcoewjoklji', 'hannah', 'surgeries', 'requiresshe', 'helppls', 'donatert', 'httptcokqnrrpa', 'ricardo', 'olavarria', 'reboarding', 'slogan', 'clearvision', 'tvu', 'httptcoqbynpctf', 'anhour', 'noc', 'amarillo', 'periolodicly', 'pros', 'displeasure', 'treats', 'origami', 'oldpolicieswaybetter', 'unknowledgeable', 'stonewalled', 'behalf', 'defective', 'sweepstakesit', 'flightnever', 'httptcoutfdhxapu', 'cinnabons', 'bonsinthesky', 'apparent', 'hournot', 'relax', 'adv', 'nikon', 'botched', 'absurdity', 'promos', 'nothanks', 'scareair', 'leak', 'getmeoffthisplane', 'ineedabeer', 'planebroken', 'neverontime', 'paymytab', 'medallion', 'probablynot', 'skyscanner', 'equalizer', 'heres', 'httptcoqeadamw', 'httptcokeyrpflhil', 'airportwide', 'unlucky', 'jetgreen', 'jetred', 'weatherflight', 'attendantcan', 'thisgreen', 'acu', 'httptcojutcdrljl', 'incedentals', 'noworstairline', 'bingo', 'noah', 'uses', 'upfare', 'gpu', 'greater', 'probs', 'cteam', 'notevenjv', 'houstonbogota', 'bshave', 'colossal', 'infringement', 'elmira', 'fathers', 'proficient', 'usairwayssuck', 'suite', 'coldly', 'investigatedmy', 'totaled', 'disneyworld', 'princesshalf', 'httptcostqyv', 'importantflight', 'moodlighting', 'httptconbvztyzi', 'hungary', 'shittydeal', 'jfkyou', 'rethink', 'falseadvertising', 'celebrating', 'chinese', 'invitation', 'erewards', 'erie', 'overwhelmed', 'delyd', 'lasden', 'platinummember', 'promoting', 'product', 'noneother', 'httptcotfanxbhcf', 'slides', 'taxiway', 'httptcoponjjide', 'httptcodcwerzkr', 'rich', 'westagard', 'att', 'nancy', 'airportheld', 'customersfirst', 'reservationchange', 'difficultieswhat', 'billed', 'enhance', 'stepup', 'makeitright', 'wewillsee', 'creates', 'institutional', 'predictive', 'analytics', 'forecasts', 'data', 'miscounting', 'reunite', 'usas', 'fashion', 'unitedvusa', 'httptcorbnstuij', 'lungs', 'teyana', 'medusafridays', 'httptcoqwfmoqdql', 'httptcokbbbfxmk', 'themenofbusiness', 'httptcopdnbaakxh', 'fro', 'napkins', 'httptcooxyjnpjm', 'beareavement', 'youredoingitwrong', 'emplid', 'sj', 'scheming', 'obj', 'lmaooo', 'lgasat', 'ususdo', 'appropriately', 'fakesincerity', 'hourwaitsucks', 'unannounced', 'httptcobgtjfmneot', 'albanyairport', 'spaces', 'tiredampfrustrated', 'tk', 'spk', 'chk', 'canadians', 'needtogethome', 'infobag', 'badwebsite', 'anxiety', 'cabine', 'sao', 'burgundy', 'familys', 'gether', 'confs', 'httptcovwpttlh', 'febs', 'edition', 'hemisphere', 'postcode', 'fm', 'sby', 'friendlyfriday', 'paws', 'httptcowjyasdn', 'fiousairways', 'idaho', 'diet', 'cokenice', 'bizness', 'relative', 'leinenkugels', 'craftbeer', 'goodflight', 'httptcotgsljjng', 'alwaysdelayedonunited', 'rockstars', 'updateyourwebsite', 'fresno', 'bridesmaid', 'httptcoavyqdmpiy', 'alleviate', 'graded', 'eqp', 'lane', 'stlouis', 'httptcorcdhqj', 'sr', 'servicecare', 'yoga', 'deemed', 'empathizes', 'stclass', 'wnonworking', 'entertainmnt', 'httptcoloecogmvd', 'louder', 'hfjkto', 'lengthy', 'bethonors', 'httptcotlpbaupik', 'braved', 'helper', 'disunited', 'unanticipated', 'taping', 'httptcoivwfbtue', 'httptcopkfibttzf', 'aircargo', 'httptcobbjkmtyul', 'httptcolyqrbhcyu', 'lifeisgood', 'httptcotnyuipha', 'exceptionally', 'uncourteous', 'tiredofwaiting', 'tux', 'itd', 'httptcohapgbostu', 'shin', 'splits', 'sprinting', 'gagent', 'danny', 'dfwclt', 'lampf', 'prepaid', 'mktg', 'branding', 'cxp', 'httptcodnmsblzumr', 'language', 'ilchp', 'daysno', 'usairway', 'situationagain', 'disrespected', 'guru', 'luz', 'calderon', 'king', 'httptcoftvnwwqf', 'tribute', 'soundofmusic', 'negligent', 'stuckonaplane', 'babyfood', 'essential', 'attire', 'brd', 'nowfrustrated', 'rocif', 'tld', 'messcng', 'overbk', 'freejust', 'bsuxlu', 'charm', 'volumecan', 'httptcopdrllre', 'transformative', 'bora', 'oprah', 'eagle', 'ew', 'httptcobxhirugzv', 'bringbackrealstaff', 'ky', 'tripitpro', 'outin', 'doumented', 'annnndddd', 'lodge', 'evidently', 'mpls', 'soooooo', 'sleepy', 'noplacelikehome', 'eventhoughitsdegreesathome', 'busfirst', 'milesaaver', 'whyfly', 'flightledgonna', 'breathing', 'fneqm', 'httptcopzalwtrez', 'countryshes', 'marchand', 'httptcoenhkeuutd', 'avoiding', 'httptcofmzzoltv', 'httptcomkpognntyc', 'mellie', 'marsh', 'noticing', 'agenti', 'devotedyyours', 'httptcoosifhprt', 'oxgen', 'tank', 'grk', 'lex', 'wretched', 'httptcovftuyjhx', 'tiks', 'finale', 'pssgrs', 'psngrs', 'grt', 'melinda', 'greensboro', 'jewel', 'badairline', 'oldplanes', 'damageluggage', 'warmweather', 'httpstcokaejgchd', 'minutessaid', 'crosswords', 'fsve', 'nutsamp', 'earphone', 'raisegreat', 'connecticut', 'makechange', 'gin', 'tonic', 'hesitant', 'sized', 'lgjwb', 'voluntarily', 'france', 'nonenglish', 'um', 'telleveryone', 'cot', 'destn', 'mates', 'holdon', 'everythingsgonnabealright', 'httpstcokngeep', 'truebluelove', 'tossed', 'signing', 'credentials', 'entrance', 'whereas', 'eating', 'dawn', 'pilotsamp', 'httptcozhmfdiw', 'unitedwithivy', 'httptcoqajtkik', 'smitten', 'hourhope', 'relying', 'caffeine', 'bossan', 'evasive', 'httptcocfhtkr', 'kax', 'tnx', 'retire', 'agentthen', 'csrs', 'hasshe', 'loststolen', 'vaileagle', 'victoria', 'rockys', 'milehighselfieclub', 'httptcoachoxkpjp', 'unsettling', 'pullin', 'sh', 'httptcoavrffhmcv', 'disheartening', 'familyand', 'httptcohcemwcqj', 'rear', 'aprilmay', 'syscon', 'httptcozofwldqxbe', 'presentation', 'mltple', 'lunchtime', 'inserted', 'psych', 'priortried', 'miboston', 'icelandair', 'between', 'httptcownytzsrn', 'gtk', 'longing', 'firstlove', 'istanbul', 'httptcoseswagum', 'thnkx', 'bt', 'sux', 'pages', 'lick', 'embassy', 'suites', 'herndon', 'build', 'httptcovtqemli', 'prompts', 'unempathetic', 'fulldont', 'portsmouth', 'ais', 'bringbacktheluvtordu', 'directflights', 'pura', 'vida', 'liftin', 'higherandhigher', 'httpstcoxgfstjtmo', 'httptcoixmtmizc', 'sprawled', 'grossedout', 'mandatory', 'httptcoufafqhsf', 'expedite', 'planb', 'hemispheres', 'httptcovrqdpqepfw', 'laughedhard', 'funnycaptain', 'lekvhg', 'thailand', 'sanity', 'bliss', 'indenial', 'whatfrozenpipes', 'httptcottzejvhy', 'referred', 'mobility', 'dalmdw', 'offensive', 'casimir', 'httptcoelhxuvuj', 'thanksjetblue', 'pleeeeeeeease', 'exboyfriend', 'phonenot', 'bwahahaha', 'encounter', 'outright', 'tissues', 'screensand', 'whatajoke', 'overhaul', 'tusdfw', 'wcx', 'fampampcking', 'strives', 'centric', 'advertising', 'apnea', 'downhow', 'httptcoyokkhhqcmp', 'sum', 'qsvgru', 'natural', 'beefjerky', 'agtb', 'okayim', 'frankly', 'defines', 'badbadbad', 'wentook', 'workng', 'et', 'pushy', 'companyi', 'httptcotejrntfw', 'noooooooooooooooooo', 'rare', 'cancer', 'makessense', 'ballsturn', 'panicked', 'xs', 'entrusted', 'verbally', 'cussed', 'rifle', 'hunting', 'pistol', 'nobackup', 'xox', 'sends', 'outrage', 'httptcokkwiwia', 'snobby', 'remarks', 'poker', 'chats', 'httptcorkorhvrz', 'contentmarketing', 'httptconvgenpib', 'pockets', 'wheelchairs', 'dunno', 'earthquakehaiti', 'rebuilding', 'specifically', 'smallerthinner', 'flightu', 'concentrate', 'uplink', 'royal', 'commission', 'headlines', 'liveonfox', 'februaryfreezefox', 'inconceivable', 'thinks', 'httptcoqnnzyspk', 'planelooks', 'planesnot', 'assuring', 'solate', 'podium', 'struts', 'nozzle', 'calibrated', 'isthisreal', 'nevertoldus', 'givethemraises', 'maarten', 'fwa', 'httptcofxnvba', 'building', 'agovacationfail', 'frozenwater', 'gettingimpatient', 'theycouldatleastofferfreebooze', 'dos', 'donts', 'announcer', 'pearl', 'laxnycarea', 'winston', 'exciting', 'monsoon', 'apples', 'ipodtouch', 'httptcoxxsaombdgs', 'geography', 'transaction', 'fuckinf', 'chargesi', 'airlinesecurity', 'wfares', 'httptcogapbamuc', 'tomoro', 'await', 'doublestandards', 'midtravel', 'toes', 'enraging', 'wbroken', 'witness', 'mental', 'walls', 'httptcojehw', 'httptcogouzrdtzf', 'wonderingirritated', 'yessir', 'rob', 'monterey', 'thick', 'fog', 'spectacularfed', 'byebyejetblue', 'basketball', 'wheresmyrefund', 'httptcocexrk', 'jperhi', 'helpva', 'lovedflyingwiththem', 'notanymore', 'badpolicy', 'tryn', 'comping', 'httptcoouxcbo', 'clarion', 'ripoffs', 'pricediscrimination', 'httptcowdaktmrmj', 'horrific', 'werenot', 'chng', 'whch', 'advsry', 'reboot', 'kn', 'bypass', 'httptcocjuxpk', 'buybacks', 'priced', 'modelodenegocio', 'innovacion', 'businessmodel', 'etd', 'society', 'authors', 'fiction', 'httptcotkabtwf', 'talents', 'httptcokvxslcqlp', 'phn', 'bosmco', 'holiday', 'momentand', 'banana', 'ampamp', 'ddean', 'contd', 'geraghty', 'thatthis', 'separated', 'foodso', 'helpimstuck', 'illiterate', 'httptcotgcksbh', 'allan', 'kmmvlkm', 'wowthx', 'greg', 'sobewff', 'teamnkh', 'httptcobuwjtvuwkm', 'hourflight', 'httptcosdmwvrzr', 'plannedneverflyvirginforbusiness', 'againlate', 'fewer', 'freeze', 'avp', 'tgif', 'httptcowxowzhpgfl', 'lefteven', 'httptcowgyztnjcxm', 'bwilax', 'jetbluejfk', 'purchaseerrorinvalid_loyalty_member_account_status', 'swvyilxklrogfsj_a', 'pleasemy', 'cocktailor', 'httptcocehroeurc', 'servicedog', 'lastflightwithyouever', 'horribleattitudes', 'noise', 'norahm', 'httptcocfzdjmnui', 'httptcoyiwguktr', 'reiterate', 'acces', 'robotweeting', 'wore', 'mot', 'mphx', 'courtsey', 'kristiesp', 'promotethatgirl', 'attendanteliz', 'crosswinds', 'eliz', 'callah', 'skycaps', 'twitterhug', 'shesaidrun', 'httptcouczzpyphk', 'supported', 'sa', 'indian', 'aunties', 'aruna', 'httptcoaypyaduya', 'thanksseat', 'flightsyearmy', 'kevin', 'fish', 'asshole', 'httptcodroctpdy', 'jim', 'sport', 'authorize', 'chillpill', 'carryonbagssloweverybodydown', 'reflection', 'extinct', 'lgaord', 'rqstd', 'bcz', 'asem', 'hinted', 'abandonment', 'httptcodphqrgkdoa', 'httptcorkprxtgvfl', 'shouldhaveflownjetblue', 'minsthank', 'prompting', 'grandpas', 'ashes', 'naples', 'lived', 'tier', 'httptcownlaybl', 'hormonal', 'teenager', 'wastedeffort', 'slew', 'engaging', 'personable', 'turkish', 'gladys', 'es', 'amiga', 'dtwase', 'mayweatherpacquiao', 'becomes', 'httptcoczornyhn', 'semantics', 'extent', 'dictionary', 'httptcoxpmigqjn', 'wireless', 'piggy', 'jilted', 'moneyelsewhere', 'mdbeei', 'mcmullen', 'httptcosbaaricyq', 'evenlate', 'zones', 'interrogated', 'poorform', 'bogota', 'httptcouduwmde', 'vodkatonics', 'flightsfo', 'natl', 'rubbed', 'baggagefind', 'walmart', 'puts', 'gtmins', 'americans', 'ecuador', 'httpstcoonklzvmt', 'httptcopkaxunyfn', 'dmsccom', 'guyssee', 'flightcancelled', 'custservicehasnonumber', 'pple', 'snowice', 'tu', 'pmwe', 'leeway', 'barclays', 'tara', 'praise', 'worknogood', 'flightrexcept', 'nwkgtsf', 'boom', 'whod', 'bearable', 'sinuses', 'contend', 'landings', 'preregistration', 'synonymous', 'ferry', 'chicagos', 'flyquiet', 'ordnoise', 'communist', 'russia', 'posting', 'chkin', 'wsupervisor', 'regina', 'argg', 'assure', 'timezones', 'accuratetraveltimes', 'rdtimethishashappened', 'httptcoecbicf', 'impression', 'earlyon', 'unitedgt', 'angrybird', 'wheresmybag', 'fate', 'syr', 'onafter', 'understandably', 'edgy', 'chipper', 'greatly', 'reunited', 'delinquent', 'homeward', 'incidents', 'buses', 'dissaponted', 'ensuring', 'achieves', 'httptcozsuztnaijq', 'httptcodqzlrjop', 'fritz', 'reevaluate', 'believing', 'whatgives', 'dullessucks', 'executives', 'httptcoiidrblnoox', 'flysw', 'hair', 'ipaddont', 'customary', 'pbijfk', 'hatch', 'legitimately', 'nastiest', 'yesterdayrubber', 'slime', 'backfas', 'optimistic', 'profiting', 'hurting', 'cncled', 'arrangement', 'experts', 'httptcompliodygn', 'cruz', 'httptcoqmdqbaig', 'nan', 'httptcojmhmkdivl', 'lagos', 'nigeria', 'ou', 'httptcosywlmtzek', 'slog', 'emerg', 'phlord', 'blegh', 'gonenow', 'charlestonvery', 'pricy', 'attendees', 'nationalized', 'nations', 'leads', 'folding', 'dobetterjetblue', 'sfogtbos', 'competitively', 'httptcoxsywmdvu', 'bosgtjfk', 'jfkgtroc', 'bicycle', 'fla', 'controllableirregularity', 'mel', 'sticker', 'novemberdecember', 'salisbury', 'doc', 'allready', 'fulleven', 'voucherno', 'charles', 'cave', 'maro', 'airat', 'technology', 'tsk', 'betterfrom', 'httptcockzbvfh', 'havana', 'muchneeded', 'furnish', 'ga', 'exhibited', 'newamericanairline', 'cheapslogannotmotto', 'httptcotmrjywi', 'httptconopqxisbs', 'cases', 'westjet', 'servers', 'tiday', 'httptcokjkuvjcmo', 'corner', 'asses', 'httptcowvgppymz', 'nevergettinghome', 'easter', 'worseas', 'seatout', 'foodnothing', 'efficencies', 'httptcovradykep', 'body', 'downs', 'meat', 'punishedforflying', 'httptcozfqmpgxvs', 'artisanal', 'pairing', 'wallstreet', 'scope', 'httptcoofwabws', 'httptcosxvagbrtli', 'imaginedragons', 'slaycancerwithdragons', 'malaysia', 'kuala', 'lumpur', 'fransico', 'evacuated', 'glowing', 'sparkled', 'alabama', 'caribbean', 'httpstcoaayavgb', 'ld', 'bear', 'seriousness', 'beingsuckontarmacsucks', 'enormous', 'httptcoffanixjhwh', 'connectin', 'nyfw', 'screakjmf', 'noexcusesaccepted', 'ownerhelp', 'honesty', 'choppy', 'gusty', 'wa', 'wthe', 'windchill', 'invoice', 'availableyour', 'ux', 'shuttles', 'riedel', 'exceptions', 'httptcodjhxvjt', 'delaymissed', 'connectionand', 'whining', 'openskies', 'astounds', 'scooby', 'helpless', 'verifies', 'availab', 'laxnyc', 'wreservations', 'excellence', 'warmest', 'negativedegrees', 'snowwillnevermelt', 'kybilc', 'adjacent', 'isle', 'httptcohpgxyzrwo', 'reveal', 'sandiego', 'idlovetoask', 'httptcodpxyogtej', 'keepusguessing', 'isthisyourfirsttry', 'thingunited', 'crackersnabisco', 'pepperidge', 'farms', 'settle', 'igiveup', 'evenmorespace', 'evenmoreview', 'httptcodxuxdbfd', 'partnerships', 'businessso', 'desires', 'httptcowmxfzc', 'bringyourown', 'httptcodaaarqbxw', 'httptcoxatoxbnsfa', 'phoneeeee', 'februaryi', 'sexually', 'daysampcharging', 'toarrange', 'upin', 'argentinaclaiming', 'tollfree', 'upsetting', 'staffcust', 'backtowinter', 'refreshed', 'httptcovxvbctdlf', 'atct', 'httptcohpsieaokwh', 'documentation', 'sailed', 'freaked', 'limbo', 'asus', 'wondered', 'rise', 'httptcolfspefey', 'hassles', 'patheticcx', 'guyana', 'cabcelled', 'qqbmug', 'reticketed', 'airlinehate', 'beijing', 'bergstrom', 'httptcoxgnyhgafz', 'worstthingever', 'fedexed', 'pump', 'disciplined', 'httptcofgjbexd', 'httptconfjauwvzlt', 'extortion', 'wiped', 'discusses', 'possibilities', 'nhl', 'arena', 'httptcoteshxng', 'sportsbiz', 'trend', 'topnews', 'arab', 'emirates', 'httptcoaqzwecokk', 'obsessed', 'hail', 'joplin', 'jln', 'httptcoppvarchf', 'sil', 'declined', 'activity', 'flustered', 'disappoints', 'taxies', 'liberty', 'httptcoialicehft', 'portauprince', 'haiti', 'supplies', 'orphan', 'httptcofnqxybtk', 'httptcovyuanhiqr', 'httptcoekejbv', 'correspondence', 'httptcowaakjumxa', 'deborah', 'evennotified', 'theflight', 'isdelayed', 'emailtextphone', 'callif', 'wererunning', 'wcompanies', 'foru', 'prolly', 'fulfill', 'flighthis', 'httptcoscqujbvsta', 'marry', 'lamp', 'desperate', 'donthavehighhopes', 'infinite', 'praised', 'eventprof', 'propositioned', 'attendanttrue', 'creditcardsales', 'usuck', 'sureill', 'flightamp', 'mislead', 'sobbing', 'uas', 'httptcoupocmmulun', 'httptconcguzdgdaq', 'establish', 'facilities', 'httptcojbyvmsod', 'maine', 'dullestostatecollege', 'runningonthreehoursofsleep', 'delayedovernight', 'iahhnl', 'reactive', 'friendlysky', 'cableinternet', 'upgd', 'steep', 'boozefood', 'selections', 'gc', 'thu', 'brownsville', 'arose', 'tuldal', 'icecream', 'intel', 'became', 'logically', 'uggh', 'wmass', 'janna', 'weappreciateyou', 'jetbluefame', 'cents', 'recordings', 'ishouldhavedriven', 'httptcopivxeanjy', 'rescued', 'againestimated', 'wpg', 'wcomputer', 'chartering', 'buisness', 'repeatedly', 'httptcoknpjelzl', 'erring', 'loner', 'caution', 'jammed', 'bundle', 'vouchersany', 'httptcodsdebodmel', 'httptconsusfsbpv', 'httptcoqranzimhtr', 'reservationexplain', 'spruce', 'moose', 'lofty', 'silverstatus', 'httptcoftpdawbd', 'ceos', 'challenge', 'columbian', 'httptcopgysasw', 'radish', 'possession', 'makers', 'mindset', 'httptcodqnnrfv', 'httptcolchvjolidg', 'noexcuses', 'httptcokumtbger', 'httptcovzvugmkjw', 'noshow', 'scoot', 'illness', 'forfeits', 'footage', 'snapchat', 'demolish', 'httptcoktkhsmgy', 'mccarran', 'yuck', 'alerted', 'showsomerespect', 'glassdoors', 'snagging', 'notsurprising', 'luvthem', 'passengerbillofrights', 'httptcogxvfumniz', 'dedication', 'mos', 'managers', 'flightledcant', 'starbucks', 'recycle', 'bagtag', 'vanished', 'commutation', 'mcogtdca', 'msydca', 'swamistake', 'smelled', 'ultimately', 'html', 'lauderdalebogot', 'colombian', 'earthquake', 'relief', 'heh', 'begrudgingly', 'resources', 'delaykilling', 'iny', 'battling', 'freyasfund', 'theworstairline', 'daytonabeach', 'httptcooyllrzqum', 'carsl', 'comedic', 'othr', 'swas', 'marthas', 'african', 'festival', 'mv', 'cmfatfeet', 'httptcokekpdmgif', 'fallflorida', 'everglades', 'faint', 'sunburn', 'awayhere', 'cavalli', 'calves', 'interfering', 'httptcomcsidzpnz', 'compartments', 'avon', 'compton', 'mewhat', 'eight', 'jvstatus', 'milage', 'declared', 'squawking', 'campus', 'miasfo', 'nonewplanes', 'httptcotwetpxuppn', 'belligerent', 'ranting', 'hoot', 'villages', 'httptcoltfqudxc', 'fo', 'keepingtraditionsalive', 'unitedsucksdick', 'frank', 'httptcoptsbkacdj', 'complimenting', 'servicemost', 'responseservice', 'rebecca', 'levi', 'jfklas', 'laish', 'comparing', 'sabre', 'lostandforgotten', 'nickeled', 'inout', 'terriblebeen', 'contingencies', 'unprofessionalism', 'dividendrewards', 'urgently', 'fulfilled', 'reqs', 'bcuz', 'pac', 'downloaded', 'displayed', 'hts', 'firing', 'loaned', 'httptcobtkyrbyj', 'she', 'func', 'such', 'vrm', 'httptcogoyxtmj', 'neveind', 'incidentally', 'sheila', 'jetbluesucks', 'safetyservice', 'httptcoxeqyahfvz', 'brendan', 'shortlyrs', 'httptcopucbvlve', 'okie', 'doke', 'lo', 'dignity', 'makingthingseasy', 'feelbetter', 'responsesme', 'cartagena', 'praises', 'pact', 'ml', 'httptcowbqiwaou', 'gthour', 'selves', 'mintalicious', 'shelleyandmarcrock', 'httptcovpdrplxja', 'crystal', 'refurbish', 'quarter', 'ritacomo', 'opportunities', 'remained', 'whyso', 'fewdirectflights', 'hahaha', 'sandra', 'commented', 'precludes', 'visiting', 'httptcoypbkcirbxu', 'contingency', 'wewantcomps', 'linkemail', 'irene', 'paxex', 'managing', 'undelayed', 'hughes', 'automobiles', 'dcamanual', 'height', 'booksampmedicine', 'orphanage', 'httptcopgoeuxnspi', 'react', 'httptcoylngxqx', 'wings', 'classiq', 'greetingz', 'whyany', 'older', 'wipe', 'chuckhole', 'trials', 'egregious', 'sam', 'adams', 'usurious', 'birder', 'trap', 'tug', 'baked', 'replys', 'usairwaysssuck', 'timeand', 'keepit', 'tmw', 'usvi', 'httptcodndoepqukz', 'multicity', 'ump', 'bridgewaitingforbagsunitedewr', 'usingthisword', 'httptcofdtnyctrb', 'rolled', 'httptcokfdwqrklw', 'changemassive', 'httptcomhhsruplv', 'uppp', 'imtired', 'wannagohome', 'simplify', 'stiiiil', 'onlineis', 'delete', 'aforementioned', 'patron', 'hoodlums', 'httptcoccefapl', 'nogate', 'noting', 'dealings', 'stubborn', 'demanding', 'ijustwanttosleep', 'credibility', 'observe', 'iusedtoloveu', 'httptcotefhpuwmdj', 'sorude', 'thete', 'recharging', 'nosecuritylines', 'narrowly', 'standbylots', 'snags', 'beought', 'unexpactable', 'plants', 'productivity', 'healthbenefitsofplants', 'gardening', 'httptcobvfaxdubaq', 'exercise', 'miserably', 'awaywhy', 'setting', 'httptcopeucbmij', 'tminus', 'freeneversucks', 'platter', 'abundance', 'supervisors', 'jeanette', 'freecomedyshow', 'newlifetimecustomer', 'fist', 'bumphigh', 'loctjycqh', 'nitenot', 'pu', 'unt', 'aft', 'transcontinental', 'pleasurerelief', 'destin', 'walton', 'ampwebsite', 'bool', 'niggaz', 'toyingwithouremotions', 'durango', 'farmington', 'slopes', 'hotter', 'httptcoflwmgdahxu', 'httptcoqamiwfsw', 'celebrate', 'courtney', 'stuffy', 'faults', 'miscalculation', 'disrespectfully', 'strive', 'fllight', 'minsits', 'alittle', 'tsapre', 'whyyy', 'americanairsucks', 'hiremorepoeple', 'downthanks', 'isabelle', 'gramp', 'minsrescue', 'httptcochgyyrvka', 'opposed', 'describing', 'ids', 'alternatively', 'sweepstakes', 'nutsaboutsouthwest', 'commit', 'bmi', 'avoided', 'buzzkill', 'electronic', 'nexttime', 'andthewinneris', 'ees', 'chking', 'schd', 'httptcoqdlyuxazg', 'unbelievably', 'tense', 'occasion', 'pens', 'ed', 'httptcovoeqsepqh', 'okee', 'httptcovuxfrunu', 'imjustsaying', 'httptcotfyybhjhl', 'annamarie', 'norris', 'recognized', 'sime', 'noapology', 'lacma', 'fairfax', 'sgf', 'eg', 'muc', 'evv', 'tempting', 'sodone', 'httptcokshtueq', 'httptcotgnknld', 'aaso', 'woodland', 'virginia', 'powered', 'blushing', 'honululu', 'advisorynow', 'gohelp', 'httptcotfhvaz', 'luxuriesaesthetics', 'tools', 'disputed', 'subterfuge', 'dissapointed', 'paseengers', 'santo', 'domingo', 'confuses', 'fargo', 'amazings', 'noclothesnoinfo', 'flythroughs', 'strength', 'reached', 'emphasize', 'vape', 'whacked', 'terra', 'chips', 'retweet', 'dcapit', 'httptcojaskyplwt', 'barelyexpired', 'rapidrewards', 'donotflywiththem', 'smaller', 'requirements', 'backpacks', 'httptcoklxivnbcyh', 'arbitrary', 'httptcofgrbpazsix', 'vancouver', 'rumor', 'httptcocdxroae', 'transparent', 'reeks', 'vomit', 'hamsters', 'rabbits', 'foresight', 'acquired', 'kravitz', 'reduction', 'httptcosdyttzd', 'careers', 'intuitlife', 'leanin', 'httptcoqjbcvjzq', 'trumping', 'warrants', 'prbound', 'cesspool', 'germs', 'knowexpect', 'flightsrefunds', 'httptcorkvczbpdce', 'grandparents', 'misbehavior', 'dubai', 'gentleman', 'sloooowresponses', 'httptcoxmaqcucwzl', 'reebooked', 'lvdfw', 'funerals', 'havin', 'costwhy', 'sham', 'secondly', 'demonstration', 'corny', 'httptcolwotkiekgu', 'bully', 'mentality', 'fostering', 'inspiration', 'employeerelations', 'herewhen', 'httptcoqpownuv', 'figures', 'suddenly', 'truthful', 'thickens', 'scenario', 'toolittletoolate', 'httptcobeqotlnugc', 'audience', 'httptcoprrtow', 'usaw', 'responsivethoughts', 'guidance', 'considerable', 'monkey', 'mdwmci', 'homeandreadyfornexttrip', 'httptcoxjvunzz', 'likeagirl', 'smm', 'httpstcontglwnqvm', 'sets', 'ringling', 'barnum', 'bailey', 'peeled', 'obama', 'sato', 'bringin', 'bdldca', 'spooky', 'spook', 'scare', 'phltoslc', 'potentially', 'diffused', 'httptcokpyhckal', 'dumps', 'httptcodzgjfiik', 'spade', 'spiced', 'rum', 'destroy', 'amponly', 'wthem', 'walkway', 'champagne', 'ordnrt', 'tokyomarathon', 'httptcoijxltkx', 'beverage', 'moveup', 'eliza', 'barriers', 'energy', 'pitts', 'somethingwhich', 'nothinghoping', 'waynot', 'saipan', 'guam', 'adventure', 'rndtrp', 'fixthis', 'metars', 'thismosaicnothappy', 'httptcotsvibtvth', 'bleh', 'httptcoyponyprzl', 'biztravel']\n"
          ],
          "name": "stdout"
        }
      ]
    },
    {
      "cell_type": "code",
      "metadata": {
        "id": "i29aesulftFt",
        "outputId": "4e5f8d34-5656-444b-a571-ccea3b02dca4",
        "colab": {
          "base_uri": "https://localhost:8080/",
          "height": 36
        }
      },
      "source": [
        "len(vocabulary)"
      ],
      "execution_count": 11,
      "outputs": [
        {
          "output_type": "execute_result",
          "data": {
            "text/plain": [
              "12042"
            ]
          },
          "metadata": {
            "tags": []
          },
          "execution_count": 11
        }
      ]
    },
    {
      "cell_type": "markdown",
      "metadata": {
        "id": "X3t3qbvCFJkT"
      },
      "source": [
        "## Part 1 - KNN from Scrach"
      ]
    },
    {
      "cell_type": "code",
      "metadata": {
        "id": "lZ4mFxfxP8NR"
      },
      "source": [
        "X_train = df_train['preprocessedTweets'].apply(vectorize)"
      ],
      "execution_count": 12,
      "outputs": []
    },
    {
      "cell_type": "code",
      "metadata": {
        "id": "xVrtQgISILsz"
      },
      "source": [
        "X_test = df_test['preprocessedTweets'].apply(vectorize)"
      ],
      "execution_count": 13,
      "outputs": []
    },
    {
      "cell_type": "code",
      "metadata": {
        "id": "WJ0PL4WXyZ80"
      },
      "source": [
        "# Transform categories to 1 for Neutral, 2 for Positive and 3 for Negative\n",
        "def trans(sentiment):\n",
        "  if sentiment == \"neutral\":\n",
        "    return 1\n",
        "  elif sentiment == \"positive\":\n",
        "    return 2\n",
        "  else:\n",
        "    return 3"
      ],
      "execution_count": 14,
      "outputs": []
    },
    {
      "cell_type": "code",
      "metadata": {
        "id": "5StrFhoMF1Yt"
      },
      "source": [
        "X_train = np.stack(X_train)\n",
        "X_test = np.stack(X_test)\n",
        "Y_train = np.asarray(df_train['Sentiment'].apply(trans))\n",
        "Y_test = np.asarray(df_test['Sentiment'].apply(trans))"
      ],
      "execution_count": 15,
      "outputs": []
    },
    {
      "cell_type": "code",
      "metadata": {
        "id": "hxD0XaSbJFjQ",
        "outputId": "f0706ea8-260f-4c3c-8e57-de680f830a9b",
        "colab": {
          "base_uri": "https://localhost:8080/",
          "height": 36
        }
      },
      "source": [
        "X_test.shape"
      ],
      "execution_count": 16,
      "outputs": [
        {
          "output_type": "execute_result",
          "data": {
            "text/plain": [
              "(2921, 12042)"
            ]
          },
          "metadata": {
            "tags": []
          },
          "execution_count": 16
        }
      ]
    },
    {
      "cell_type": "code",
      "metadata": {
        "id": "_ViTSRGdWZau"
      },
      "source": [
        "# Calculates distances \n",
        "def distances(train, test):\n",
        "    dists = np.zeros((test.shape[0], train.shape[0])) \n",
        "    dists = np.sqrt(- 2*np.dot(test, train.T) + np.sum(np.square(train), axis = 1) + np.sum(np.square(test), axis = 1)[:, np.newaxis])\n",
        "    # dists = cdist(test, train, 'euclidean')\n",
        "    return dists"
      ],
      "execution_count": 17,
      "outputs": []
    },
    {
      "cell_type": "code",
      "metadata": {
        "id": "RGLOEpqzFfYq"
      },
      "source": [
        "# Predicts labels\n",
        "def predictLabels(y_train, dists, k=1):\n",
        "\n",
        "    y_pred = np.zeros(dists.shape[0])\n",
        "    for i in range(dists.shape[0]):\n",
        "      # A list of length k storing the labels of the k nearest neighbors to\n",
        "      # the ith test point.\n",
        "      y_closest = []\n",
        "    \n",
        "      y_closest = y_train[np.argsort(dists[i])[:k]]\n",
        "      y_pred[i] = np.argmax(np.bincount(y_closest))\n",
        "\n",
        "    return y_pred"
      ],
      "execution_count": 18,
      "outputs": []
    },
    {
      "cell_type": "code",
      "metadata": {
        "id": "ARl89f_nKgSQ"
      },
      "source": [
        "#Calculate distances\n",
        "dists = distances(X_train, X_test)\n",
        "print(dists)"
      ],
      "execution_count": null,
      "outputs": []
    },
    {
      "cell_type": "code",
      "metadata": {
        "id": "I_aDNTg9cFSF"
      },
      "source": [
        "# calculate a confusion matrix\n",
        "def confusion_matrix(actual, predicted):\n",
        "\tunique = set(actual)\n",
        "\tmatrix = [list() for x in range(len(unique))]\n",
        "\tfor i in range(len(unique)):\n",
        "\t\tmatrix[i] = [0 for x in range(len(unique))]\n",
        "\tlookup = dict()\n",
        "\tfor i, value in enumerate(unique):\n",
        "\t\tlookup[value] = i\n",
        "\tfor i in range(len(actual)):\n",
        "\t\tx = lookup[actual[i]]\n",
        "\t\ty = lookup[predicted[i]]\n",
        "\t\tmatrix[y][x] += 1\n",
        "\treturn unique, matrix\n",
        "# calculate precision, recall, and f1 score\n",
        "def precision_recall_f1score(matrix, y_test):\n",
        "  precision = []\n",
        "  recall = []\n",
        "  f1Score = []\n",
        "  for i in range(len(matrix)):\n",
        "    totalPositive = matrix[i][0] + matrix[i][1] + matrix[i][2]\n",
        "    actualPositive = np.count_nonzero(y_test == (i+1))\n",
        "    for j in range(len(matrix[0])):\n",
        "      if i == j:\n",
        "        precision.append(matrix[i][j]/totalPositive)\n",
        "        recall.append(matrix[i][j]/actualPositive)\n",
        "    # f1 Score\n",
        "    f1Score.append(2* (precision[i]*recall[i])/(precision[i]+recall[i]))\n",
        "\n",
        "  \n",
        "  return precision, recall, f1Score\n"
      ],
      "execution_count": null,
      "outputs": []
    },
    {
      "cell_type": "code",
      "metadata": {
        "id": "E00BphbOikRk"
      },
      "source": [
        "K = [1,3,5,7,10]\n",
        "accuracies = []\n",
        "precisions = []\n",
        "recalls = []\n",
        "f1scores = []\n",
        "for k in K:\n",
        "  Y_pred = predictLabels(Y_train, dists, k)\n",
        "  accuracy = (float(np.sum(Y_pred == Y_test)) / Y_test.shape[0])*100\n",
        "  unique, matrix = confusion_matrix(Y_test, Y_pred)\n",
        "  prec, rec, f1Sco = precision_recall_f1score(matrix, Y_test)\n",
        "  accuracies.append(accuracy)\n",
        "  precisions.append(prec)\n",
        "  recalls.append(rec)\n",
        "  f1scores.append(f1Sco)\n",
        "  # Print\n",
        "  print(\"K = \", k)\n",
        "  print('Accuracy: %f %%' % round(accuracy))\n",
        "  print(\"Precision: \", round(np.average(prec)))\n",
        "  print(\"Recall:    \", round(np.average(rec)))\n",
        "  print(\"F1Score:   \", round(np.average(f1Sco)))\n",
        "  print(\"Confusion Matrix\", matrix)\n",
        "\n",
        "  print(\"_____________________________________________________________________________________________\\n\")"
      ],
      "execution_count": null,
      "outputs": []
    },
    {
      "cell_type": "code",
      "metadata": {
        "id": "kaMr0BtUu9W3"
      },
      "source": [
        "plt.bar(K, accuracies, align='center', alpha=0.5)\n",
        "plt.xticks(K)\n",
        "plt.ylabel('Accuracy')\n",
        "plt.xlabel('Value of K')\n",
        "plt.title('Accuracy Comparison')\n",
        "plt.show()"
      ],
      "execution_count": null,
      "outputs": []
    },
    {
      "cell_type": "code",
      "metadata": {
        "id": "8vV6lqaFsylQ"
      },
      "source": [
        "plt.bar(K, np.average(precisions, axis=1), align='center', alpha=0.5)\n",
        "plt.xticks(K)\n",
        "plt.ylabel('Precision')\n",
        "plt.xlabel('Value of K')\n",
        "plt.title('Precision Comparison')\n",
        "\n",
        "plt.show()"
      ],
      "execution_count": null,
      "outputs": []
    },
    {
      "cell_type": "code",
      "metadata": {
        "id": "mgHSGNZqusQ3"
      },
      "source": [
        "plt.bar(K, np.average(recalls, axis=1), align='center', alpha=0.5)\n",
        "plt.xticks(K)\n",
        "plt.ylabel('Recall')\n",
        "plt.xlabel('Value of K')\n",
        "plt.title('Recall Comparison')\n",
        "\n",
        "plt.show()"
      ],
      "execution_count": null,
      "outputs": []
    },
    {
      "cell_type": "code",
      "metadata": {
        "id": "_icd4nPWuztI"
      },
      "source": [
        "plt.bar(K, np.average(f1scores, axis=1), align='center', alpha=0.5)\n",
        "plt.xticks(K)\n",
        "plt.ylabel('F1 Score')\n",
        "plt.xlabel('Value of K')\n",
        "plt.title('F1 Score Comparison')\n",
        "\n",
        "plt.show()"
      ],
      "execution_count": null,
      "outputs": []
    },
    {
      "cell_type": "markdown",
      "metadata": {
        "id": "js212LeH4bZ2"
      },
      "source": [
        "## Part 2 - scikit-learn’s kNN"
      ]
    },
    {
      "cell_type": "code",
      "metadata": {
        "id": "seQwjVlB6P6X"
      },
      "source": [
        "from sklearn.neighbors import KNeighborsClassifier\n",
        "from sklearn.metrics import confusion_matrix\n",
        "from sklearn.metrics import precision_score\n",
        "from sklearn.metrics import recall_score\n",
        "from sklearn.metrics import f1_score"
      ],
      "execution_count": null,
      "outputs": []
    },
    {
      "cell_type": "code",
      "metadata": {
        "id": "ce7PTXc34Hoe"
      },
      "source": [
        "def KNN(k, x_train, x_test, y_train, y_test):\n",
        "  #Setup a knn classifier with k neighbors\n",
        "  knn = KNeighborsClassifier(n_neighbors=k)\n",
        "  #Fit the model\n",
        "  knn.fit(x_train, y_train)\n",
        "  #Compute accuracy on the training set\n",
        "  train_accuracy = knn.score(x_train, y_train)\n",
        "  #Compute accuracy on the test set\n",
        "  test_accuracy = knn.score(x_test, x_test) \n",
        "  #Make predictions\n",
        "  y_pred = knn.predict(x_test)\n",
        "  #Compute confusion matrix\n",
        "  sk_matrix = confusion_matrix(y_test, y_pred)\n",
        "  #Compute Precision\n",
        "  sk_prec = precision_score(y_test, y_pred, average='macro')\n",
        "  #Compute recall\n",
        "  sk_rec = recall_score(y_test, y_pred, average='macro')\n",
        "  #Compute F1 Score\n",
        "  sk_f1sco = f1_score(y_test, y_pred, average='macro')\n",
        "\n",
        "  return train_accuracy, test_accuracy, sk_matrix, sk_prec. sk_rec, sk_f1sco"
      ],
      "execution_count": null,
      "outputs": []
    },
    {
      "cell_type": "code",
      "metadata": {
        "id": "ZsjvCR3-5oCs"
      },
      "source": [
        "# store computed data\n",
        "train_accuracies =np.empty(len(K))\n",
        "test_accuracies = np.empty(len(K))\n",
        "sk_precisions = np.empty(len(K))\n",
        "sk_recalls = np.empty(len(K))\n",
        "sk_f1scores = np.empty(len(K))\n",
        "\n",
        "for i in range(len(K)):\n",
        "    #Compute\n",
        "    train_accuracies[i], test_accuracies[i], sk_matrix, sk_precisions[i], sk_recalls[i], sk_f1scores[i] = KNN(k ,X_train, X_test, Y_train, Y_test)\n",
        "\n",
        "    print(\"K = \", k)\n",
        "    print('Train Accuracy: %f %%' % round(train_accuracies[i]))\n",
        "    print('Test Accuracy: %f %%' % round(test_accuracies[i]))\n",
        "    print(\"Precision: \", round(sk_precisions[i]))\n",
        "    print(\"Recall:    \", round(sk_recalls[i]))\n",
        "    print(\"F1Score:   \", round(sk_f1scores[i]))\n",
        "    print(\"Confusion Matrix\", sk_matrix)\n",
        "\n",
        "    print(\"_____________________________________________________________________________________________\\n\")"
      ],
      "execution_count": null,
      "outputs": []
    },
    {
      "cell_type": "code",
      "metadata": {
        "id": "nLSD1za-6w5I"
      },
      "source": [
        "#plot train accuracy\n",
        "plt.bar(K, train_accuracies, align='center', alpha=0.5)\n",
        "plt.xticks(K)\n",
        "plt.ylabel('Train Accuracy')\n",
        "plt.xlabel('Value of K')\n",
        "plt.title('Train Accuracy Comparison')\n",
        "plt.show()"
      ],
      "execution_count": null,
      "outputs": []
    },
    {
      "cell_type": "code",
      "metadata": {
        "id": "o-PwowTztinj"
      },
      "source": [
        "#plot test accuracy\n",
        "plt.bar(K, test_accuracies, align='center', alpha=0.5)\n",
        "plt.xticks(K)\n",
        "plt.ylabel('Test Accuracy')\n",
        "plt.xlabel('Value of K')\n",
        "plt.title('Test Accuracy Comparison')\n",
        "plt.show()"
      ],
      "execution_count": null,
      "outputs": []
    },
    {
      "cell_type": "code",
      "metadata": {
        "id": "kSCaR3TXtpOd"
      },
      "source": [
        "#plot precisions\n",
        "plt.bar(K, sk_precisions, align='center', alpha=0.5)\n",
        "plt.xticks(K)\n",
        "plt.ylabel('Precision')\n",
        "plt.xlabel('Value of K')\n",
        "plt.title('Precision Comparison')\n",
        "plt.show()"
      ],
      "execution_count": null,
      "outputs": []
    },
    {
      "cell_type": "code",
      "metadata": {
        "id": "9BcSLZOnt2rW"
      },
      "source": [
        "#plot recalls\n",
        "plt.bar(K, sk_recalls, align='center', alpha=0.5)\n",
        "plt.xticks(K)\n",
        "plt.ylabel('Recall')\n",
        "plt.xlabel('Value of K')\n",
        "plt.title('Recall Comparison')\n",
        "plt.show()"
      ],
      "execution_count": null,
      "outputs": []
    },
    {
      "cell_type": "code",
      "metadata": {
        "id": "FyYx0HKEt8wG"
      },
      "source": [
        "#plot f1scores\n",
        "plt.bar(K, sk_f1scores, align='center', alpha=0.5)\n",
        "plt.xticks(K)\n",
        "plt.ylabel('F1 Score')\n",
        "plt.xlabel('Value of K')\n",
        "plt.title('F1 Score Comparison')\n",
        "plt.show()"
      ],
      "execution_count": null,
      "outputs": []
    },
    {
      "cell_type": "markdown",
      "metadata": {
        "id": "OYW9SnUIyn3u"
      },
      "source": [
        "## Part 3 - Word2Vec"
      ]
    },
    {
      "cell_type": "code",
      "metadata": {
        "id": "CUmq0xS5zsAV"
      },
      "source": [
        ""
      ],
      "execution_count": null,
      "outputs": []
    }
  ]
}