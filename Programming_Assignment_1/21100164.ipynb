{
  "nbformat": 4,
  "nbformat_minor": 0,
  "metadata": {
    "colab": {
      "name": "21100164.ipynb",
      "provenance": [],
      "collapsed_sections": [],
      "authorship_tag": "ABX9TyMObw9M4xoe5AmzwEK3UOZ6",
      "include_colab_link": true
    },
    "kernelspec": {
      "name": "python3",
      "display_name": "Python 3"
    }
  },
  "cells": [
    {
      "cell_type": "markdown",
      "metadata": {
        "id": "view-in-github",
        "colab_type": "text"
      },
      "source": [
        "<a href=\"https://colab.research.google.com/github/matloob-altaf/Machine-Learning-LUMS/blob/main/Programming_Assignment_1/21100164.ipynb\" target=\"_parent\"><img src=\"https://colab.research.google.com/assets/colab-badge.svg\" alt=\"Open In Colab\"/></a>"
      ]
    },
    {
      "cell_type": "code",
      "metadata": {
        "id": "qOrQGlKrZiAc",
        "outputId": "6c1584ed-512e-419f-a874-83e9df8b2169",
        "colab": {
          "base_uri": "https://localhost:8080/",
          "height": 34
        }
      },
      "source": [
        "from google.colab import drive\n",
        "drive.mount('/content/drive')"
      ],
      "execution_count": 52,
      "outputs": [
        {
          "output_type": "stream",
          "text": [
            "Drive already mounted at /content/drive; to attempt to forcibly remount, call drive.mount(\"/content/drive\", force_remount=True).\n"
          ],
          "name": "stdout"
        }
      ]
    },
    {
      "cell_type": "code",
      "metadata": {
        "id": "z0dmtc24EUJ9"
      },
      "source": [
        "import numpy as np\n",
        "import pandas as pd\n",
        "import matplotlib as plt\n",
        "import scipy as sc\n",
        "import string\n",
        "import re"
      ],
      "execution_count": 53,
      "outputs": []
    },
    {
      "cell_type": "code",
      "metadata": {
        "id": "OC81xfGHE9p_",
        "outputId": "b044b9d8-6175-4e51-fdd6-9c52aaad001e",
        "colab": {
          "base_uri": "https://localhost:8080/",
          "height": 359
        }
      },
      "source": [
        "df_train = pd.read_csv(\"/content/drive/My Drive/Colab Notebooks/ML-PA1/train.csv\")\n",
        "df_test = pd.read_csv(\"/content/drive/My Drive/Colab Notebooks/ML-PA1/test.csv\")\n",
        "\n",
        "df_train.head(10)"
      ],
      "execution_count": 54,
      "outputs": [
        {
          "output_type": "execute_result",
          "data": {
            "text/html": [
              "<div>\n",
              "<style scoped>\n",
              "    .dataframe tbody tr th:only-of-type {\n",
              "        vertical-align: middle;\n",
              "    }\n",
              "\n",
              "    .dataframe tbody tr th {\n",
              "        vertical-align: top;\n",
              "    }\n",
              "\n",
              "    .dataframe thead th {\n",
              "        text-align: right;\n",
              "    }\n",
              "</style>\n",
              "<table border=\"1\" class=\"dataframe\">\n",
              "  <thead>\n",
              "    <tr style=\"text-align: right;\">\n",
              "      <th></th>\n",
              "      <th>Sentiment</th>\n",
              "      <th>Tweet</th>\n",
              "    </tr>\n",
              "  </thead>\n",
              "  <tbody>\n",
              "    <tr>\n",
              "      <th>0</th>\n",
              "      <td>neutral</td>\n",
              "      <td>@united 877 from amsterdam to ewr, 02.27.2015,...</td>\n",
              "    </tr>\n",
              "    <tr>\n",
              "      <th>1</th>\n",
              "      <td>negative</td>\n",
              "      <td>@united IT-problems with the link? #3thparty</td>\n",
              "    </tr>\n",
              "    <tr>\n",
              "      <th>2</th>\n",
              "      <td>positive</td>\n",
              "      <td>@united -today the staff @ MSP took customer s...</td>\n",
              "    </tr>\n",
              "    <tr>\n",
              "      <th>3</th>\n",
              "      <td>negative</td>\n",
              "      <td>@AmericanAir but have been yet to receive assi...</td>\n",
              "    </tr>\n",
              "    <tr>\n",
              "      <th>4</th>\n",
              "      <td>negative</td>\n",
              "      <td>@SouthwestAir  you won't let me change my rese...</td>\n",
              "    </tr>\n",
              "    <tr>\n",
              "      <th>5</th>\n",
              "      <td>neutral</td>\n",
              "      <td>@AmericanAir where do I look for cabin crew va...</td>\n",
              "    </tr>\n",
              "    <tr>\n",
              "      <th>6</th>\n",
              "      <td>neutral</td>\n",
              "      <td>@united please update what is going to happen ...</td>\n",
              "    </tr>\n",
              "    <tr>\n",
              "      <th>7</th>\n",
              "      <td>negative</td>\n",
              "      <td>@AmericanAir how do I redeem a travel voucher ...</td>\n",
              "    </tr>\n",
              "    <tr>\n",
              "      <th>8</th>\n",
              "      <td>neutral</td>\n",
              "      <td>@AmericanAir originating at SFO and going to LAX.</td>\n",
              "    </tr>\n",
              "    <tr>\n",
              "      <th>9</th>\n",
              "      <td>negative</td>\n",
              "      <td>@JetBlue Good perspective. If only this safety...</td>\n",
              "    </tr>\n",
              "  </tbody>\n",
              "</table>\n",
              "</div>"
            ],
            "text/plain": [
              "  Sentiment                                              Tweet\n",
              "0   neutral  @united 877 from amsterdam to ewr, 02.27.2015,...\n",
              "1  negative       @united IT-problems with the link? #3thparty\n",
              "2  positive  @united -today the staff @ MSP took customer s...\n",
              "3  negative  @AmericanAir but have been yet to receive assi...\n",
              "4  negative  @SouthwestAir  you won't let me change my rese...\n",
              "5   neutral  @AmericanAir where do I look for cabin crew va...\n",
              "6   neutral  @united please update what is going to happen ...\n",
              "7  negative  @AmericanAir how do I redeem a travel voucher ...\n",
              "8   neutral  @AmericanAir originating at SFO and going to LAX.\n",
              "9  negative  @JetBlue Good perspective. If only this safety..."
            ]
          },
          "metadata": {
            "tags": []
          },
          "execution_count": 54
        }
      ]
    },
    {
      "cell_type": "code",
      "metadata": {
        "id": "gp6e8WQ8v5Qh",
        "outputId": "d3d341fa-9401-4126-b6ba-2593b5a0dddd",
        "colab": {
          "base_uri": "https://localhost:8080/",
          "height": 51
        }
      },
      "source": [
        "print(\"Train data dimentions\", df_train.shape)\n",
        "print(\"Test data dimentions\", df_test.shape)\n"
      ],
      "execution_count": 55,
      "outputs": [
        {
          "output_type": "stream",
          "text": [
            "Train data dimentions (11680, 2)\n",
            "Test data dimentions (2921, 2)\n"
          ],
          "name": "stdout"
        }
      ]
    },
    {
      "cell_type": "markdown",
      "metadata": {
        "id": "zmEuR9MU9zpy"
      },
      "source": [
        "## Preprocessing\n",
        "*removing the stop words, punctuation marks and other unwanted characters from the tweets and converting them to lower case*"
      ]
    },
    {
      "cell_type": "code",
      "metadata": {
        "id": "AkZWi9fKEW9j",
        "outputId": "69207044-a38a-4943-bf90-90b293da4372",
        "colab": {
          "base_uri": "https://localhost:8080/",
          "height": 54
        }
      },
      "source": [
        "# Loading stop words\n",
        "stopWords = []\n",
        "with open('/content/drive/My Drive/Colab Notebooks/ML-PA1/stop_words.txt', 'r') as fi:\n",
        "    for line in fi:\n",
        "        line = line.rstrip()\n",
        "        stopWords.append(line)\n",
        "\n",
        "print(stopWords)"
      ],
      "execution_count": 56,
      "outputs": [
        {
          "output_type": "stream",
          "text": [
            "['i', \"i'm\", 'me', 'my', 'myself', 'we', 'our', 'ours', 'ourselves', 'you', \"you're\", \"you've\", \"you'll\", \"you'd\", 'your', 'yours', 'yourself', 'yourselves', 'he', 'him', 'his', 'himself', 'she', \"she's\", 'her', 'hers', 'herself', 'it', \"it's\", 'its', 'itself', 'they', 'them', 'their', 'theirs', 'themselves', 'what', 'which', 'who', 'whom', 'this', 'that', \"that'll\", 'these', 'those', 'am', 'is', 'are', 'was', 'were', 'be', 'been', 'being', 'have', 'has', 'had', 'having', 'do', 'does', 'did', 'doing', 'a', 'an', 'the', 'and', 'but', 'if', 'or', 'because', 'as', 'until', 'while', 'of', 'at', 'by', 'for', 'with', 'about', 'against', 'between', 'into', 'through', 'during', 'before', 'after', 'above', 'below', 'to', 'from', 'up', 'down', 'in', 'out', 'on', 'off', 'over', 'under', 'again', 'further', 'then', 'once', 'here', 'there', 'when', 'where', 'why', 'how', 'all', 'any', 'both', 'each', 'few', 'more', 'most', 'other', 'some', 'such', 'no', 'nor', 'not', 'only', 'own', 'same', 'so', 'than', 'too', 'very', 's', 't', 'can', 'will', 'just', 'don', \"don't\", 'should', \"should've\", 'now', 'd', 'll', 'm', 'o', 're', 've', 'y', 'ain', 'aren', \"aren't\", 'couldn', \"couldn't\", 'didn', \"didn't\", 'doesn', \"doesn't\", 'hadn', \"hadn't\", 'hasn', \"hasn't\", 'haven', \"haven't\", 'isn', \"isn't\", 'ma', 'mightn', \"mightn't\", 'mustn', \"mustn't\", 'needn', \"needn't\", 'shan', \"shan't\", 'shouldn', \"shouldn't\", 'wasn', \"wasn't\", 'weren', \"weren't\", 'won', \"won't\", 'wouldn', \"wouldn't\"]\n"
          ],
          "name": "stdout"
        }
      ]
    },
    {
      "cell_type": "markdown",
      "metadata": {
        "id": "JY825k63EfbP"
      },
      "source": [
        ""
      ]
    },
    {
      "cell_type": "code",
      "metadata": {
        "id": "C56pSov8-MbJ"
      },
      "source": [
        "def removeUnwantedChars(tweet):\n",
        "  #  Converts to lower\n",
        "  result = tweet.lower()\n",
        "  # Removing stop words\n",
        "  result = ' '.join(filter(lambda x: x not in stopWords,  result.split()))\n",
        "  # Removes numbers\n",
        "  result = re.sub(r'\\d+', '', result)\n",
        "  # Removes punctuactions\n",
        "  result = re.sub(r'[^\\w\\s]','', result)\n",
        "  # Removes leading and trailing white spaces\n",
        "  result = result.strip()\n",
        "\n",
        "  return result"
      ],
      "execution_count": 57,
      "outputs": []
    },
    {
      "cell_type": "code",
      "metadata": {
        "id": "ru2tXyEIBNPE",
        "outputId": "41c9f8ea-bdaa-4934-fbac-49ca4a5d9e5f",
        "colab": {
          "base_uri": "https://localhost:8080/",
          "height": 204
        }
      },
      "source": [
        "df_train['preprocessedTweets'] = df_train['Tweet'].apply(removeUnwantedChars)\n",
        "df_train.head()"
      ],
      "execution_count": 58,
      "outputs": [
        {
          "output_type": "execute_result",
          "data": {
            "text/html": [
              "<div>\n",
              "<style scoped>\n",
              "    .dataframe tbody tr th:only-of-type {\n",
              "        vertical-align: middle;\n",
              "    }\n",
              "\n",
              "    .dataframe tbody tr th {\n",
              "        vertical-align: top;\n",
              "    }\n",
              "\n",
              "    .dataframe thead th {\n",
              "        text-align: right;\n",
              "    }\n",
              "</style>\n",
              "<table border=\"1\" class=\"dataframe\">\n",
              "  <thead>\n",
              "    <tr style=\"text-align: right;\">\n",
              "      <th></th>\n",
              "      <th>Sentiment</th>\n",
              "      <th>Tweet</th>\n",
              "      <th>preprocessedTweets</th>\n",
              "    </tr>\n",
              "  </thead>\n",
              "  <tbody>\n",
              "    <tr>\n",
              "      <th>0</th>\n",
              "      <td>neutral</td>\n",
              "      <td>@united 877 from amsterdam to ewr, 02.27.2015,...</td>\n",
              "      <td>united  amsterdam ewr</td>\n",
              "    </tr>\n",
              "    <tr>\n",
              "      <th>1</th>\n",
              "      <td>negative</td>\n",
              "      <td>@united IT-problems with the link? #3thparty</td>\n",
              "      <td>united itproblems link thparty</td>\n",
              "    </tr>\n",
              "    <tr>\n",
              "      <th>2</th>\n",
              "      <td>positive</td>\n",
              "      <td>@united -today the staff @ MSP took customer s...</td>\n",
              "      <td>united today staff  msp took customer service ...</td>\n",
              "    </tr>\n",
              "    <tr>\n",
              "      <th>3</th>\n",
              "      <td>negative</td>\n",
              "      <td>@AmericanAir but have been yet to receive assi...</td>\n",
              "      <td>americanair yet receive assistance one agents ...</td>\n",
              "    </tr>\n",
              "    <tr>\n",
              "      <th>4</th>\n",
              "      <td>negative</td>\n",
              "      <td>@SouthwestAir  you won't let me change my rese...</td>\n",
              "      <td>southwestair let change reservation online was...</td>\n",
              "    </tr>\n",
              "  </tbody>\n",
              "</table>\n",
              "</div>"
            ],
            "text/plain": [
              "  Sentiment  ...                                 preprocessedTweets\n",
              "0   neutral  ...                              united  amsterdam ewr\n",
              "1  negative  ...                     united itproblems link thparty\n",
              "2  positive  ...  united today staff  msp took customer service ...\n",
              "3  negative  ...  americanair yet receive assistance one agents ...\n",
              "4  negative  ...  southwestair let change reservation online was...\n",
              "\n",
              "[5 rows x 3 columns]"
            ]
          },
          "metadata": {
            "tags": []
          },
          "execution_count": 58
        }
      ]
    },
    {
      "cell_type": "code",
      "metadata": {
        "id": "H1wz9PZmBhe7",
        "outputId": "29b9ea86-d652-41c0-98a3-7316c89794d0",
        "colab": {
          "base_uri": "https://localhost:8080/",
          "height": 204
        }
      },
      "source": [
        "df_test['preprocessedTweets'] = df_test['Tweet'].apply(removeUnwantedChars)\n",
        "df_test.head()"
      ],
      "execution_count": 59,
      "outputs": [
        {
          "output_type": "execute_result",
          "data": {
            "text/html": [
              "<div>\n",
              "<style scoped>\n",
              "    .dataframe tbody tr th:only-of-type {\n",
              "        vertical-align: middle;\n",
              "    }\n",
              "\n",
              "    .dataframe tbody tr th {\n",
              "        vertical-align: top;\n",
              "    }\n",
              "\n",
              "    .dataframe thead th {\n",
              "        text-align: right;\n",
              "    }\n",
              "</style>\n",
              "<table border=\"1\" class=\"dataframe\">\n",
              "  <thead>\n",
              "    <tr style=\"text-align: right;\">\n",
              "      <th></th>\n",
              "      <th>Sentiment</th>\n",
              "      <th>Tweet</th>\n",
              "      <th>preprocessedTweets</th>\n",
              "    </tr>\n",
              "  </thead>\n",
              "  <tbody>\n",
              "    <tr>\n",
              "      <th>0</th>\n",
              "      <td>neutral</td>\n",
              "      <td>@VirginAmerica to jump into the Dallas-Austin ...</td>\n",
              "      <td>virginamerica jump dallasaustin market  dallas...</td>\n",
              "    </tr>\n",
              "    <tr>\n",
              "      <th>1</th>\n",
              "      <td>positive</td>\n",
              "      <td>@AmericanAir Chicago seen from seat 6A, AA 162...</td>\n",
              "      <td>americanair chicago seen seat a aa  far great ...</td>\n",
              "    </tr>\n",
              "    <tr>\n",
              "      <th>2</th>\n",
              "      <td>negative</td>\n",
              "      <td>@united you need a bag bouncer. Get it together</td>\n",
              "      <td>united need bag bouncer get together</td>\n",
              "    </tr>\n",
              "    <tr>\n",
              "      <th>3</th>\n",
              "      <td>negative</td>\n",
              "      <td>@JetBlue Hey Jetblue, you stranded an entire p...</td>\n",
              "      <td>jetblue hey jetblue stranded entire plane supp...</td>\n",
              "    </tr>\n",
              "    <tr>\n",
              "      <th>4</th>\n",
              "      <td>negative</td>\n",
              "      <td>@USAirways Big fail on not having curbside bag...</td>\n",
              "      <td>usairways big fail curbside baggage pittsburgh...</td>\n",
              "    </tr>\n",
              "  </tbody>\n",
              "</table>\n",
              "</div>"
            ],
            "text/plain": [
              "  Sentiment  ...                                 preprocessedTweets\n",
              "0   neutral  ...  virginamerica jump dallasaustin market  dallas...\n",
              "1  positive  ...  americanair chicago seen seat a aa  far great ...\n",
              "2  negative  ...               united need bag bouncer get together\n",
              "3  negative  ...  jetblue hey jetblue stranded entire plane supp...\n",
              "4  negative  ...  usairways big fail curbside baggage pittsburgh...\n",
              "\n",
              "[5 rows x 3 columns]"
            ]
          },
          "metadata": {
            "tags": []
          },
          "execution_count": 59
        }
      ]
    },
    {
      "cell_type": "code",
      "metadata": {
        "id": "r-d7Ss-TC3OH"
      },
      "source": [
        ""
      ],
      "execution_count": 59,
      "outputs": []
    }
  ]
}